{
 "cells": [
  {
   "cell_type": "code",
   "execution_count": 2,
   "metadata": {},
   "outputs": [
    {
     "data": {
      "application/vnd.microsoft.datawrangler.viewer.v0+json": {
       "columns": [
        {
         "name": "index",
         "rawType": "int64",
         "type": "integer"
        },
        {
         "name": "Company Name",
         "rawType": "object",
         "type": "string"
        },
        {
         "name": "Industry",
         "rawType": "object",
         "type": "string"
        },
        {
         "name": "Symbol",
         "rawType": "object",
         "type": "string"
        },
        {
         "name": "Series",
         "rawType": "object",
         "type": "string"
        },
        {
         "name": "ISIN Code",
         "rawType": "object",
         "type": "string"
        }
       ],
       "conversionMethod": "pd.DataFrame",
       "ref": "96cb9763-f3d1-4541-916b-202ff36301b1",
       "rows": [
        [
         "0",
         "360 ONE WAM Ltd.",
         "Financial Services",
         "360ONE",
         "EQ",
         "INE466L01038"
        ],
        [
         "1",
         "ABB India Ltd.",
         "Capital Goods",
         "ABB",
         "EQ",
         "INE117A01022"
        ],
        [
         "2",
         "ACC Ltd.",
         "Construction Materials",
         "ACC",
         "EQ",
         "INE012A01025"
        ],
        [
         "3",
         "AIA Engineering Ltd.",
         "Capital Goods",
         "AIAENG",
         "EQ",
         "INE212H01026"
        ],
        [
         "4",
         "APL Apollo Tubes Ltd.",
         "Capital Goods",
         "APLAPOLLO",
         "EQ",
         "INE702C01027"
        ],
        [
         "5",
         "AU Small Finance Bank Ltd.",
         "Financial Services",
         "AUBANK",
         "EQ",
         "INE949L01017"
        ],
        [
         "6",
         "Aarti Industries Ltd.",
         "Chemicals",
         "AARTIIND",
         "EQ",
         "INE769A01020"
        ],
        [
         "7",
         "Aavas Financiers Ltd.",
         "Financial Services",
         "AAVAS",
         "EQ",
         "INE216P01012"
        ],
        [
         "8",
         "Abbott India Ltd.",
         "Healthcare",
         "ABBOTINDIA",
         "EQ",
         "INE358A01014"
        ],
        [
         "9",
         "Action Construction Equipment Ltd.",
         "Capital Goods",
         "ACE",
         "EQ",
         "INE731H01025"
        ],
        [
         "10",
         "Adani Enterprises Ltd.",
         "Metals & Mining",
         "ADANIENT",
         "EQ",
         "INE423A01024"
        ],
        [
         "11",
         "Adani Green Energy Ltd.",
         "Power",
         "ADANIGREEN",
         "EQ",
         "INE364U01010"
        ],
        [
         "12",
         "Adani Ports and Special Economic Zone Ltd.",
         "Services",
         "ADANIPORTS",
         "EQ",
         "INE742F01042"
        ],
        [
         "13",
         "Adani Power Ltd.",
         "Power",
         "ADANIPOWER",
         "EQ",
         "INE814H01011"
        ],
        [
         "14",
         "Adani Total Gas Ltd.",
         "Oil Gas & Consumable Fuels",
         "ATGL",
         "EQ",
         "INE399L01023"
        ],
        [
         "15",
         "Aditya Birla Capital Ltd.",
         "Financial Services",
         "ABCAPITAL",
         "EQ",
         "INE674K01013"
        ],
        [
         "16",
         "Aditya Birla Fashion and Retail Ltd.",
         "Consumer Services",
         "ABFRL",
         "EQ",
         "INE647O01011"
        ],
        [
         "17",
         "Aditya Birla Sun Life AMC Ltd.",
         "Financial Services",
         "ABSLAMC",
         "EQ",
         "INE404A01024"
        ],
        [
         "18",
         "Affle (India) Ltd.",
         "Information Technology",
         "AFFLE",
         "EQ",
         "INE00WC01027"
        ],
        [
         "19",
         "Ajanta Pharmaceuticals Ltd.",
         "Healthcare",
         "AJANTPHARM",
         "EQ",
         "INE031B01049"
        ],
        [
         "20",
         "Alembic Pharmaceuticals Ltd.",
         "Healthcare",
         "APLLTD",
         "EQ",
         "INE901L01018"
        ],
        [
         "21",
         "Alkem Laboratories Ltd.",
         "Healthcare",
         "ALKEM",
         "EQ",
         "INE540L01014"
        ],
        [
         "22",
         "Alkyl Amines Chemicals Ltd.",
         "Chemicals",
         "ALKYLAMINE",
         "EQ",
         "INE150B01039"
        ],
        [
         "23",
         "Alok Industries Ltd.",
         "Textiles",
         "ALOKINDS",
         "EQ",
         "INE270A01029"
        ],
        [
         "24",
         "Amber Enterprises India Ltd.",
         "Consumer Durables",
         "AMBER",
         "EQ",
         "INE371P01015"
        ],
        [
         "25",
         "Ambuja Cements Ltd.",
         "Construction Materials",
         "AMBUJACEM",
         "EQ",
         "INE079A01024"
        ],
        [
         "26",
         "Anand Rathi Wealth Ltd.",
         "Financial Services",
         "ANANDRATHI",
         "EQ",
         "INE463V01026"
        ],
        [
         "27",
         "Anant Raj Ltd.",
         "Realty",
         "ANANTRAJ",
         "EQ",
         "INE242C01024"
        ],
        [
         "28",
         "Angel One Ltd.",
         "Financial Services",
         "ANGELONE",
         "EQ",
         "INE732I01013"
        ],
        [
         "29",
         "Apar Industries Ltd.",
         "Capital Goods",
         "APARINDS",
         "EQ",
         "INE372A01015"
        ],
        [
         "30",
         "Apollo Hospitals Enterprise Ltd.",
         "Healthcare",
         "APOLLOHOSP",
         "EQ",
         "INE437A01024"
        ],
        [
         "31",
         "Apollo Tyres Ltd.",
         "Automobile and Auto Components",
         "APOLLOTYRE",
         "EQ",
         "INE438A01022"
        ],
        [
         "32",
         "Aptus Value Housing Finance India Ltd.",
         "Financial Services",
         "APTUS",
         "EQ",
         "INE852O01025"
        ],
        [
         "33",
         "Asahi India Glass Ltd.",
         "Automobile and Auto Components",
         "ASAHIINDIA",
         "EQ",
         "INE439A01020"
        ],
        [
         "34",
         "Ashok Leyland Ltd.",
         "Capital Goods",
         "ASHOKLEY",
         "EQ",
         "INE208A01029"
        ],
        [
         "35",
         "Asian Paints Ltd.",
         "Consumer Durables",
         "ASIANPAINT",
         "EQ",
         "INE021A01026"
        ],
        [
         "36",
         "Aster DM Healthcare Ltd.",
         "Healthcare",
         "ASTERDM",
         "EQ",
         "INE914M01019"
        ],
        [
         "37",
         "AstraZenca Pharma India Ltd.",
         "Healthcare",
         "ASTRAZEN",
         "EQ",
         "INE203A01020"
        ],
        [
         "38",
         "Astral Ltd.",
         "Capital Goods",
         "ASTRAL",
         "EQ",
         "INE006I01046"
        ],
        [
         "39",
         "Atul Ltd.",
         "Chemicals",
         "ATUL",
         "EQ",
         "INE100A01010"
        ],
        [
         "40",
         "Aurobindo Pharma Ltd.",
         "Healthcare",
         "AUROPHARMA",
         "EQ",
         "INE406A01037"
        ],
        [
         "41",
         "Avanti Feeds Ltd.",
         "Fast Moving Consumer Goods",
         "AVANTIFEED",
         "EQ",
         "INE871C01038"
        ],
        [
         "42",
         "Avenue Supermarts Ltd.",
         "Consumer Services",
         "DMART",
         "EQ",
         "INE192R01011"
        ],
        [
         "43",
         "Axis Bank Ltd.",
         "Financial Services",
         "AXISBANK",
         "EQ",
         "INE238A01034"
        ],
        [
         "44",
         "BASF India Ltd.",
         "Chemicals",
         "BASF",
         "EQ",
         "INE373A01013"
        ],
        [
         "45",
         "BEML Ltd.",
         "Capital Goods",
         "BEML",
         "EQ",
         "INE258A01016"
        ],
        [
         "46",
         "BLS International Services Ltd.",
         "Consumer Services",
         "BLS",
         "EQ",
         "INE153T01027"
        ],
        [
         "47",
         "BSE Ltd.",
         "Financial Services",
         "BSE",
         "EQ",
         "INE118H01025"
        ],
        [
         "48",
         "Bajaj Auto Ltd.",
         "Automobile and Auto Components",
         "BAJAJ-AUTO",
         "EQ",
         "INE917I01010"
        ],
        [
         "49",
         "Bajaj Finance Ltd.",
         "Financial Services",
         "BAJFINANCE",
         "EQ",
         "INE296A01024"
        ]
       ],
       "shape": {
        "columns": 5,
        "rows": 445
       }
      },
      "text/html": [
       "<div>\n",
       "<style scoped>\n",
       "    .dataframe tbody tr th:only-of-type {\n",
       "        vertical-align: middle;\n",
       "    }\n",
       "\n",
       "    .dataframe tbody tr th {\n",
       "        vertical-align: top;\n",
       "    }\n",
       "\n",
       "    .dataframe thead th {\n",
       "        text-align: right;\n",
       "    }\n",
       "</style>\n",
       "<table border=\"1\" class=\"dataframe\">\n",
       "  <thead>\n",
       "    <tr style=\"text-align: right;\">\n",
       "      <th></th>\n",
       "      <th>Company Name</th>\n",
       "      <th>Industry</th>\n",
       "      <th>Symbol</th>\n",
       "      <th>Series</th>\n",
       "      <th>ISIN Code</th>\n",
       "    </tr>\n",
       "  </thead>\n",
       "  <tbody>\n",
       "    <tr>\n",
       "      <th>0</th>\n",
       "      <td>360 ONE WAM Ltd.</td>\n",
       "      <td>Financial Services</td>\n",
       "      <td>360ONE</td>\n",
       "      <td>EQ</td>\n",
       "      <td>INE466L01038</td>\n",
       "    </tr>\n",
       "    <tr>\n",
       "      <th>1</th>\n",
       "      <td>ABB India Ltd.</td>\n",
       "      <td>Capital Goods</td>\n",
       "      <td>ABB</td>\n",
       "      <td>EQ</td>\n",
       "      <td>INE117A01022</td>\n",
       "    </tr>\n",
       "    <tr>\n",
       "      <th>2</th>\n",
       "      <td>ACC Ltd.</td>\n",
       "      <td>Construction Materials</td>\n",
       "      <td>ACC</td>\n",
       "      <td>EQ</td>\n",
       "      <td>INE012A01025</td>\n",
       "    </tr>\n",
       "    <tr>\n",
       "      <th>3</th>\n",
       "      <td>AIA Engineering Ltd.</td>\n",
       "      <td>Capital Goods</td>\n",
       "      <td>AIAENG</td>\n",
       "      <td>EQ</td>\n",
       "      <td>INE212H01026</td>\n",
       "    </tr>\n",
       "    <tr>\n",
       "      <th>4</th>\n",
       "      <td>APL Apollo Tubes Ltd.</td>\n",
       "      <td>Capital Goods</td>\n",
       "      <td>APLAPOLLO</td>\n",
       "      <td>EQ</td>\n",
       "      <td>INE702C01027</td>\n",
       "    </tr>\n",
       "    <tr>\n",
       "      <th>...</th>\n",
       "      <td>...</td>\n",
       "      <td>...</td>\n",
       "      <td>...</td>\n",
       "      <td>...</td>\n",
       "      <td>...</td>\n",
       "    </tr>\n",
       "    <tr>\n",
       "      <th>440</th>\n",
       "      <td>Zee Entertainment Enterprises Ltd.</td>\n",
       "      <td>Media Entertainment &amp; Publication</td>\n",
       "      <td>ZEEL</td>\n",
       "      <td>EQ</td>\n",
       "      <td>INE256A01028</td>\n",
       "    </tr>\n",
       "    <tr>\n",
       "      <th>441</th>\n",
       "      <td>Zensar Technolgies Ltd.</td>\n",
       "      <td>Information Technology</td>\n",
       "      <td>ZENSARTECH</td>\n",
       "      <td>EQ</td>\n",
       "      <td>INE520A01027</td>\n",
       "    </tr>\n",
       "    <tr>\n",
       "      <th>442</th>\n",
       "      <td>Zomato Ltd.</td>\n",
       "      <td>Consumer Services</td>\n",
       "      <td>ZOMATO</td>\n",
       "      <td>EQ</td>\n",
       "      <td>INE758T01015</td>\n",
       "    </tr>\n",
       "    <tr>\n",
       "      <th>443</th>\n",
       "      <td>Zydus Lifesciences Ltd.</td>\n",
       "      <td>Healthcare</td>\n",
       "      <td>ZYDUSLIFE</td>\n",
       "      <td>EQ</td>\n",
       "      <td>INE010B01027</td>\n",
       "    </tr>\n",
       "    <tr>\n",
       "      <th>444</th>\n",
       "      <td>eClerx Services Ltd.</td>\n",
       "      <td>Services</td>\n",
       "      <td>ECLERX</td>\n",
       "      <td>EQ</td>\n",
       "      <td>INE738I01010</td>\n",
       "    </tr>\n",
       "  </tbody>\n",
       "</table>\n",
       "<p>445 rows × 5 columns</p>\n",
       "</div>"
      ],
      "text/plain": [
       "                           Company Name                           Industry  \\\n",
       "0                      360 ONE WAM Ltd.                 Financial Services   \n",
       "1                        ABB India Ltd.                      Capital Goods   \n",
       "2                              ACC Ltd.             Construction Materials   \n",
       "3                  AIA Engineering Ltd.                      Capital Goods   \n",
       "4                 APL Apollo Tubes Ltd.                      Capital Goods   \n",
       "..                                  ...                                ...   \n",
       "440  Zee Entertainment Enterprises Ltd.  Media Entertainment & Publication   \n",
       "441             Zensar Technolgies Ltd.             Information Technology   \n",
       "442                         Zomato Ltd.                  Consumer Services   \n",
       "443             Zydus Lifesciences Ltd.                         Healthcare   \n",
       "444                eClerx Services Ltd.                           Services   \n",
       "\n",
       "         Symbol Series     ISIN Code  \n",
       "0        360ONE     EQ  INE466L01038  \n",
       "1           ABB     EQ  INE117A01022  \n",
       "2           ACC     EQ  INE012A01025  \n",
       "3        AIAENG     EQ  INE212H01026  \n",
       "4     APLAPOLLO     EQ  INE702C01027  \n",
       "..          ...    ...           ...  \n",
       "440        ZEEL     EQ  INE256A01028  \n",
       "441  ZENSARTECH     EQ  INE520A01027  \n",
       "442      ZOMATO     EQ  INE758T01015  \n",
       "443   ZYDUSLIFE     EQ  INE010B01027  \n",
       "444      ECLERX     EQ  INE738I01010  \n",
       "\n",
       "[445 rows x 5 columns]"
      ]
     },
     "execution_count": 2,
     "metadata": {},
     "output_type": "execute_result"
    }
   ],
   "source": [
    "import pandas as pd\n",
    "df=pd.read_csv(r\"filtered_companies.csv\")\n",
    "df"
   ]
  },
  {
   "cell_type": "code",
   "execution_count": 2,
   "metadata": {},
   "outputs": [
    {
     "name": "stdout",
     "output_type": "stream",
     "text": [
      "Downloading data for 360ONE.NS...\n",
      "YF.download() has changed argument auto_adjust default to True\n"
     ]
    },
    {
     "name": "stderr",
     "output_type": "stream",
     "text": [
      "[*********************100%***********************]  1 of 1 completed\n"
     ]
    },
    {
     "name": "stdout",
     "output_type": "stream",
     "text": [
      "Data for 360ONE.NS saved to test_stockdata\\360ONE.NS.csv.\n",
      "Downloading data for ABB.NS...\n"
     ]
    },
    {
     "name": "stderr",
     "output_type": "stream",
     "text": [
      "[*********************100%***********************]  1 of 1 completed\n",
      "[*********************100%***********************]  1 of 1 completed"
     ]
    },
    {
     "name": "stdout",
     "output_type": "stream",
     "text": [
      "Data for ABB.NS saved to test_stockdata\\ABB.NS.csv.\n",
      "Downloading data for ACC.NS...\n"
     ]
    },
    {
     "name": "stderr",
     "output_type": "stream",
     "text": [
      "\n",
      "[*********************100%***********************]  1 of 1 completed"
     ]
    },
    {
     "name": "stdout",
     "output_type": "stream",
     "text": [
      "Data for ACC.NS saved to test_stockdata\\ACC.NS.csv.\n",
      "Downloading data for AIAENG.NS...\n"
     ]
    },
    {
     "name": "stderr",
     "output_type": "stream",
     "text": [
      "\n"
     ]
    },
    {
     "name": "stdout",
     "output_type": "stream",
     "text": [
      "Data for AIAENG.NS saved to test_stockdata\\AIAENG.NS.csv.\n",
      "Downloading data for APLAPOLLO.NS...\n"
     ]
    },
    {
     "name": "stderr",
     "output_type": "stream",
     "text": [
      "[*********************100%***********************]  1 of 1 completed\n"
     ]
    },
    {
     "name": "stdout",
     "output_type": "stream",
     "text": [
      "Data for APLAPOLLO.NS saved to test_stockdata\\APLAPOLLO.NS.csv.\n",
      "Downloading data for AUBANK.NS...\n"
     ]
    },
    {
     "name": "stderr",
     "output_type": "stream",
     "text": [
      "[*********************100%***********************]  1 of 1 completed\n"
     ]
    },
    {
     "name": "stdout",
     "output_type": "stream",
     "text": [
      "Data for AUBANK.NS saved to test_stockdata\\AUBANK.NS.csv.\n",
      "Downloading data for AARTIIND.NS...\n"
     ]
    },
    {
     "name": "stderr",
     "output_type": "stream",
     "text": [
      "[*********************100%***********************]  1 of 1 completed\n"
     ]
    },
    {
     "name": "stdout",
     "output_type": "stream",
     "text": [
      "Data for AARTIIND.NS saved to test_stockdata\\AARTIIND.NS.csv.\n",
      "Downloading data for AAVAS.NS...\n"
     ]
    },
    {
     "name": "stderr",
     "output_type": "stream",
     "text": [
      "[*********************100%***********************]  1 of 1 completed\n"
     ]
    },
    {
     "name": "stdout",
     "output_type": "stream",
     "text": [
      "Data for AAVAS.NS saved to test_stockdata\\AAVAS.NS.csv.\n",
      "Downloading data for ABBOTINDIA.NS...\n"
     ]
    },
    {
     "name": "stderr",
     "output_type": "stream",
     "text": [
      "[*********************100%***********************]  1 of 1 completed\n"
     ]
    },
    {
     "name": "stdout",
     "output_type": "stream",
     "text": [
      "Data for ABBOTINDIA.NS saved to test_stockdata\\ABBOTINDIA.NS.csv.\n",
      "Downloading data for ACE.NS...\n"
     ]
    },
    {
     "name": "stderr",
     "output_type": "stream",
     "text": [
      "[*********************100%***********************]  1 of 1 completed\n",
      "[*********************100%***********************]  1 of 1 completed"
     ]
    },
    {
     "name": "stdout",
     "output_type": "stream",
     "text": [
      "Data for ACE.NS saved to test_stockdata\\ACE.NS.csv.\n",
      "Downloading data for ADANIENT.NS...\n"
     ]
    },
    {
     "name": "stderr",
     "output_type": "stream",
     "text": [
      "\n"
     ]
    },
    {
     "name": "stdout",
     "output_type": "stream",
     "text": [
      "Data for ADANIENT.NS saved to test_stockdata\\ADANIENT.NS.csv.\n",
      "Downloading data for ADANIGREEN.NS...\n"
     ]
    },
    {
     "name": "stderr",
     "output_type": "stream",
     "text": [
      "[*********************100%***********************]  1 of 1 completed\n"
     ]
    },
    {
     "name": "stdout",
     "output_type": "stream",
     "text": [
      "Data for ADANIGREEN.NS saved to test_stockdata\\ADANIGREEN.NS.csv.\n",
      "Downloading data for ADANIPORTS.NS...\n"
     ]
    },
    {
     "name": "stderr",
     "output_type": "stream",
     "text": [
      "[*********************100%***********************]  1 of 1 completed\n"
     ]
    },
    {
     "name": "stdout",
     "output_type": "stream",
     "text": [
      "Data for ADANIPORTS.NS saved to test_stockdata\\ADANIPORTS.NS.csv.\n",
      "Downloading data for ADANIPOWER.NS...\n"
     ]
    },
    {
     "name": "stderr",
     "output_type": "stream",
     "text": [
      "[*********************100%***********************]  1 of 1 completed\n"
     ]
    },
    {
     "name": "stdout",
     "output_type": "stream",
     "text": [
      "Data for ADANIPOWER.NS saved to test_stockdata\\ADANIPOWER.NS.csv.\n",
      "Downloading data for ATGL.NS...\n"
     ]
    },
    {
     "name": "stderr",
     "output_type": "stream",
     "text": [
      "[*********************100%***********************]  1 of 1 completed\n"
     ]
    },
    {
     "name": "stdout",
     "output_type": "stream",
     "text": [
      "Data for ATGL.NS saved to test_stockdata\\ATGL.NS.csv.\n",
      "Downloading data for ABCAPITAL.NS...\n"
     ]
    },
    {
     "name": "stderr",
     "output_type": "stream",
     "text": [
      "[*********************100%***********************]  1 of 1 completed\n"
     ]
    },
    {
     "name": "stdout",
     "output_type": "stream",
     "text": [
      "Data for ABCAPITAL.NS saved to test_stockdata\\ABCAPITAL.NS.csv.\n",
      "Downloading data for ABFRL.NS...\n"
     ]
    },
    {
     "name": "stderr",
     "output_type": "stream",
     "text": [
      "[*********************100%***********************]  1 of 1 completed\n",
      "[*********************100%***********************]  1 of 1 completed"
     ]
    },
    {
     "name": "stdout",
     "output_type": "stream",
     "text": [
      "Data for ABFRL.NS saved to test_stockdata\\ABFRL.NS.csv.\n",
      "Downloading data for ABSLAMC.NS...\n",
      "Data for ABSLAMC.NS saved to test_stockdata\\ABSLAMC.NS.csv.\n",
      "Downloading data for AFFLE.NS...\n"
     ]
    },
    {
     "name": "stderr",
     "output_type": "stream",
     "text": [
      "\n",
      "[*********************100%***********************]  1 of 1 completed\n"
     ]
    },
    {
     "name": "stdout",
     "output_type": "stream",
     "text": [
      "Data for AFFLE.NS saved to test_stockdata\\AFFLE.NS.csv.\n",
      "Downloading data for AJANTPHARM.NS...\n"
     ]
    },
    {
     "name": "stderr",
     "output_type": "stream",
     "text": [
      "[*********************100%***********************]  1 of 1 completed\n"
     ]
    },
    {
     "name": "stdout",
     "output_type": "stream",
     "text": [
      "Data for AJANTPHARM.NS saved to test_stockdata\\AJANTPHARM.NS.csv.\n",
      "Downloading data for APLLTD.NS...\n"
     ]
    },
    {
     "name": "stderr",
     "output_type": "stream",
     "text": [
      "[*********************100%***********************]  1 of 1 completed\n"
     ]
    },
    {
     "name": "stdout",
     "output_type": "stream",
     "text": [
      "Data for APLLTD.NS saved to test_stockdata\\APLLTD.NS.csv.\n",
      "Downloading data for ALKEM.NS...\n"
     ]
    },
    {
     "name": "stderr",
     "output_type": "stream",
     "text": [
      "[*********************100%***********************]  1 of 1 completed\n"
     ]
    },
    {
     "name": "stdout",
     "output_type": "stream",
     "text": [
      "Data for ALKEM.NS saved to test_stockdata\\ALKEM.NS.csv.\n",
      "Downloading data for ALKYLAMINE.NS...\n"
     ]
    },
    {
     "name": "stderr",
     "output_type": "stream",
     "text": [
      "[*********************100%***********************]  1 of 1 completed\n"
     ]
    },
    {
     "name": "stdout",
     "output_type": "stream",
     "text": [
      "Data for ALKYLAMINE.NS saved to test_stockdata\\ALKYLAMINE.NS.csv.\n",
      "Downloading data for ALOKINDS.NS...\n"
     ]
    },
    {
     "name": "stderr",
     "output_type": "stream",
     "text": [
      "[*********************100%***********************]  1 of 1 completed\n",
      "[*********************100%***********************]  1 of 1 completed\n"
     ]
    },
    {
     "name": "stdout",
     "output_type": "stream",
     "text": [
      "Data for ALOKINDS.NS saved to test_stockdata\\ALOKINDS.NS.csv.\n",
      "Downloading data for AMBER.NS...\n",
      "Data for AMBER.NS saved to test_stockdata\\AMBER.NS.csv.\n",
      "Downloading data for AMBUJACEM.NS...\n"
     ]
    },
    {
     "name": "stderr",
     "output_type": "stream",
     "text": [
      "[*********************100%***********************]  1 of 1 completed\n"
     ]
    },
    {
     "name": "stdout",
     "output_type": "stream",
     "text": [
      "Data for AMBUJACEM.NS saved to test_stockdata\\AMBUJACEM.NS.csv.\n",
      "Downloading data for ANANDRATHI.NS...\n"
     ]
    },
    {
     "name": "stderr",
     "output_type": "stream",
     "text": [
      "[*********************100%***********************]  1 of 1 completed\n",
      "[*********************100%***********************]  1 of 1 completed"
     ]
    },
    {
     "name": "stdout",
     "output_type": "stream",
     "text": [
      "Data for ANANDRATHI.NS saved to test_stockdata\\ANANDRATHI.NS.csv.\n",
      "Downloading data for ANANTRAJ.NS...\n"
     ]
    },
    {
     "name": "stderr",
     "output_type": "stream",
     "text": [
      "\n"
     ]
    },
    {
     "name": "stdout",
     "output_type": "stream",
     "text": [
      "Data for ANANTRAJ.NS saved to test_stockdata\\ANANTRAJ.NS.csv.\n",
      "Downloading data for ANGELONE.NS...\n"
     ]
    },
    {
     "name": "stderr",
     "output_type": "stream",
     "text": [
      "[*********************100%***********************]  1 of 1 completed\n"
     ]
    },
    {
     "name": "stdout",
     "output_type": "stream",
     "text": [
      "Data for ANGELONE.NS saved to test_stockdata\\ANGELONE.NS.csv.\n",
      "Downloading data for APARINDS.NS...\n"
     ]
    },
    {
     "name": "stderr",
     "output_type": "stream",
     "text": [
      "[*********************100%***********************]  1 of 1 completed\n"
     ]
    },
    {
     "name": "stdout",
     "output_type": "stream",
     "text": [
      "Data for APARINDS.NS saved to test_stockdata\\APARINDS.NS.csv.\n",
      "Downloading data for APOLLOHOSP.NS...\n"
     ]
    },
    {
     "name": "stderr",
     "output_type": "stream",
     "text": [
      "[*********************100%***********************]  1 of 1 completed\n"
     ]
    },
    {
     "name": "stdout",
     "output_type": "stream",
     "text": [
      "Data for APOLLOHOSP.NS saved to test_stockdata\\APOLLOHOSP.NS.csv.\n",
      "Downloading data for APOLLOTYRE.NS...\n"
     ]
    },
    {
     "name": "stderr",
     "output_type": "stream",
     "text": [
      "[*********************100%***********************]  1 of 1 completed\n"
     ]
    },
    {
     "name": "stdout",
     "output_type": "stream",
     "text": [
      "Data for APOLLOTYRE.NS saved to test_stockdata\\APOLLOTYRE.NS.csv.\n",
      "Downloading data for APTUS.NS...\n"
     ]
    },
    {
     "name": "stderr",
     "output_type": "stream",
     "text": [
      "[*********************100%***********************]  1 of 1 completed\n"
     ]
    },
    {
     "name": "stdout",
     "output_type": "stream",
     "text": [
      "Data for APTUS.NS saved to test_stockdata\\APTUS.NS.csv.\n",
      "Downloading data for ASAHIINDIA.NS...\n"
     ]
    },
    {
     "name": "stderr",
     "output_type": "stream",
     "text": [
      "[*********************100%***********************]  1 of 1 completed\n"
     ]
    },
    {
     "name": "stdout",
     "output_type": "stream",
     "text": [
      "Data for ASAHIINDIA.NS saved to test_stockdata\\ASAHIINDIA.NS.csv.\n",
      "Downloading data for ASHOKLEY.NS...\n"
     ]
    },
    {
     "name": "stderr",
     "output_type": "stream",
     "text": [
      "[*********************100%***********************]  1 of 1 completed\n"
     ]
    },
    {
     "name": "stdout",
     "output_type": "stream",
     "text": [
      "Data for ASHOKLEY.NS saved to test_stockdata\\ASHOKLEY.NS.csv.\n",
      "Downloading data for ASIANPAINT.NS...\n"
     ]
    },
    {
     "name": "stderr",
     "output_type": "stream",
     "text": [
      "[*********************100%***********************]  1 of 1 completed\n"
     ]
    },
    {
     "name": "stdout",
     "output_type": "stream",
     "text": [
      "Data for ASIANPAINT.NS saved to test_stockdata\\ASIANPAINT.NS.csv.\n",
      "Downloading data for ASTERDM.NS...\n"
     ]
    },
    {
     "name": "stderr",
     "output_type": "stream",
     "text": [
      "[*********************100%***********************]  1 of 1 completed\n"
     ]
    },
    {
     "name": "stdout",
     "output_type": "stream",
     "text": [
      "Data for ASTERDM.NS saved to test_stockdata\\ASTERDM.NS.csv.\n",
      "Downloading data for ASTRAZEN.NS...\n"
     ]
    },
    {
     "name": "stderr",
     "output_type": "stream",
     "text": [
      "[*********************100%***********************]  1 of 1 completed\n",
      "[*********************100%***********************]  1 of 1 completed"
     ]
    },
    {
     "name": "stdout",
     "output_type": "stream",
     "text": [
      "Data for ASTRAZEN.NS saved to test_stockdata\\ASTRAZEN.NS.csv.\n",
      "Downloading data for ASTRAL.NS...\n"
     ]
    },
    {
     "name": "stderr",
     "output_type": "stream",
     "text": [
      "\n"
     ]
    },
    {
     "name": "stdout",
     "output_type": "stream",
     "text": [
      "Data for ASTRAL.NS saved to test_stockdata\\ASTRAL.NS.csv.\n",
      "Downloading data for ATUL.NS...\n"
     ]
    },
    {
     "name": "stderr",
     "output_type": "stream",
     "text": [
      "[*********************100%***********************]  1 of 1 completed\n"
     ]
    },
    {
     "name": "stdout",
     "output_type": "stream",
     "text": [
      "Data for ATUL.NS saved to test_stockdata\\ATUL.NS.csv.\n",
      "Downloading data for AUROPHARMA.NS...\n"
     ]
    },
    {
     "name": "stderr",
     "output_type": "stream",
     "text": [
      "[*********************100%***********************]  1 of 1 completed\n"
     ]
    },
    {
     "name": "stdout",
     "output_type": "stream",
     "text": [
      "Data for AUROPHARMA.NS saved to test_stockdata\\AUROPHARMA.NS.csv.\n",
      "Downloading data for AVANTIFEED.NS...\n"
     ]
    },
    {
     "name": "stderr",
     "output_type": "stream",
     "text": [
      "[*********************100%***********************]  1 of 1 completed\n"
     ]
    },
    {
     "name": "stdout",
     "output_type": "stream",
     "text": [
      "Data for AVANTIFEED.NS saved to test_stockdata\\AVANTIFEED.NS.csv.\n",
      "Downloading data for DMART.NS...\n"
     ]
    },
    {
     "name": "stderr",
     "output_type": "stream",
     "text": [
      "[*********************100%***********************]  1 of 1 completed\n"
     ]
    },
    {
     "name": "stdout",
     "output_type": "stream",
     "text": [
      "Data for DMART.NS saved to test_stockdata\\DMART.NS.csv.\n",
      "Downloading data for AXISBANK.NS...\n"
     ]
    },
    {
     "name": "stderr",
     "output_type": "stream",
     "text": [
      "[*********************100%***********************]  1 of 1 completed\n"
     ]
    },
    {
     "name": "stdout",
     "output_type": "stream",
     "text": [
      "Data for AXISBANK.NS saved to test_stockdata\\AXISBANK.NS.csv.\n",
      "Downloading data for BASF.NS...\n"
     ]
    },
    {
     "name": "stderr",
     "output_type": "stream",
     "text": [
      "[*********************100%***********************]  1 of 1 completed\n"
     ]
    },
    {
     "name": "stdout",
     "output_type": "stream",
     "text": [
      "Data for BASF.NS saved to test_stockdata\\BASF.NS.csv.\n",
      "Downloading data for BEML.NS...\n"
     ]
    },
    {
     "name": "stderr",
     "output_type": "stream",
     "text": [
      "[*********************100%***********************]  1 of 1 completed\n"
     ]
    },
    {
     "name": "stdout",
     "output_type": "stream",
     "text": [
      "Data for BEML.NS saved to test_stockdata\\BEML.NS.csv.\n",
      "Downloading data for BLS.NS...\n"
     ]
    },
    {
     "name": "stderr",
     "output_type": "stream",
     "text": [
      "[*********************100%***********************]  1 of 1 completed\n"
     ]
    },
    {
     "name": "stdout",
     "output_type": "stream",
     "text": [
      "Data for BLS.NS saved to test_stockdata\\BLS.NS.csv.\n",
      "Downloading data for BSE.NS...\n"
     ]
    },
    {
     "name": "stderr",
     "output_type": "stream",
     "text": [
      "[*********************100%***********************]  1 of 1 completed\n",
      "[*********************100%***********************]  1 of 1 completed"
     ]
    },
    {
     "name": "stdout",
     "output_type": "stream",
     "text": [
      "Data for BSE.NS saved to test_stockdata\\BSE.NS.csv.\n",
      "Downloading data for BAJAJ-AUTO.NS...\n"
     ]
    },
    {
     "name": "stderr",
     "output_type": "stream",
     "text": [
      "\n"
     ]
    },
    {
     "name": "stdout",
     "output_type": "stream",
     "text": [
      "Data for BAJAJ-AUTO.NS saved to test_stockdata\\BAJAJ-AUTO.NS.csv.\n",
      "Downloading data for BAJFINANCE.NS...\n"
     ]
    },
    {
     "name": "stderr",
     "output_type": "stream",
     "text": [
      "[*********************100%***********************]  1 of 1 completed\n"
     ]
    },
    {
     "name": "stdout",
     "output_type": "stream",
     "text": [
      "Data for BAJFINANCE.NS saved to test_stockdata\\BAJFINANCE.NS.csv.\n",
      "Downloading data for BAJAJFINSV.NS...\n"
     ]
    },
    {
     "name": "stderr",
     "output_type": "stream",
     "text": [
      "[*********************100%***********************]  1 of 1 completed\n"
     ]
    },
    {
     "name": "stdout",
     "output_type": "stream",
     "text": [
      "Data for BAJAJFINSV.NS saved to test_stockdata\\BAJAJFINSV.NS.csv.\n",
      "Downloading data for BAJAJHLDNG.NS...\n"
     ]
    },
    {
     "name": "stderr",
     "output_type": "stream",
     "text": [
      "[*********************100%***********************]  1 of 1 completed\n"
     ]
    },
    {
     "name": "stdout",
     "output_type": "stream",
     "text": [
      "Data for BAJAJHLDNG.NS saved to test_stockdata\\BAJAJHLDNG.NS.csv.\n",
      "Downloading data for BALAMINES.NS...\n"
     ]
    },
    {
     "name": "stderr",
     "output_type": "stream",
     "text": [
      "[*********************100%***********************]  1 of 1 completed\n"
     ]
    },
    {
     "name": "stdout",
     "output_type": "stream",
     "text": [
      "Data for BALAMINES.NS saved to test_stockdata\\BALAMINES.NS.csv.\n",
      "Downloading data for BALKRISIND.NS...\n"
     ]
    },
    {
     "name": "stderr",
     "output_type": "stream",
     "text": [
      "[*********************100%***********************]  1 of 1 completed\n"
     ]
    },
    {
     "name": "stdout",
     "output_type": "stream",
     "text": [
      "Data for BALKRISIND.NS saved to test_stockdata\\BALKRISIND.NS.csv.\n",
      "Downloading data for BALRAMCHIN.NS...\n"
     ]
    },
    {
     "name": "stderr",
     "output_type": "stream",
     "text": [
      "[*********************100%***********************]  1 of 1 completed\n",
      "[*********************100%***********************]  1 of 1 completed"
     ]
    },
    {
     "name": "stdout",
     "output_type": "stream",
     "text": [
      "Data for BALRAMCHIN.NS saved to test_stockdata\\BALRAMCHIN.NS.csv.\n",
      "Downloading data for BANDHANBNK.NS...\n",
      "Data for BANDHANBNK.NS saved to test_stockdata\\BANDHANBNK.NS.csv.\n",
      "Downloading data for BANKBARODA.NS...\n"
     ]
    },
    {
     "name": "stderr",
     "output_type": "stream",
     "text": [
      "\n",
      "[*********************100%***********************]  1 of 1 completed\n"
     ]
    },
    {
     "name": "stdout",
     "output_type": "stream",
     "text": [
      "Data for BANKBARODA.NS saved to test_stockdata\\BANKBARODA.NS.csv.\n",
      "Downloading data for BANKINDIA.NS...\n"
     ]
    },
    {
     "name": "stderr",
     "output_type": "stream",
     "text": [
      "[*********************100%***********************]  1 of 1 completed\n"
     ]
    },
    {
     "name": "stdout",
     "output_type": "stream",
     "text": [
      "Data for BANKINDIA.NS saved to test_stockdata\\BANKINDIA.NS.csv.\n",
      "Downloading data for MAHABANK.NS...\n"
     ]
    },
    {
     "name": "stderr",
     "output_type": "stream",
     "text": [
      "[*********************100%***********************]  1 of 1 completed\n"
     ]
    },
    {
     "name": "stdout",
     "output_type": "stream",
     "text": [
      "Data for MAHABANK.NS saved to test_stockdata\\MAHABANK.NS.csv.\n",
      "Downloading data for BATAINDIA.NS...\n"
     ]
    },
    {
     "name": "stderr",
     "output_type": "stream",
     "text": [
      "[*********************100%***********************]  1 of 1 completed\n"
     ]
    },
    {
     "name": "stdout",
     "output_type": "stream",
     "text": [
      "Data for BATAINDIA.NS saved to test_stockdata\\BATAINDIA.NS.csv.\n",
      "Downloading data for BAYERCROP.NS...\n"
     ]
    },
    {
     "name": "stderr",
     "output_type": "stream",
     "text": [
      "[*********************100%***********************]  1 of 1 completed\n"
     ]
    },
    {
     "name": "stdout",
     "output_type": "stream",
     "text": [
      "Data for BAYERCROP.NS saved to test_stockdata\\BAYERCROP.NS.csv.\n",
      "Downloading data for BERGEPAINT.NS...\n"
     ]
    },
    {
     "name": "stderr",
     "output_type": "stream",
     "text": [
      "[*********************100%***********************]  1 of 1 completed\n"
     ]
    },
    {
     "name": "stdout",
     "output_type": "stream",
     "text": [
      "Data for BERGEPAINT.NS saved to test_stockdata\\BERGEPAINT.NS.csv.\n",
      "Downloading data for BDL.NS...\n"
     ]
    },
    {
     "name": "stderr",
     "output_type": "stream",
     "text": [
      "[*********************100%***********************]  1 of 1 completed\n"
     ]
    },
    {
     "name": "stdout",
     "output_type": "stream",
     "text": [
      "Data for BDL.NS saved to test_stockdata\\BDL.NS.csv.\n",
      "Downloading data for BEL.NS...\n"
     ]
    },
    {
     "name": "stderr",
     "output_type": "stream",
     "text": [
      "[*********************100%***********************]  1 of 1 completed\n"
     ]
    },
    {
     "name": "stdout",
     "output_type": "stream",
     "text": [
      "Data for BEL.NS saved to test_stockdata\\BEL.NS.csv.\n",
      "Downloading data for BHARATFORG.NS...\n"
     ]
    },
    {
     "name": "stderr",
     "output_type": "stream",
     "text": [
      "[*********************100%***********************]  1 of 1 completed\n"
     ]
    },
    {
     "name": "stdout",
     "output_type": "stream",
     "text": [
      "Data for BHARATFORG.NS saved to test_stockdata\\BHARATFORG.NS.csv.\n",
      "Downloading data for BHEL.NS...\n"
     ]
    },
    {
     "name": "stderr",
     "output_type": "stream",
     "text": [
      "[*********************100%***********************]  1 of 1 completed\n"
     ]
    },
    {
     "name": "stdout",
     "output_type": "stream",
     "text": [
      "Data for BHEL.NS saved to test_stockdata\\BHEL.NS.csv.\n",
      "Downloading data for BPCL.NS...\n"
     ]
    },
    {
     "name": "stderr",
     "output_type": "stream",
     "text": [
      "[*********************100%***********************]  1 of 1 completed\n"
     ]
    },
    {
     "name": "stdout",
     "output_type": "stream",
     "text": [
      "Data for BPCL.NS saved to test_stockdata\\BPCL.NS.csv.\n",
      "Downloading data for BHARTIARTL.NS...\n"
     ]
    },
    {
     "name": "stderr",
     "output_type": "stream",
     "text": [
      "[*********************100%***********************]  1 of 1 completed\n"
     ]
    },
    {
     "name": "stdout",
     "output_type": "stream",
     "text": [
      "Data for BHARTIARTL.NS saved to test_stockdata\\BHARTIARTL.NS.csv.\n",
      "Downloading data for BIOCON.NS...\n"
     ]
    },
    {
     "name": "stderr",
     "output_type": "stream",
     "text": [
      "[*********************100%***********************]  1 of 1 completed\n"
     ]
    },
    {
     "name": "stdout",
     "output_type": "stream",
     "text": [
      "Data for BIOCON.NS saved to test_stockdata\\BIOCON.NS.csv.\n",
      "Downloading data for BIRLACORPN.NS...\n"
     ]
    },
    {
     "name": "stderr",
     "output_type": "stream",
     "text": [
      "[*********************100%***********************]  1 of 1 completed\n"
     ]
    },
    {
     "name": "stdout",
     "output_type": "stream",
     "text": [
      "Data for BIRLACORPN.NS saved to test_stockdata\\BIRLACORPN.NS.csv.\n",
      "Downloading data for BSOFT.NS...\n"
     ]
    },
    {
     "name": "stderr",
     "output_type": "stream",
     "text": [
      "[*********************100%***********************]  1 of 1 completed\n"
     ]
    },
    {
     "name": "stdout",
     "output_type": "stream",
     "text": [
      "Data for BSOFT.NS saved to test_stockdata\\BSOFT.NS.csv.\n",
      "Downloading data for BLUEDART.NS...\n"
     ]
    },
    {
     "name": "stderr",
     "output_type": "stream",
     "text": [
      "[*********************100%***********************]  1 of 1 completed\n"
     ]
    },
    {
     "name": "stdout",
     "output_type": "stream",
     "text": [
      "Data for BLUEDART.NS saved to test_stockdata\\BLUEDART.NS.csv.\n",
      "Downloading data for BLUESTARCO.NS...\n"
     ]
    },
    {
     "name": "stderr",
     "output_type": "stream",
     "text": [
      "[*********************100%***********************]  1 of 1 completed\n"
     ]
    },
    {
     "name": "stdout",
     "output_type": "stream",
     "text": [
      "Data for BLUESTARCO.NS saved to test_stockdata\\BLUESTARCO.NS.csv.\n",
      "Downloading data for BBTC.NS...\n"
     ]
    },
    {
     "name": "stderr",
     "output_type": "stream",
     "text": [
      "[*********************100%***********************]  1 of 1 completed\n"
     ]
    },
    {
     "name": "stdout",
     "output_type": "stream",
     "text": [
      "Data for BBTC.NS saved to test_stockdata\\BBTC.NS.csv.\n",
      "Downloading data for BOSCHLTD.NS...\n"
     ]
    },
    {
     "name": "stderr",
     "output_type": "stream",
     "text": [
      "[*********************100%***********************]  1 of 1 completed\n",
      "[*********************100%***********************]  1 of 1 completed"
     ]
    },
    {
     "name": "stdout",
     "output_type": "stream",
     "text": [
      "Data for BOSCHLTD.NS saved to test_stockdata\\BOSCHLTD.NS.csv.\n",
      "Downloading data for BRITANNIA.NS...\n"
     ]
    },
    {
     "name": "stderr",
     "output_type": "stream",
     "text": [
      "\n"
     ]
    },
    {
     "name": "stdout",
     "output_type": "stream",
     "text": [
      "Data for BRITANNIA.NS saved to test_stockdata\\BRITANNIA.NS.csv.\n",
      "Downloading data for MAPMYINDIA.NS...\n"
     ]
    },
    {
     "name": "stderr",
     "output_type": "stream",
     "text": [
      "[*********************100%***********************]  1 of 1 completed\n",
      "[*********************100%***********************]  1 of 1 completed"
     ]
    },
    {
     "name": "stdout",
     "output_type": "stream",
     "text": [
      "Data for MAPMYINDIA.NS saved to test_stockdata\\MAPMYINDIA.NS.csv.\n",
      "Downloading data for CCL.NS...\n"
     ]
    },
    {
     "name": "stderr",
     "output_type": "stream",
     "text": [
      "\n"
     ]
    },
    {
     "name": "stdout",
     "output_type": "stream",
     "text": [
      "Data for CCL.NS saved to test_stockdata\\CCL.NS.csv.\n",
      "Downloading data for CESC.NS...\n"
     ]
    },
    {
     "name": "stderr",
     "output_type": "stream",
     "text": [
      "[*********************100%***********************]  1 of 1 completed\n"
     ]
    },
    {
     "name": "stdout",
     "output_type": "stream",
     "text": [
      "Data for CESC.NS saved to test_stockdata\\CESC.NS.csv.\n",
      "Downloading data for CGPOWER.NS...\n"
     ]
    },
    {
     "name": "stderr",
     "output_type": "stream",
     "text": [
      "[*********************100%***********************]  1 of 1 completed\n"
     ]
    },
    {
     "name": "stdout",
     "output_type": "stream",
     "text": [
      "Data for CGPOWER.NS saved to test_stockdata\\CGPOWER.NS.csv.\n",
      "Downloading data for CIEINDIA.NS...\n"
     ]
    },
    {
     "name": "stderr",
     "output_type": "stream",
     "text": [
      "[*********************100%***********************]  1 of 1 completed\n"
     ]
    },
    {
     "name": "stdout",
     "output_type": "stream",
     "text": [
      "Data for CIEINDIA.NS saved to test_stockdata\\CIEINDIA.NS.csv.\n",
      "Downloading data for CRISIL.NS...\n"
     ]
    },
    {
     "name": "stderr",
     "output_type": "stream",
     "text": [
      "[*********************100%***********************]  1 of 1 completed\n"
     ]
    },
    {
     "name": "stdout",
     "output_type": "stream",
     "text": [
      "Data for CRISIL.NS saved to test_stockdata\\CRISIL.NS.csv.\n",
      "Downloading data for CANFINHOME.NS...\n"
     ]
    },
    {
     "name": "stderr",
     "output_type": "stream",
     "text": [
      "[*********************100%***********************]  1 of 1 completed\n"
     ]
    },
    {
     "name": "stdout",
     "output_type": "stream",
     "text": [
      "Data for CANFINHOME.NS saved to test_stockdata\\CANFINHOME.NS.csv.\n",
      "Downloading data for CANBK.NS...\n"
     ]
    },
    {
     "name": "stderr",
     "output_type": "stream",
     "text": [
      "[*********************100%***********************]  1 of 1 completed\n"
     ]
    },
    {
     "name": "stdout",
     "output_type": "stream",
     "text": [
      "Data for CANBK.NS saved to test_stockdata\\CANBK.NS.csv.\n",
      "Downloading data for CAPLIPOINT.NS...\n"
     ]
    },
    {
     "name": "stderr",
     "output_type": "stream",
     "text": [
      "[*********************100%***********************]  1 of 1 completed\n"
     ]
    },
    {
     "name": "stdout",
     "output_type": "stream",
     "text": [
      "Data for CAPLIPOINT.NS saved to test_stockdata\\CAPLIPOINT.NS.csv.\n",
      "Downloading data for CGCL.NS...\n"
     ]
    },
    {
     "name": "stderr",
     "output_type": "stream",
     "text": [
      "[*********************100%***********************]  1 of 1 completed\n"
     ]
    },
    {
     "name": "stdout",
     "output_type": "stream",
     "text": [
      "Data for CGCL.NS saved to test_stockdata\\CGCL.NS.csv.\n",
      "Downloading data for CARBORUNIV.NS...\n"
     ]
    },
    {
     "name": "stderr",
     "output_type": "stream",
     "text": [
      "[*********************100%***********************]  1 of 1 completed\n"
     ]
    },
    {
     "name": "stdout",
     "output_type": "stream",
     "text": [
      "Data for CARBORUNIV.NS saved to test_stockdata\\CARBORUNIV.NS.csv.\n",
      "Downloading data for CASTROLIND.NS...\n"
     ]
    },
    {
     "name": "stderr",
     "output_type": "stream",
     "text": [
      "[*********************100%***********************]  1 of 1 completed\n"
     ]
    },
    {
     "name": "stdout",
     "output_type": "stream",
     "text": [
      "Data for CASTROLIND.NS saved to test_stockdata\\CASTROLIND.NS.csv.\n",
      "Downloading data for CEATLTD.NS...\n"
     ]
    },
    {
     "name": "stderr",
     "output_type": "stream",
     "text": [
      "[*********************100%***********************]  1 of 1 completed\n",
      "[*********************100%***********************]  1 of 1 completed"
     ]
    },
    {
     "name": "stdout",
     "output_type": "stream",
     "text": [
      "Data for CEATLTD.NS saved to test_stockdata\\CEATLTD.NS.csv.\n",
      "Downloading data for CENTRALBK.NS...\n"
     ]
    },
    {
     "name": "stderr",
     "output_type": "stream",
     "text": [
      "\n",
      "[*********************100%***********************]  1 of 1 completed"
     ]
    },
    {
     "name": "stdout",
     "output_type": "stream",
     "text": [
      "Data for CENTRALBK.NS saved to test_stockdata\\CENTRALBK.NS.csv.\n",
      "Downloading data for CDSL.NS...\n"
     ]
    },
    {
     "name": "stderr",
     "output_type": "stream",
     "text": [
      "\n",
      "[*********************100%***********************]  1 of 1 completed"
     ]
    },
    {
     "name": "stdout",
     "output_type": "stream",
     "text": [
      "Data for CDSL.NS saved to test_stockdata\\CDSL.NS.csv.\n",
      "Downloading data for CENTURYPLY.NS...\n"
     ]
    },
    {
     "name": "stderr",
     "output_type": "stream",
     "text": [
      "\n"
     ]
    },
    {
     "name": "stdout",
     "output_type": "stream",
     "text": [
      "Data for CENTURYPLY.NS saved to test_stockdata\\CENTURYPLY.NS.csv.\n",
      "Downloading data for CERA.NS...\n"
     ]
    },
    {
     "name": "stderr",
     "output_type": "stream",
     "text": [
      "[*********************100%***********************]  1 of 1 completed\n",
      "[*********************100%***********************]  1 of 1 completed"
     ]
    },
    {
     "name": "stdout",
     "output_type": "stream",
     "text": [
      "Data for CERA.NS saved to test_stockdata\\CERA.NS.csv.\n",
      "Downloading data for CHALET.NS...\n"
     ]
    },
    {
     "name": "stderr",
     "output_type": "stream",
     "text": [
      "\n"
     ]
    },
    {
     "name": "stdout",
     "output_type": "stream",
     "text": [
      "Data for CHALET.NS saved to test_stockdata\\CHALET.NS.csv.\n",
      "Downloading data for CHAMBLFERT.NS...\n"
     ]
    },
    {
     "name": "stderr",
     "output_type": "stream",
     "text": [
      "[*********************100%***********************]  1 of 1 completed\n"
     ]
    },
    {
     "name": "stdout",
     "output_type": "stream",
     "text": [
      "Data for CHAMBLFERT.NS saved to test_stockdata\\CHAMBLFERT.NS.csv.\n",
      "Downloading data for CHEMPLASTS.NS...\n"
     ]
    },
    {
     "name": "stderr",
     "output_type": "stream",
     "text": [
      "[*********************100%***********************]  1 of 1 completed\n"
     ]
    },
    {
     "name": "stdout",
     "output_type": "stream",
     "text": [
      "Data for CHEMPLASTS.NS saved to test_stockdata\\CHEMPLASTS.NS.csv.\n",
      "Downloading data for CHENNPETRO.NS...\n"
     ]
    },
    {
     "name": "stderr",
     "output_type": "stream",
     "text": [
      "[*********************100%***********************]  1 of 1 completed\n"
     ]
    },
    {
     "name": "stdout",
     "output_type": "stream",
     "text": [
      "Data for CHENNPETRO.NS saved to test_stockdata\\CHENNPETRO.NS.csv.\n",
      "Downloading data for CHOLAHLDNG.NS...\n"
     ]
    },
    {
     "name": "stderr",
     "output_type": "stream",
     "text": [
      "[*********************100%***********************]  1 of 1 completed\n"
     ]
    },
    {
     "name": "stdout",
     "output_type": "stream",
     "text": [
      "Data for CHOLAHLDNG.NS saved to test_stockdata\\CHOLAHLDNG.NS.csv.\n",
      "Downloading data for CHOLAFIN.NS...\n"
     ]
    },
    {
     "name": "stderr",
     "output_type": "stream",
     "text": [
      "[*********************100%***********************]  1 of 1 completed\n"
     ]
    },
    {
     "name": "stdout",
     "output_type": "stream",
     "text": [
      "Data for CHOLAFIN.NS saved to test_stockdata\\CHOLAFIN.NS.csv.\n",
      "Downloading data for CIPLA.NS...\n"
     ]
    },
    {
     "name": "stderr",
     "output_type": "stream",
     "text": [
      "[*********************100%***********************]  1 of 1 completed\n"
     ]
    },
    {
     "name": "stdout",
     "output_type": "stream",
     "text": [
      "Data for CIPLA.NS saved to test_stockdata\\CIPLA.NS.csv.\n",
      "Downloading data for CUB.NS...\n"
     ]
    },
    {
     "name": "stderr",
     "output_type": "stream",
     "text": [
      "[*********************100%***********************]  1 of 1 completed\n"
     ]
    },
    {
     "name": "stdout",
     "output_type": "stream",
     "text": [
      "Data for CUB.NS saved to test_stockdata\\CUB.NS.csv.\n",
      "Downloading data for CLEAN.NS...\n"
     ]
    },
    {
     "name": "stderr",
     "output_type": "stream",
     "text": [
      "[*********************100%***********************]  1 of 1 completed\n"
     ]
    },
    {
     "name": "stdout",
     "output_type": "stream",
     "text": [
      "Data for CLEAN.NS saved to test_stockdata\\CLEAN.NS.csv.\n",
      "Downloading data for COALINDIA.NS...\n"
     ]
    },
    {
     "name": "stderr",
     "output_type": "stream",
     "text": [
      "[*********************100%***********************]  1 of 1 completed\n",
      "[*********************100%***********************]  1 of 1 completed"
     ]
    },
    {
     "name": "stdout",
     "output_type": "stream",
     "text": [
      "Data for COALINDIA.NS saved to test_stockdata\\COALINDIA.NS.csv.\n",
      "Downloading data for COCHINSHIP.NS...\n"
     ]
    },
    {
     "name": "stderr",
     "output_type": "stream",
     "text": [
      "\n"
     ]
    },
    {
     "name": "stdout",
     "output_type": "stream",
     "text": [
      "Data for COCHINSHIP.NS saved to test_stockdata\\COCHINSHIP.NS.csv.\n",
      "Downloading data for COFORGE.NS...\n"
     ]
    },
    {
     "name": "stderr",
     "output_type": "stream",
     "text": [
      "[*********************100%***********************]  1 of 1 completed\n"
     ]
    },
    {
     "name": "stdout",
     "output_type": "stream",
     "text": [
      "Data for COFORGE.NS saved to test_stockdata\\COFORGE.NS.csv.\n",
      "Downloading data for COLPAL.NS...\n"
     ]
    },
    {
     "name": "stderr",
     "output_type": "stream",
     "text": [
      "[*********************100%***********************]  1 of 1 completed\n"
     ]
    },
    {
     "name": "stdout",
     "output_type": "stream",
     "text": [
      "Data for COLPAL.NS saved to test_stockdata\\COLPAL.NS.csv.\n",
      "Downloading data for CAMS.NS...\n"
     ]
    },
    {
     "name": "stderr",
     "output_type": "stream",
     "text": [
      "[*********************100%***********************]  1 of 1 completed\n"
     ]
    },
    {
     "name": "stdout",
     "output_type": "stream",
     "text": [
      "Data for CAMS.NS saved to test_stockdata\\CAMS.NS.csv.\n",
      "Downloading data for CONCOR.NS...\n"
     ]
    },
    {
     "name": "stderr",
     "output_type": "stream",
     "text": [
      "[*********************100%***********************]  1 of 1 completed\n"
     ]
    },
    {
     "name": "stdout",
     "output_type": "stream",
     "text": [
      "Data for CONCOR.NS saved to test_stockdata\\CONCOR.NS.csv.\n",
      "Downloading data for COROMANDEL.NS...\n"
     ]
    },
    {
     "name": "stderr",
     "output_type": "stream",
     "text": [
      "[*********************100%***********************]  1 of 1 completed\n",
      "[*********************100%***********************]  1 of 1 completed"
     ]
    },
    {
     "name": "stdout",
     "output_type": "stream",
     "text": [
      "Data for COROMANDEL.NS saved to test_stockdata\\COROMANDEL.NS.csv.\n",
      "Downloading data for CRAFTSMAN.NS...\n",
      "Data for CRAFTSMAN.NS saved to test_stockdata\\CRAFTSMAN.NS.csv.\n",
      "Downloading data for CREDITACC.NS...\n"
     ]
    },
    {
     "name": "stderr",
     "output_type": "stream",
     "text": [
      "\n",
      "[*********************100%***********************]  1 of 1 completed\n"
     ]
    },
    {
     "name": "stdout",
     "output_type": "stream",
     "text": [
      "Data for CREDITACC.NS saved to test_stockdata\\CREDITACC.NS.csv.\n",
      "Downloading data for CROMPTON.NS...\n"
     ]
    },
    {
     "name": "stderr",
     "output_type": "stream",
     "text": [
      "[*********************100%***********************]  1 of 1 completed\n"
     ]
    },
    {
     "name": "stdout",
     "output_type": "stream",
     "text": [
      "Data for CROMPTON.NS saved to test_stockdata\\CROMPTON.NS.csv.\n",
      "Downloading data for CUMMINSIND.NS...\n"
     ]
    },
    {
     "name": "stderr",
     "output_type": "stream",
     "text": [
      "[*********************100%***********************]  1 of 1 completed\n"
     ]
    },
    {
     "name": "stdout",
     "output_type": "stream",
     "text": [
      "Data for CUMMINSIND.NS saved to test_stockdata\\CUMMINSIND.NS.csv.\n",
      "Downloading data for CYIENT.NS...\n"
     ]
    },
    {
     "name": "stderr",
     "output_type": "stream",
     "text": [
      "[*********************100%***********************]  1 of 1 completed\n"
     ]
    },
    {
     "name": "stdout",
     "output_type": "stream",
     "text": [
      "Data for CYIENT.NS saved to test_stockdata\\CYIENT.NS.csv.\n",
      "Downloading data for DLF.NS...\n"
     ]
    },
    {
     "name": "stderr",
     "output_type": "stream",
     "text": [
      "[*********************100%***********************]  1 of 1 completed\n"
     ]
    },
    {
     "name": "stdout",
     "output_type": "stream",
     "text": [
      "Data for DLF.NS saved to test_stockdata\\DLF.NS.csv.\n",
      "Downloading data for DABUR.NS...\n"
     ]
    },
    {
     "name": "stderr",
     "output_type": "stream",
     "text": [
      "[*********************100%***********************]  1 of 1 completed\n"
     ]
    },
    {
     "name": "stdout",
     "output_type": "stream",
     "text": [
      "Data for DABUR.NS saved to test_stockdata\\DABUR.NS.csv.\n",
      "Downloading data for DALBHARAT.NS...\n"
     ]
    },
    {
     "name": "stderr",
     "output_type": "stream",
     "text": [
      "[*********************100%***********************]  1 of 1 completed\n"
     ]
    },
    {
     "name": "stdout",
     "output_type": "stream",
     "text": [
      "Data for DALBHARAT.NS saved to test_stockdata\\DALBHARAT.NS.csv.\n",
      "Downloading data for DATAPATTNS.NS...\n"
     ]
    },
    {
     "name": "stderr",
     "output_type": "stream",
     "text": [
      "[*********************100%***********************]  1 of 1 completed\n"
     ]
    },
    {
     "name": "stdout",
     "output_type": "stream",
     "text": [
      "Data for DATAPATTNS.NS saved to test_stockdata\\DATAPATTNS.NS.csv.\n",
      "Downloading data for DEEPAKFERT.NS...\n"
     ]
    },
    {
     "name": "stderr",
     "output_type": "stream",
     "text": [
      "[*********************100%***********************]  1 of 1 completed\n"
     ]
    },
    {
     "name": "stdout",
     "output_type": "stream",
     "text": [
      "Data for DEEPAKFERT.NS saved to test_stockdata\\DEEPAKFERT.NS.csv.\n",
      "Downloading data for DEEPAKNTR.NS...\n"
     ]
    },
    {
     "name": "stderr",
     "output_type": "stream",
     "text": [
      "[*********************100%***********************]  1 of 1 completed\n"
     ]
    },
    {
     "name": "stdout",
     "output_type": "stream",
     "text": [
      "Data for DEEPAKNTR.NS saved to test_stockdata\\DEEPAKNTR.NS.csv.\n",
      "Downloading data for DEVYANI.NS...\n"
     ]
    },
    {
     "name": "stderr",
     "output_type": "stream",
     "text": [
      "[*********************100%***********************]  1 of 1 completed\n"
     ]
    },
    {
     "name": "stdout",
     "output_type": "stream",
     "text": [
      "Data for DEVYANI.NS saved to test_stockdata\\DEVYANI.NS.csv.\n",
      "Downloading data for DIVISLAB.NS...\n"
     ]
    },
    {
     "name": "stderr",
     "output_type": "stream",
     "text": [
      "[*********************100%***********************]  1 of 1 completed\n"
     ]
    },
    {
     "name": "stdout",
     "output_type": "stream",
     "text": [
      "Data for DIVISLAB.NS saved to test_stockdata\\DIVISLAB.NS.csv.\n",
      "Downloading data for DIXON.NS...\n"
     ]
    },
    {
     "name": "stderr",
     "output_type": "stream",
     "text": [
      "[*********************100%***********************]  1 of 1 completed\n"
     ]
    },
    {
     "name": "stdout",
     "output_type": "stream",
     "text": [
      "Data for DIXON.NS saved to test_stockdata\\DIXON.NS.csv.\n",
      "Downloading data for LALPATHLAB.NS...\n"
     ]
    },
    {
     "name": "stderr",
     "output_type": "stream",
     "text": [
      "[*********************100%***********************]  1 of 1 completed\n"
     ]
    },
    {
     "name": "stdout",
     "output_type": "stream",
     "text": [
      "Data for LALPATHLAB.NS saved to test_stockdata\\LALPATHLAB.NS.csv.\n",
      "Downloading data for DRREDDY.NS...\n"
     ]
    },
    {
     "name": "stderr",
     "output_type": "stream",
     "text": [
      "[*********************100%***********************]  1 of 1 completed\n"
     ]
    },
    {
     "name": "stdout",
     "output_type": "stream",
     "text": [
      "Data for DRREDDY.NS saved to test_stockdata\\DRREDDY.NS.csv.\n",
      "Downloading data for EIDPARRY.NS...\n"
     ]
    },
    {
     "name": "stderr",
     "output_type": "stream",
     "text": [
      "[*********************100%***********************]  1 of 1 completed\n"
     ]
    },
    {
     "name": "stdout",
     "output_type": "stream",
     "text": [
      "Data for EIDPARRY.NS saved to test_stockdata\\EIDPARRY.NS.csv.\n",
      "Downloading data for EIHOTEL.NS...\n"
     ]
    },
    {
     "name": "stderr",
     "output_type": "stream",
     "text": [
      "[*********************100%***********************]  1 of 1 completed\n"
     ]
    },
    {
     "name": "stdout",
     "output_type": "stream",
     "text": [
      "Data for EIHOTEL.NS saved to test_stockdata\\EIHOTEL.NS.csv.\n",
      "Downloading data for EASEMYTRIP.NS...\n"
     ]
    },
    {
     "name": "stderr",
     "output_type": "stream",
     "text": [
      "[*********************100%***********************]  1 of 1 completed\n"
     ]
    },
    {
     "name": "stdout",
     "output_type": "stream",
     "text": [
      "Data for EASEMYTRIP.NS saved to test_stockdata\\EASEMYTRIP.NS.csv.\n",
      "Downloading data for EICHERMOT.NS...\n"
     ]
    },
    {
     "name": "stderr",
     "output_type": "stream",
     "text": [
      "[*********************100%***********************]  1 of 1 completed\n"
     ]
    },
    {
     "name": "stdout",
     "output_type": "stream",
     "text": [
      "Data for EICHERMOT.NS saved to test_stockdata\\EICHERMOT.NS.csv.\n",
      "Downloading data for ELECON.NS...\n"
     ]
    },
    {
     "name": "stderr",
     "output_type": "stream",
     "text": [
      "[*********************100%***********************]  1 of 1 completed\n"
     ]
    },
    {
     "name": "stdout",
     "output_type": "stream",
     "text": [
      "Data for ELECON.NS saved to test_stockdata\\ELECON.NS.csv.\n",
      "Downloading data for ELGIEQUIP.NS...\n"
     ]
    },
    {
     "name": "stderr",
     "output_type": "stream",
     "text": [
      "[*********************100%***********************]  1 of 1 completed\n"
     ]
    },
    {
     "name": "stdout",
     "output_type": "stream",
     "text": [
      "Data for ELGIEQUIP.NS saved to test_stockdata\\ELGIEQUIP.NS.csv.\n",
      "Downloading data for EMAMILTD.NS...\n"
     ]
    },
    {
     "name": "stderr",
     "output_type": "stream",
     "text": [
      "[*********************100%***********************]  1 of 1 completed\n"
     ]
    },
    {
     "name": "stdout",
     "output_type": "stream",
     "text": [
      "Data for EMAMILTD.NS saved to test_stockdata\\EMAMILTD.NS.csv.\n",
      "Downloading data for ENDURANCE.NS...\n"
     ]
    },
    {
     "name": "stderr",
     "output_type": "stream",
     "text": [
      "[*********************100%***********************]  1 of 1 completed\n"
     ]
    },
    {
     "name": "stdout",
     "output_type": "stream",
     "text": [
      "Data for ENDURANCE.NS saved to test_stockdata\\ENDURANCE.NS.csv.\n",
      "Downloading data for ENGINERSIN.NS...\n"
     ]
    },
    {
     "name": "stderr",
     "output_type": "stream",
     "text": [
      "[*********************100%***********************]  1 of 1 completed\n"
     ]
    },
    {
     "name": "stdout",
     "output_type": "stream",
     "text": [
      "Data for ENGINERSIN.NS saved to test_stockdata\\ENGINERSIN.NS.csv.\n",
      "Downloading data for EQUITASBNK.NS...\n"
     ]
    },
    {
     "name": "stderr",
     "output_type": "stream",
     "text": [
      "[*********************100%***********************]  1 of 1 completed\n"
     ]
    },
    {
     "name": "stdout",
     "output_type": "stream",
     "text": [
      "Data for EQUITASBNK.NS saved to test_stockdata\\EQUITASBNK.NS.csv.\n",
      "Downloading data for ERIS.NS...\n"
     ]
    },
    {
     "name": "stderr",
     "output_type": "stream",
     "text": [
      "[*********************100%***********************]  1 of 1 completed\n"
     ]
    },
    {
     "name": "stdout",
     "output_type": "stream",
     "text": [
      "Data for ERIS.NS saved to test_stockdata\\ERIS.NS.csv.\n",
      "Downloading data for ESCORTS.NS...\n"
     ]
    },
    {
     "name": "stderr",
     "output_type": "stream",
     "text": [
      "[*********************100%***********************]  1 of 1 completed\n"
     ]
    },
    {
     "name": "stdout",
     "output_type": "stream",
     "text": [
      "Data for ESCORTS.NS saved to test_stockdata\\ESCORTS.NS.csv.\n",
      "Downloading data for EXIDEIND.NS...\n"
     ]
    },
    {
     "name": "stderr",
     "output_type": "stream",
     "text": [
      "[*********************100%***********************]  1 of 1 completed\n"
     ]
    },
    {
     "name": "stdout",
     "output_type": "stream",
     "text": [
      "Data for EXIDEIND.NS saved to test_stockdata\\EXIDEIND.NS.csv.\n",
      "Downloading data for NYKAA.NS...\n"
     ]
    },
    {
     "name": "stderr",
     "output_type": "stream",
     "text": [
      "[*********************100%***********************]  1 of 1 completed\n"
     ]
    },
    {
     "name": "stdout",
     "output_type": "stream",
     "text": [
      "Data for NYKAA.NS saved to test_stockdata\\NYKAA.NS.csv.\n",
      "Downloading data for FEDERALBNK.NS...\n"
     ]
    },
    {
     "name": "stderr",
     "output_type": "stream",
     "text": [
      "[*********************100%***********************]  1 of 1 completed\n"
     ]
    },
    {
     "name": "stdout",
     "output_type": "stream",
     "text": [
      "Data for FEDERALBNK.NS saved to test_stockdata\\FEDERALBNK.NS.csv.\n",
      "Downloading data for FACT.NS...\n"
     ]
    },
    {
     "name": "stderr",
     "output_type": "stream",
     "text": [
      "[*********************100%***********************]  1 of 1 completed\n"
     ]
    },
    {
     "name": "stdout",
     "output_type": "stream",
     "text": [
      "Data for FACT.NS saved to test_stockdata\\FACT.NS.csv.\n",
      "Downloading data for FINEORG.NS...\n"
     ]
    },
    {
     "name": "stderr",
     "output_type": "stream",
     "text": [
      "[*********************100%***********************]  1 of 1 completed\n"
     ]
    },
    {
     "name": "stdout",
     "output_type": "stream",
     "text": [
      "Data for FINEORG.NS saved to test_stockdata\\FINEORG.NS.csv.\n",
      "Downloading data for FINCABLES.NS...\n"
     ]
    },
    {
     "name": "stderr",
     "output_type": "stream",
     "text": [
      "[*********************100%***********************]  1 of 1 completed\n"
     ]
    },
    {
     "name": "stdout",
     "output_type": "stream",
     "text": [
      "Data for FINCABLES.NS saved to test_stockdata\\FINCABLES.NS.csv.\n",
      "Downloading data for FINPIPE.NS...\n"
     ]
    },
    {
     "name": "stderr",
     "output_type": "stream",
     "text": [
      "[*********************100%***********************]  1 of 1 completed\n"
     ]
    },
    {
     "name": "stdout",
     "output_type": "stream",
     "text": [
      "Data for FINPIPE.NS saved to test_stockdata\\FINPIPE.NS.csv.\n",
      "Downloading data for FSL.NS...\n"
     ]
    },
    {
     "name": "stderr",
     "output_type": "stream",
     "text": [
      "[*********************100%***********************]  1 of 1 completed\n"
     ]
    },
    {
     "name": "stdout",
     "output_type": "stream",
     "text": [
      "Data for FSL.NS saved to test_stockdata\\FSL.NS.csv.\n",
      "Downloading data for FORTIS.NS...\n"
     ]
    },
    {
     "name": "stderr",
     "output_type": "stream",
     "text": [
      "[*********************100%***********************]  1 of 1 completed\n"
     ]
    },
    {
     "name": "stdout",
     "output_type": "stream",
     "text": [
      "Data for FORTIS.NS saved to test_stockdata\\FORTIS.NS.csv.\n",
      "Downloading data for GRINFRA.NS...\n"
     ]
    },
    {
     "name": "stderr",
     "output_type": "stream",
     "text": [
      "[*********************100%***********************]  1 of 1 completed\n"
     ]
    },
    {
     "name": "stdout",
     "output_type": "stream",
     "text": [
      "Data for GRINFRA.NS saved to test_stockdata\\GRINFRA.NS.csv.\n",
      "Downloading data for GAIL.NS...\n"
     ]
    },
    {
     "name": "stderr",
     "output_type": "stream",
     "text": [
      "[*********************100%***********************]  1 of 1 completed\n"
     ]
    },
    {
     "name": "stdout",
     "output_type": "stream",
     "text": [
      "Data for GAIL.NS saved to test_stockdata\\GAIL.NS.csv.\n",
      "Downloading data for GVT&D.NS...\n"
     ]
    },
    {
     "name": "stderr",
     "output_type": "stream",
     "text": [
      "[*********************100%***********************]  1 of 1 completed\n",
      "[*********************100%***********************]  1 of 1 completed"
     ]
    },
    {
     "name": "stdout",
     "output_type": "stream",
     "text": [
      "Data for GVT&D.NS saved to test_stockdata\\GVT&D.NS.csv.\n",
      "Downloading data for GMRAIRPORT.NS...\n"
     ]
    },
    {
     "name": "stderr",
     "output_type": "stream",
     "text": [
      "\n"
     ]
    },
    {
     "name": "stdout",
     "output_type": "stream",
     "text": [
      "Data for GMRAIRPORT.NS saved to test_stockdata\\GMRAIRPORT.NS.csv.\n",
      "Downloading data for GRSE.NS...\n"
     ]
    },
    {
     "name": "stderr",
     "output_type": "stream",
     "text": [
      "[*********************100%***********************]  1 of 1 completed\n"
     ]
    },
    {
     "name": "stdout",
     "output_type": "stream",
     "text": [
      "Data for GRSE.NS saved to test_stockdata\\GRSE.NS.csv.\n",
      "Downloading data for GICRE.NS...\n"
     ]
    },
    {
     "name": "stderr",
     "output_type": "stream",
     "text": [
      "[*********************100%***********************]  1 of 1 completed\n"
     ]
    },
    {
     "name": "stdout",
     "output_type": "stream",
     "text": [
      "Data for GICRE.NS saved to test_stockdata\\GICRE.NS.csv.\n",
      "Downloading data for GILLETTE.NS...\n"
     ]
    },
    {
     "name": "stderr",
     "output_type": "stream",
     "text": [
      "[*********************100%***********************]  1 of 1 completed\n"
     ]
    },
    {
     "name": "stdout",
     "output_type": "stream",
     "text": [
      "Data for GILLETTE.NS saved to test_stockdata\\GILLETTE.NS.csv.\n",
      "Downloading data for GLAND.NS...\n"
     ]
    },
    {
     "name": "stderr",
     "output_type": "stream",
     "text": [
      "[*********************100%***********************]  1 of 1 completed\n"
     ]
    },
    {
     "name": "stdout",
     "output_type": "stream",
     "text": [
      "Data for GLAND.NS saved to test_stockdata\\GLAND.NS.csv.\n",
      "Downloading data for GLAXO.NS...\n"
     ]
    },
    {
     "name": "stderr",
     "output_type": "stream",
     "text": [
      "[*********************100%***********************]  1 of 1 completed\n"
     ]
    },
    {
     "name": "stdout",
     "output_type": "stream",
     "text": [
      "Data for GLAXO.NS saved to test_stockdata\\GLAXO.NS.csv.\n",
      "Downloading data for GLENMARK.NS...\n"
     ]
    },
    {
     "name": "stderr",
     "output_type": "stream",
     "text": [
      "[*********************100%***********************]  1 of 1 completed\n"
     ]
    },
    {
     "name": "stdout",
     "output_type": "stream",
     "text": [
      "Data for GLENMARK.NS saved to test_stockdata\\GLENMARK.NS.csv.\n",
      "Downloading data for GPIL.NS...\n"
     ]
    },
    {
     "name": "stderr",
     "output_type": "stream",
     "text": [
      "[*********************100%***********************]  1 of 1 completed\n"
     ]
    },
    {
     "name": "stdout",
     "output_type": "stream",
     "text": [
      "Data for GPIL.NS saved to test_stockdata\\GPIL.NS.csv.\n",
      "Downloading data for GODFRYPHLP.NS...\n"
     ]
    },
    {
     "name": "stderr",
     "output_type": "stream",
     "text": [
      "[*********************100%***********************]  1 of 1 completed\n"
     ]
    },
    {
     "name": "stdout",
     "output_type": "stream",
     "text": [
      "Data for GODFRYPHLP.NS saved to test_stockdata\\GODFRYPHLP.NS.csv.\n",
      "Downloading data for GODREJAGRO.NS...\n"
     ]
    },
    {
     "name": "stderr",
     "output_type": "stream",
     "text": [
      "[*********************100%***********************]  1 of 1 completed\n",
      "[*********************100%***********************]  1 of 1 completed"
     ]
    },
    {
     "name": "stdout",
     "output_type": "stream",
     "text": [
      "Data for GODREJAGRO.NS saved to test_stockdata\\GODREJAGRO.NS.csv.\n",
      "Downloading data for GODREJCP.NS...\n"
     ]
    },
    {
     "name": "stderr",
     "output_type": "stream",
     "text": [
      "\n"
     ]
    },
    {
     "name": "stdout",
     "output_type": "stream",
     "text": [
      "Data for GODREJCP.NS saved to test_stockdata\\GODREJCP.NS.csv.\n",
      "Downloading data for GODREJPROP.NS...\n"
     ]
    },
    {
     "name": "stderr",
     "output_type": "stream",
     "text": [
      "[*********************100%***********************]  1 of 1 completed\n"
     ]
    },
    {
     "name": "stdout",
     "output_type": "stream",
     "text": [
      "Data for GODREJPROP.NS saved to test_stockdata\\GODREJPROP.NS.csv.\n",
      "Downloading data for GRANULES.NS...\n"
     ]
    },
    {
     "name": "stderr",
     "output_type": "stream",
     "text": [
      "[*********************100%***********************]  1 of 1 completed\n"
     ]
    },
    {
     "name": "stdout",
     "output_type": "stream",
     "text": [
      "Data for GRANULES.NS saved to test_stockdata\\GRANULES.NS.csv.\n",
      "Downloading data for GRAPHITE.NS...\n"
     ]
    },
    {
     "name": "stderr",
     "output_type": "stream",
     "text": [
      "[*********************100%***********************]  1 of 1 completed\n",
      "[*********************100%***********************]  1 of 1 completed"
     ]
    },
    {
     "name": "stdout",
     "output_type": "stream",
     "text": [
      "Data for GRAPHITE.NS saved to test_stockdata\\GRAPHITE.NS.csv.\n",
      "Downloading data for GRASIM.NS...\n"
     ]
    },
    {
     "name": "stderr",
     "output_type": "stream",
     "text": [
      "\n"
     ]
    },
    {
     "name": "stdout",
     "output_type": "stream",
     "text": [
      "Data for GRASIM.NS saved to test_stockdata\\GRASIM.NS.csv.\n",
      "Downloading data for GESHIP.NS...\n"
     ]
    },
    {
     "name": "stderr",
     "output_type": "stream",
     "text": [
      "[*********************100%***********************]  1 of 1 completed\n"
     ]
    },
    {
     "name": "stdout",
     "output_type": "stream",
     "text": [
      "Data for GESHIP.NS saved to test_stockdata\\GESHIP.NS.csv.\n",
      "Downloading data for GRINDWELL.NS...\n"
     ]
    },
    {
     "name": "stderr",
     "output_type": "stream",
     "text": [
      "[*********************100%***********************]  1 of 1 completed\n"
     ]
    },
    {
     "name": "stdout",
     "output_type": "stream",
     "text": [
      "Data for GRINDWELL.NS saved to test_stockdata\\GRINDWELL.NS.csv.\n",
      "Downloading data for GAEL.NS...\n"
     ]
    },
    {
     "name": "stderr",
     "output_type": "stream",
     "text": [
      "[*********************100%***********************]  1 of 1 completed\n"
     ]
    },
    {
     "name": "stdout",
     "output_type": "stream",
     "text": [
      "Data for GAEL.NS saved to test_stockdata\\GAEL.NS.csv.\n",
      "Downloading data for FLUOROCHEM.NS...\n"
     ]
    },
    {
     "name": "stderr",
     "output_type": "stream",
     "text": [
      "[*********************100%***********************]  1 of 1 completed\n"
     ]
    },
    {
     "name": "stdout",
     "output_type": "stream",
     "text": [
      "Data for FLUOROCHEM.NS saved to test_stockdata\\FLUOROCHEM.NS.csv.\n",
      "Downloading data for GUJGASLTD.NS...\n"
     ]
    },
    {
     "name": "stderr",
     "output_type": "stream",
     "text": [
      "[*********************100%***********************]  1 of 1 completed\n"
     ]
    },
    {
     "name": "stdout",
     "output_type": "stream",
     "text": [
      "Data for GUJGASLTD.NS saved to test_stockdata\\GUJGASLTD.NS.csv.\n",
      "Downloading data for GMDCLTD.NS...\n"
     ]
    },
    {
     "name": "stderr",
     "output_type": "stream",
     "text": [
      "[*********************100%***********************]  1 of 1 completed\n",
      "[*********************100%***********************]  1 of 1 completed"
     ]
    },
    {
     "name": "stdout",
     "output_type": "stream",
     "text": [
      "Data for GMDCLTD.NS saved to test_stockdata\\GMDCLTD.NS.csv.\n",
      "Downloading data for GNFC.NS...\n"
     ]
    },
    {
     "name": "stderr",
     "output_type": "stream",
     "text": [
      "\n",
      "[*********************100%***********************]  1 of 1 completed"
     ]
    },
    {
     "name": "stdout",
     "output_type": "stream",
     "text": [
      "Data for GNFC.NS saved to test_stockdata\\GNFC.NS.csv.\n",
      "Downloading data for GPPL.NS...\n",
      "Data for GPPL.NS saved to test_stockdata\\GPPL.NS.csv.\n",
      "Downloading data for GSFC.NS...\n"
     ]
    },
    {
     "name": "stderr",
     "output_type": "stream",
     "text": [
      "\n",
      "[*********************100%***********************]  1 of 1 completed\n"
     ]
    },
    {
     "name": "stdout",
     "output_type": "stream",
     "text": [
      "Data for GSFC.NS saved to test_stockdata\\GSFC.NS.csv.\n",
      "Downloading data for GSPL.NS...\n"
     ]
    },
    {
     "name": "stderr",
     "output_type": "stream",
     "text": [
      "[*********************100%***********************]  1 of 1 completed\n"
     ]
    },
    {
     "name": "stdout",
     "output_type": "stream",
     "text": [
      "Data for GSPL.NS saved to test_stockdata\\GSPL.NS.csv.\n",
      "Downloading data for HEG.NS...\n"
     ]
    },
    {
     "name": "stderr",
     "output_type": "stream",
     "text": [
      "[*********************100%***********************]  1 of 1 completed\n"
     ]
    },
    {
     "name": "stdout",
     "output_type": "stream",
     "text": [
      "Data for HEG.NS saved to test_stockdata\\HEG.NS.csv.\n",
      "Downloading data for HCLTECH.NS...\n"
     ]
    },
    {
     "name": "stderr",
     "output_type": "stream",
     "text": [
      "[*********************100%***********************]  1 of 1 completed\n"
     ]
    },
    {
     "name": "stdout",
     "output_type": "stream",
     "text": [
      "Data for HCLTECH.NS saved to test_stockdata\\HCLTECH.NS.csv.\n",
      "Downloading data for HDFCAMC.NS...\n"
     ]
    },
    {
     "name": "stderr",
     "output_type": "stream",
     "text": [
      "[*********************100%***********************]  1 of 1 completed\n"
     ]
    },
    {
     "name": "stdout",
     "output_type": "stream",
     "text": [
      "Data for HDFCAMC.NS saved to test_stockdata\\HDFCAMC.NS.csv.\n",
      "Downloading data for HDFCBANK.NS...\n"
     ]
    },
    {
     "name": "stderr",
     "output_type": "stream",
     "text": [
      "[*********************100%***********************]  1 of 1 completed\n"
     ]
    },
    {
     "name": "stdout",
     "output_type": "stream",
     "text": [
      "Data for HDFCBANK.NS saved to test_stockdata\\HDFCBANK.NS.csv.\n",
      "Downloading data for HDFCLIFE.NS...\n"
     ]
    },
    {
     "name": "stderr",
     "output_type": "stream",
     "text": [
      "[*********************100%***********************]  1 of 1 completed\n"
     ]
    },
    {
     "name": "stdout",
     "output_type": "stream",
     "text": [
      "Data for HDFCLIFE.NS saved to test_stockdata\\HDFCLIFE.NS.csv.\n",
      "Downloading data for HFCL.NS...\n"
     ]
    },
    {
     "name": "stderr",
     "output_type": "stream",
     "text": [
      "[*********************100%***********************]  1 of 1 completed\n"
     ]
    },
    {
     "name": "stdout",
     "output_type": "stream",
     "text": [
      "Data for HFCL.NS saved to test_stockdata\\HFCL.NS.csv.\n",
      "Downloading data for HAPPSTMNDS.NS...\n"
     ]
    },
    {
     "name": "stderr",
     "output_type": "stream",
     "text": [
      "[*********************100%***********************]  1 of 1 completed\n"
     ]
    },
    {
     "name": "stdout",
     "output_type": "stream",
     "text": [
      "Data for HAPPSTMNDS.NS saved to test_stockdata\\HAPPSTMNDS.NS.csv.\n",
      "Downloading data for HAVELLS.NS...\n"
     ]
    },
    {
     "name": "stderr",
     "output_type": "stream",
     "text": [
      "[*********************100%***********************]  1 of 1 completed\n",
      "[*********************100%***********************]  1 of 1 completed"
     ]
    },
    {
     "name": "stdout",
     "output_type": "stream",
     "text": [
      "Data for HAVELLS.NS saved to test_stockdata\\HAVELLS.NS.csv.\n",
      "Downloading data for HEROMOTOCO.NS...\n"
     ]
    },
    {
     "name": "stderr",
     "output_type": "stream",
     "text": [
      "\n"
     ]
    },
    {
     "name": "stdout",
     "output_type": "stream",
     "text": [
      "Data for HEROMOTOCO.NS saved to test_stockdata\\HEROMOTOCO.NS.csv.\n",
      "Downloading data for HSCL.NS...\n"
     ]
    },
    {
     "name": "stderr",
     "output_type": "stream",
     "text": [
      "[*********************100%***********************]  1 of 1 completed\n"
     ]
    },
    {
     "name": "stdout",
     "output_type": "stream",
     "text": [
      "Data for HSCL.NS saved to test_stockdata\\HSCL.NS.csv.\n",
      "Downloading data for HINDALCO.NS...\n"
     ]
    },
    {
     "name": "stderr",
     "output_type": "stream",
     "text": [
      "[*********************100%***********************]  1 of 1 completed\n"
     ]
    },
    {
     "name": "stdout",
     "output_type": "stream",
     "text": [
      "Data for HINDALCO.NS saved to test_stockdata\\HINDALCO.NS.csv.\n",
      "Downloading data for HAL.NS...\n"
     ]
    },
    {
     "name": "stderr",
     "output_type": "stream",
     "text": [
      "[*********************100%***********************]  1 of 1 completed\n"
     ]
    },
    {
     "name": "stdout",
     "output_type": "stream",
     "text": [
      "Data for HAL.NS saved to test_stockdata\\HAL.NS.csv.\n",
      "Downloading data for HINDCOPPER.NS...\n"
     ]
    },
    {
     "name": "stderr",
     "output_type": "stream",
     "text": [
      "[*********************100%***********************]  1 of 1 completed\n"
     ]
    },
    {
     "name": "stdout",
     "output_type": "stream",
     "text": [
      "Data for HINDCOPPER.NS saved to test_stockdata\\HINDCOPPER.NS.csv.\n",
      "Downloading data for HINDPETRO.NS...\n"
     ]
    },
    {
     "name": "stderr",
     "output_type": "stream",
     "text": [
      "[*********************100%***********************]  1 of 1 completed\n"
     ]
    },
    {
     "name": "stdout",
     "output_type": "stream",
     "text": [
      "Data for HINDPETRO.NS saved to test_stockdata\\HINDPETRO.NS.csv.\n",
      "Downloading data for HINDUNILVR.NS...\n"
     ]
    },
    {
     "name": "stderr",
     "output_type": "stream",
     "text": [
      "[*********************100%***********************]  1 of 1 completed\n"
     ]
    },
    {
     "name": "stdout",
     "output_type": "stream",
     "text": [
      "Data for HINDUNILVR.NS saved to test_stockdata\\HINDUNILVR.NS.csv.\n",
      "Downloading data for HINDZINC.NS...\n"
     ]
    },
    {
     "name": "stderr",
     "output_type": "stream",
     "text": [
      "[*********************100%***********************]  1 of 1 completed\n",
      "[*********************100%***********************]  1 of 1 completed"
     ]
    },
    {
     "name": "stdout",
     "output_type": "stream",
     "text": [
      "Data for HINDZINC.NS saved to test_stockdata\\HINDZINC.NS.csv.\n",
      "Downloading data for POWERINDIA.NS...\n"
     ]
    },
    {
     "name": "stderr",
     "output_type": "stream",
     "text": [
      "\n"
     ]
    },
    {
     "name": "stdout",
     "output_type": "stream",
     "text": [
      "Data for POWERINDIA.NS saved to test_stockdata\\POWERINDIA.NS.csv.\n",
      "Downloading data for HOMEFIRST.NS...\n"
     ]
    },
    {
     "name": "stderr",
     "output_type": "stream",
     "text": [
      "[*********************100%***********************]  1 of 1 completed\n"
     ]
    },
    {
     "name": "stdout",
     "output_type": "stream",
     "text": [
      "Data for HOMEFIRST.NS saved to test_stockdata\\HOMEFIRST.NS.csv.\n",
      "Downloading data for HONAUT.NS...\n"
     ]
    },
    {
     "name": "stderr",
     "output_type": "stream",
     "text": [
      "[*********************100%***********************]  1 of 1 completed\n"
     ]
    },
    {
     "name": "stdout",
     "output_type": "stream",
     "text": [
      "Data for HONAUT.NS saved to test_stockdata\\HONAUT.NS.csv.\n",
      "Downloading data for HUDCO.NS...\n"
     ]
    },
    {
     "name": "stderr",
     "output_type": "stream",
     "text": [
      "[*********************100%***********************]  1 of 1 completed\n"
     ]
    },
    {
     "name": "stdout",
     "output_type": "stream",
     "text": [
      "Data for HUDCO.NS saved to test_stockdata\\HUDCO.NS.csv.\n",
      "Downloading data for ICICIBANK.NS...\n"
     ]
    },
    {
     "name": "stderr",
     "output_type": "stream",
     "text": [
      "[*********************100%***********************]  1 of 1 completed\n"
     ]
    },
    {
     "name": "stdout",
     "output_type": "stream",
     "text": [
      "Data for ICICIBANK.NS saved to test_stockdata\\ICICIBANK.NS.csv.\n",
      "Downloading data for ICICIGI.NS...\n"
     ]
    },
    {
     "name": "stderr",
     "output_type": "stream",
     "text": [
      "[*********************100%***********************]  1 of 1 completed\n"
     ]
    },
    {
     "name": "stdout",
     "output_type": "stream",
     "text": [
      "Data for ICICIGI.NS saved to test_stockdata\\ICICIGI.NS.csv.\n",
      "Downloading data for ICICIPRULI.NS...\n"
     ]
    },
    {
     "name": "stderr",
     "output_type": "stream",
     "text": [
      "[*********************100%***********************]  1 of 1 completed\n"
     ]
    },
    {
     "name": "stdout",
     "output_type": "stream",
     "text": [
      "Data for ICICIPRULI.NS saved to test_stockdata\\ICICIPRULI.NS.csv.\n",
      "Downloading data for ISEC.NS...\n"
     ]
    },
    {
     "name": "stderr",
     "output_type": "stream",
     "text": [
      "[*********************100%***********************]  1 of 1 completed\n"
     ]
    },
    {
     "name": "stdout",
     "output_type": "stream",
     "text": [
      "Data for ISEC.NS saved to test_stockdata\\ISEC.NS.csv.\n",
      "Downloading data for IDBI.NS...\n"
     ]
    },
    {
     "name": "stderr",
     "output_type": "stream",
     "text": [
      "[*********************100%***********************]  1 of 1 completed\n"
     ]
    },
    {
     "name": "stdout",
     "output_type": "stream",
     "text": [
      "Data for IDBI.NS saved to test_stockdata\\IDBI.NS.csv.\n",
      "Downloading data for IDFCFIRSTB.NS...\n"
     ]
    },
    {
     "name": "stderr",
     "output_type": "stream",
     "text": [
      "[*********************100%***********************]  1 of 1 completed\n"
     ]
    },
    {
     "name": "stdout",
     "output_type": "stream",
     "text": [
      "Data for IDFCFIRSTB.NS saved to test_stockdata\\IDFCFIRSTB.NS.csv.\n",
      "Downloading data for IFCI.NS...\n"
     ]
    },
    {
     "name": "stderr",
     "output_type": "stream",
     "text": [
      "[*********************100%***********************]  1 of 1 completed\n"
     ]
    },
    {
     "name": "stdout",
     "output_type": "stream",
     "text": [
      "Data for IFCI.NS saved to test_stockdata\\IFCI.NS.csv.\n",
      "Downloading data for IIFL.NS...\n"
     ]
    },
    {
     "name": "stderr",
     "output_type": "stream",
     "text": [
      "[*********************100%***********************]  1 of 1 completed\n"
     ]
    },
    {
     "name": "stdout",
     "output_type": "stream",
     "text": [
      "Data for IIFL.NS saved to test_stockdata\\IIFL.NS.csv.\n",
      "Downloading data for IRB.NS...\n"
     ]
    },
    {
     "name": "stderr",
     "output_type": "stream",
     "text": [
      "[*********************100%***********************]  1 of 1 completed\n"
     ]
    },
    {
     "name": "stdout",
     "output_type": "stream",
     "text": [
      "Data for IRB.NS saved to test_stockdata\\IRB.NS.csv.\n",
      "Downloading data for IRCON.NS...\n"
     ]
    },
    {
     "name": "stderr",
     "output_type": "stream",
     "text": [
      "[*********************100%***********************]  1 of 1 completed\n"
     ]
    },
    {
     "name": "stdout",
     "output_type": "stream",
     "text": [
      "Data for IRCON.NS saved to test_stockdata\\IRCON.NS.csv.\n",
      "Downloading data for ITC.NS...\n"
     ]
    },
    {
     "name": "stderr",
     "output_type": "stream",
     "text": [
      "[*********************100%***********************]  1 of 1 completed\n"
     ]
    },
    {
     "name": "stdout",
     "output_type": "stream",
     "text": [
      "Data for ITC.NS saved to test_stockdata\\ITC.NS.csv.\n",
      "Downloading data for ITI.NS...\n"
     ]
    },
    {
     "name": "stderr",
     "output_type": "stream",
     "text": [
      "[*********************100%***********************]  1 of 1 completed\n"
     ]
    },
    {
     "name": "stdout",
     "output_type": "stream",
     "text": [
      "Data for ITI.NS saved to test_stockdata\\ITI.NS.csv.\n",
      "Downloading data for INDIACEM.NS...\n"
     ]
    },
    {
     "name": "stderr",
     "output_type": "stream",
     "text": [
      "[*********************100%***********************]  1 of 1 completed\n",
      "[*********************100%***********************]  1 of 1 completed"
     ]
    },
    {
     "name": "stdout",
     "output_type": "stream",
     "text": [
      "Data for INDIACEM.NS saved to test_stockdata\\INDIACEM.NS.csv.\n",
      "Downloading data for INDIAMART.NS...\n"
     ]
    },
    {
     "name": "stderr",
     "output_type": "stream",
     "text": [
      "\n"
     ]
    },
    {
     "name": "stdout",
     "output_type": "stream",
     "text": [
      "Data for INDIAMART.NS saved to test_stockdata\\INDIAMART.NS.csv.\n",
      "Downloading data for INDIANB.NS...\n"
     ]
    },
    {
     "name": "stderr",
     "output_type": "stream",
     "text": [
      "[*********************100%***********************]  1 of 1 completed\n"
     ]
    },
    {
     "name": "stdout",
     "output_type": "stream",
     "text": [
      "Data for INDIANB.NS saved to test_stockdata\\INDIANB.NS.csv.\n",
      "Downloading data for IEX.NS...\n"
     ]
    },
    {
     "name": "stderr",
     "output_type": "stream",
     "text": [
      "[*********************100%***********************]  1 of 1 completed\n"
     ]
    },
    {
     "name": "stdout",
     "output_type": "stream",
     "text": [
      "Data for IEX.NS saved to test_stockdata\\IEX.NS.csv.\n",
      "Downloading data for INDHOTEL.NS...\n"
     ]
    },
    {
     "name": "stderr",
     "output_type": "stream",
     "text": [
      "[*********************100%***********************]  1 of 1 completed\n"
     ]
    },
    {
     "name": "stdout",
     "output_type": "stream",
     "text": [
      "Data for INDHOTEL.NS saved to test_stockdata\\INDHOTEL.NS.csv.\n",
      "Downloading data for IOC.NS...\n"
     ]
    },
    {
     "name": "stderr",
     "output_type": "stream",
     "text": [
      "[*********************100%***********************]  1 of 1 completed\n"
     ]
    },
    {
     "name": "stdout",
     "output_type": "stream",
     "text": [
      "Data for IOC.NS saved to test_stockdata\\IOC.NS.csv.\n",
      "Downloading data for IOB.NS...\n"
     ]
    },
    {
     "name": "stderr",
     "output_type": "stream",
     "text": [
      "[*********************100%***********************]  1 of 1 completed\n"
     ]
    },
    {
     "name": "stdout",
     "output_type": "stream",
     "text": [
      "Data for IOB.NS saved to test_stockdata\\IOB.NS.csv.\n",
      "Downloading data for IRCTC.NS...\n"
     ]
    },
    {
     "name": "stderr",
     "output_type": "stream",
     "text": [
      "[*********************100%***********************]  1 of 1 completed\n"
     ]
    },
    {
     "name": "stdout",
     "output_type": "stream",
     "text": [
      "Data for IRCTC.NS saved to test_stockdata\\IRCTC.NS.csv.\n",
      "Downloading data for IRFC.NS...\n"
     ]
    },
    {
     "name": "stderr",
     "output_type": "stream",
     "text": [
      "[*********************100%***********************]  1 of 1 completed\n"
     ]
    },
    {
     "name": "stdout",
     "output_type": "stream",
     "text": [
      "Data for IRFC.NS saved to test_stockdata\\IRFC.NS.csv.\n",
      "Downloading data for IGL.NS...\n"
     ]
    },
    {
     "name": "stderr",
     "output_type": "stream",
     "text": [
      "[*********************100%***********************]  1 of 1 completed\n"
     ]
    },
    {
     "name": "stdout",
     "output_type": "stream",
     "text": [
      "Data for IGL.NS saved to test_stockdata\\IGL.NS.csv.\n",
      "Downloading data for INDUSTOWER.NS...\n"
     ]
    },
    {
     "name": "stderr",
     "output_type": "stream",
     "text": [
      "[*********************100%***********************]  1 of 1 completed\n",
      "[*********************100%***********************]  1 of 1 completed"
     ]
    },
    {
     "name": "stdout",
     "output_type": "stream",
     "text": [
      "Data for INDUSTOWER.NS saved to test_stockdata\\INDUSTOWER.NS.csv.\n",
      "Downloading data for INDUSINDBK.NS...\n"
     ]
    },
    {
     "name": "stderr",
     "output_type": "stream",
     "text": [
      "\n",
      "[*********************100%***********************]  1 of 1 completed"
     ]
    },
    {
     "name": "stdout",
     "output_type": "stream",
     "text": [
      "Data for INDUSINDBK.NS saved to test_stockdata\\INDUSINDBK.NS.csv.\n",
      "Downloading data for NAUKRI.NS...\n"
     ]
    },
    {
     "name": "stderr",
     "output_type": "stream",
     "text": [
      "\n"
     ]
    },
    {
     "name": "stdout",
     "output_type": "stream",
     "text": [
      "Data for NAUKRI.NS saved to test_stockdata\\NAUKRI.NS.csv.\n",
      "Downloading data for INFY.NS...\n"
     ]
    },
    {
     "name": "stderr",
     "output_type": "stream",
     "text": [
      "[*********************100%***********************]  1 of 1 completed\n"
     ]
    },
    {
     "name": "stdout",
     "output_type": "stream",
     "text": [
      "Data for INFY.NS saved to test_stockdata\\INFY.NS.csv.\n",
      "Downloading data for INOXWIND.NS...\n"
     ]
    },
    {
     "name": "stderr",
     "output_type": "stream",
     "text": [
      "[*********************100%***********************]  1 of 1 completed\n"
     ]
    },
    {
     "name": "stdout",
     "output_type": "stream",
     "text": [
      "Data for INOXWIND.NS saved to test_stockdata\\INOXWIND.NS.csv.\n",
      "Downloading data for INTELLECT.NS...\n"
     ]
    },
    {
     "name": "stderr",
     "output_type": "stream",
     "text": [
      "[*********************100%***********************]  1 of 1 completed\n"
     ]
    },
    {
     "name": "stdout",
     "output_type": "stream",
     "text": [
      "Data for INTELLECT.NS saved to test_stockdata\\INTELLECT.NS.csv.\n",
      "Downloading data for INDIGO.NS...\n"
     ]
    },
    {
     "name": "stderr",
     "output_type": "stream",
     "text": [
      "[*********************100%***********************]  1 of 1 completed\n"
     ]
    },
    {
     "name": "stdout",
     "output_type": "stream",
     "text": [
      "Data for INDIGO.NS saved to test_stockdata\\INDIGO.NS.csv.\n",
      "Downloading data for IPCALAB.NS...\n"
     ]
    },
    {
     "name": "stderr",
     "output_type": "stream",
     "text": [
      "[*********************100%***********************]  1 of 1 completed\n"
     ]
    },
    {
     "name": "stdout",
     "output_type": "stream",
     "text": [
      "Data for IPCALAB.NS saved to test_stockdata\\IPCALAB.NS.csv.\n",
      "Downloading data for JBCHEPHARM.NS...\n"
     ]
    },
    {
     "name": "stderr",
     "output_type": "stream",
     "text": [
      "[*********************100%***********************]  1 of 1 completed\n"
     ]
    },
    {
     "name": "stdout",
     "output_type": "stream",
     "text": [
      "Data for JBCHEPHARM.NS saved to test_stockdata\\JBCHEPHARM.NS.csv.\n",
      "Downloading data for JKCEMENT.NS...\n"
     ]
    },
    {
     "name": "stderr",
     "output_type": "stream",
     "text": [
      "[*********************100%***********************]  1 of 1 completed\n"
     ]
    },
    {
     "name": "stdout",
     "output_type": "stream",
     "text": [
      "Data for JKCEMENT.NS saved to test_stockdata\\JKCEMENT.NS.csv.\n",
      "Downloading data for JBMA.NS...\n"
     ]
    },
    {
     "name": "stderr",
     "output_type": "stream",
     "text": [
      "[*********************100%***********************]  1 of 1 completed\n"
     ]
    },
    {
     "name": "stdout",
     "output_type": "stream",
     "text": [
      "Data for JBMA.NS saved to test_stockdata\\JBMA.NS.csv.\n",
      "Downloading data for JKLAKSHMI.NS...\n"
     ]
    },
    {
     "name": "stderr",
     "output_type": "stream",
     "text": [
      "[*********************100%***********************]  1 of 1 completed\n"
     ]
    },
    {
     "name": "stdout",
     "output_type": "stream",
     "text": [
      "Data for JKLAKSHMI.NS saved to test_stockdata\\JKLAKSHMI.NS.csv.\n",
      "Downloading data for JKTYRE.NS...\n"
     ]
    },
    {
     "name": "stderr",
     "output_type": "stream",
     "text": [
      "[*********************100%***********************]  1 of 1 completed\n"
     ]
    },
    {
     "name": "stdout",
     "output_type": "stream",
     "text": [
      "Data for JKTYRE.NS saved to test_stockdata\\JKTYRE.NS.csv.\n",
      "Downloading data for JMFINANCIL.NS...\n"
     ]
    },
    {
     "name": "stderr",
     "output_type": "stream",
     "text": [
      "[*********************100%***********************]  1 of 1 completed\n"
     ]
    },
    {
     "name": "stdout",
     "output_type": "stream",
     "text": [
      "Data for JMFINANCIL.NS saved to test_stockdata\\JMFINANCIL.NS.csv.\n",
      "Downloading data for JSWENERGY.NS...\n"
     ]
    },
    {
     "name": "stderr",
     "output_type": "stream",
     "text": [
      "[*********************100%***********************]  1 of 1 completed\n"
     ]
    },
    {
     "name": "stdout",
     "output_type": "stream",
     "text": [
      "Data for JSWENERGY.NS saved to test_stockdata\\JSWENERGY.NS.csv.\n",
      "Downloading data for JSWSTEEL.NS...\n"
     ]
    },
    {
     "name": "stderr",
     "output_type": "stream",
     "text": [
      "[*********************100%***********************]  1 of 1 completed\n",
      "[*********************100%***********************]  1 of 1 completed"
     ]
    },
    {
     "name": "stdout",
     "output_type": "stream",
     "text": [
      "Data for JSWSTEEL.NS saved to test_stockdata\\JSWSTEEL.NS.csv.\n",
      "Downloading data for JPPOWER.NS...\n"
     ]
    },
    {
     "name": "stderr",
     "output_type": "stream",
     "text": [
      "\n"
     ]
    },
    {
     "name": "stdout",
     "output_type": "stream",
     "text": [
      "Data for JPPOWER.NS saved to test_stockdata\\JPPOWER.NS.csv.\n",
      "Downloading data for J&KBANK.NS...\n"
     ]
    },
    {
     "name": "stderr",
     "output_type": "stream",
     "text": [
      "[*********************100%***********************]  1 of 1 completed\n"
     ]
    },
    {
     "name": "stdout",
     "output_type": "stream",
     "text": [
      "Data for J&KBANK.NS saved to test_stockdata\\J&KBANK.NS.csv.\n",
      "Downloading data for JINDALSAW.NS...\n"
     ]
    },
    {
     "name": "stderr",
     "output_type": "stream",
     "text": [
      "[*********************100%***********************]  1 of 1 completed\n"
     ]
    },
    {
     "name": "stdout",
     "output_type": "stream",
     "text": [
      "Data for JINDALSAW.NS saved to test_stockdata\\JINDALSAW.NS.csv.\n",
      "Downloading data for JSL.NS...\n"
     ]
    },
    {
     "name": "stderr",
     "output_type": "stream",
     "text": [
      "[*********************100%***********************]  1 of 1 completed\n"
     ]
    },
    {
     "name": "stdout",
     "output_type": "stream",
     "text": [
      "Data for JSL.NS saved to test_stockdata\\JSL.NS.csv.\n",
      "Downloading data for JINDALSTEL.NS...\n"
     ]
    },
    {
     "name": "stderr",
     "output_type": "stream",
     "text": [
      "[*********************100%***********************]  1 of 1 completed\n"
     ]
    },
    {
     "name": "stdout",
     "output_type": "stream",
     "text": [
      "Data for JINDALSTEL.NS saved to test_stockdata\\JINDALSTEL.NS.csv.\n",
      "Downloading data for JUBLFOOD.NS...\n"
     ]
    },
    {
     "name": "stderr",
     "output_type": "stream",
     "text": [
      "[*********************100%***********************]  1 of 1 completed\n"
     ]
    },
    {
     "name": "stdout",
     "output_type": "stream",
     "text": [
      "Data for JUBLFOOD.NS saved to test_stockdata\\JUBLFOOD.NS.csv.\n",
      "Downloading data for JUBLINGREA.NS...\n"
     ]
    },
    {
     "name": "stderr",
     "output_type": "stream",
     "text": [
      "[*********************100%***********************]  1 of 1 completed\n"
     ]
    },
    {
     "name": "stdout",
     "output_type": "stream",
     "text": [
      "Data for JUBLINGREA.NS saved to test_stockdata\\JUBLINGREA.NS.csv.\n",
      "Downloading data for JUBLPHARMA.NS...\n"
     ]
    },
    {
     "name": "stderr",
     "output_type": "stream",
     "text": [
      "[*********************100%***********************]  1 of 1 completed\n"
     ]
    },
    {
     "name": "stdout",
     "output_type": "stream",
     "text": [
      "Data for JUBLPHARMA.NS saved to test_stockdata\\JUBLPHARMA.NS.csv.\n",
      "Downloading data for JWL.NS...\n"
     ]
    },
    {
     "name": "stderr",
     "output_type": "stream",
     "text": [
      "[*********************100%***********************]  1 of 1 completed\n"
     ]
    },
    {
     "name": "stdout",
     "output_type": "stream",
     "text": [
      "Data for JWL.NS saved to test_stockdata\\JWL.NS.csv.\n",
      "Downloading data for JUSTDIAL.NS...\n"
     ]
    },
    {
     "name": "stderr",
     "output_type": "stream",
     "text": [
      "[*********************100%***********************]  1 of 1 completed\n"
     ]
    },
    {
     "name": "stdout",
     "output_type": "stream",
     "text": [
      "Data for JUSTDIAL.NS saved to test_stockdata\\JUSTDIAL.NS.csv.\n",
      "Downloading data for JYOTHYLAB.NS...\n"
     ]
    },
    {
     "name": "stderr",
     "output_type": "stream",
     "text": [
      "[*********************100%***********************]  1 of 1 completed\n"
     ]
    },
    {
     "name": "stdout",
     "output_type": "stream",
     "text": [
      "Data for JYOTHYLAB.NS saved to test_stockdata\\JYOTHYLAB.NS.csv.\n",
      "Downloading data for KPRMILL.NS...\n"
     ]
    },
    {
     "name": "stderr",
     "output_type": "stream",
     "text": [
      "[*********************100%***********************]  1 of 1 completed\n"
     ]
    },
    {
     "name": "stdout",
     "output_type": "stream",
     "text": [
      "Data for KPRMILL.NS saved to test_stockdata\\KPRMILL.NS.csv.\n",
      "Downloading data for KEI.NS...\n"
     ]
    },
    {
     "name": "stderr",
     "output_type": "stream",
     "text": [
      "[*********************100%***********************]  1 of 1 completed\n"
     ]
    },
    {
     "name": "stdout",
     "output_type": "stream",
     "text": [
      "Data for KEI.NS saved to test_stockdata\\KEI.NS.csv.\n",
      "Downloading data for KNRCON.NS...\n"
     ]
    },
    {
     "name": "stderr",
     "output_type": "stream",
     "text": [
      "[*********************100%***********************]  1 of 1 completed\n"
     ]
    },
    {
     "name": "stdout",
     "output_type": "stream",
     "text": [
      "Data for KNRCON.NS saved to test_stockdata\\KNRCON.NS.csv.\n",
      "Downloading data for KPITTECH.NS...\n"
     ]
    },
    {
     "name": "stderr",
     "output_type": "stream",
     "text": [
      "[*********************100%***********************]  1 of 1 completed\n",
      "[*********************100%***********************]  1 of 1 completed"
     ]
    },
    {
     "name": "stdout",
     "output_type": "stream",
     "text": [
      "Data for KPITTECH.NS saved to test_stockdata\\KPITTECH.NS.csv.\n",
      "Downloading data for KSB.NS...\n"
     ]
    },
    {
     "name": "stderr",
     "output_type": "stream",
     "text": [
      "\n",
      "[*********************100%***********************]  1 of 1 completed"
     ]
    },
    {
     "name": "stdout",
     "output_type": "stream",
     "text": [
      "Data for KSB.NS saved to test_stockdata\\KSB.NS.csv.\n",
      "Downloading data for KAJARIACER.NS...\n"
     ]
    },
    {
     "name": "stderr",
     "output_type": "stream",
     "text": [
      "\n",
      "[*********************100%***********************]  1 of 1 completed"
     ]
    },
    {
     "name": "stdout",
     "output_type": "stream",
     "text": [
      "Data for KAJARIACER.NS saved to test_stockdata\\KAJARIACER.NS.csv.\n",
      "Downloading data for KALYANKJIL.NS...\n"
     ]
    },
    {
     "name": "stderr",
     "output_type": "stream",
     "text": [
      "\n",
      "[*********************100%***********************]  1 of 1 completed"
     ]
    },
    {
     "name": "stdout",
     "output_type": "stream",
     "text": [
      "Data for KALYANKJIL.NS saved to test_stockdata\\KALYANKJIL.NS.csv.\n",
      "Downloading data for KANSAINER.NS...\n"
     ]
    },
    {
     "name": "stderr",
     "output_type": "stream",
     "text": [
      "\n"
     ]
    },
    {
     "name": "stdout",
     "output_type": "stream",
     "text": [
      "Data for KANSAINER.NS saved to test_stockdata\\KANSAINER.NS.csv.\n",
      "Downloading data for KARURVYSYA.NS...\n"
     ]
    },
    {
     "name": "stderr",
     "output_type": "stream",
     "text": [
      "[*********************100%***********************]  1 of 1 completed\n"
     ]
    },
    {
     "name": "stdout",
     "output_type": "stream",
     "text": [
      "Data for KARURVYSYA.NS saved to test_stockdata\\KARURVYSYA.NS.csv.\n",
      "Downloading data for KEC.NS...\n"
     ]
    },
    {
     "name": "stderr",
     "output_type": "stream",
     "text": [
      "[*********************100%***********************]  1 of 1 completed\n",
      "[*********************100%***********************]  1 of 1 completed"
     ]
    },
    {
     "name": "stdout",
     "output_type": "stream",
     "text": [
      "Data for KEC.NS saved to test_stockdata\\KEC.NS.csv.\n",
      "Downloading data for KIRLOSBROS.NS...\n"
     ]
    },
    {
     "name": "stderr",
     "output_type": "stream",
     "text": [
      "\n",
      "[*********************100%***********************]  1 of 1 completed"
     ]
    },
    {
     "name": "stdout",
     "output_type": "stream",
     "text": [
      "Data for KIRLOSBROS.NS saved to test_stockdata\\KIRLOSBROS.NS.csv.\n",
      "Downloading data for KIRLOSENG.NS...\n"
     ]
    },
    {
     "name": "stderr",
     "output_type": "stream",
     "text": [
      "\n"
     ]
    },
    {
     "name": "stdout",
     "output_type": "stream",
     "text": [
      "Data for KIRLOSENG.NS saved to test_stockdata\\KIRLOSENG.NS.csv.\n",
      "Downloading data for KOTAKBANK.NS...\n"
     ]
    },
    {
     "name": "stderr",
     "output_type": "stream",
     "text": [
      "[*********************100%***********************]  1 of 1 completed\n",
      "[*********************100%***********************]  1 of 1 completed"
     ]
    },
    {
     "name": "stdout",
     "output_type": "stream",
     "text": [
      "Data for KOTAKBANK.NS saved to test_stockdata\\KOTAKBANK.NS.csv.\n",
      "Downloading data for KIMS.NS...\n"
     ]
    },
    {
     "name": "stderr",
     "output_type": "stream",
     "text": [
      "\n",
      "[*********************100%***********************]  1 of 1 completed"
     ]
    },
    {
     "name": "stdout",
     "output_type": "stream",
     "text": [
      "Data for KIMS.NS saved to test_stockdata\\KIMS.NS.csv.\n",
      "Downloading data for LTF.NS...\n"
     ]
    },
    {
     "name": "stderr",
     "output_type": "stream",
     "text": [
      "\n"
     ]
    },
    {
     "name": "stdout",
     "output_type": "stream",
     "text": [
      "Data for LTF.NS saved to test_stockdata\\LTF.NS.csv.\n",
      "Downloading data for LTTS.NS...\n"
     ]
    },
    {
     "name": "stderr",
     "output_type": "stream",
     "text": [
      "[*********************100%***********************]  1 of 1 completed\n"
     ]
    },
    {
     "name": "stdout",
     "output_type": "stream",
     "text": [
      "Data for LTTS.NS saved to test_stockdata\\LTTS.NS.csv.\n",
      "Downloading data for LICHSGFIN.NS...\n"
     ]
    },
    {
     "name": "stderr",
     "output_type": "stream",
     "text": [
      "[*********************100%***********************]  1 of 1 completed\n",
      "[*********************100%***********************]  1 of 1 completed"
     ]
    },
    {
     "name": "stdout",
     "output_type": "stream",
     "text": [
      "Data for LICHSGFIN.NS saved to test_stockdata\\LICHSGFIN.NS.csv.\n",
      "Downloading data for LTIM.NS...\n"
     ]
    },
    {
     "name": "stderr",
     "output_type": "stream",
     "text": [
      "\n"
     ]
    },
    {
     "name": "stdout",
     "output_type": "stream",
     "text": [
      "Data for LTIM.NS saved to test_stockdata\\LTIM.NS.csv.\n",
      "Downloading data for LT.NS...\n"
     ]
    },
    {
     "name": "stderr",
     "output_type": "stream",
     "text": [
      "[*********************100%***********************]  1 of 1 completed\n",
      "[*********************100%***********************]  1 of 1 completed"
     ]
    },
    {
     "name": "stdout",
     "output_type": "stream",
     "text": [
      "Data for LT.NS saved to test_stockdata\\LT.NS.csv.\n",
      "Downloading data for LATENTVIEW.NS...\n"
     ]
    },
    {
     "name": "stderr",
     "output_type": "stream",
     "text": [
      "\n"
     ]
    },
    {
     "name": "stdout",
     "output_type": "stream",
     "text": [
      "Data for LATENTVIEW.NS saved to test_stockdata\\LATENTVIEW.NS.csv.\n",
      "Downloading data for LAURUSLABS.NS...\n"
     ]
    },
    {
     "name": "stderr",
     "output_type": "stream",
     "text": [
      "[*********************100%***********************]  1 of 1 completed\n"
     ]
    },
    {
     "name": "stdout",
     "output_type": "stream",
     "text": [
      "Data for LAURUSLABS.NS saved to test_stockdata\\LAURUSLABS.NS.csv.\n",
      "Downloading data for LEMONTREE.NS...\n"
     ]
    },
    {
     "name": "stderr",
     "output_type": "stream",
     "text": [
      "[*********************100%***********************]  1 of 1 completed\n"
     ]
    },
    {
     "name": "stdout",
     "output_type": "stream",
     "text": [
      "Data for LEMONTREE.NS saved to test_stockdata\\LEMONTREE.NS.csv.\n",
      "Downloading data for LINDEINDIA.NS...\n"
     ]
    },
    {
     "name": "stderr",
     "output_type": "stream",
     "text": [
      "[*********************100%***********************]  1 of 1 completed\n"
     ]
    },
    {
     "name": "stdout",
     "output_type": "stream",
     "text": [
      "Data for LINDEINDIA.NS saved to test_stockdata\\LINDEINDIA.NS.csv.\n",
      "Downloading data for LUPIN.NS...\n"
     ]
    },
    {
     "name": "stderr",
     "output_type": "stream",
     "text": [
      "[*********************100%***********************]  1 of 1 completed\n"
     ]
    },
    {
     "name": "stdout",
     "output_type": "stream",
     "text": [
      "Data for LUPIN.NS saved to test_stockdata\\LUPIN.NS.csv.\n",
      "Downloading data for MMTC.NS...\n"
     ]
    },
    {
     "name": "stderr",
     "output_type": "stream",
     "text": [
      "[*********************100%***********************]  1 of 1 completed\n"
     ]
    },
    {
     "name": "stdout",
     "output_type": "stream",
     "text": [
      "Data for MMTC.NS saved to test_stockdata\\MMTC.NS.csv.\n",
      "Downloading data for MRF.NS...\n"
     ]
    },
    {
     "name": "stderr",
     "output_type": "stream",
     "text": [
      "[*********************100%***********************]  1 of 1 completed\n"
     ]
    },
    {
     "name": "stdout",
     "output_type": "stream",
     "text": [
      "Data for MRF.NS saved to test_stockdata\\MRF.NS.csv.\n",
      "Downloading data for LODHA.NS...\n"
     ]
    },
    {
     "name": "stderr",
     "output_type": "stream",
     "text": [
      "[*********************100%***********************]  1 of 1 completed\n"
     ]
    },
    {
     "name": "stdout",
     "output_type": "stream",
     "text": [
      "Data for LODHA.NS saved to test_stockdata\\LODHA.NS.csv.\n",
      "Downloading data for MGL.NS...\n"
     ]
    },
    {
     "name": "stderr",
     "output_type": "stream",
     "text": [
      "[*********************100%***********************]  1 of 1 completed\n"
     ]
    },
    {
     "name": "stdout",
     "output_type": "stream",
     "text": [
      "Data for MGL.NS saved to test_stockdata\\MGL.NS.csv.\n",
      "Downloading data for MAHSEAMLES.NS...\n"
     ]
    },
    {
     "name": "stderr",
     "output_type": "stream",
     "text": [
      "[*********************100%***********************]  1 of 1 completed\n"
     ]
    },
    {
     "name": "stdout",
     "output_type": "stream",
     "text": [
      "Data for MAHSEAMLES.NS saved to test_stockdata\\MAHSEAMLES.NS.csv.\n",
      "Downloading data for M&MFIN.NS...\n"
     ]
    },
    {
     "name": "stderr",
     "output_type": "stream",
     "text": [
      "[*********************100%***********************]  1 of 1 completed\n"
     ]
    },
    {
     "name": "stdout",
     "output_type": "stream",
     "text": [
      "Data for M&MFIN.NS saved to test_stockdata\\M&MFIN.NS.csv.\n",
      "Downloading data for M&M.NS...\n"
     ]
    },
    {
     "name": "stderr",
     "output_type": "stream",
     "text": [
      "[*********************100%***********************]  1 of 1 completed\n"
     ]
    },
    {
     "name": "stdout",
     "output_type": "stream",
     "text": [
      "Data for M&M.NS saved to test_stockdata\\M&M.NS.csv.\n",
      "Downloading data for MAHLIFE.NS...\n"
     ]
    },
    {
     "name": "stderr",
     "output_type": "stream",
     "text": [
      "[*********************100%***********************]  1 of 1 completed\n",
      "[*********************100%***********************]  1 of 1 completed"
     ]
    },
    {
     "name": "stdout",
     "output_type": "stream",
     "text": [
      "Data for MAHLIFE.NS saved to test_stockdata\\MAHLIFE.NS.csv.\n",
      "Downloading data for MANAPPURAM.NS...\n"
     ]
    },
    {
     "name": "stderr",
     "output_type": "stream",
     "text": [
      "\n"
     ]
    },
    {
     "name": "stdout",
     "output_type": "stream",
     "text": [
      "Data for MANAPPURAM.NS saved to test_stockdata\\MANAPPURAM.NS.csv.\n",
      "Downloading data for MRPL.NS...\n"
     ]
    },
    {
     "name": "stderr",
     "output_type": "stream",
     "text": [
      "[*********************100%***********************]  1 of 1 completed\n"
     ]
    },
    {
     "name": "stdout",
     "output_type": "stream",
     "text": [
      "Data for MRPL.NS saved to test_stockdata\\MRPL.NS.csv.\n",
      "Downloading data for MARICO.NS...\n"
     ]
    },
    {
     "name": "stderr",
     "output_type": "stream",
     "text": [
      "[*********************100%***********************]  1 of 1 completed\n"
     ]
    },
    {
     "name": "stdout",
     "output_type": "stream",
     "text": [
      "Data for MARICO.NS saved to test_stockdata\\MARICO.NS.csv.\n",
      "Downloading data for MARUTI.NS...\n"
     ]
    },
    {
     "name": "stderr",
     "output_type": "stream",
     "text": [
      "[*********************100%***********************]  1 of 1 completed\n"
     ]
    },
    {
     "name": "stdout",
     "output_type": "stream",
     "text": [
      "Data for MARUTI.NS saved to test_stockdata\\MARUTI.NS.csv.\n",
      "Downloading data for MASTEK.NS...\n"
     ]
    },
    {
     "name": "stderr",
     "output_type": "stream",
     "text": [
      "[*********************100%***********************]  1 of 1 completed\n"
     ]
    },
    {
     "name": "stdout",
     "output_type": "stream",
     "text": [
      "Data for MASTEK.NS saved to test_stockdata\\MASTEK.NS.csv.\n",
      "Downloading data for MFSL.NS...\n"
     ]
    },
    {
     "name": "stderr",
     "output_type": "stream",
     "text": [
      "[*********************100%***********************]  1 of 1 completed\n",
      "[*********************100%***********************]  1 of 1 completed"
     ]
    },
    {
     "name": "stdout",
     "output_type": "stream",
     "text": [
      "Data for MFSL.NS saved to test_stockdata\\MFSL.NS.csv.\n",
      "Downloading data for MAXHEALTH.NS...\n"
     ]
    },
    {
     "name": "stderr",
     "output_type": "stream",
     "text": [
      "\n"
     ]
    },
    {
     "name": "stdout",
     "output_type": "stream",
     "text": [
      "Data for MAXHEALTH.NS saved to test_stockdata\\MAXHEALTH.NS.csv.\n",
      "Downloading data for MAZDOCK.NS...\n"
     ]
    },
    {
     "name": "stderr",
     "output_type": "stream",
     "text": [
      "[*********************100%***********************]  1 of 1 completed\n"
     ]
    },
    {
     "name": "stdout",
     "output_type": "stream",
     "text": [
      "Data for MAZDOCK.NS saved to test_stockdata\\MAZDOCK.NS.csv.\n",
      "Downloading data for METROBRAND.NS...\n"
     ]
    },
    {
     "name": "stderr",
     "output_type": "stream",
     "text": [
      "[*********************100%***********************]  1 of 1 completed\n"
     ]
    },
    {
     "name": "stdout",
     "output_type": "stream",
     "text": [
      "Data for METROBRAND.NS saved to test_stockdata\\METROBRAND.NS.csv.\n",
      "Downloading data for METROPOLIS.NS...\n"
     ]
    },
    {
     "name": "stderr",
     "output_type": "stream",
     "text": [
      "[*********************100%***********************]  1 of 1 completed\n"
     ]
    },
    {
     "name": "stdout",
     "output_type": "stream",
     "text": [
      "Data for METROPOLIS.NS saved to test_stockdata\\METROPOLIS.NS.csv.\n",
      "Downloading data for MINDACORP.NS...\n"
     ]
    },
    {
     "name": "stderr",
     "output_type": "stream",
     "text": [
      "[*********************100%***********************]  1 of 1 completed\n"
     ]
    },
    {
     "name": "stdout",
     "output_type": "stream",
     "text": [
      "Data for MINDACORP.NS saved to test_stockdata\\MINDACORP.NS.csv.\n",
      "Downloading data for MOTILALOFS.NS...\n"
     ]
    },
    {
     "name": "stderr",
     "output_type": "stream",
     "text": [
      "[*********************100%***********************]  1 of 1 completed\n"
     ]
    },
    {
     "name": "stdout",
     "output_type": "stream",
     "text": [
      "Data for MOTILALOFS.NS saved to test_stockdata\\MOTILALOFS.NS.csv.\n",
      "Downloading data for MPHASIS.NS...\n"
     ]
    },
    {
     "name": "stderr",
     "output_type": "stream",
     "text": [
      "[*********************100%***********************]  1 of 1 completed\n",
      "[*********************100%***********************]  1 of 1 completed"
     ]
    },
    {
     "name": "stdout",
     "output_type": "stream",
     "text": [
      "Data for MPHASIS.NS saved to test_stockdata\\MPHASIS.NS.csv.\n",
      "Downloading data for MCX.NS...\n"
     ]
    },
    {
     "name": "stderr",
     "output_type": "stream",
     "text": [
      "\n"
     ]
    },
    {
     "name": "stdout",
     "output_type": "stream",
     "text": [
      "Data for MCX.NS saved to test_stockdata\\MCX.NS.csv.\n",
      "Downloading data for MUTHOOTFIN.NS...\n"
     ]
    },
    {
     "name": "stderr",
     "output_type": "stream",
     "text": [
      "[*********************100%***********************]  1 of 1 completed\n"
     ]
    },
    {
     "name": "stdout",
     "output_type": "stream",
     "text": [
      "Data for MUTHOOTFIN.NS saved to test_stockdata\\MUTHOOTFIN.NS.csv.\n",
      "Downloading data for NATCOPHARM.NS...\n"
     ]
    },
    {
     "name": "stderr",
     "output_type": "stream",
     "text": [
      "[*********************100%***********************]  1 of 1 completed\n",
      "[*********************100%***********************]  1 of 1 completed"
     ]
    },
    {
     "name": "stdout",
     "output_type": "stream",
     "text": [
      "Data for NATCOPHARM.NS saved to test_stockdata\\NATCOPHARM.NS.csv.\n",
      "Downloading data for NBCC.NS...\n"
     ]
    },
    {
     "name": "stderr",
     "output_type": "stream",
     "text": [
      "\n"
     ]
    },
    {
     "name": "stdout",
     "output_type": "stream",
     "text": [
      "Data for NBCC.NS saved to test_stockdata\\NBCC.NS.csv.\n",
      "Downloading data for NCC.NS...\n"
     ]
    },
    {
     "name": "stderr",
     "output_type": "stream",
     "text": [
      "[*********************100%***********************]  1 of 1 completed\n",
      "[*********************100%***********************]  1 of 1 completed"
     ]
    },
    {
     "name": "stdout",
     "output_type": "stream",
     "text": [
      "Data for NCC.NS saved to test_stockdata\\NCC.NS.csv.\n",
      "Downloading data for NHPC.NS...\n"
     ]
    },
    {
     "name": "stderr",
     "output_type": "stream",
     "text": [
      "\n"
     ]
    },
    {
     "name": "stdout",
     "output_type": "stream",
     "text": [
      "Data for NHPC.NS saved to test_stockdata\\NHPC.NS.csv.\n",
      "Downloading data for NLCINDIA.NS...\n"
     ]
    },
    {
     "name": "stderr",
     "output_type": "stream",
     "text": [
      "[*********************100%***********************]  1 of 1 completed\n"
     ]
    },
    {
     "name": "stdout",
     "output_type": "stream",
     "text": [
      "Data for NLCINDIA.NS saved to test_stockdata\\NLCINDIA.NS.csv.\n",
      "Downloading data for NMDC.NS...\n"
     ]
    },
    {
     "name": "stderr",
     "output_type": "stream",
     "text": [
      "[*********************100%***********************]  1 of 1 completed\n"
     ]
    },
    {
     "name": "stdout",
     "output_type": "stream",
     "text": [
      "Data for NMDC.NS saved to test_stockdata\\NMDC.NS.csv.\n",
      "Downloading data for NTPC.NS...\n"
     ]
    },
    {
     "name": "stderr",
     "output_type": "stream",
     "text": [
      "[*********************100%***********************]  1 of 1 completed\n"
     ]
    },
    {
     "name": "stdout",
     "output_type": "stream",
     "text": [
      "Data for NTPC.NS saved to test_stockdata\\NTPC.NS.csv.\n",
      "Downloading data for NH.NS...\n"
     ]
    },
    {
     "name": "stderr",
     "output_type": "stream",
     "text": [
      "[*********************100%***********************]  1 of 1 completed\n"
     ]
    },
    {
     "name": "stdout",
     "output_type": "stream",
     "text": [
      "Data for NH.NS saved to test_stockdata\\NH.NS.csv.\n",
      "Downloading data for NATIONALUM.NS...\n"
     ]
    },
    {
     "name": "stderr",
     "output_type": "stream",
     "text": [
      "[*********************100%***********************]  1 of 1 completed\n"
     ]
    },
    {
     "name": "stdout",
     "output_type": "stream",
     "text": [
      "Data for NATIONALUM.NS saved to test_stockdata\\NATIONALUM.NS.csv.\n",
      "Downloading data for NAVINFLUOR.NS...\n"
     ]
    },
    {
     "name": "stderr",
     "output_type": "stream",
     "text": [
      "[*********************100%***********************]  1 of 1 completed\n"
     ]
    },
    {
     "name": "stdout",
     "output_type": "stream",
     "text": [
      "Data for NAVINFLUOR.NS saved to test_stockdata\\NAVINFLUOR.NS.csv.\n",
      "Downloading data for NESTLEIND.NS...\n"
     ]
    },
    {
     "name": "stderr",
     "output_type": "stream",
     "text": [
      "[*********************100%***********************]  1 of 1 completed\n"
     ]
    },
    {
     "name": "stdout",
     "output_type": "stream",
     "text": [
      "Data for NESTLEIND.NS saved to test_stockdata\\NESTLEIND.NS.csv.\n",
      "Downloading data for NETWORK18.NS...\n"
     ]
    },
    {
     "name": "stderr",
     "output_type": "stream",
     "text": [
      "[*********************100%***********************]  1 of 1 completed\n"
     ]
    },
    {
     "name": "stdout",
     "output_type": "stream",
     "text": [
      "Data for NETWORK18.NS saved to test_stockdata\\NETWORK18.NS.csv.\n",
      "Downloading data for NEWGEN.NS...\n"
     ]
    },
    {
     "name": "stderr",
     "output_type": "stream",
     "text": [
      "[*********************100%***********************]  1 of 1 completed\n",
      "[*********************100%***********************]  1 of 1 completed"
     ]
    },
    {
     "name": "stdout",
     "output_type": "stream",
     "text": [
      "Data for NEWGEN.NS saved to test_stockdata\\NEWGEN.NS.csv.\n",
      "Downloading data for NAM-INDIA.NS...\n"
     ]
    },
    {
     "name": "stderr",
     "output_type": "stream",
     "text": [
      "\n",
      "[*********************100%***********************]  1 of 1 completed"
     ]
    },
    {
     "name": "stdout",
     "output_type": "stream",
     "text": [
      "Data for NAM-INDIA.NS saved to test_stockdata\\NAM-INDIA.NS.csv.\n",
      "Downloading data for NUVOCO.NS...\n"
     ]
    },
    {
     "name": "stderr",
     "output_type": "stream",
     "text": [
      "\n"
     ]
    },
    {
     "name": "stdout",
     "output_type": "stream",
     "text": [
      "Data for NUVOCO.NS saved to test_stockdata\\NUVOCO.NS.csv.\n",
      "Downloading data for OBEROIRLTY.NS...\n"
     ]
    },
    {
     "name": "stderr",
     "output_type": "stream",
     "text": [
      "[*********************100%***********************]  1 of 1 completed\n"
     ]
    },
    {
     "name": "stdout",
     "output_type": "stream",
     "text": [
      "Data for OBEROIRLTY.NS saved to test_stockdata\\OBEROIRLTY.NS.csv.\n",
      "Downloading data for ONGC.NS...\n"
     ]
    },
    {
     "name": "stderr",
     "output_type": "stream",
     "text": [
      "[*********************100%***********************]  1 of 1 completed\n"
     ]
    },
    {
     "name": "stdout",
     "output_type": "stream",
     "text": [
      "Data for ONGC.NS saved to test_stockdata\\ONGC.NS.csv.\n",
      "Downloading data for OIL.NS...\n"
     ]
    },
    {
     "name": "stderr",
     "output_type": "stream",
     "text": [
      "[*********************100%***********************]  1 of 1 completed\n"
     ]
    },
    {
     "name": "stdout",
     "output_type": "stream",
     "text": [
      "Data for OIL.NS saved to test_stockdata\\OIL.NS.csv.\n",
      "Downloading data for OLECTRA.NS...\n"
     ]
    },
    {
     "name": "stderr",
     "output_type": "stream",
     "text": [
      "[*********************100%***********************]  1 of 1 completed\n",
      "[*********************100%***********************]  1 of 1 completed"
     ]
    },
    {
     "name": "stdout",
     "output_type": "stream",
     "text": [
      "Data for OLECTRA.NS saved to test_stockdata\\OLECTRA.NS.csv.\n",
      "Downloading data for PAYTM.NS...\n"
     ]
    },
    {
     "name": "stderr",
     "output_type": "stream",
     "text": [
      "\n"
     ]
    },
    {
     "name": "stdout",
     "output_type": "stream",
     "text": [
      "Data for PAYTM.NS saved to test_stockdata\\PAYTM.NS.csv.\n",
      "Downloading data for OFSS.NS...\n"
     ]
    },
    {
     "name": "stderr",
     "output_type": "stream",
     "text": [
      "[*********************100%***********************]  1 of 1 completed\n",
      "[*********************100%***********************]  1 of 1 completed\n"
     ]
    },
    {
     "name": "stdout",
     "output_type": "stream",
     "text": [
      "Data for OFSS.NS saved to test_stockdata\\OFSS.NS.csv.\n",
      "Downloading data for POLICYBZR.NS...\n",
      "Data for POLICYBZR.NS saved to test_stockdata\\POLICYBZR.NS.csv.\n",
      "Downloading data for PCBL.NS...\n"
     ]
    },
    {
     "name": "stderr",
     "output_type": "stream",
     "text": [
      "[*********************100%***********************]  1 of 1 completed\n",
      "[*********************100%***********************]  1 of 1 completed"
     ]
    },
    {
     "name": "stdout",
     "output_type": "stream",
     "text": [
      "Data for PCBL.NS saved to test_stockdata\\PCBL.NS.csv.\n",
      "Downloading data for PIIND.NS...\n"
     ]
    },
    {
     "name": "stderr",
     "output_type": "stream",
     "text": [
      "\n"
     ]
    },
    {
     "name": "stdout",
     "output_type": "stream",
     "text": [
      "Data for PIIND.NS saved to test_stockdata\\PIIND.NS.csv.\n",
      "Downloading data for PNBHOUSING.NS...\n"
     ]
    },
    {
     "name": "stderr",
     "output_type": "stream",
     "text": [
      "[*********************100%***********************]  1 of 1 completed\n"
     ]
    },
    {
     "name": "stdout",
     "output_type": "stream",
     "text": [
      "Data for PNBHOUSING.NS saved to test_stockdata\\PNBHOUSING.NS.csv.\n",
      "Downloading data for PNCINFRA.NS...\n"
     ]
    },
    {
     "name": "stderr",
     "output_type": "stream",
     "text": [
      "[*********************100%***********************]  1 of 1 completed\n"
     ]
    },
    {
     "name": "stdout",
     "output_type": "stream",
     "text": [
      "Data for PNCINFRA.NS saved to test_stockdata\\PNCINFRA.NS.csv.\n",
      "Downloading data for PAGEIND.NS...\n"
     ]
    },
    {
     "name": "stderr",
     "output_type": "stream",
     "text": [
      "[*********************100%***********************]  1 of 1 completed\n"
     ]
    },
    {
     "name": "stdout",
     "output_type": "stream",
     "text": [
      "Data for PAGEIND.NS saved to test_stockdata\\PAGEIND.NS.csv.\n",
      "Downloading data for PATANJALI.NS...\n"
     ]
    },
    {
     "name": "stderr",
     "output_type": "stream",
     "text": [
      "[*********************100%***********************]  1 of 1 completed\n"
     ]
    },
    {
     "name": "stdout",
     "output_type": "stream",
     "text": [
      "Data for PATANJALI.NS saved to test_stockdata\\PATANJALI.NS.csv.\n",
      "Downloading data for PERSISTENT.NS...\n"
     ]
    },
    {
     "name": "stderr",
     "output_type": "stream",
     "text": [
      "[*********************100%***********************]  1 of 1 completed\n",
      "[*********************100%***********************]  1 of 1 completed"
     ]
    },
    {
     "name": "stdout",
     "output_type": "stream",
     "text": [
      "Data for PERSISTENT.NS saved to test_stockdata\\PERSISTENT.NS.csv.\n",
      "Downloading data for PETRONET.NS...\n"
     ]
    },
    {
     "name": "stderr",
     "output_type": "stream",
     "text": [
      "\n"
     ]
    },
    {
     "name": "stdout",
     "output_type": "stream",
     "text": [
      "Data for PETRONET.NS saved to test_stockdata\\PETRONET.NS.csv.\n",
      "Downloading data for PFIZER.NS...\n"
     ]
    },
    {
     "name": "stderr",
     "output_type": "stream",
     "text": [
      "[*********************100%***********************]  1 of 1 completed\n"
     ]
    },
    {
     "name": "stdout",
     "output_type": "stream",
     "text": [
      "Data for PFIZER.NS saved to test_stockdata\\PFIZER.NS.csv.\n",
      "Downloading data for PIDILITIND.NS...\n"
     ]
    },
    {
     "name": "stderr",
     "output_type": "stream",
     "text": [
      "[*********************100%***********************]  1 of 1 completed\n"
     ]
    },
    {
     "name": "stdout",
     "output_type": "stream",
     "text": [
      "Data for PIDILITIND.NS saved to test_stockdata\\PIDILITIND.NS.csv.\n",
      "Downloading data for PEL.NS...\n"
     ]
    },
    {
     "name": "stderr",
     "output_type": "stream",
     "text": [
      "[*********************100%***********************]  1 of 1 completed\n"
     ]
    },
    {
     "name": "stdout",
     "output_type": "stream",
     "text": [
      "Data for PEL.NS saved to test_stockdata\\PEL.NS.csv.\n",
      "Downloading data for POLYMED.NS...\n"
     ]
    },
    {
     "name": "stderr",
     "output_type": "stream",
     "text": [
      "[*********************100%***********************]  1 of 1 completed\n"
     ]
    },
    {
     "name": "stdout",
     "output_type": "stream",
     "text": [
      "Data for POLYMED.NS saved to test_stockdata\\POLYMED.NS.csv.\n",
      "Downloading data for POLYCAB.NS...\n"
     ]
    },
    {
     "name": "stderr",
     "output_type": "stream",
     "text": [
      "[*********************100%***********************]  1 of 1 completed\n"
     ]
    },
    {
     "name": "stdout",
     "output_type": "stream",
     "text": [
      "Data for POLYCAB.NS saved to test_stockdata\\POLYCAB.NS.csv.\n",
      "Downloading data for POONAWALLA.NS...\n"
     ]
    },
    {
     "name": "stderr",
     "output_type": "stream",
     "text": [
      "[*********************100%***********************]  1 of 1 completed\n"
     ]
    },
    {
     "name": "stdout",
     "output_type": "stream",
     "text": [
      "Data for POONAWALLA.NS saved to test_stockdata\\POONAWALLA.NS.csv.\n",
      "Downloading data for PFC.NS...\n"
     ]
    },
    {
     "name": "stderr",
     "output_type": "stream",
     "text": [
      "[*********************100%***********************]  1 of 1 completed\n"
     ]
    },
    {
     "name": "stdout",
     "output_type": "stream",
     "text": [
      "Data for PFC.NS saved to test_stockdata\\PFC.NS.csv.\n",
      "Downloading data for POWERGRID.NS...\n"
     ]
    },
    {
     "name": "stderr",
     "output_type": "stream",
     "text": [
      "[*********************100%***********************]  1 of 1 completed\n"
     ]
    },
    {
     "name": "stdout",
     "output_type": "stream",
     "text": [
      "Data for POWERGRID.NS saved to test_stockdata\\POWERGRID.NS.csv.\n",
      "Downloading data for PRAJIND.NS...\n"
     ]
    },
    {
     "name": "stderr",
     "output_type": "stream",
     "text": [
      "[*********************100%***********************]  1 of 1 completed\n",
      "[*********************100%***********************]  1 of 1 completed"
     ]
    },
    {
     "name": "stdout",
     "output_type": "stream",
     "text": [
      "Data for PRAJIND.NS saved to test_stockdata\\PRAJIND.NS.csv.\n",
      "Downloading data for PRESTIGE.NS...\n"
     ]
    },
    {
     "name": "stderr",
     "output_type": "stream",
     "text": [
      "\n"
     ]
    },
    {
     "name": "stdout",
     "output_type": "stream",
     "text": [
      "Data for PRESTIGE.NS saved to test_stockdata\\PRESTIGE.NS.csv.\n",
      "Downloading data for PGHH.NS...\n"
     ]
    },
    {
     "name": "stderr",
     "output_type": "stream",
     "text": [
      "[*********************100%***********************]  1 of 1 completed\n"
     ]
    },
    {
     "name": "stdout",
     "output_type": "stream",
     "text": [
      "Data for PGHH.NS saved to test_stockdata\\PGHH.NS.csv.\n",
      "Downloading data for PNB.NS...\n"
     ]
    },
    {
     "name": "stderr",
     "output_type": "stream",
     "text": [
      "[*********************100%***********************]  1 of 1 completed\n"
     ]
    },
    {
     "name": "stdout",
     "output_type": "stream",
     "text": [
      "Data for PNB.NS saved to test_stockdata\\PNB.NS.csv.\n",
      "Downloading data for QUESS.NS...\n"
     ]
    },
    {
     "name": "stderr",
     "output_type": "stream",
     "text": [
      "[*********************100%***********************]  1 of 1 completed\n",
      "[*********************100%***********************]  1 of 1 completed"
     ]
    },
    {
     "name": "stdout",
     "output_type": "stream",
     "text": [
      "Data for QUESS.NS saved to test_stockdata\\QUESS.NS.csv.\n",
      "Downloading data for RBLBANK.NS...\n",
      "Data for RBLBANK.NS saved to test_stockdata\\RBLBANK.NS.csv.\n",
      "Downloading data for RECLTD.NS...\n"
     ]
    },
    {
     "name": "stderr",
     "output_type": "stream",
     "text": [
      "\n",
      "[*********************100%***********************]  1 of 1 completed\n"
     ]
    },
    {
     "name": "stdout",
     "output_type": "stream",
     "text": [
      "Data for RECLTD.NS saved to test_stockdata\\RECLTD.NS.csv.\n",
      "Downloading data for RHIM.NS...\n"
     ]
    },
    {
     "name": "stderr",
     "output_type": "stream",
     "text": [
      "[*********************100%***********************]  1 of 1 completed\n"
     ]
    },
    {
     "name": "stdout",
     "output_type": "stream",
     "text": [
      "Data for RHIM.NS saved to test_stockdata\\RHIM.NS.csv.\n",
      "Downloading data for RITES.NS...\n"
     ]
    },
    {
     "name": "stderr",
     "output_type": "stream",
     "text": [
      "[*********************100%***********************]  1 of 1 completed\n"
     ]
    },
    {
     "name": "stdout",
     "output_type": "stream",
     "text": [
      "Data for RITES.NS saved to test_stockdata\\RITES.NS.csv.\n",
      "Downloading data for RADICO.NS...\n"
     ]
    },
    {
     "name": "stderr",
     "output_type": "stream",
     "text": [
      "[*********************100%***********************]  1 of 1 completed\n",
      "[*********************100%***********************]  1 of 1 completed"
     ]
    },
    {
     "name": "stdout",
     "output_type": "stream",
     "text": [
      "Data for RADICO.NS saved to test_stockdata\\RADICO.NS.csv.\n",
      "Downloading data for RVNL.NS...\n"
     ]
    },
    {
     "name": "stderr",
     "output_type": "stream",
     "text": [
      "\n"
     ]
    },
    {
     "name": "stdout",
     "output_type": "stream",
     "text": [
      "Data for RVNL.NS saved to test_stockdata\\RVNL.NS.csv.\n",
      "Downloading data for RAILTEL.NS...\n"
     ]
    },
    {
     "name": "stderr",
     "output_type": "stream",
     "text": [
      "[*********************100%***********************]  1 of 1 completed\n"
     ]
    },
    {
     "name": "stdout",
     "output_type": "stream",
     "text": [
      "Data for RAILTEL.NS saved to test_stockdata\\RAILTEL.NS.csv.\n",
      "Downloading data for RAJESHEXPO.NS...\n"
     ]
    },
    {
     "name": "stderr",
     "output_type": "stream",
     "text": [
      "[*********************100%***********************]  1 of 1 completed\n"
     ]
    },
    {
     "name": "stdout",
     "output_type": "stream",
     "text": [
      "Data for RAJESHEXPO.NS saved to test_stockdata\\RAJESHEXPO.NS.csv.\n",
      "Downloading data for RKFORGE.NS...\n"
     ]
    },
    {
     "name": "stderr",
     "output_type": "stream",
     "text": [
      "[*********************100%***********************]  1 of 1 completed\n"
     ]
    },
    {
     "name": "stdout",
     "output_type": "stream",
     "text": [
      "Data for RKFORGE.NS saved to test_stockdata\\RKFORGE.NS.csv.\n",
      "Downloading data for RCF.NS...\n"
     ]
    },
    {
     "name": "stderr",
     "output_type": "stream",
     "text": [
      "[*********************100%***********************]  1 of 1 completed\n"
     ]
    },
    {
     "name": "stdout",
     "output_type": "stream",
     "text": [
      "Data for RCF.NS saved to test_stockdata\\RCF.NS.csv.\n",
      "Downloading data for RATNAMANI.NS...\n"
     ]
    },
    {
     "name": "stderr",
     "output_type": "stream",
     "text": [
      "[*********************100%***********************]  1 of 1 completed\n",
      "[*********************100%***********************]  1 of 1 completed"
     ]
    },
    {
     "name": "stdout",
     "output_type": "stream",
     "text": [
      "Data for RATNAMANI.NS saved to test_stockdata\\RATNAMANI.NS.csv.\n",
      "Downloading data for RTNINDIA.NS...\n"
     ]
    },
    {
     "name": "stderr",
     "output_type": "stream",
     "text": [
      "\n",
      "[*********************100%***********************]  1 of 1 completed"
     ]
    },
    {
     "name": "stdout",
     "output_type": "stream",
     "text": [
      "Data for RTNINDIA.NS saved to test_stockdata\\RTNINDIA.NS.csv.\n",
      "Downloading data for RAYMOND.NS...\n"
     ]
    },
    {
     "name": "stderr",
     "output_type": "stream",
     "text": [
      "\n"
     ]
    },
    {
     "name": "stdout",
     "output_type": "stream",
     "text": [
      "Data for RAYMOND.NS saved to test_stockdata\\RAYMOND.NS.csv.\n",
      "Downloading data for REDINGTON.NS...\n"
     ]
    },
    {
     "name": "stderr",
     "output_type": "stream",
     "text": [
      "[*********************100%***********************]  1 of 1 completed\n"
     ]
    },
    {
     "name": "stdout",
     "output_type": "stream",
     "text": [
      "Data for REDINGTON.NS saved to test_stockdata\\REDINGTON.NS.csv.\n",
      "Downloading data for RELIANCE.NS...\n"
     ]
    },
    {
     "name": "stderr",
     "output_type": "stream",
     "text": [
      "[*********************100%***********************]  1 of 1 completed\n",
      "[*********************100%***********************]  1 of 1 completed"
     ]
    },
    {
     "name": "stdout",
     "output_type": "stream",
     "text": [
      "Data for RELIANCE.NS saved to test_stockdata\\RELIANCE.NS.csv.\n",
      "Downloading data for ROUTE.NS...\n"
     ]
    },
    {
     "name": "stderr",
     "output_type": "stream",
     "text": [
      "\n"
     ]
    },
    {
     "name": "stdout",
     "output_type": "stream",
     "text": [
      "Data for ROUTE.NS saved to test_stockdata\\ROUTE.NS.csv.\n",
      "Downloading data for SBICARD.NS...\n"
     ]
    },
    {
     "name": "stderr",
     "output_type": "stream",
     "text": [
      "[*********************100%***********************]  1 of 1 completed\n"
     ]
    },
    {
     "name": "stdout",
     "output_type": "stream",
     "text": [
      "Data for SBICARD.NS saved to test_stockdata\\SBICARD.NS.csv.\n",
      "Downloading data for SBILIFE.NS...\n"
     ]
    },
    {
     "name": "stderr",
     "output_type": "stream",
     "text": [
      "[*********************100%***********************]  1 of 1 completed\n"
     ]
    },
    {
     "name": "stdout",
     "output_type": "stream",
     "text": [
      "Data for SBILIFE.NS saved to test_stockdata\\SBILIFE.NS.csv.\n",
      "Downloading data for SJVN.NS...\n"
     ]
    },
    {
     "name": "stderr",
     "output_type": "stream",
     "text": [
      "[*********************100%***********************]  1 of 1 completed\n"
     ]
    },
    {
     "name": "stdout",
     "output_type": "stream",
     "text": [
      "Data for SJVN.NS saved to test_stockdata\\SJVN.NS.csv.\n",
      "Downloading data for SKFINDIA.NS...\n"
     ]
    },
    {
     "name": "stderr",
     "output_type": "stream",
     "text": [
      "[*********************100%***********************]  1 of 1 completed\n"
     ]
    },
    {
     "name": "stdout",
     "output_type": "stream",
     "text": [
      "Data for SKFINDIA.NS saved to test_stockdata\\SKFINDIA.NS.csv.\n",
      "Downloading data for SRF.NS...\n"
     ]
    },
    {
     "name": "stderr",
     "output_type": "stream",
     "text": [
      "[*********************100%***********************]  1 of 1 completed\n"
     ]
    },
    {
     "name": "stdout",
     "output_type": "stream",
     "text": [
      "Data for SRF.NS saved to test_stockdata\\SRF.NS.csv.\n",
      "Downloading data for SAMMAANCAP.NS...\n"
     ]
    },
    {
     "name": "stderr",
     "output_type": "stream",
     "text": [
      "[*********************100%***********************]  1 of 1 completed\n"
     ]
    },
    {
     "name": "stdout",
     "output_type": "stream",
     "text": [
      "Data for SAMMAANCAP.NS saved to test_stockdata\\SAMMAANCAP.NS.csv.\n",
      "Downloading data for MOTHERSON.NS...\n"
     ]
    },
    {
     "name": "stderr",
     "output_type": "stream",
     "text": [
      "[*********************100%***********************]  1 of 1 completed\n"
     ]
    },
    {
     "name": "stdout",
     "output_type": "stream",
     "text": [
      "Data for MOTHERSON.NS saved to test_stockdata\\MOTHERSON.NS.csv.\n",
      "Downloading data for SANOFI.NS...\n"
     ]
    },
    {
     "name": "stderr",
     "output_type": "stream",
     "text": [
      "[*********************100%***********************]  1 of 1 completed\n"
     ]
    },
    {
     "name": "stdout",
     "output_type": "stream",
     "text": [
      "Data for SANOFI.NS saved to test_stockdata\\SANOFI.NS.csv.\n",
      "Downloading data for SAPPHIRE.NS...\n"
     ]
    },
    {
     "name": "stderr",
     "output_type": "stream",
     "text": [
      "[*********************100%***********************]  1 of 1 completed\n"
     ]
    },
    {
     "name": "stdout",
     "output_type": "stream",
     "text": [
      "Data for SAPPHIRE.NS saved to test_stockdata\\SAPPHIRE.NS.csv.\n",
      "Downloading data for SAREGAMA.NS...\n"
     ]
    },
    {
     "name": "stderr",
     "output_type": "stream",
     "text": [
      "[*********************100%***********************]  1 of 1 completed\n"
     ]
    },
    {
     "name": "stdout",
     "output_type": "stream",
     "text": [
      "Data for SAREGAMA.NS saved to test_stockdata\\SAREGAMA.NS.csv.\n",
      "Downloading data for SCHAEFFLER.NS...\n"
     ]
    },
    {
     "name": "stderr",
     "output_type": "stream",
     "text": [
      "[*********************100%***********************]  1 of 1 completed\n"
     ]
    },
    {
     "name": "stdout",
     "output_type": "stream",
     "text": [
      "Data for SCHAEFFLER.NS saved to test_stockdata\\SCHAEFFLER.NS.csv.\n",
      "Downloading data for SCHNEIDER.NS...\n"
     ]
    },
    {
     "name": "stderr",
     "output_type": "stream",
     "text": [
      "[*********************100%***********************]  1 of 1 completed\n"
     ]
    },
    {
     "name": "stdout",
     "output_type": "stream",
     "text": [
      "Data for SCHNEIDER.NS saved to test_stockdata\\SCHNEIDER.NS.csv.\n",
      "Downloading data for SCI.NS...\n"
     ]
    },
    {
     "name": "stderr",
     "output_type": "stream",
     "text": [
      "[*********************100%***********************]  1 of 1 completed\n"
     ]
    },
    {
     "name": "stdout",
     "output_type": "stream",
     "text": [
      "Data for SCI.NS saved to test_stockdata\\SCI.NS.csv.\n",
      "Downloading data for SHREECEM.NS...\n"
     ]
    },
    {
     "name": "stderr",
     "output_type": "stream",
     "text": [
      "[*********************100%***********************]  1 of 1 completed\n"
     ]
    },
    {
     "name": "stdout",
     "output_type": "stream",
     "text": [
      "Data for SHREECEM.NS saved to test_stockdata\\SHREECEM.NS.csv.\n",
      "Downloading data for RENUKA.NS...\n"
     ]
    },
    {
     "name": "stderr",
     "output_type": "stream",
     "text": [
      "[*********************100%***********************]  1 of 1 completed\n"
     ]
    },
    {
     "name": "stdout",
     "output_type": "stream",
     "text": [
      "Data for RENUKA.NS saved to test_stockdata\\RENUKA.NS.csv.\n",
      "Downloading data for SHRIRAMFIN.NS...\n"
     ]
    },
    {
     "name": "stderr",
     "output_type": "stream",
     "text": [
      "[*********************100%***********************]  1 of 1 completed\n"
     ]
    },
    {
     "name": "stdout",
     "output_type": "stream",
     "text": [
      "Data for SHRIRAMFIN.NS saved to test_stockdata\\SHRIRAMFIN.NS.csv.\n",
      "Downloading data for SHYAMMETL.NS...\n"
     ]
    },
    {
     "name": "stderr",
     "output_type": "stream",
     "text": [
      "[*********************100%***********************]  1 of 1 completed\n"
     ]
    },
    {
     "name": "stdout",
     "output_type": "stream",
     "text": [
      "Data for SHYAMMETL.NS saved to test_stockdata\\SHYAMMETL.NS.csv.\n",
      "Downloading data for SIEMENS.NS...\n"
     ]
    },
    {
     "name": "stderr",
     "output_type": "stream",
     "text": [
      "[*********************100%***********************]  1 of 1 completed\n"
     ]
    },
    {
     "name": "stdout",
     "output_type": "stream",
     "text": [
      "Data for SIEMENS.NS saved to test_stockdata\\SIEMENS.NS.csv.\n",
      "Downloading data for SOBHA.NS...\n"
     ]
    },
    {
     "name": "stderr",
     "output_type": "stream",
     "text": [
      "[*********************100%***********************]  1 of 1 completed\n"
     ]
    },
    {
     "name": "stdout",
     "output_type": "stream",
     "text": [
      "Data for SOBHA.NS saved to test_stockdata\\SOBHA.NS.csv.\n",
      "Downloading data for SOLARINDS.NS...\n"
     ]
    },
    {
     "name": "stderr",
     "output_type": "stream",
     "text": [
      "[*********************100%***********************]  1 of 1 completed\n"
     ]
    },
    {
     "name": "stdout",
     "output_type": "stream",
     "text": [
      "Data for SOLARINDS.NS saved to test_stockdata\\SOLARINDS.NS.csv.\n",
      "Downloading data for SONACOMS.NS...\n"
     ]
    },
    {
     "name": "stderr",
     "output_type": "stream",
     "text": [
      "[*********************100%***********************]  1 of 1 completed\n"
     ]
    },
    {
     "name": "stdout",
     "output_type": "stream",
     "text": [
      "Data for SONACOMS.NS saved to test_stockdata\\SONACOMS.NS.csv.\n",
      "Downloading data for SONATSOFTW.NS...\n"
     ]
    },
    {
     "name": "stderr",
     "output_type": "stream",
     "text": [
      "[*********************100%***********************]  1 of 1 completed\n",
      "[*********************100%***********************]  1 of 1 completed"
     ]
    },
    {
     "name": "stdout",
     "output_type": "stream",
     "text": [
      "Data for SONATSOFTW.NS saved to test_stockdata\\SONATSOFTW.NS.csv.\n",
      "Downloading data for STARHEALTH.NS...\n"
     ]
    },
    {
     "name": "stderr",
     "output_type": "stream",
     "text": [
      "\n"
     ]
    },
    {
     "name": "stdout",
     "output_type": "stream",
     "text": [
      "Data for STARHEALTH.NS saved to test_stockdata\\STARHEALTH.NS.csv.\n",
      "Downloading data for SBIN.NS...\n"
     ]
    },
    {
     "name": "stderr",
     "output_type": "stream",
     "text": [
      "[*********************100%***********************]  1 of 1 completed\n"
     ]
    },
    {
     "name": "stdout",
     "output_type": "stream",
     "text": [
      "Data for SBIN.NS saved to test_stockdata\\SBIN.NS.csv.\n",
      "Downloading data for SAIL.NS...\n"
     ]
    },
    {
     "name": "stderr",
     "output_type": "stream",
     "text": [
      "[*********************100%***********************]  1 of 1 completed\n",
      "[*********************100%***********************]  1 of 1 completed"
     ]
    },
    {
     "name": "stdout",
     "output_type": "stream",
     "text": [
      "Data for SAIL.NS saved to test_stockdata\\SAIL.NS.csv.\n",
      "Downloading data for SWSOLAR.NS...\n"
     ]
    },
    {
     "name": "stderr",
     "output_type": "stream",
     "text": [
      "\n"
     ]
    },
    {
     "name": "stdout",
     "output_type": "stream",
     "text": [
      "Data for SWSOLAR.NS saved to test_stockdata\\SWSOLAR.NS.csv.\n",
      "Downloading data for SUMICHEM.NS...\n"
     ]
    },
    {
     "name": "stderr",
     "output_type": "stream",
     "text": [
      "[*********************100%***********************]  1 of 1 completed\n",
      "[*********************100%***********************]  1 of 1 completed"
     ]
    },
    {
     "name": "stdout",
     "output_type": "stream",
     "text": [
      "Data for SUMICHEM.NS saved to test_stockdata\\SUMICHEM.NS.csv.\n",
      "Downloading data for SPARC.NS...\n"
     ]
    },
    {
     "name": "stderr",
     "output_type": "stream",
     "text": [
      "\n"
     ]
    },
    {
     "name": "stdout",
     "output_type": "stream",
     "text": [
      "Data for SPARC.NS saved to test_stockdata\\SPARC.NS.csv.\n",
      "Downloading data for SUNPHARMA.NS...\n"
     ]
    },
    {
     "name": "stderr",
     "output_type": "stream",
     "text": [
      "[*********************100%***********************]  1 of 1 completed\n"
     ]
    },
    {
     "name": "stdout",
     "output_type": "stream",
     "text": [
      "Data for SUNPHARMA.NS saved to test_stockdata\\SUNPHARMA.NS.csv.\n",
      "Downloading data for SUNTV.NS...\n"
     ]
    },
    {
     "name": "stderr",
     "output_type": "stream",
     "text": [
      "[*********************100%***********************]  1 of 1 completed\n"
     ]
    },
    {
     "name": "stdout",
     "output_type": "stream",
     "text": [
      "Data for SUNTV.NS saved to test_stockdata\\SUNTV.NS.csv.\n",
      "Downloading data for SUNDARMFIN.NS...\n"
     ]
    },
    {
     "name": "stderr",
     "output_type": "stream",
     "text": [
      "[*********************100%***********************]  1 of 1 completed\n"
     ]
    },
    {
     "name": "stdout",
     "output_type": "stream",
     "text": [
      "Data for SUNDARMFIN.NS saved to test_stockdata\\SUNDARMFIN.NS.csv.\n",
      "Downloading data for SUNDRMFAST.NS...\n"
     ]
    },
    {
     "name": "stderr",
     "output_type": "stream",
     "text": [
      "[*********************100%***********************]  1 of 1 completed\n"
     ]
    },
    {
     "name": "stdout",
     "output_type": "stream",
     "text": [
      "Data for SUNDRMFAST.NS saved to test_stockdata\\SUNDRMFAST.NS.csv.\n",
      "Downloading data for SUPREMEIND.NS...\n"
     ]
    },
    {
     "name": "stderr",
     "output_type": "stream",
     "text": [
      "[*********************100%***********************]  1 of 1 completed\n",
      "[*********************100%***********************]  1 of 1 completed"
     ]
    },
    {
     "name": "stdout",
     "output_type": "stream",
     "text": [
      "Data for SUPREMEIND.NS saved to test_stockdata\\SUPREMEIND.NS.csv.\n",
      "Downloading data for SUVENPHAR.NS...\n"
     ]
    },
    {
     "name": "stderr",
     "output_type": "stream",
     "text": [
      "\n",
      "[*********************100%***********************]  1 of 1 completed"
     ]
    },
    {
     "name": "stdout",
     "output_type": "stream",
     "text": [
      "Data for SUVENPHAR.NS saved to test_stockdata\\SUVENPHAR.NS.csv.\n",
      "Downloading data for SUZLON.NS...\n"
     ]
    },
    {
     "name": "stderr",
     "output_type": "stream",
     "text": [
      "\n"
     ]
    },
    {
     "name": "stdout",
     "output_type": "stream",
     "text": [
      "Data for SUZLON.NS saved to test_stockdata\\SUZLON.NS.csv.\n",
      "Downloading data for SYNGENE.NS...\n"
     ]
    },
    {
     "name": "stderr",
     "output_type": "stream",
     "text": [
      "[*********************100%***********************]  1 of 1 completed\n"
     ]
    },
    {
     "name": "stdout",
     "output_type": "stream",
     "text": [
      "Data for SYNGENE.NS saved to test_stockdata\\SYNGENE.NS.csv.\n",
      "Downloading data for TVSMOTOR.NS...\n"
     ]
    },
    {
     "name": "stderr",
     "output_type": "stream",
     "text": [
      "[*********************100%***********************]  1 of 1 completed\n"
     ]
    },
    {
     "name": "stdout",
     "output_type": "stream",
     "text": [
      "Data for TVSMOTOR.NS saved to test_stockdata\\TVSMOTOR.NS.csv.\n",
      "Downloading data for TANLA.NS...\n"
     ]
    },
    {
     "name": "stderr",
     "output_type": "stream",
     "text": [
      "[*********************100%***********************]  1 of 1 completed\n"
     ]
    },
    {
     "name": "stdout",
     "output_type": "stream",
     "text": [
      "Data for TANLA.NS saved to test_stockdata\\TANLA.NS.csv.\n",
      "Downloading data for TATACHEM.NS...\n"
     ]
    },
    {
     "name": "stderr",
     "output_type": "stream",
     "text": [
      "[*********************100%***********************]  1 of 1 completed\n"
     ]
    },
    {
     "name": "stdout",
     "output_type": "stream",
     "text": [
      "Data for TATACHEM.NS saved to test_stockdata\\TATACHEM.NS.csv.\n",
      "Downloading data for TATACOMM.NS...\n"
     ]
    },
    {
     "name": "stderr",
     "output_type": "stream",
     "text": [
      "[*********************100%***********************]  1 of 1 completed\n"
     ]
    },
    {
     "name": "stdout",
     "output_type": "stream",
     "text": [
      "Data for TATACOMM.NS saved to test_stockdata\\TATACOMM.NS.csv.\n",
      "Downloading data for TCS.NS...\n"
     ]
    },
    {
     "name": "stderr",
     "output_type": "stream",
     "text": [
      "[*********************100%***********************]  1 of 1 completed\n"
     ]
    },
    {
     "name": "stdout",
     "output_type": "stream",
     "text": [
      "Data for TCS.NS saved to test_stockdata\\TCS.NS.csv.\n",
      "Downloading data for TATACONSUM.NS...\n"
     ]
    },
    {
     "name": "stderr",
     "output_type": "stream",
     "text": [
      "[*********************100%***********************]  1 of 1 completed\n"
     ]
    },
    {
     "name": "stdout",
     "output_type": "stream",
     "text": [
      "Data for TATACONSUM.NS saved to test_stockdata\\TATACONSUM.NS.csv.\n",
      "Downloading data for TATAELXSI.NS...\n"
     ]
    },
    {
     "name": "stderr",
     "output_type": "stream",
     "text": [
      "[*********************100%***********************]  1 of 1 completed\n"
     ]
    },
    {
     "name": "stdout",
     "output_type": "stream",
     "text": [
      "Data for TATAELXSI.NS saved to test_stockdata\\TATAELXSI.NS.csv.\n",
      "Downloading data for TATAINVEST.NS...\n"
     ]
    },
    {
     "name": "stderr",
     "output_type": "stream",
     "text": [
      "[*********************100%***********************]  1 of 1 completed\n"
     ]
    },
    {
     "name": "stdout",
     "output_type": "stream",
     "text": [
      "Data for TATAINVEST.NS saved to test_stockdata\\TATAINVEST.NS.csv.\n",
      "Downloading data for TATAMOTORS.NS...\n"
     ]
    },
    {
     "name": "stderr",
     "output_type": "stream",
     "text": [
      "[*********************100%***********************]  1 of 1 completed\n"
     ]
    },
    {
     "name": "stdout",
     "output_type": "stream",
     "text": [
      "Data for TATAMOTORS.NS saved to test_stockdata\\TATAMOTORS.NS.csv.\n",
      "Downloading data for TATAPOWER.NS...\n"
     ]
    },
    {
     "name": "stderr",
     "output_type": "stream",
     "text": [
      "[*********************100%***********************]  1 of 1 completed\n"
     ]
    },
    {
     "name": "stdout",
     "output_type": "stream",
     "text": [
      "Data for TATAPOWER.NS saved to test_stockdata\\TATAPOWER.NS.csv.\n",
      "Downloading data for TATASTEEL.NS...\n"
     ]
    },
    {
     "name": "stderr",
     "output_type": "stream",
     "text": [
      "[*********************100%***********************]  1 of 1 completed\n",
      "[*********************100%***********************]  1 of 1 completed"
     ]
    },
    {
     "name": "stdout",
     "output_type": "stream",
     "text": [
      "Data for TATASTEEL.NS saved to test_stockdata\\TATASTEEL.NS.csv.\n",
      "Downloading data for TTML.NS...\n"
     ]
    },
    {
     "name": "stderr",
     "output_type": "stream",
     "text": [
      "\n"
     ]
    },
    {
     "name": "stdout",
     "output_type": "stream",
     "text": [
      "Data for TTML.NS saved to test_stockdata\\TTML.NS.csv.\n",
      "Downloading data for TECHM.NS...\n"
     ]
    },
    {
     "name": "stderr",
     "output_type": "stream",
     "text": [
      "[*********************100%***********************]  1 of 1 completed\n"
     ]
    },
    {
     "name": "stdout",
     "output_type": "stream",
     "text": [
      "Data for TECHM.NS saved to test_stockdata\\TECHM.NS.csv.\n",
      "Downloading data for TECHNOE.NS...\n"
     ]
    },
    {
     "name": "stderr",
     "output_type": "stream",
     "text": [
      "[*********************100%***********************]  1 of 1 completed\n"
     ]
    },
    {
     "name": "stdout",
     "output_type": "stream",
     "text": [
      "Data for TECHNOE.NS saved to test_stockdata\\TECHNOE.NS.csv.\n",
      "Downloading data for TEJASNET.NS...\n"
     ]
    },
    {
     "name": "stderr",
     "output_type": "stream",
     "text": [
      "[*********************100%***********************]  1 of 1 completed\n"
     ]
    },
    {
     "name": "stdout",
     "output_type": "stream",
     "text": [
      "Data for TEJASNET.NS saved to test_stockdata\\TEJASNET.NS.csv.\n",
      "Downloading data for NIACL.NS...\n"
     ]
    },
    {
     "name": "stderr",
     "output_type": "stream",
     "text": [
      "[*********************100%***********************]  1 of 1 completed\n"
     ]
    },
    {
     "name": "stdout",
     "output_type": "stream",
     "text": [
      "Data for NIACL.NS saved to test_stockdata\\NIACL.NS.csv.\n",
      "Downloading data for RAMCOCEM.NS...\n"
     ]
    },
    {
     "name": "stderr",
     "output_type": "stream",
     "text": [
      "[*********************100%***********************]  1 of 1 completed\n"
     ]
    },
    {
     "name": "stdout",
     "output_type": "stream",
     "text": [
      "Data for RAMCOCEM.NS saved to test_stockdata\\RAMCOCEM.NS.csv.\n",
      "Downloading data for THERMAX.NS...\n"
     ]
    },
    {
     "name": "stderr",
     "output_type": "stream",
     "text": [
      "[*********************100%***********************]  1 of 1 completed\n"
     ]
    },
    {
     "name": "stdout",
     "output_type": "stream",
     "text": [
      "Data for THERMAX.NS saved to test_stockdata\\THERMAX.NS.csv.\n",
      "Downloading data for TIMKEN.NS...\n"
     ]
    },
    {
     "name": "stderr",
     "output_type": "stream",
     "text": [
      "[*********************100%***********************]  1 of 1 completed\n"
     ]
    },
    {
     "name": "stdout",
     "output_type": "stream",
     "text": [
      "Data for TIMKEN.NS saved to test_stockdata\\TIMKEN.NS.csv.\n",
      "Downloading data for TITAGARH.NS...\n"
     ]
    },
    {
     "name": "stderr",
     "output_type": "stream",
     "text": [
      "[*********************100%***********************]  1 of 1 completed\n"
     ]
    },
    {
     "name": "stdout",
     "output_type": "stream",
     "text": [
      "Data for TITAGARH.NS saved to test_stockdata\\TITAGARH.NS.csv.\n",
      "Downloading data for TITAN.NS...\n"
     ]
    },
    {
     "name": "stderr",
     "output_type": "stream",
     "text": [
      "[*********************100%***********************]  1 of 1 completed\n"
     ]
    },
    {
     "name": "stdout",
     "output_type": "stream",
     "text": [
      "Data for TITAN.NS saved to test_stockdata\\TITAN.NS.csv.\n",
      "Downloading data for TORNTPHARM.NS...\n"
     ]
    },
    {
     "name": "stderr",
     "output_type": "stream",
     "text": [
      "[*********************100%***********************]  1 of 1 completed\n"
     ]
    },
    {
     "name": "stdout",
     "output_type": "stream",
     "text": [
      "Data for TORNTPHARM.NS saved to test_stockdata\\TORNTPHARM.NS.csv.\n",
      "Downloading data for TORNTPOWER.NS...\n"
     ]
    },
    {
     "name": "stderr",
     "output_type": "stream",
     "text": [
      "[*********************100%***********************]  1 of 1 completed\n"
     ]
    },
    {
     "name": "stdout",
     "output_type": "stream",
     "text": [
      "Data for TORNTPOWER.NS saved to test_stockdata\\TORNTPOWER.NS.csv.\n",
      "Downloading data for TRENT.NS...\n"
     ]
    },
    {
     "name": "stderr",
     "output_type": "stream",
     "text": [
      "[*********************100%***********************]  1 of 1 completed\n"
     ]
    },
    {
     "name": "stdout",
     "output_type": "stream",
     "text": [
      "Data for TRENT.NS saved to test_stockdata\\TRENT.NS.csv.\n",
      "Downloading data for TRIDENT.NS...\n"
     ]
    },
    {
     "name": "stderr",
     "output_type": "stream",
     "text": [
      "[*********************100%***********************]  1 of 1 completed\n"
     ]
    },
    {
     "name": "stdout",
     "output_type": "stream",
     "text": [
      "Data for TRIDENT.NS saved to test_stockdata\\TRIDENT.NS.csv.\n",
      "Downloading data for TRIVENI.NS...\n"
     ]
    },
    {
     "name": "stderr",
     "output_type": "stream",
     "text": [
      "[*********************100%***********************]  1 of 1 completed\n"
     ]
    },
    {
     "name": "stdout",
     "output_type": "stream",
     "text": [
      "Data for TRIVENI.NS saved to test_stockdata\\TRIVENI.NS.csv.\n",
      "Downloading data for TRITURBINE.NS...\n"
     ]
    },
    {
     "name": "stderr",
     "output_type": "stream",
     "text": [
      "[*********************100%***********************]  1 of 1 completed\n",
      "[*********************100%***********************]  1 of 1 completed"
     ]
    },
    {
     "name": "stdout",
     "output_type": "stream",
     "text": [
      "Data for TRITURBINE.NS saved to test_stockdata\\TRITURBINE.NS.csv.\n",
      "Downloading data for TIINDIA.NS...\n"
     ]
    },
    {
     "name": "stderr",
     "output_type": "stream",
     "text": [
      "\n"
     ]
    },
    {
     "name": "stdout",
     "output_type": "stream",
     "text": [
      "Data for TIINDIA.NS saved to test_stockdata\\TIINDIA.NS.csv.\n",
      "Downloading data for UCOBANK.NS...\n"
     ]
    },
    {
     "name": "stderr",
     "output_type": "stream",
     "text": [
      "[*********************100%***********************]  1 of 1 completed\n"
     ]
    },
    {
     "name": "stdout",
     "output_type": "stream",
     "text": [
      "Data for UCOBANK.NS saved to test_stockdata\\UCOBANK.NS.csv.\n",
      "Downloading data for UNOMINDA.NS...\n"
     ]
    },
    {
     "name": "stderr",
     "output_type": "stream",
     "text": [
      "[*********************100%***********************]  1 of 1 completed\n"
     ]
    },
    {
     "name": "stdout",
     "output_type": "stream",
     "text": [
      "Data for UNOMINDA.NS saved to test_stockdata\\UNOMINDA.NS.csv.\n",
      "Downloading data for UPL.NS...\n"
     ]
    },
    {
     "name": "stderr",
     "output_type": "stream",
     "text": [
      "[*********************100%***********************]  1 of 1 completed\n",
      "[*********************100%***********************]  1 of 1 completed"
     ]
    },
    {
     "name": "stdout",
     "output_type": "stream",
     "text": [
      "Data for UPL.NS saved to test_stockdata\\UPL.NS.csv.\n",
      "Downloading data for UTIAMC.NS...\n"
     ]
    },
    {
     "name": "stderr",
     "output_type": "stream",
     "text": [
      "\n"
     ]
    },
    {
     "name": "stdout",
     "output_type": "stream",
     "text": [
      "Data for UTIAMC.NS saved to test_stockdata\\UTIAMC.NS.csv.\n",
      "Downloading data for UJJIVANSFB.NS...\n"
     ]
    },
    {
     "name": "stderr",
     "output_type": "stream",
     "text": [
      "[*********************100%***********************]  1 of 1 completed\n"
     ]
    },
    {
     "name": "stdout",
     "output_type": "stream",
     "text": [
      "Data for UJJIVANSFB.NS saved to test_stockdata\\UJJIVANSFB.NS.csv.\n",
      "Downloading data for ULTRACEMCO.NS...\n"
     ]
    },
    {
     "name": "stderr",
     "output_type": "stream",
     "text": [
      "[*********************100%***********************]  1 of 1 completed\n"
     ]
    },
    {
     "name": "stdout",
     "output_type": "stream",
     "text": [
      "Data for ULTRACEMCO.NS saved to test_stockdata\\ULTRACEMCO.NS.csv.\n",
      "Downloading data for UNIONBANK.NS...\n"
     ]
    },
    {
     "name": "stderr",
     "output_type": "stream",
     "text": [
      "[*********************100%***********************]  1 of 1 completed\n"
     ]
    },
    {
     "name": "stdout",
     "output_type": "stream",
     "text": [
      "Data for UNIONBANK.NS saved to test_stockdata\\UNIONBANK.NS.csv.\n",
      "Downloading data for UBL.NS...\n"
     ]
    },
    {
     "name": "stderr",
     "output_type": "stream",
     "text": [
      "[*********************100%***********************]  1 of 1 completed\n"
     ]
    },
    {
     "name": "stdout",
     "output_type": "stream",
     "text": [
      "Data for UBL.NS saved to test_stockdata\\UBL.NS.csv.\n",
      "Downloading data for USHAMART.NS...\n"
     ]
    },
    {
     "name": "stderr",
     "output_type": "stream",
     "text": [
      "[*********************100%***********************]  1 of 1 completed\n"
     ]
    },
    {
     "name": "stdout",
     "output_type": "stream",
     "text": [
      "Data for USHAMART.NS saved to test_stockdata\\USHAMART.NS.csv.\n",
      "Downloading data for VGUARD.NS...\n"
     ]
    },
    {
     "name": "stderr",
     "output_type": "stream",
     "text": [
      "[*********************100%***********************]  1 of 1 completed\n"
     ]
    },
    {
     "name": "stdout",
     "output_type": "stream",
     "text": [
      "Data for VGUARD.NS saved to test_stockdata\\VGUARD.NS.csv.\n",
      "Downloading data for VIPIND.NS...\n"
     ]
    },
    {
     "name": "stderr",
     "output_type": "stream",
     "text": [
      "[*********************100%***********************]  1 of 1 completed\n"
     ]
    },
    {
     "name": "stdout",
     "output_type": "stream",
     "text": [
      "Data for VIPIND.NS saved to test_stockdata\\VIPIND.NS.csv.\n",
      "Downloading data for DBREALTY.NS...\n"
     ]
    },
    {
     "name": "stderr",
     "output_type": "stream",
     "text": [
      "[*********************100%***********************]  1 of 1 completed\n"
     ]
    },
    {
     "name": "stdout",
     "output_type": "stream",
     "text": [
      "Data for DBREALTY.NS saved to test_stockdata\\DBREALTY.NS.csv.\n",
      "Downloading data for VTL.NS...\n"
     ]
    },
    {
     "name": "stderr",
     "output_type": "stream",
     "text": [
      "[*********************100%***********************]  1 of 1 completed\n"
     ]
    },
    {
     "name": "stdout",
     "output_type": "stream",
     "text": [
      "Data for VTL.NS saved to test_stockdata\\VTL.NS.csv.\n",
      "Downloading data for VARROC.NS...\n"
     ]
    },
    {
     "name": "stderr",
     "output_type": "stream",
     "text": [
      "[*********************100%***********************]  1 of 1 completed\n"
     ]
    },
    {
     "name": "stdout",
     "output_type": "stream",
     "text": [
      "Data for VARROC.NS saved to test_stockdata\\VARROC.NS.csv.\n",
      "Downloading data for VBL.NS...\n"
     ]
    },
    {
     "name": "stderr",
     "output_type": "stream",
     "text": [
      "[*********************100%***********************]  1 of 1 completed\n"
     ]
    },
    {
     "name": "stdout",
     "output_type": "stream",
     "text": [
      "Data for VBL.NS saved to test_stockdata\\VBL.NS.csv.\n",
      "Downloading data for VEDL.NS...\n"
     ]
    },
    {
     "name": "stderr",
     "output_type": "stream",
     "text": [
      "[*********************100%***********************]  1 of 1 completed\n"
     ]
    },
    {
     "name": "stdout",
     "output_type": "stream",
     "text": [
      "Data for VEDL.NS saved to test_stockdata\\VEDL.NS.csv.\n",
      "Downloading data for VIJAYA.NS...\n"
     ]
    },
    {
     "name": "stderr",
     "output_type": "stream",
     "text": [
      "[*********************100%***********************]  1 of 1 completed\n",
      "[*********************100%***********************]  1 of 1 completed"
     ]
    },
    {
     "name": "stdout",
     "output_type": "stream",
     "text": [
      "Data for VIJAYA.NS saved to test_stockdata\\VIJAYA.NS.csv.\n",
      "Downloading data for VINATIORGA.NS...\n"
     ]
    },
    {
     "name": "stderr",
     "output_type": "stream",
     "text": [
      "\n",
      "[*********************100%***********************]  1 of 1 completed"
     ]
    },
    {
     "name": "stdout",
     "output_type": "stream",
     "text": [
      "Data for VINATIORGA.NS saved to test_stockdata\\VINATIORGA.NS.csv.\n",
      "Downloading data for IDEA.NS...\n",
      "Data for IDEA.NS saved to test_stockdata\\IDEA.NS.csv.\n",
      "Downloading data for VOLTAS.NS...\n"
     ]
    },
    {
     "name": "stderr",
     "output_type": "stream",
     "text": [
      "\n",
      "[*********************100%***********************]  1 of 1 completed\n",
      "[*********************100%***********************]  1 of 1 completed"
     ]
    },
    {
     "name": "stdout",
     "output_type": "stream",
     "text": [
      "Data for VOLTAS.NS saved to test_stockdata\\VOLTAS.NS.csv.\n",
      "Downloading data for WELCORP.NS...\n"
     ]
    },
    {
     "name": "stderr",
     "output_type": "stream",
     "text": [
      "\n"
     ]
    },
    {
     "name": "stdout",
     "output_type": "stream",
     "text": [
      "Data for WELCORP.NS saved to test_stockdata\\WELCORP.NS.csv.\n",
      "Downloading data for WELSPUNLIV.NS...\n"
     ]
    },
    {
     "name": "stderr",
     "output_type": "stream",
     "text": [
      "[*********************100%***********************]  1 of 1 completed\n",
      "[*********************100%***********************]  1 of 1 completed"
     ]
    },
    {
     "name": "stdout",
     "output_type": "stream",
     "text": [
      "Data for WELSPUNLIV.NS saved to test_stockdata\\WELSPUNLIV.NS.csv.\n",
      "Downloading data for WESTLIFE.NS...\n"
     ]
    },
    {
     "name": "stderr",
     "output_type": "stream",
     "text": [
      "\n"
     ]
    },
    {
     "name": "stdout",
     "output_type": "stream",
     "text": [
      "Data for WESTLIFE.NS saved to test_stockdata\\WESTLIFE.NS.csv.\n",
      "Downloading data for WHIRLPOOL.NS...\n"
     ]
    },
    {
     "name": "stderr",
     "output_type": "stream",
     "text": [
      "[*********************100%***********************]  1 of 1 completed\n"
     ]
    },
    {
     "name": "stdout",
     "output_type": "stream",
     "text": [
      "Data for WHIRLPOOL.NS saved to test_stockdata\\WHIRLPOOL.NS.csv.\n",
      "Downloading data for WIPRO.NS...\n"
     ]
    },
    {
     "name": "stderr",
     "output_type": "stream",
     "text": [
      "[*********************100%***********************]  1 of 1 completed\n",
      "[*********************100%***********************]  1 of 1 completed"
     ]
    },
    {
     "name": "stdout",
     "output_type": "stream",
     "text": [
      "Data for WIPRO.NS saved to test_stockdata\\WIPRO.NS.csv.\n",
      "Downloading data for YESBANK.NS...\n"
     ]
    },
    {
     "name": "stderr",
     "output_type": "stream",
     "text": [
      "\n"
     ]
    },
    {
     "name": "stdout",
     "output_type": "stream",
     "text": [
      "Data for YESBANK.NS saved to test_stockdata\\YESBANK.NS.csv.\n",
      "Downloading data for ZFCVINDIA.NS...\n"
     ]
    },
    {
     "name": "stderr",
     "output_type": "stream",
     "text": [
      "[*********************100%***********************]  1 of 1 completed\n"
     ]
    },
    {
     "name": "stdout",
     "output_type": "stream",
     "text": [
      "Data for ZFCVINDIA.NS saved to test_stockdata\\ZFCVINDIA.NS.csv.\n",
      "Downloading data for ZEEL.NS...\n"
     ]
    },
    {
     "name": "stderr",
     "output_type": "stream",
     "text": [
      "[*********************100%***********************]  1 of 1 completed\n"
     ]
    },
    {
     "name": "stdout",
     "output_type": "stream",
     "text": [
      "Data for ZEEL.NS saved to test_stockdata\\ZEEL.NS.csv.\n",
      "Downloading data for ZENSARTECH.NS...\n"
     ]
    },
    {
     "name": "stderr",
     "output_type": "stream",
     "text": [
      "[*********************100%***********************]  1 of 1 completed\n"
     ]
    },
    {
     "name": "stdout",
     "output_type": "stream",
     "text": [
      "Data for ZENSARTECH.NS saved to test_stockdata\\ZENSARTECH.NS.csv.\n",
      "Downloading data for ZOMATO.NS...\n"
     ]
    },
    {
     "name": "stderr",
     "output_type": "stream",
     "text": [
      "[*********************100%***********************]  1 of 1 completed\n"
     ]
    },
    {
     "name": "stdout",
     "output_type": "stream",
     "text": [
      "Data for ZOMATO.NS saved to test_stockdata\\ZOMATO.NS.csv.\n",
      "Downloading data for ZYDUSLIFE.NS...\n"
     ]
    },
    {
     "name": "stderr",
     "output_type": "stream",
     "text": [
      "[*********************100%***********************]  1 of 1 completed\n"
     ]
    },
    {
     "name": "stdout",
     "output_type": "stream",
     "text": [
      "Data for ZYDUSLIFE.NS saved to test_stockdata\\ZYDUSLIFE.NS.csv.\n",
      "Downloading data for ECLERX.NS...\n"
     ]
    },
    {
     "name": "stderr",
     "output_type": "stream",
     "text": [
      "[*********************100%***********************]  1 of 1 completed"
     ]
    },
    {
     "name": "stdout",
     "output_type": "stream",
     "text": [
      "Data for ECLERX.NS saved to test_stockdata\\ECLERX.NS.csv.\n",
      "Data download complete. Files saved in the folder: test_stockdata\n"
     ]
    },
    {
     "name": "stderr",
     "output_type": "stream",
     "text": [
      "\n"
     ]
    }
   ],
   "source": [
    "import yfinance as yf\n",
    "import pandas as pd\n",
    "import os\n",
    "import time\n",
    "\n",
    "# Create a folder to save the CSV files\n",
    "output_folder = \"test_stockdata\"\n",
    "if not os.path.exists(output_folder):\n",
    "    os.makedirs(output_folder)\n",
    "\n",
    "# Read the CSV file containing Nifty 500 symbols\n",
    "df = pd.read_csv(r'filtered_companies.csv')\n",
    "\n",
    "# Add '.NS' to each ticker (if not already present)\n",
    "tickers = df['Symbol'] + \".NS\"\n",
    "\n",
    "# Define the start and end dates\n",
    "start_date = \"2025-01-11\"\n",
    "end_date = \"2025-03-22\"\n",
    "# Loop through each ticker and download historical data\n",
    "for ticker in tickers:\n",
    "    try:\n",
    "        print(f\"Downloading data for {ticker}...\")\n",
    "        # Fetch the historical data\n",
    "        data = yf.download(ticker, start=start_date, end=end_date)\n",
    "        \n",
    "        # Check if data is not empty\n",
    "        if not data.empty:\n",
    "            # Save the data to a CSV file in the output folder\n",
    "            file_name = os.path.join(output_folder, f\"{ticker}.csv\")\n",
    "            data.to_csv(file_name)\n",
    "            print(f\"Data for {ticker} saved to {file_name}.\")\n",
    "        else:\n",
    "            print(f\"No data found for {ticker}.\")\n",
    "        \n",
    "        # Add a delay to avoid hitting rate limits\n",
    "        \n",
    "    except Exception as e:\n",
    "        print(f\"Error downloading data for {ticker}: {e}\")\n",
    "\n",
    "print(f\"Data download complete. Files saved in the folder: {output_folder}\")"
   ]
  },
  {
   "cell_type": "code",
   "execution_count": 3,
   "metadata": {},
   "outputs": [
    {
     "data": {
      "text/plain": [
       "['360ONE.NS.csv',\n",
       " 'AARTIIND.NS.csv',\n",
       " 'AAVAS.NS.csv',\n",
       " 'ABB.NS.csv',\n",
       " 'ABBOTINDIA.NS.csv',\n",
       " 'ABCAPITAL.NS.csv',\n",
       " 'ABFRL.NS.csv',\n",
       " 'ABSLAMC.NS.csv',\n",
       " 'ACC.NS.csv',\n",
       " 'ACE.NS.csv',\n",
       " 'ADANIENT.NS.csv',\n",
       " 'ADANIGREEN.NS.csv',\n",
       " 'ADANIPORTS.NS.csv',\n",
       " 'ADANIPOWER.NS.csv',\n",
       " 'AFFLE.NS.csv',\n",
       " 'AIAENG.NS.csv',\n",
       " 'AJANTPHARM.NS.csv',\n",
       " 'ALKEM.NS.csv',\n",
       " 'ALKYLAMINE.NS.csv',\n",
       " 'ALOKINDS.NS.csv',\n",
       " 'AMBER.NS.csv',\n",
       " 'AMBUJACEM.NS.csv',\n",
       " 'ANANDRATHI.NS.csv',\n",
       " 'ANANTRAJ.NS.csv',\n",
       " 'ANGELONE.NS.csv',\n",
       " 'APARINDS.NS.csv',\n",
       " 'APLAPOLLO.NS.csv',\n",
       " 'APLLTD.NS.csv',\n",
       " 'APOLLOHOSP.NS.csv',\n",
       " 'APOLLOTYRE.NS.csv',\n",
       " 'APTUS.NS.csv',\n",
       " 'ASAHIINDIA.NS.csv',\n",
       " 'ASHOKLEY.NS.csv',\n",
       " 'ASIANPAINT.NS.csv',\n",
       " 'ASTERDM.NS.csv',\n",
       " 'ASTRAL.NS.csv',\n",
       " 'ASTRAZEN.NS.csv',\n",
       " 'ATGL.NS.csv',\n",
       " 'ATUL.NS.csv',\n",
       " 'AUBANK.NS.csv',\n",
       " 'AUROPHARMA.NS.csv',\n",
       " 'AVANTIFEED.NS.csv',\n",
       " 'AXISBANK.NS.csv',\n",
       " 'BAJAJ-AUTO.NS.csv',\n",
       " 'BAJAJFINSV.NS.csv',\n",
       " 'BAJAJHLDNG.NS.csv',\n",
       " 'BAJFINANCE.NS.csv',\n",
       " 'BALAMINES.NS.csv',\n",
       " 'BALKRISIND.NS.csv',\n",
       " 'BALRAMCHIN.NS.csv',\n",
       " 'BANDHANBNK.NS.csv',\n",
       " 'BANKBARODA.NS.csv',\n",
       " 'BANKINDIA.NS.csv',\n",
       " 'BASF.NS.csv',\n",
       " 'BATAINDIA.NS.csv',\n",
       " 'BAYERCROP.NS.csv',\n",
       " 'BBTC.NS.csv',\n",
       " 'BDL.NS.csv',\n",
       " 'BEL.NS.csv',\n",
       " 'BEML.NS.csv',\n",
       " 'BERGEPAINT.NS.csv',\n",
       " 'BHARATFORG.NS.csv',\n",
       " 'BHARTIARTL.NS.csv',\n",
       " 'BHEL.NS.csv',\n",
       " 'BIOCON.NS.csv',\n",
       " 'BIRLACORPN.NS.csv',\n",
       " 'BLS.NS.csv',\n",
       " 'BLUEDART.NS.csv',\n",
       " 'BLUESTARCO.NS.csv',\n",
       " 'BOSCHLTD.NS.csv',\n",
       " 'BPCL.NS.csv',\n",
       " 'BRITANNIA.NS.csv',\n",
       " 'BSE.NS.csv',\n",
       " 'BSOFT.NS.csv',\n",
       " 'CAMS.NS.csv',\n",
       " 'CANBK.NS.csv',\n",
       " 'CANFINHOME.NS.csv',\n",
       " 'CAPLIPOINT.NS.csv',\n",
       " 'CARBORUNIV.NS.csv',\n",
       " 'CASTROLIND.NS.csv',\n",
       " 'CCL.NS.csv',\n",
       " 'CDSL.NS.csv',\n",
       " 'CEATLTD.NS.csv',\n",
       " 'CENTRALBK.NS.csv',\n",
       " 'CENTURYPLY.NS.csv',\n",
       " 'CERA.NS.csv',\n",
       " 'CESC.NS.csv',\n",
       " 'CGCL.NS.csv',\n",
       " 'CGPOWER.NS.csv',\n",
       " 'CHALET.NS.csv',\n",
       " 'CHAMBLFERT.NS.csv',\n",
       " 'CHEMPLASTS.NS.csv',\n",
       " 'CHENNPETRO.NS.csv',\n",
       " 'CHOLAFIN.NS.csv',\n",
       " 'CHOLAHLDNG.NS.csv',\n",
       " 'CIEINDIA.NS.csv',\n",
       " 'CIPLA.NS.csv',\n",
       " 'CLEAN.NS.csv',\n",
       " 'COALINDIA.NS.csv',\n",
       " 'COCHINSHIP.NS.csv',\n",
       " 'COFORGE.NS.csv',\n",
       " 'COLPAL.NS.csv',\n",
       " 'CONCOR.NS.csv',\n",
       " 'COROMANDEL.NS.csv',\n",
       " 'CRAFTSMAN.NS.csv',\n",
       " 'CREDITACC.NS.csv',\n",
       " 'CRISIL.NS.csv',\n",
       " 'CROMPTON.NS.csv',\n",
       " 'CUB.NS.csv',\n",
       " 'CUMMINSIND.NS.csv',\n",
       " 'CYIENT.NS.csv',\n",
       " 'DABUR.NS.csv',\n",
       " 'DALBHARAT.NS.csv',\n",
       " 'DATAPATTNS.NS.csv',\n",
       " 'DBREALTY.NS.csv',\n",
       " 'DEEPAKFERT.NS.csv',\n",
       " 'DEEPAKNTR.NS.csv',\n",
       " 'DEVYANI.NS.csv',\n",
       " 'DIVISLAB.NS.csv',\n",
       " 'DIXON.NS.csv',\n",
       " 'DLF.NS.csv',\n",
       " 'DMART.NS.csv',\n",
       " 'DRREDDY.NS.csv',\n",
       " 'EASEMYTRIP.NS.csv',\n",
       " 'ECLERX.NS.csv',\n",
       " 'EICHERMOT.NS.csv',\n",
       " 'EIDPARRY.NS.csv',\n",
       " 'EIHOTEL.NS.csv',\n",
       " 'ELECON.NS.csv',\n",
       " 'ELGIEQUIP.NS.csv',\n",
       " 'EMAMILTD.NS.csv',\n",
       " 'ENDURANCE.NS.csv',\n",
       " 'ENGINERSIN.NS.csv',\n",
       " 'EQUITASBNK.NS.csv',\n",
       " 'ERIS.NS.csv',\n",
       " 'ESCORTS.NS.csv',\n",
       " 'EXIDEIND.NS.csv',\n",
       " 'FACT.NS.csv',\n",
       " 'FEDERALBNK.NS.csv',\n",
       " 'FINCABLES.NS.csv',\n",
       " 'FINEORG.NS.csv',\n",
       " 'FINPIPE.NS.csv',\n",
       " 'FLUOROCHEM.NS.csv',\n",
       " 'FORTIS.NS.csv',\n",
       " 'FSL.NS.csv',\n",
       " 'GAEL.NS.csv',\n",
       " 'GAIL.NS.csv',\n",
       " 'GESHIP.NS.csv',\n",
       " 'GICRE.NS.csv',\n",
       " 'GILLETTE.NS.csv',\n",
       " 'GLAND.NS.csv',\n",
       " 'GLAXO.NS.csv',\n",
       " 'GLENMARK.NS.csv',\n",
       " 'GMDCLTD.NS.csv',\n",
       " 'GMRAIRPORT.NS.csv',\n",
       " 'GNFC.NS.csv',\n",
       " 'GODFRYPHLP.NS.csv',\n",
       " 'GODREJAGRO.NS.csv',\n",
       " 'GODREJCP.NS.csv',\n",
       " 'GODREJPROP.NS.csv',\n",
       " 'GPIL.NS.csv',\n",
       " 'GPPL.NS.csv',\n",
       " 'GRANULES.NS.csv',\n",
       " 'GRAPHITE.NS.csv',\n",
       " 'GRASIM.NS.csv',\n",
       " 'GRINDWELL.NS.csv',\n",
       " 'GRINFRA.NS.csv',\n",
       " 'GRSE.NS.csv',\n",
       " 'GSFC.NS.csv',\n",
       " 'GSPL.NS.csv',\n",
       " 'GUJGASLTD.NS.csv',\n",
       " 'GVT&D.NS.csv',\n",
       " 'HAL.NS.csv',\n",
       " 'HAPPSTMNDS.NS.csv',\n",
       " 'HAVELLS.NS.csv',\n",
       " 'HCLTECH.NS.csv',\n",
       " 'HDFCAMC.NS.csv',\n",
       " 'HDFCBANK.NS.csv',\n",
       " 'HDFCLIFE.NS.csv',\n",
       " 'HEG.NS.csv',\n",
       " 'HEROMOTOCO.NS.csv',\n",
       " 'HFCL.NS.csv',\n",
       " 'HINDALCO.NS.csv',\n",
       " 'HINDCOPPER.NS.csv',\n",
       " 'HINDPETRO.NS.csv',\n",
       " 'HINDUNILVR.NS.csv',\n",
       " 'HINDZINC.NS.csv',\n",
       " 'HOMEFIRST.NS.csv',\n",
       " 'HONAUT.NS.csv',\n",
       " 'HSCL.NS.csv',\n",
       " 'HUDCO.NS.csv',\n",
       " 'ICICIBANK.NS.csv',\n",
       " 'ICICIGI.NS.csv',\n",
       " 'ICICIPRULI.NS.csv',\n",
       " 'IDBI.NS.csv',\n",
       " 'IDEA.NS.csv',\n",
       " 'IDFCFIRSTB.NS.csv',\n",
       " 'IEX.NS.csv',\n",
       " 'IFCI.NS.csv',\n",
       " 'IGL.NS.csv',\n",
       " 'IIFL.NS.csv',\n",
       " 'INDHOTEL.NS.csv',\n",
       " 'INDIACEM.NS.csv',\n",
       " 'INDIAMART.NS.csv',\n",
       " 'INDIANB.NS.csv',\n",
       " 'INDIGO.NS.csv',\n",
       " 'INDUSINDBK.NS.csv',\n",
       " 'INDUSTOWER.NS.csv',\n",
       " 'INFY.NS.csv',\n",
       " 'INOXWIND.NS.csv',\n",
       " 'INTELLECT.NS.csv',\n",
       " 'IOB.NS.csv',\n",
       " 'IOC.NS.csv',\n",
       " 'IPCALAB.NS.csv',\n",
       " 'IRB.NS.csv',\n",
       " 'IRCON.NS.csv',\n",
       " 'IRCTC.NS.csv',\n",
       " 'IRFC.NS.csv',\n",
       " 'ISEC.NS.csv',\n",
       " 'ITC.NS.csv',\n",
       " 'ITI.NS.csv',\n",
       " 'J&KBANK.NS.csv',\n",
       " 'JBCHEPHARM.NS.csv',\n",
       " 'JBMA.NS.csv',\n",
       " 'JINDALSAW.NS.csv',\n",
       " 'JINDALSTEL.NS.csv',\n",
       " 'JKCEMENT.NS.csv',\n",
       " 'JKLAKSHMI.NS.csv',\n",
       " 'JKTYRE.NS.csv',\n",
       " 'JMFINANCIL.NS.csv',\n",
       " 'JPPOWER.NS.csv',\n",
       " 'JSL.NS.csv',\n",
       " 'JSWENERGY.NS.csv',\n",
       " 'JSWSTEEL.NS.csv',\n",
       " 'JUBLFOOD.NS.csv',\n",
       " 'JUBLINGREA.NS.csv',\n",
       " 'JUBLPHARMA.NS.csv',\n",
       " 'JUSTDIAL.NS.csv',\n",
       " 'JWL.NS.csv',\n",
       " 'JYOTHYLAB.NS.csv',\n",
       " 'KAJARIACER.NS.csv',\n",
       " 'KALYANKJIL.NS.csv',\n",
       " 'KANSAINER.NS.csv',\n",
       " 'KARURVYSYA.NS.csv',\n",
       " 'KEC.NS.csv',\n",
       " 'KEI.NS.csv',\n",
       " 'KIMS.NS.csv',\n",
       " 'KIRLOSBROS.NS.csv',\n",
       " 'KIRLOSENG.NS.csv',\n",
       " 'KNRCON.NS.csv',\n",
       " 'KOTAKBANK.NS.csv',\n",
       " 'KPITTECH.NS.csv',\n",
       " 'KPRMILL.NS.csv',\n",
       " 'KSB.NS.csv',\n",
       " 'LALPATHLAB.NS.csv',\n",
       " 'LATENTVIEW.NS.csv',\n",
       " 'LAURUSLABS.NS.csv',\n",
       " 'LEMONTREE.NS.csv',\n",
       " 'LICHSGFIN.NS.csv',\n",
       " 'LINDEINDIA.NS.csv',\n",
       " 'LODHA.NS.csv',\n",
       " 'LT.NS.csv',\n",
       " 'LTF.NS.csv',\n",
       " 'LTIM.NS.csv',\n",
       " 'LTTS.NS.csv',\n",
       " 'LUPIN.NS.csv',\n",
       " 'M&M.NS.csv',\n",
       " 'M&MFIN.NS.csv',\n",
       " 'MAHABANK.NS.csv',\n",
       " 'MAHLIFE.NS.csv',\n",
       " 'MAHSEAMLES.NS.csv',\n",
       " 'MANAPPURAM.NS.csv',\n",
       " 'MAPMYINDIA.NS.csv',\n",
       " 'MARICO.NS.csv',\n",
       " 'MARUTI.NS.csv',\n",
       " 'MASTEK.NS.csv',\n",
       " 'MAXHEALTH.NS.csv',\n",
       " 'MAZDOCK.NS.csv',\n",
       " 'MCX.NS.csv',\n",
       " 'METROBRAND.NS.csv',\n",
       " 'METROPOLIS.NS.csv',\n",
       " 'MFSL.NS.csv',\n",
       " 'MGL.NS.csv',\n",
       " 'MINDACORP.NS.csv',\n",
       " 'MMTC.NS.csv',\n",
       " 'MOTHERSON.NS.csv',\n",
       " 'MOTILALOFS.NS.csv',\n",
       " 'MPHASIS.NS.csv',\n",
       " 'MRF.NS.csv',\n",
       " 'MRPL.NS.csv',\n",
       " 'MUTHOOTFIN.NS.csv',\n",
       " 'NAM-INDIA.NS.csv',\n",
       " 'NATCOPHARM.NS.csv',\n",
       " 'NATIONALUM.NS.csv',\n",
       " 'NAUKRI.NS.csv',\n",
       " 'NAVINFLUOR.NS.csv',\n",
       " 'NBCC.NS.csv',\n",
       " 'NCC.NS.csv',\n",
       " 'NESTLEIND.NS.csv',\n",
       " 'NETWORK18.NS.csv',\n",
       " 'NEWGEN.NS.csv',\n",
       " 'NH.NS.csv',\n",
       " 'NHPC.NS.csv',\n",
       " 'NIACL.NS.csv',\n",
       " 'NLCINDIA.NS.csv',\n",
       " 'NMDC.NS.csv',\n",
       " 'NTPC.NS.csv',\n",
       " 'NUVOCO.NS.csv',\n",
       " 'NYKAA.NS.csv',\n",
       " 'OBEROIRLTY.NS.csv',\n",
       " 'OFSS.NS.csv',\n",
       " 'OIL.NS.csv',\n",
       " 'OLECTRA.NS.csv',\n",
       " 'ONGC.NS.csv',\n",
       " 'PAGEIND.NS.csv',\n",
       " 'PATANJALI.NS.csv',\n",
       " 'PAYTM.NS.csv',\n",
       " 'PCBL.NS.csv',\n",
       " 'PEL.NS.csv',\n",
       " 'PERSISTENT.NS.csv',\n",
       " 'PETRONET.NS.csv',\n",
       " 'PFC.NS.csv',\n",
       " 'PFIZER.NS.csv',\n",
       " 'PGHH.NS.csv',\n",
       " 'PIDILITIND.NS.csv',\n",
       " 'PIIND.NS.csv',\n",
       " 'PNB.NS.csv',\n",
       " 'PNBHOUSING.NS.csv',\n",
       " 'PNCINFRA.NS.csv',\n",
       " 'POLICYBZR.NS.csv',\n",
       " 'POLYCAB.NS.csv',\n",
       " 'POLYMED.NS.csv',\n",
       " 'POONAWALLA.NS.csv',\n",
       " 'POWERGRID.NS.csv',\n",
       " 'POWERINDIA.NS.csv',\n",
       " 'PRAJIND.NS.csv',\n",
       " 'PRESTIGE.NS.csv',\n",
       " 'QUESS.NS.csv',\n",
       " 'RADICO.NS.csv',\n",
       " 'RAILTEL.NS.csv',\n",
       " 'RAJESHEXPO.NS.csv',\n",
       " 'RAMCOCEM.NS.csv',\n",
       " 'RATNAMANI.NS.csv',\n",
       " 'RAYMOND.NS.csv',\n",
       " 'RBLBANK.NS.csv',\n",
       " 'RCF.NS.csv',\n",
       " 'RECLTD.NS.csv',\n",
       " 'REDINGTON.NS.csv',\n",
       " 'RELIANCE.NS.csv',\n",
       " 'RENUKA.NS.csv',\n",
       " 'RHIM.NS.csv',\n",
       " 'RITES.NS.csv',\n",
       " 'RKFORGE.NS.csv',\n",
       " 'ROUTE.NS.csv',\n",
       " 'RTNINDIA.NS.csv',\n",
       " 'RVNL.NS.csv',\n",
       " 'SAIL.NS.csv',\n",
       " 'SAMMAANCAP.NS.csv',\n",
       " 'SANOFI.NS.csv',\n",
       " 'SAPPHIRE.NS.csv',\n",
       " 'SAREGAMA.NS.csv',\n",
       " 'SBICARD.NS.csv',\n",
       " 'SBILIFE.NS.csv',\n",
       " 'SBIN.NS.csv',\n",
       " 'SCHAEFFLER.NS.csv',\n",
       " 'SCHNEIDER.NS.csv',\n",
       " 'SCI.NS.csv',\n",
       " 'SHREECEM.NS.csv',\n",
       " 'SHRIRAMFIN.NS.csv',\n",
       " 'SHYAMMETL.NS.csv',\n",
       " 'SIEMENS.NS.csv',\n",
       " 'SJVN.NS.csv',\n",
       " 'SKFINDIA.NS.csv',\n",
       " 'SOBHA.NS.csv',\n",
       " 'SOLARINDS.NS.csv',\n",
       " 'SONACOMS.NS.csv',\n",
       " 'SONATSOFTW.NS.csv',\n",
       " 'SPARC.NS.csv',\n",
       " 'SRF.NS.csv',\n",
       " 'STARHEALTH.NS.csv',\n",
       " 'SUMICHEM.NS.csv',\n",
       " 'SUNDARMFIN.NS.csv',\n",
       " 'SUNDRMFAST.NS.csv',\n",
       " 'SUNPHARMA.NS.csv',\n",
       " 'SUNTV.NS.csv',\n",
       " 'SUPREMEIND.NS.csv',\n",
       " 'SUVENPHAR.NS.csv',\n",
       " 'SUZLON.NS.csv',\n",
       " 'SWSOLAR.NS.csv',\n",
       " 'SYNGENE.NS.csv',\n",
       " 'TANLA.NS.csv',\n",
       " 'TATACHEM.NS.csv',\n",
       " 'TATACOMM.NS.csv',\n",
       " 'TATACONSUM.NS.csv',\n",
       " 'TATAELXSI.NS.csv',\n",
       " 'TATAINVEST.NS.csv',\n",
       " 'TATAMOTORS.NS.csv',\n",
       " 'TATAPOWER.NS.csv',\n",
       " 'TATASTEEL.NS.csv',\n",
       " 'TCS.NS.csv',\n",
       " 'TECHM.NS.csv',\n",
       " 'TECHNOE.NS.csv',\n",
       " 'TEJASNET.NS.csv',\n",
       " 'THERMAX.NS.csv',\n",
       " 'TIINDIA.NS.csv',\n",
       " 'TIMKEN.NS.csv',\n",
       " 'TITAGARH.NS.csv',\n",
       " 'TITAN.NS.csv',\n",
       " 'TORNTPHARM.NS.csv',\n",
       " 'TORNTPOWER.NS.csv',\n",
       " 'TRENT.NS.csv',\n",
       " 'TRIDENT.NS.csv',\n",
       " 'TRITURBINE.NS.csv',\n",
       " 'TRIVENI.NS.csv',\n",
       " 'TTML.NS.csv',\n",
       " 'TVSMOTOR.NS.csv',\n",
       " 'UBL.NS.csv',\n",
       " 'UCOBANK.NS.csv',\n",
       " 'UJJIVANSFB.NS.csv',\n",
       " 'ULTRACEMCO.NS.csv',\n",
       " 'UNIONBANK.NS.csv',\n",
       " 'UNOMINDA.NS.csv',\n",
       " 'UPL.NS.csv',\n",
       " 'USHAMART.NS.csv',\n",
       " 'UTIAMC.NS.csv',\n",
       " 'VARROC.NS.csv',\n",
       " 'VBL.NS.csv',\n",
       " 'VEDL.NS.csv',\n",
       " 'VGUARD.NS.csv',\n",
       " 'VIJAYA.NS.csv',\n",
       " 'VINATIORGA.NS.csv',\n",
       " 'VIPIND.NS.csv',\n",
       " 'VOLTAS.NS.csv',\n",
       " 'VTL.NS.csv',\n",
       " 'WELCORP.NS.csv',\n",
       " 'WELSPUNLIV.NS.csv',\n",
       " 'WESTLIFE.NS.csv',\n",
       " 'WHIRLPOOL.NS.csv',\n",
       " 'WIPRO.NS.csv',\n",
       " 'YESBANK.NS.csv',\n",
       " 'ZEEL.NS.csv',\n",
       " 'ZENSARTECH.NS.csv',\n",
       " 'ZFCVINDIA.NS.csv',\n",
       " 'ZOMATO.NS.csv',\n",
       " 'ZYDUSLIFE.NS.csv']"
      ]
     },
     "execution_count": 3,
     "metadata": {},
     "output_type": "execute_result"
    }
   ],
   "source": [
    "import os\n",
    "import pandas as pd\n",
    "# Define the input and output folder paths\n",
    "input_folder = \"test_stockdata\"\n",
    "output_folder = \"test_cleaned_data\"\n",
    "\n",
    "# Create the output folder if it doesn't exist\n",
    "os.makedirs(output_folder, exist_ok=True)\n",
    "\n",
    "# Process each CSV file in the input folder\n",
    "for file_name in os.listdir(input_folder):\n",
    "    if file_name.endswith(\".csv\"):\n",
    "        # Load the CSV file\n",
    "        file_path = os.path.join(input_folder, file_name)\n",
    "        data = pd.read_csv(file_path)\n",
    "        \n",
    "        # Clean the data\n",
    "        cleaned_data = data.iloc[2:].copy()\n",
    "        cleaned_data.columns = [\"Date\", \"Close\", \"High\", \"Low\", \"Open\", \"Volume\"]\n",
    "        cleaned_data[\"Date\"] = pd.to_datetime(cleaned_data[\"Date\"], errors=\"coerce\")\n",
    "        for col in [\"Close\", \"High\", \"Low\", \"Open\", \"Volume\"]:\n",
    "            cleaned_data[col] = pd.to_numeric(cleaned_data[col], errors=\"coerce\")\n",
    "        cleaned_data.dropna(inplace=True)\n",
    "        \n",
    "        # Save the cleaned data to the output folder\n",
    "        output_file_path = os.path.join(output_folder, file_name)\n",
    "        cleaned_data.to_csv(output_file_path, index=False)\n",
    "\n",
    "# List the cleaned files in the output folder to confirm completion\n",
    "os.listdir(output_folder)\n"
   ]
  },
  {
   "cell_type": "code",
   "execution_count": 4,
   "metadata": {},
   "outputs": [
    {
     "name": "stdout",
     "output_type": "stream",
     "text": [
      "Filtered data for 360ONE.NS.csv saved to test_filtered_data\\360ONE.NS.csv.\n",
      "Filtered data for AARTIIND.NS.csv saved to test_filtered_data\\AARTIIND.NS.csv.\n",
      "Filtered data for AAVAS.NS.csv saved to test_filtered_data\\AAVAS.NS.csv.\n",
      "Filtered data for ABB.NS.csv saved to test_filtered_data\\ABB.NS.csv.\n",
      "Filtered data for ABBOTINDIA.NS.csv saved to test_filtered_data\\ABBOTINDIA.NS.csv.\n",
      "Filtered data for ABCAPITAL.NS.csv saved to test_filtered_data\\ABCAPITAL.NS.csv.\n",
      "Filtered data for ABFRL.NS.csv saved to test_filtered_data\\ABFRL.NS.csv.\n",
      "Filtered data for ABSLAMC.NS.csv saved to test_filtered_data\\ABSLAMC.NS.csv.\n",
      "Filtered data for ACC.NS.csv saved to test_filtered_data\\ACC.NS.csv.\n",
      "Filtered data for ACE.NS.csv saved to test_filtered_data\\ACE.NS.csv.\n",
      "Filtered data for ADANIENT.NS.csv saved to test_filtered_data\\ADANIENT.NS.csv.\n",
      "Filtered data for ADANIGREEN.NS.csv saved to test_filtered_data\\ADANIGREEN.NS.csv.\n",
      "Filtered data for ADANIPORTS.NS.csv saved to test_filtered_data\\ADANIPORTS.NS.csv.\n",
      "Filtered data for ADANIPOWER.NS.csv saved to test_filtered_data\\ADANIPOWER.NS.csv.\n",
      "Filtered data for AFFLE.NS.csv saved to test_filtered_data\\AFFLE.NS.csv.\n",
      "Filtered data for AIAENG.NS.csv saved to test_filtered_data\\AIAENG.NS.csv.\n",
      "Filtered data for AJANTPHARM.NS.csv saved to test_filtered_data\\AJANTPHARM.NS.csv.\n",
      "Filtered data for ALKEM.NS.csv saved to test_filtered_data\\ALKEM.NS.csv.\n",
      "Filtered data for ALKYLAMINE.NS.csv saved to test_filtered_data\\ALKYLAMINE.NS.csv.\n",
      "Filtered data for ALOKINDS.NS.csv saved to test_filtered_data\\ALOKINDS.NS.csv.\n",
      "Filtered data for AMBER.NS.csv saved to test_filtered_data\\AMBER.NS.csv.\n",
      "Filtered data for AMBUJACEM.NS.csv saved to test_filtered_data\\AMBUJACEM.NS.csv.\n",
      "Filtered data for ANANDRATHI.NS.csv saved to test_filtered_data\\ANANDRATHI.NS.csv.\n",
      "Filtered data for ANANTRAJ.NS.csv saved to test_filtered_data\\ANANTRAJ.NS.csv.\n",
      "Filtered data for ANGELONE.NS.csv saved to test_filtered_data\\ANGELONE.NS.csv.\n",
      "Filtered data for APARINDS.NS.csv saved to test_filtered_data\\APARINDS.NS.csv.\n",
      "Filtered data for APLAPOLLO.NS.csv saved to test_filtered_data\\APLAPOLLO.NS.csv.\n",
      "Filtered data for APLLTD.NS.csv saved to test_filtered_data\\APLLTD.NS.csv.\n",
      "Filtered data for APOLLOHOSP.NS.csv saved to test_filtered_data\\APOLLOHOSP.NS.csv.\n",
      "Filtered data for APOLLOTYRE.NS.csv saved to test_filtered_data\\APOLLOTYRE.NS.csv.\n",
      "Filtered data for APTUS.NS.csv saved to test_filtered_data\\APTUS.NS.csv.\n",
      "Filtered data for ASAHIINDIA.NS.csv saved to test_filtered_data\\ASAHIINDIA.NS.csv.\n",
      "Filtered data for ASHOKLEY.NS.csv saved to test_filtered_data\\ASHOKLEY.NS.csv.\n",
      "Filtered data for ASIANPAINT.NS.csv saved to test_filtered_data\\ASIANPAINT.NS.csv.\n",
      "Filtered data for ASTERDM.NS.csv saved to test_filtered_data\\ASTERDM.NS.csv.\n",
      "Filtered data for ASTRAL.NS.csv saved to test_filtered_data\\ASTRAL.NS.csv.\n",
      "Filtered data for ASTRAZEN.NS.csv saved to test_filtered_data\\ASTRAZEN.NS.csv.\n",
      "Filtered data for ATGL.NS.csv saved to test_filtered_data\\ATGL.NS.csv.\n",
      "Filtered data for ATUL.NS.csv saved to test_filtered_data\\ATUL.NS.csv.\n",
      "Filtered data for AUBANK.NS.csv saved to test_filtered_data\\AUBANK.NS.csv.\n",
      "Filtered data for AUROPHARMA.NS.csv saved to test_filtered_data\\AUROPHARMA.NS.csv.\n",
      "Filtered data for AVANTIFEED.NS.csv saved to test_filtered_data\\AVANTIFEED.NS.csv.\n",
      "Filtered data for AXISBANK.NS.csv saved to test_filtered_data\\AXISBANK.NS.csv.\n",
      "Filtered data for BAJAJ-AUTO.NS.csv saved to test_filtered_data\\BAJAJ-AUTO.NS.csv.\n",
      "Filtered data for BAJAJFINSV.NS.csv saved to test_filtered_data\\BAJAJFINSV.NS.csv.\n",
      "Filtered data for BAJAJHLDNG.NS.csv saved to test_filtered_data\\BAJAJHLDNG.NS.csv.\n",
      "Filtered data for BAJFINANCE.NS.csv saved to test_filtered_data\\BAJFINANCE.NS.csv.\n",
      "Filtered data for BALAMINES.NS.csv saved to test_filtered_data\\BALAMINES.NS.csv.\n",
      "Filtered data for BALKRISIND.NS.csv saved to test_filtered_data\\BALKRISIND.NS.csv.\n",
      "Filtered data for BALRAMCHIN.NS.csv saved to test_filtered_data\\BALRAMCHIN.NS.csv.\n",
      "Filtered data for BANDHANBNK.NS.csv saved to test_filtered_data\\BANDHANBNK.NS.csv.\n",
      "Filtered data for BANKBARODA.NS.csv saved to test_filtered_data\\BANKBARODA.NS.csv.\n",
      "Filtered data for BANKINDIA.NS.csv saved to test_filtered_data\\BANKINDIA.NS.csv.\n",
      "Filtered data for BASF.NS.csv saved to test_filtered_data\\BASF.NS.csv.\n",
      "Filtered data for BATAINDIA.NS.csv saved to test_filtered_data\\BATAINDIA.NS.csv.\n",
      "Filtered data for BAYERCROP.NS.csv saved to test_filtered_data\\BAYERCROP.NS.csv.\n",
      "Filtered data for BBTC.NS.csv saved to test_filtered_data\\BBTC.NS.csv.\n",
      "Filtered data for BDL.NS.csv saved to test_filtered_data\\BDL.NS.csv.\n",
      "Filtered data for BEL.NS.csv saved to test_filtered_data\\BEL.NS.csv.\n",
      "Filtered data for BEML.NS.csv saved to test_filtered_data\\BEML.NS.csv.\n",
      "Filtered data for BERGEPAINT.NS.csv saved to test_filtered_data\\BERGEPAINT.NS.csv.\n",
      "Filtered data for BHARATFORG.NS.csv saved to test_filtered_data\\BHARATFORG.NS.csv.\n",
      "Filtered data for BHARTIARTL.NS.csv saved to test_filtered_data\\BHARTIARTL.NS.csv.\n",
      "Filtered data for BHEL.NS.csv saved to test_filtered_data\\BHEL.NS.csv.\n",
      "Filtered data for BIOCON.NS.csv saved to test_filtered_data\\BIOCON.NS.csv.\n",
      "Filtered data for BIRLACORPN.NS.csv saved to test_filtered_data\\BIRLACORPN.NS.csv.\n",
      "Filtered data for BLS.NS.csv saved to test_filtered_data\\BLS.NS.csv.\n",
      "Filtered data for BLUEDART.NS.csv saved to test_filtered_data\\BLUEDART.NS.csv.\n",
      "Filtered data for BLUESTARCO.NS.csv saved to test_filtered_data\\BLUESTARCO.NS.csv.\n",
      "Filtered data for BOSCHLTD.NS.csv saved to test_filtered_data\\BOSCHLTD.NS.csv.\n",
      "Filtered data for BPCL.NS.csv saved to test_filtered_data\\BPCL.NS.csv.\n",
      "Filtered data for BRITANNIA.NS.csv saved to test_filtered_data\\BRITANNIA.NS.csv.\n",
      "Filtered data for BSE.NS.csv saved to test_filtered_data\\BSE.NS.csv.\n",
      "Filtered data for BSOFT.NS.csv saved to test_filtered_data\\BSOFT.NS.csv.\n",
      "Filtered data for CAMS.NS.csv saved to test_filtered_data\\CAMS.NS.csv.\n",
      "Filtered data for CANBK.NS.csv saved to test_filtered_data\\CANBK.NS.csv.\n",
      "Filtered data for CANFINHOME.NS.csv saved to test_filtered_data\\CANFINHOME.NS.csv.\n",
      "Filtered data for CAPLIPOINT.NS.csv saved to test_filtered_data\\CAPLIPOINT.NS.csv.\n",
      "Filtered data for CARBORUNIV.NS.csv saved to test_filtered_data\\CARBORUNIV.NS.csv.\n",
      "Filtered data for CASTROLIND.NS.csv saved to test_filtered_data\\CASTROLIND.NS.csv.\n",
      "Filtered data for CCL.NS.csv saved to test_filtered_data\\CCL.NS.csv.\n",
      "Filtered data for CDSL.NS.csv saved to test_filtered_data\\CDSL.NS.csv.\n",
      "Filtered data for CEATLTD.NS.csv saved to test_filtered_data\\CEATLTD.NS.csv.\n",
      "Filtered data for CENTRALBK.NS.csv saved to test_filtered_data\\CENTRALBK.NS.csv.\n",
      "Filtered data for CENTURYPLY.NS.csv saved to test_filtered_data\\CENTURYPLY.NS.csv.\n",
      "Filtered data for CERA.NS.csv saved to test_filtered_data\\CERA.NS.csv.\n",
      "Filtered data for CESC.NS.csv saved to test_filtered_data\\CESC.NS.csv.\n",
      "Filtered data for CGCL.NS.csv saved to test_filtered_data\\CGCL.NS.csv.\n",
      "Filtered data for CGPOWER.NS.csv saved to test_filtered_data\\CGPOWER.NS.csv.\n",
      "Filtered data for CHALET.NS.csv saved to test_filtered_data\\CHALET.NS.csv.\n",
      "Filtered data for CHAMBLFERT.NS.csv saved to test_filtered_data\\CHAMBLFERT.NS.csv.\n",
      "Filtered data for CHEMPLASTS.NS.csv saved to test_filtered_data\\CHEMPLASTS.NS.csv.\n",
      "Filtered data for CHENNPETRO.NS.csv saved to test_filtered_data\\CHENNPETRO.NS.csv.\n",
      "Filtered data for CHOLAFIN.NS.csv saved to test_filtered_data\\CHOLAFIN.NS.csv.\n",
      "Filtered data for CHOLAHLDNG.NS.csv saved to test_filtered_data\\CHOLAHLDNG.NS.csv.\n",
      "Filtered data for CIEINDIA.NS.csv saved to test_filtered_data\\CIEINDIA.NS.csv.\n",
      "Filtered data for CIPLA.NS.csv saved to test_filtered_data\\CIPLA.NS.csv.\n",
      "Filtered data for CLEAN.NS.csv saved to test_filtered_data\\CLEAN.NS.csv.\n",
      "Filtered data for COALINDIA.NS.csv saved to test_filtered_data\\COALINDIA.NS.csv.\n",
      "Filtered data for COCHINSHIP.NS.csv saved to test_filtered_data\\COCHINSHIP.NS.csv.\n",
      "Filtered data for COFORGE.NS.csv saved to test_filtered_data\\COFORGE.NS.csv.\n",
      "Filtered data for COLPAL.NS.csv saved to test_filtered_data\\COLPAL.NS.csv.\n",
      "Filtered data for CONCOR.NS.csv saved to test_filtered_data\\CONCOR.NS.csv.\n",
      "Filtered data for COROMANDEL.NS.csv saved to test_filtered_data\\COROMANDEL.NS.csv.\n",
      "Filtered data for CRAFTSMAN.NS.csv saved to test_filtered_data\\CRAFTSMAN.NS.csv.\n",
      "Filtered data for CREDITACC.NS.csv saved to test_filtered_data\\CREDITACC.NS.csv.\n",
      "Filtered data for CRISIL.NS.csv saved to test_filtered_data\\CRISIL.NS.csv.\n",
      "Filtered data for CROMPTON.NS.csv saved to test_filtered_data\\CROMPTON.NS.csv.\n",
      "Filtered data for CUB.NS.csv saved to test_filtered_data\\CUB.NS.csv.\n",
      "Filtered data for CUMMINSIND.NS.csv saved to test_filtered_data\\CUMMINSIND.NS.csv.\n",
      "Filtered data for CYIENT.NS.csv saved to test_filtered_data\\CYIENT.NS.csv.\n",
      "Filtered data for DABUR.NS.csv saved to test_filtered_data\\DABUR.NS.csv.\n",
      "Filtered data for DALBHARAT.NS.csv saved to test_filtered_data\\DALBHARAT.NS.csv.\n",
      "Filtered data for DATAPATTNS.NS.csv saved to test_filtered_data\\DATAPATTNS.NS.csv.\n",
      "Filtered data for DBREALTY.NS.csv saved to test_filtered_data\\DBREALTY.NS.csv.\n",
      "Filtered data for DEEPAKFERT.NS.csv saved to test_filtered_data\\DEEPAKFERT.NS.csv.\n",
      "Filtered data for DEEPAKNTR.NS.csv saved to test_filtered_data\\DEEPAKNTR.NS.csv.\n",
      "Filtered data for DEVYANI.NS.csv saved to test_filtered_data\\DEVYANI.NS.csv.\n",
      "Filtered data for DIVISLAB.NS.csv saved to test_filtered_data\\DIVISLAB.NS.csv.\n",
      "Filtered data for DIXON.NS.csv saved to test_filtered_data\\DIXON.NS.csv.\n",
      "Filtered data for DLF.NS.csv saved to test_filtered_data\\DLF.NS.csv.\n",
      "Filtered data for DMART.NS.csv saved to test_filtered_data\\DMART.NS.csv.\n",
      "Filtered data for DRREDDY.NS.csv saved to test_filtered_data\\DRREDDY.NS.csv.\n",
      "Filtered data for EASEMYTRIP.NS.csv saved to test_filtered_data\\EASEMYTRIP.NS.csv.\n",
      "Filtered data for ECLERX.NS.csv saved to test_filtered_data\\ECLERX.NS.csv.\n",
      "Filtered data for EICHERMOT.NS.csv saved to test_filtered_data\\EICHERMOT.NS.csv.\n",
      "Filtered data for EIDPARRY.NS.csv saved to test_filtered_data\\EIDPARRY.NS.csv.\n",
      "Filtered data for EIHOTEL.NS.csv saved to test_filtered_data\\EIHOTEL.NS.csv.\n",
      "Filtered data for ELECON.NS.csv saved to test_filtered_data\\ELECON.NS.csv.\n",
      "Filtered data for ELGIEQUIP.NS.csv saved to test_filtered_data\\ELGIEQUIP.NS.csv.\n",
      "Filtered data for EMAMILTD.NS.csv saved to test_filtered_data\\EMAMILTD.NS.csv.\n",
      "Filtered data for ENDURANCE.NS.csv saved to test_filtered_data\\ENDURANCE.NS.csv.\n",
      "Filtered data for ENGINERSIN.NS.csv saved to test_filtered_data\\ENGINERSIN.NS.csv.\n",
      "Filtered data for EQUITASBNK.NS.csv saved to test_filtered_data\\EQUITASBNK.NS.csv.\n",
      "Filtered data for ERIS.NS.csv saved to test_filtered_data\\ERIS.NS.csv.\n",
      "Filtered data for ESCORTS.NS.csv saved to test_filtered_data\\ESCORTS.NS.csv.\n",
      "Filtered data for EXIDEIND.NS.csv saved to test_filtered_data\\EXIDEIND.NS.csv.\n",
      "Filtered data for FACT.NS.csv saved to test_filtered_data\\FACT.NS.csv.\n",
      "Filtered data for FEDERALBNK.NS.csv saved to test_filtered_data\\FEDERALBNK.NS.csv.\n",
      "Filtered data for FINCABLES.NS.csv saved to test_filtered_data\\FINCABLES.NS.csv.\n",
      "Filtered data for FINEORG.NS.csv saved to test_filtered_data\\FINEORG.NS.csv.\n",
      "Filtered data for FINPIPE.NS.csv saved to test_filtered_data\\FINPIPE.NS.csv.\n",
      "Filtered data for FLUOROCHEM.NS.csv saved to test_filtered_data\\FLUOROCHEM.NS.csv.\n",
      "Filtered data for FORTIS.NS.csv saved to test_filtered_data\\FORTIS.NS.csv.\n",
      "Filtered data for FSL.NS.csv saved to test_filtered_data\\FSL.NS.csv.\n",
      "Filtered data for GAEL.NS.csv saved to test_filtered_data\\GAEL.NS.csv.\n",
      "Filtered data for GAIL.NS.csv saved to test_filtered_data\\GAIL.NS.csv.\n",
      "Filtered data for GESHIP.NS.csv saved to test_filtered_data\\GESHIP.NS.csv.\n",
      "Filtered data for GICRE.NS.csv saved to test_filtered_data\\GICRE.NS.csv.\n",
      "Filtered data for GILLETTE.NS.csv saved to test_filtered_data\\GILLETTE.NS.csv.\n",
      "Filtered data for GLAND.NS.csv saved to test_filtered_data\\GLAND.NS.csv.\n",
      "Filtered data for GLAXO.NS.csv saved to test_filtered_data\\GLAXO.NS.csv.\n",
      "Filtered data for GLENMARK.NS.csv saved to test_filtered_data\\GLENMARK.NS.csv.\n",
      "Filtered data for GMDCLTD.NS.csv saved to test_filtered_data\\GMDCLTD.NS.csv.\n",
      "Filtered data for GMRAIRPORT.NS.csv saved to test_filtered_data\\GMRAIRPORT.NS.csv.\n",
      "Filtered data for GNFC.NS.csv saved to test_filtered_data\\GNFC.NS.csv.\n",
      "Filtered data for GODFRYPHLP.NS.csv saved to test_filtered_data\\GODFRYPHLP.NS.csv.\n",
      "Filtered data for GODREJAGRO.NS.csv saved to test_filtered_data\\GODREJAGRO.NS.csv.\n",
      "Filtered data for GODREJCP.NS.csv saved to test_filtered_data\\GODREJCP.NS.csv.\n",
      "Filtered data for GODREJPROP.NS.csv saved to test_filtered_data\\GODREJPROP.NS.csv.\n",
      "Filtered data for GPIL.NS.csv saved to test_filtered_data\\GPIL.NS.csv.\n",
      "Filtered data for GPPL.NS.csv saved to test_filtered_data\\GPPL.NS.csv.\n",
      "Filtered data for GRANULES.NS.csv saved to test_filtered_data\\GRANULES.NS.csv.\n",
      "Filtered data for GRAPHITE.NS.csv saved to test_filtered_data\\GRAPHITE.NS.csv.\n",
      "Filtered data for GRASIM.NS.csv saved to test_filtered_data\\GRASIM.NS.csv.\n",
      "Filtered data for GRINDWELL.NS.csv saved to test_filtered_data\\GRINDWELL.NS.csv.\n",
      "Filtered data for GRINFRA.NS.csv saved to test_filtered_data\\GRINFRA.NS.csv.\n",
      "Filtered data for GRSE.NS.csv saved to test_filtered_data\\GRSE.NS.csv.\n",
      "Filtered data for GSFC.NS.csv saved to test_filtered_data\\GSFC.NS.csv.\n",
      "Filtered data for GSPL.NS.csv saved to test_filtered_data\\GSPL.NS.csv.\n",
      "Filtered data for GUJGASLTD.NS.csv saved to test_filtered_data\\GUJGASLTD.NS.csv.\n",
      "Filtered data for GVT&D.NS.csv saved to test_filtered_data\\GVT&D.NS.csv.\n",
      "Filtered data for HAL.NS.csv saved to test_filtered_data\\HAL.NS.csv.\n",
      "Filtered data for HAPPSTMNDS.NS.csv saved to test_filtered_data\\HAPPSTMNDS.NS.csv.\n",
      "Filtered data for HAVELLS.NS.csv saved to test_filtered_data\\HAVELLS.NS.csv.\n",
      "Filtered data for HCLTECH.NS.csv saved to test_filtered_data\\HCLTECH.NS.csv.\n",
      "Filtered data for HDFCAMC.NS.csv saved to test_filtered_data\\HDFCAMC.NS.csv.\n",
      "Filtered data for HDFCBANK.NS.csv saved to test_filtered_data\\HDFCBANK.NS.csv.\n",
      "Filtered data for HDFCLIFE.NS.csv saved to test_filtered_data\\HDFCLIFE.NS.csv.\n",
      "Filtered data for HEG.NS.csv saved to test_filtered_data\\HEG.NS.csv.\n",
      "Filtered data for HEROMOTOCO.NS.csv saved to test_filtered_data\\HEROMOTOCO.NS.csv.\n",
      "Filtered data for HFCL.NS.csv saved to test_filtered_data\\HFCL.NS.csv.\n",
      "Filtered data for HINDALCO.NS.csv saved to test_filtered_data\\HINDALCO.NS.csv.\n",
      "Filtered data for HINDCOPPER.NS.csv saved to test_filtered_data\\HINDCOPPER.NS.csv.\n",
      "Filtered data for HINDPETRO.NS.csv saved to test_filtered_data\\HINDPETRO.NS.csv.\n",
      "Filtered data for HINDUNILVR.NS.csv saved to test_filtered_data\\HINDUNILVR.NS.csv.\n",
      "Filtered data for HINDZINC.NS.csv saved to test_filtered_data\\HINDZINC.NS.csv.\n",
      "Filtered data for HOMEFIRST.NS.csv saved to test_filtered_data\\HOMEFIRST.NS.csv.\n",
      "Filtered data for HONAUT.NS.csv saved to test_filtered_data\\HONAUT.NS.csv.\n",
      "Filtered data for HSCL.NS.csv saved to test_filtered_data\\HSCL.NS.csv.\n",
      "Filtered data for HUDCO.NS.csv saved to test_filtered_data\\HUDCO.NS.csv.\n",
      "Filtered data for ICICIBANK.NS.csv saved to test_filtered_data\\ICICIBANK.NS.csv.\n",
      "Filtered data for ICICIGI.NS.csv saved to test_filtered_data\\ICICIGI.NS.csv.\n",
      "Filtered data for ICICIPRULI.NS.csv saved to test_filtered_data\\ICICIPRULI.NS.csv.\n",
      "Filtered data for IDBI.NS.csv saved to test_filtered_data\\IDBI.NS.csv.\n",
      "Filtered data for IDEA.NS.csv saved to test_filtered_data\\IDEA.NS.csv.\n",
      "Filtered data for IDFCFIRSTB.NS.csv saved to test_filtered_data\\IDFCFIRSTB.NS.csv.\n",
      "Filtered data for IEX.NS.csv saved to test_filtered_data\\IEX.NS.csv.\n",
      "Filtered data for IFCI.NS.csv saved to test_filtered_data\\IFCI.NS.csv.\n",
      "Filtered data for IGL.NS.csv saved to test_filtered_data\\IGL.NS.csv.\n",
      "Filtered data for IIFL.NS.csv saved to test_filtered_data\\IIFL.NS.csv.\n",
      "Filtered data for INDHOTEL.NS.csv saved to test_filtered_data\\INDHOTEL.NS.csv.\n",
      "Filtered data for INDIACEM.NS.csv saved to test_filtered_data\\INDIACEM.NS.csv.\n",
      "Filtered data for INDIAMART.NS.csv saved to test_filtered_data\\INDIAMART.NS.csv.\n",
      "Filtered data for INDIANB.NS.csv saved to test_filtered_data\\INDIANB.NS.csv.\n",
      "Filtered data for INDIGO.NS.csv saved to test_filtered_data\\INDIGO.NS.csv.\n",
      "Filtered data for INDUSINDBK.NS.csv saved to test_filtered_data\\INDUSINDBK.NS.csv.\n",
      "Filtered data for INDUSTOWER.NS.csv saved to test_filtered_data\\INDUSTOWER.NS.csv.\n",
      "Filtered data for INFY.NS.csv saved to test_filtered_data\\INFY.NS.csv.\n",
      "Filtered data for INOXWIND.NS.csv saved to test_filtered_data\\INOXWIND.NS.csv.\n",
      "Filtered data for INTELLECT.NS.csv saved to test_filtered_data\\INTELLECT.NS.csv.\n",
      "Filtered data for IOB.NS.csv saved to test_filtered_data\\IOB.NS.csv.\n",
      "Filtered data for IOC.NS.csv saved to test_filtered_data\\IOC.NS.csv.\n",
      "Filtered data for IPCALAB.NS.csv saved to test_filtered_data\\IPCALAB.NS.csv.\n",
      "Filtered data for IRB.NS.csv saved to test_filtered_data\\IRB.NS.csv.\n",
      "Filtered data for IRCON.NS.csv saved to test_filtered_data\\IRCON.NS.csv.\n",
      "Filtered data for IRCTC.NS.csv saved to test_filtered_data\\IRCTC.NS.csv.\n",
      "Filtered data for IRFC.NS.csv saved to test_filtered_data\\IRFC.NS.csv.\n",
      "Filtered data for ISEC.NS.csv saved to test_filtered_data\\ISEC.NS.csv.\n",
      "Filtered data for ITC.NS.csv saved to test_filtered_data\\ITC.NS.csv.\n",
      "Filtered data for ITI.NS.csv saved to test_filtered_data\\ITI.NS.csv.\n",
      "Filtered data for J&KBANK.NS.csv saved to test_filtered_data\\J&KBANK.NS.csv.\n",
      "Filtered data for JBCHEPHARM.NS.csv saved to test_filtered_data\\JBCHEPHARM.NS.csv.\n",
      "Filtered data for JBMA.NS.csv saved to test_filtered_data\\JBMA.NS.csv.\n",
      "Filtered data for JINDALSAW.NS.csv saved to test_filtered_data\\JINDALSAW.NS.csv.\n",
      "Filtered data for JINDALSTEL.NS.csv saved to test_filtered_data\\JINDALSTEL.NS.csv.\n",
      "Filtered data for JKCEMENT.NS.csv saved to test_filtered_data\\JKCEMENT.NS.csv.\n",
      "Filtered data for JKLAKSHMI.NS.csv saved to test_filtered_data\\JKLAKSHMI.NS.csv.\n",
      "Filtered data for JKTYRE.NS.csv saved to test_filtered_data\\JKTYRE.NS.csv.\n",
      "Filtered data for JMFINANCIL.NS.csv saved to test_filtered_data\\JMFINANCIL.NS.csv.\n",
      "Filtered data for JPPOWER.NS.csv saved to test_filtered_data\\JPPOWER.NS.csv.\n",
      "Filtered data for JSL.NS.csv saved to test_filtered_data\\JSL.NS.csv.\n",
      "Filtered data for JSWENERGY.NS.csv saved to test_filtered_data\\JSWENERGY.NS.csv.\n",
      "Filtered data for JSWSTEEL.NS.csv saved to test_filtered_data\\JSWSTEEL.NS.csv.\n",
      "Filtered data for JUBLFOOD.NS.csv saved to test_filtered_data\\JUBLFOOD.NS.csv.\n",
      "Filtered data for JUBLINGREA.NS.csv saved to test_filtered_data\\JUBLINGREA.NS.csv.\n",
      "Filtered data for JUBLPHARMA.NS.csv saved to test_filtered_data\\JUBLPHARMA.NS.csv.\n",
      "Filtered data for JUSTDIAL.NS.csv saved to test_filtered_data\\JUSTDIAL.NS.csv.\n",
      "Filtered data for JWL.NS.csv saved to test_filtered_data\\JWL.NS.csv.\n",
      "Filtered data for JYOTHYLAB.NS.csv saved to test_filtered_data\\JYOTHYLAB.NS.csv.\n",
      "Filtered data for KAJARIACER.NS.csv saved to test_filtered_data\\KAJARIACER.NS.csv.\n",
      "Filtered data for KALYANKJIL.NS.csv saved to test_filtered_data\\KALYANKJIL.NS.csv.\n",
      "Filtered data for KANSAINER.NS.csv saved to test_filtered_data\\KANSAINER.NS.csv.\n",
      "Filtered data for KARURVYSYA.NS.csv saved to test_filtered_data\\KARURVYSYA.NS.csv.\n",
      "Filtered data for KEC.NS.csv saved to test_filtered_data\\KEC.NS.csv.\n",
      "Filtered data for KEI.NS.csv saved to test_filtered_data\\KEI.NS.csv.\n",
      "Filtered data for KIMS.NS.csv saved to test_filtered_data\\KIMS.NS.csv.\n",
      "Filtered data for KIRLOSBROS.NS.csv saved to test_filtered_data\\KIRLOSBROS.NS.csv.\n",
      "Filtered data for KIRLOSENG.NS.csv saved to test_filtered_data\\KIRLOSENG.NS.csv.\n",
      "Filtered data for KNRCON.NS.csv saved to test_filtered_data\\KNRCON.NS.csv.\n",
      "Filtered data for KOTAKBANK.NS.csv saved to test_filtered_data\\KOTAKBANK.NS.csv.\n",
      "Filtered data for KPITTECH.NS.csv saved to test_filtered_data\\KPITTECH.NS.csv.\n",
      "Filtered data for KPRMILL.NS.csv saved to test_filtered_data\\KPRMILL.NS.csv.\n",
      "Filtered data for KSB.NS.csv saved to test_filtered_data\\KSB.NS.csv.\n",
      "Filtered data for LALPATHLAB.NS.csv saved to test_filtered_data\\LALPATHLAB.NS.csv.\n",
      "Filtered data for LATENTVIEW.NS.csv saved to test_filtered_data\\LATENTVIEW.NS.csv.\n",
      "Filtered data for LAURUSLABS.NS.csv saved to test_filtered_data\\LAURUSLABS.NS.csv.\n",
      "Filtered data for LEMONTREE.NS.csv saved to test_filtered_data\\LEMONTREE.NS.csv.\n",
      "Filtered data for LICHSGFIN.NS.csv saved to test_filtered_data\\LICHSGFIN.NS.csv.\n",
      "Filtered data for LINDEINDIA.NS.csv saved to test_filtered_data\\LINDEINDIA.NS.csv.\n",
      "Filtered data for LODHA.NS.csv saved to test_filtered_data\\LODHA.NS.csv.\n",
      "Filtered data for LT.NS.csv saved to test_filtered_data\\LT.NS.csv.\n",
      "Filtered data for LTF.NS.csv saved to test_filtered_data\\LTF.NS.csv.\n",
      "Filtered data for LTIM.NS.csv saved to test_filtered_data\\LTIM.NS.csv.\n",
      "Filtered data for LTTS.NS.csv saved to test_filtered_data\\LTTS.NS.csv.\n",
      "Filtered data for LUPIN.NS.csv saved to test_filtered_data\\LUPIN.NS.csv.\n",
      "Filtered data for M&M.NS.csv saved to test_filtered_data\\M&M.NS.csv.\n",
      "Filtered data for M&MFIN.NS.csv saved to test_filtered_data\\M&MFIN.NS.csv.\n",
      "Filtered data for MAHABANK.NS.csv saved to test_filtered_data\\MAHABANK.NS.csv.\n",
      "Filtered data for MAHLIFE.NS.csv saved to test_filtered_data\\MAHLIFE.NS.csv.\n",
      "Filtered data for MAHSEAMLES.NS.csv saved to test_filtered_data\\MAHSEAMLES.NS.csv.\n",
      "Filtered data for MANAPPURAM.NS.csv saved to test_filtered_data\\MANAPPURAM.NS.csv.\n",
      "Filtered data for MAPMYINDIA.NS.csv saved to test_filtered_data\\MAPMYINDIA.NS.csv.\n",
      "Filtered data for MARICO.NS.csv saved to test_filtered_data\\MARICO.NS.csv.\n",
      "Filtered data for MARUTI.NS.csv saved to test_filtered_data\\MARUTI.NS.csv.\n",
      "Filtered data for MASTEK.NS.csv saved to test_filtered_data\\MASTEK.NS.csv.\n",
      "Filtered data for MAXHEALTH.NS.csv saved to test_filtered_data\\MAXHEALTH.NS.csv.\n",
      "Filtered data for MAZDOCK.NS.csv saved to test_filtered_data\\MAZDOCK.NS.csv.\n",
      "Filtered data for MCX.NS.csv saved to test_filtered_data\\MCX.NS.csv.\n",
      "Filtered data for METROBRAND.NS.csv saved to test_filtered_data\\METROBRAND.NS.csv.\n",
      "Filtered data for METROPOLIS.NS.csv saved to test_filtered_data\\METROPOLIS.NS.csv.\n",
      "Filtered data for MFSL.NS.csv saved to test_filtered_data\\MFSL.NS.csv.\n",
      "Filtered data for MGL.NS.csv saved to test_filtered_data\\MGL.NS.csv.\n",
      "Filtered data for MINDACORP.NS.csv saved to test_filtered_data\\MINDACORP.NS.csv.\n",
      "Filtered data for MMTC.NS.csv saved to test_filtered_data\\MMTC.NS.csv.\n",
      "Filtered data for MOTHERSON.NS.csv saved to test_filtered_data\\MOTHERSON.NS.csv.\n",
      "Filtered data for MOTILALOFS.NS.csv saved to test_filtered_data\\MOTILALOFS.NS.csv.\n",
      "Filtered data for MPHASIS.NS.csv saved to test_filtered_data\\MPHASIS.NS.csv.\n",
      "Filtered data for MRF.NS.csv saved to test_filtered_data\\MRF.NS.csv.\n",
      "Filtered data for MRPL.NS.csv saved to test_filtered_data\\MRPL.NS.csv.\n",
      "Filtered data for MUTHOOTFIN.NS.csv saved to test_filtered_data\\MUTHOOTFIN.NS.csv.\n",
      "Filtered data for NAM-INDIA.NS.csv saved to test_filtered_data\\NAM-INDIA.NS.csv.\n",
      "Filtered data for NATCOPHARM.NS.csv saved to test_filtered_data\\NATCOPHARM.NS.csv.\n",
      "Filtered data for NATIONALUM.NS.csv saved to test_filtered_data\\NATIONALUM.NS.csv.\n",
      "Filtered data for NAUKRI.NS.csv saved to test_filtered_data\\NAUKRI.NS.csv.\n",
      "Filtered data for NAVINFLUOR.NS.csv saved to test_filtered_data\\NAVINFLUOR.NS.csv.\n",
      "Filtered data for NBCC.NS.csv saved to test_filtered_data\\NBCC.NS.csv.\n",
      "Filtered data for NCC.NS.csv saved to test_filtered_data\\NCC.NS.csv.\n",
      "Filtered data for NESTLEIND.NS.csv saved to test_filtered_data\\NESTLEIND.NS.csv.\n",
      "Filtered data for NETWORK18.NS.csv saved to test_filtered_data\\NETWORK18.NS.csv.\n",
      "Filtered data for NEWGEN.NS.csv saved to test_filtered_data\\NEWGEN.NS.csv.\n",
      "Filtered data for NH.NS.csv saved to test_filtered_data\\NH.NS.csv.\n",
      "Filtered data for NHPC.NS.csv saved to test_filtered_data\\NHPC.NS.csv.\n",
      "Filtered data for NIACL.NS.csv saved to test_filtered_data\\NIACL.NS.csv.\n",
      "Filtered data for NLCINDIA.NS.csv saved to test_filtered_data\\NLCINDIA.NS.csv.\n",
      "Filtered data for NMDC.NS.csv saved to test_filtered_data\\NMDC.NS.csv.\n",
      "Filtered data for NTPC.NS.csv saved to test_filtered_data\\NTPC.NS.csv.\n",
      "Filtered data for NUVOCO.NS.csv saved to test_filtered_data\\NUVOCO.NS.csv.\n",
      "Filtered data for NYKAA.NS.csv saved to test_filtered_data\\NYKAA.NS.csv.\n",
      "Filtered data for OBEROIRLTY.NS.csv saved to test_filtered_data\\OBEROIRLTY.NS.csv.\n",
      "Filtered data for OFSS.NS.csv saved to test_filtered_data\\OFSS.NS.csv.\n",
      "Filtered data for OIL.NS.csv saved to test_filtered_data\\OIL.NS.csv.\n",
      "Filtered data for OLECTRA.NS.csv saved to test_filtered_data\\OLECTRA.NS.csv.\n",
      "Filtered data for ONGC.NS.csv saved to test_filtered_data\\ONGC.NS.csv.\n",
      "Filtered data for PAGEIND.NS.csv saved to test_filtered_data\\PAGEIND.NS.csv.\n",
      "Filtered data for PATANJALI.NS.csv saved to test_filtered_data\\PATANJALI.NS.csv.\n",
      "Filtered data for PAYTM.NS.csv saved to test_filtered_data\\PAYTM.NS.csv.\n",
      "Filtered data for PCBL.NS.csv saved to test_filtered_data\\PCBL.NS.csv.\n",
      "Filtered data for PEL.NS.csv saved to test_filtered_data\\PEL.NS.csv.\n",
      "Filtered data for PERSISTENT.NS.csv saved to test_filtered_data\\PERSISTENT.NS.csv.\n",
      "Filtered data for PETRONET.NS.csv saved to test_filtered_data\\PETRONET.NS.csv.\n",
      "Filtered data for PFC.NS.csv saved to test_filtered_data\\PFC.NS.csv.\n",
      "Filtered data for PFIZER.NS.csv saved to test_filtered_data\\PFIZER.NS.csv.\n",
      "Filtered data for PGHH.NS.csv saved to test_filtered_data\\PGHH.NS.csv.\n",
      "Filtered data for PIDILITIND.NS.csv saved to test_filtered_data\\PIDILITIND.NS.csv.\n",
      "Filtered data for PIIND.NS.csv saved to test_filtered_data\\PIIND.NS.csv.\n",
      "Filtered data for PNB.NS.csv saved to test_filtered_data\\PNB.NS.csv.\n",
      "Filtered data for PNBHOUSING.NS.csv saved to test_filtered_data\\PNBHOUSING.NS.csv.\n",
      "Filtered data for PNCINFRA.NS.csv saved to test_filtered_data\\PNCINFRA.NS.csv.\n",
      "Filtered data for POLICYBZR.NS.csv saved to test_filtered_data\\POLICYBZR.NS.csv.\n",
      "Filtered data for POLYCAB.NS.csv saved to test_filtered_data\\POLYCAB.NS.csv.\n",
      "Filtered data for POLYMED.NS.csv saved to test_filtered_data\\POLYMED.NS.csv.\n",
      "Filtered data for POONAWALLA.NS.csv saved to test_filtered_data\\POONAWALLA.NS.csv.\n",
      "Filtered data for POWERGRID.NS.csv saved to test_filtered_data\\POWERGRID.NS.csv.\n",
      "Filtered data for POWERINDIA.NS.csv saved to test_filtered_data\\POWERINDIA.NS.csv.\n",
      "Filtered data for PRAJIND.NS.csv saved to test_filtered_data\\PRAJIND.NS.csv.\n",
      "Filtered data for PRESTIGE.NS.csv saved to test_filtered_data\\PRESTIGE.NS.csv.\n",
      "Filtered data for QUESS.NS.csv saved to test_filtered_data\\QUESS.NS.csv.\n",
      "Filtered data for RADICO.NS.csv saved to test_filtered_data\\RADICO.NS.csv.\n",
      "Filtered data for RAILTEL.NS.csv saved to test_filtered_data\\RAILTEL.NS.csv.\n",
      "Filtered data for RAJESHEXPO.NS.csv saved to test_filtered_data\\RAJESHEXPO.NS.csv.\n",
      "Filtered data for RAMCOCEM.NS.csv saved to test_filtered_data\\RAMCOCEM.NS.csv.\n",
      "Filtered data for RATNAMANI.NS.csv saved to test_filtered_data\\RATNAMANI.NS.csv.\n",
      "Filtered data for RAYMOND.NS.csv saved to test_filtered_data\\RAYMOND.NS.csv.\n",
      "Filtered data for RBLBANK.NS.csv saved to test_filtered_data\\RBLBANK.NS.csv.\n",
      "Filtered data for RCF.NS.csv saved to test_filtered_data\\RCF.NS.csv.\n",
      "Filtered data for RECLTD.NS.csv saved to test_filtered_data\\RECLTD.NS.csv.\n",
      "Filtered data for REDINGTON.NS.csv saved to test_filtered_data\\REDINGTON.NS.csv.\n",
      "Filtered data for RELIANCE.NS.csv saved to test_filtered_data\\RELIANCE.NS.csv.\n",
      "Filtered data for RENUKA.NS.csv saved to test_filtered_data\\RENUKA.NS.csv.\n",
      "Filtered data for RHIM.NS.csv saved to test_filtered_data\\RHIM.NS.csv.\n",
      "Filtered data for RITES.NS.csv saved to test_filtered_data\\RITES.NS.csv.\n",
      "Filtered data for RKFORGE.NS.csv saved to test_filtered_data\\RKFORGE.NS.csv.\n",
      "Filtered data for ROUTE.NS.csv saved to test_filtered_data\\ROUTE.NS.csv.\n",
      "Filtered data for RTNINDIA.NS.csv saved to test_filtered_data\\RTNINDIA.NS.csv.\n",
      "Filtered data for RVNL.NS.csv saved to test_filtered_data\\RVNL.NS.csv.\n",
      "Filtered data for SAIL.NS.csv saved to test_filtered_data\\SAIL.NS.csv.\n",
      "Filtered data for SAMMAANCAP.NS.csv saved to test_filtered_data\\SAMMAANCAP.NS.csv.\n",
      "Filtered data for SANOFI.NS.csv saved to test_filtered_data\\SANOFI.NS.csv.\n",
      "Filtered data for SAPPHIRE.NS.csv saved to test_filtered_data\\SAPPHIRE.NS.csv.\n",
      "Filtered data for SAREGAMA.NS.csv saved to test_filtered_data\\SAREGAMA.NS.csv.\n",
      "Filtered data for SBICARD.NS.csv saved to test_filtered_data\\SBICARD.NS.csv.\n",
      "Filtered data for SBILIFE.NS.csv saved to test_filtered_data\\SBILIFE.NS.csv.\n",
      "Filtered data for SBIN.NS.csv saved to test_filtered_data\\SBIN.NS.csv.\n",
      "Filtered data for SCHAEFFLER.NS.csv saved to test_filtered_data\\SCHAEFFLER.NS.csv.\n",
      "Filtered data for SCHNEIDER.NS.csv saved to test_filtered_data\\SCHNEIDER.NS.csv.\n",
      "Filtered data for SCI.NS.csv saved to test_filtered_data\\SCI.NS.csv.\n",
      "Filtered data for SHREECEM.NS.csv saved to test_filtered_data\\SHREECEM.NS.csv.\n",
      "Filtered data for SHRIRAMFIN.NS.csv saved to test_filtered_data\\SHRIRAMFIN.NS.csv.\n",
      "Filtered data for SHYAMMETL.NS.csv saved to test_filtered_data\\SHYAMMETL.NS.csv.\n",
      "Filtered data for SIEMENS.NS.csv saved to test_filtered_data\\SIEMENS.NS.csv.\n",
      "Filtered data for SJVN.NS.csv saved to test_filtered_data\\SJVN.NS.csv.\n",
      "Filtered data for SKFINDIA.NS.csv saved to test_filtered_data\\SKFINDIA.NS.csv.\n",
      "Filtered data for SOBHA.NS.csv saved to test_filtered_data\\SOBHA.NS.csv.\n",
      "Filtered data for SOLARINDS.NS.csv saved to test_filtered_data\\SOLARINDS.NS.csv.\n",
      "Filtered data for SONACOMS.NS.csv saved to test_filtered_data\\SONACOMS.NS.csv.\n",
      "Filtered data for SONATSOFTW.NS.csv saved to test_filtered_data\\SONATSOFTW.NS.csv.\n",
      "Filtered data for SPARC.NS.csv saved to test_filtered_data\\SPARC.NS.csv.\n",
      "Filtered data for SRF.NS.csv saved to test_filtered_data\\SRF.NS.csv.\n",
      "Filtered data for STARHEALTH.NS.csv saved to test_filtered_data\\STARHEALTH.NS.csv.\n",
      "Filtered data for SUMICHEM.NS.csv saved to test_filtered_data\\SUMICHEM.NS.csv.\n",
      "Filtered data for SUNDARMFIN.NS.csv saved to test_filtered_data\\SUNDARMFIN.NS.csv.\n",
      "Filtered data for SUNDRMFAST.NS.csv saved to test_filtered_data\\SUNDRMFAST.NS.csv.\n",
      "Filtered data for SUNPHARMA.NS.csv saved to test_filtered_data\\SUNPHARMA.NS.csv.\n",
      "Filtered data for SUNTV.NS.csv saved to test_filtered_data\\SUNTV.NS.csv.\n",
      "Filtered data for SUPREMEIND.NS.csv saved to test_filtered_data\\SUPREMEIND.NS.csv.\n",
      "Filtered data for SUVENPHAR.NS.csv saved to test_filtered_data\\SUVENPHAR.NS.csv.\n",
      "Filtered data for SUZLON.NS.csv saved to test_filtered_data\\SUZLON.NS.csv.\n",
      "Filtered data for SWSOLAR.NS.csv saved to test_filtered_data\\SWSOLAR.NS.csv.\n",
      "Filtered data for SYNGENE.NS.csv saved to test_filtered_data\\SYNGENE.NS.csv.\n",
      "Filtered data for TANLA.NS.csv saved to test_filtered_data\\TANLA.NS.csv.\n",
      "Filtered data for TATACHEM.NS.csv saved to test_filtered_data\\TATACHEM.NS.csv.\n",
      "Filtered data for TATACOMM.NS.csv saved to test_filtered_data\\TATACOMM.NS.csv.\n",
      "Filtered data for TATACONSUM.NS.csv saved to test_filtered_data\\TATACONSUM.NS.csv.\n",
      "Filtered data for TATAELXSI.NS.csv saved to test_filtered_data\\TATAELXSI.NS.csv.\n",
      "Filtered data for TATAINVEST.NS.csv saved to test_filtered_data\\TATAINVEST.NS.csv.\n",
      "Filtered data for TATAMOTORS.NS.csv saved to test_filtered_data\\TATAMOTORS.NS.csv.\n",
      "Filtered data for TATAPOWER.NS.csv saved to test_filtered_data\\TATAPOWER.NS.csv.\n",
      "Filtered data for TATASTEEL.NS.csv saved to test_filtered_data\\TATASTEEL.NS.csv.\n",
      "Filtered data for TCS.NS.csv saved to test_filtered_data\\TCS.NS.csv.\n",
      "Filtered data for TECHM.NS.csv saved to test_filtered_data\\TECHM.NS.csv.\n",
      "Filtered data for TECHNOE.NS.csv saved to test_filtered_data\\TECHNOE.NS.csv.\n",
      "Filtered data for TEJASNET.NS.csv saved to test_filtered_data\\TEJASNET.NS.csv.\n",
      "Filtered data for THERMAX.NS.csv saved to test_filtered_data\\THERMAX.NS.csv.\n",
      "Filtered data for TIINDIA.NS.csv saved to test_filtered_data\\TIINDIA.NS.csv.\n",
      "Filtered data for TIMKEN.NS.csv saved to test_filtered_data\\TIMKEN.NS.csv.\n",
      "Filtered data for TITAGARH.NS.csv saved to test_filtered_data\\TITAGARH.NS.csv.\n",
      "Filtered data for TITAN.NS.csv saved to test_filtered_data\\TITAN.NS.csv.\n",
      "Filtered data for TORNTPHARM.NS.csv saved to test_filtered_data\\TORNTPHARM.NS.csv.\n",
      "Filtered data for TORNTPOWER.NS.csv saved to test_filtered_data\\TORNTPOWER.NS.csv.\n",
      "Filtered data for TRENT.NS.csv saved to test_filtered_data\\TRENT.NS.csv.\n",
      "Filtered data for TRIDENT.NS.csv saved to test_filtered_data\\TRIDENT.NS.csv.\n",
      "Filtered data for TRITURBINE.NS.csv saved to test_filtered_data\\TRITURBINE.NS.csv.\n",
      "Filtered data for TRIVENI.NS.csv saved to test_filtered_data\\TRIVENI.NS.csv.\n",
      "Filtered data for TTML.NS.csv saved to test_filtered_data\\TTML.NS.csv.\n",
      "Filtered data for TVSMOTOR.NS.csv saved to test_filtered_data\\TVSMOTOR.NS.csv.\n",
      "Filtered data for UBL.NS.csv saved to test_filtered_data\\UBL.NS.csv.\n",
      "Filtered data for UCOBANK.NS.csv saved to test_filtered_data\\UCOBANK.NS.csv.\n",
      "Filtered data for UJJIVANSFB.NS.csv saved to test_filtered_data\\UJJIVANSFB.NS.csv.\n",
      "Filtered data for ULTRACEMCO.NS.csv saved to test_filtered_data\\ULTRACEMCO.NS.csv.\n",
      "Filtered data for UNIONBANK.NS.csv saved to test_filtered_data\\UNIONBANK.NS.csv.\n",
      "Filtered data for UNOMINDA.NS.csv saved to test_filtered_data\\UNOMINDA.NS.csv.\n",
      "Filtered data for UPL.NS.csv saved to test_filtered_data\\UPL.NS.csv.\n",
      "Filtered data for USHAMART.NS.csv saved to test_filtered_data\\USHAMART.NS.csv.\n",
      "Filtered data for UTIAMC.NS.csv saved to test_filtered_data\\UTIAMC.NS.csv.\n",
      "Filtered data for VARROC.NS.csv saved to test_filtered_data\\VARROC.NS.csv.\n",
      "Filtered data for VBL.NS.csv saved to test_filtered_data\\VBL.NS.csv.\n",
      "Filtered data for VEDL.NS.csv saved to test_filtered_data\\VEDL.NS.csv.\n",
      "Filtered data for VGUARD.NS.csv saved to test_filtered_data\\VGUARD.NS.csv.\n",
      "Filtered data for VIJAYA.NS.csv saved to test_filtered_data\\VIJAYA.NS.csv.\n",
      "Filtered data for VINATIORGA.NS.csv saved to test_filtered_data\\VINATIORGA.NS.csv.\n",
      "Filtered data for VIPIND.NS.csv saved to test_filtered_data\\VIPIND.NS.csv.\n",
      "Filtered data for VOLTAS.NS.csv saved to test_filtered_data\\VOLTAS.NS.csv.\n",
      "Filtered data for VTL.NS.csv saved to test_filtered_data\\VTL.NS.csv.\n",
      "Filtered data for WELCORP.NS.csv saved to test_filtered_data\\WELCORP.NS.csv.\n",
      "Filtered data for WELSPUNLIV.NS.csv saved to test_filtered_data\\WELSPUNLIV.NS.csv.\n",
      "Filtered data for WESTLIFE.NS.csv saved to test_filtered_data\\WESTLIFE.NS.csv.\n",
      "Filtered data for WHIRLPOOL.NS.csv saved to test_filtered_data\\WHIRLPOOL.NS.csv.\n",
      "Filtered data for WIPRO.NS.csv saved to test_filtered_data\\WIPRO.NS.csv.\n",
      "Filtered data for YESBANK.NS.csv saved to test_filtered_data\\YESBANK.NS.csv.\n",
      "Filtered data for ZEEL.NS.csv saved to test_filtered_data\\ZEEL.NS.csv.\n",
      "Filtered data for ZENSARTECH.NS.csv saved to test_filtered_data\\ZENSARTECH.NS.csv.\n",
      "Filtered data for ZFCVINDIA.NS.csv saved to test_filtered_data\\ZFCVINDIA.NS.csv.\n",
      "Filtered data for ZOMATO.NS.csv saved to test_filtered_data\\ZOMATO.NS.csv.\n",
      "Filtered data for ZYDUSLIFE.NS.csv saved to test_filtered_data\\ZYDUSLIFE.NS.csv.\n",
      "All stocks filtered and saved in the folder: test_filtered_data\n"
     ]
    }
   ],
   "source": [
    "import pandas as pd\n",
    "import os\n",
    "\n",
    "# Define the folder containing the stock data\n",
    "input_folder = \"test_cleaned_data\"\n",
    "output_folder = \"test_filtered_data\"\n",
    "\n",
    "# Create a folder to save the filtered CSV files\n",
    "if not os.path.exists(output_folder):\n",
    "    os.makedirs(output_folder)\n",
    "\n",
    "# Define the reference stock ticker (e.g., ONGC.NS)\n",
    "reference_ticker = \"ONGC.NS\"\n",
    "reference_file = os.path.join(input_folder, f\"{reference_ticker}.csv\")\n",
    "\n",
    "# Load the reference stock data to extract the date range\n",
    "if not os.path.exists(reference_file):\n",
    "    print(f\"Reference file for {reference_ticker} not found.\")\n",
    "    exit()\n",
    "\n",
    "reference_data = pd.read_csv(reference_file, index_col=\"Date\", parse_dates=True)\n",
    "reference_dates = reference_data.index\n",
    "\n",
    "# Process each stock's data\n",
    "for file_name in os.listdir(input_folder):\n",
    "    if file_name.endswith(\".csv\"):\n",
    "        try:\n",
    "            # Load the stock data\n",
    "            stock_file = os.path.join(input_folder, file_name)\n",
    "            stock_data = pd.read_csv(stock_file, index_col=\"Date\", parse_dates=True)\n",
    "\n",
    "            # Filter the stock data to match the reference date range\n",
    "            filtered_data = stock_data.loc[reference_dates.intersection(stock_data.index)]\n",
    "\n",
    "            # Save the filtered data to the output folder\n",
    "            output_file = os.path.join(output_folder, file_name)\n",
    "            filtered_data.to_csv(output_file)\n",
    "            print(f\"Filtered data for {file_name} saved to {output_file}.\")\n",
    "        except Exception as e:\n",
    "            print(f\"Error processing {file_name}: {e}\")\n",
    "\n",
    "print(f\"All stocks filtered and saved in the folder: {output_folder}\")\n"
   ]
  },
  {
   "cell_type": "code",
   "execution_count": 3,
   "metadata": {},
   "outputs": [
    {
     "name": "stdout",
     "output_type": "stream",
     "text": [
      "dict_keys(['360ONE', 'AARTIIND', 'AAVAS', 'ABB', 'ABBOTINDIA', 'ABCAPITAL', 'ABFRL', 'ABSLAMC', 'ACC', 'ACE', 'ADANIENT', 'ADANIGREEN', 'ADANIPORTS', 'ADANIPOWER', 'AFFLE', 'AIAENG', 'AJANTPHARM', 'ALKEM', 'ALKYLAMINE', 'ALOKINDS', 'AMBER', 'AMBUJACEM', 'ANANDRATHI', 'ANANTRAJ', 'ANGELONE', 'APARINDS', 'APLAPOLLO', 'APLLTD', 'APOLLOHOSP', 'APOLLOTYRE', 'APTUS', 'ASAHIINDIA', 'ASHOKLEY', 'ASIANPAINT', 'ASTERDM', 'ASTRAL', 'ASTRAZEN', 'ATGL', 'ATUL', 'AUBANK', 'AUROPHARMA', 'AVANTIFEED', 'AXISBANK', 'BAJAJ-AUTO', 'BAJAJFINSV', 'BAJAJHLDNG', 'BAJFINANCE', 'BALAMINES', 'BALKRISIND', 'BALRAMCHIN', 'BANDHANBNK', 'BANKBARODA', 'BANKINDIA', 'BASF', 'BATAINDIA', 'BAYERCROP', 'BBTC', 'BDL', 'BEL', 'BEML', 'BERGEPAINT', 'BHARATFORG', 'BHARTIARTL', 'BHEL', 'BIOCON', 'BIRLACORPN', 'BLS', 'BLUEDART', 'BLUESTARCO', 'BOSCHLTD', 'BPCL', 'BRITANNIA', 'BSE', 'BSOFT', 'CAMS', 'CANBK', 'CANFINHOME', 'CAPLIPOINT', 'CARBORUNIV', 'CASTROLIND', 'CCL', 'CDSL', 'CEATLTD', 'CENTRALBK', 'CENTURYPLY', 'CERA', 'CESC', 'CGCL', 'CGPOWER', 'CHALET', 'CHAMBLFERT', 'CHEMPLASTS', 'CHENNPETRO', 'CHOLAFIN', 'CHOLAHLDNG', 'CIEINDIA', 'CIPLA', 'CLEAN', 'COALINDIA', 'COCHINSHIP', 'COFORGE', 'COLPAL', 'CONCOR', 'COROMANDEL', 'CRAFTSMAN', 'CREDITACC', 'CRISIL', 'CROMPTON', 'CUB', 'CUMMINSIND', 'CYIENT', 'DABUR', 'DALBHARAT', 'DATAPATTNS', 'DBREALTY', 'DEEPAKFERT', 'DEEPAKNTR', 'DEVYANI', 'DIVISLAB', 'DIXON', 'DLF', 'DMART', 'DRREDDY', 'EASEMYTRIP', 'ECLERX', 'EICHERMOT', 'EIDPARRY', 'EIHOTEL', 'ELECON', 'ELGIEQUIP', 'EMAMILTD', 'ENDURANCE', 'ENGINERSIN', 'EQUITASBNK', 'ERIS', 'ESCORTS', 'EXIDEIND', 'FACT', 'FEDERALBNK', 'FINCABLES', 'FINEORG', 'FINPIPE', 'FLUOROCHEM', 'FORTIS', 'FSL', 'GAEL', 'GAIL', 'GESHIP', 'GICRE', 'GILLETTE', 'GLAND', 'GLAXO', 'GLENMARK', 'GMDCLTD', 'GMRAIRPORT', 'GNFC', 'GODFRYPHLP', 'GODREJAGRO', 'GODREJCP', 'GODREJPROP', 'GPIL', 'GPPL', 'GRANULES', 'GRAPHITE', 'GRASIM', 'GRINDWELL', 'GRINFRA', 'GRSE', 'GSFC', 'GSPL', 'GUJGASLTD', 'GVT&D', 'HAL', 'HAPPSTMNDS', 'HAVELLS', 'HCLTECH', 'HDFCAMC', 'HDFCBANK', 'HDFCLIFE', 'HEG', 'HEROMOTOCO', 'HFCL', 'HINDALCO', 'HINDCOPPER', 'HINDPETRO', 'HINDUNILVR', 'HINDZINC', 'HOMEFIRST', 'HONAUT', 'HSCL', 'HUDCO', 'ICICIBANK', 'ICICIGI', 'ICICIPRULI', 'IDBI', 'IDEA', 'IDFCFIRSTB', 'IEX', 'IFCI', 'IGL', 'IIFL', 'INDHOTEL', 'INDIACEM', 'INDIAMART', 'INDIANB', 'INDIGO', 'INDUSINDBK', 'INDUSTOWER', 'INFY', 'INOXWIND', 'INTELLECT', 'IOB', 'IOC', 'IPCALAB', 'IRB', 'IRCON', 'IRCTC', 'IRFC', 'ISEC', 'ITC', 'ITI', 'J&KBANK', 'JBCHEPHARM', 'JBMA', 'JINDALSAW', 'JINDALSTEL', 'JKCEMENT', 'JKLAKSHMI', 'JKTYRE', 'JMFINANCIL', 'JPPOWER', 'JSL', 'JSWENERGY', 'JSWSTEEL', 'JUBLFOOD', 'JUBLINGREA', 'JUBLPHARMA', 'JUSTDIAL', 'JWL', 'JYOTHYLAB', 'KAJARIACER', 'KALYANKJIL', 'KANSAINER', 'KARURVYSYA', 'KEC', 'KEI', 'KIMS', 'KIRLOSBROS', 'KIRLOSENG', 'KNRCON', 'KOTAKBANK', 'KPITTECH', 'KPRMILL', 'KSB', 'LALPATHLAB', 'LATENTVIEW', 'LAURUSLABS', 'LEMONTREE', 'LICHSGFIN', 'LINDEINDIA', 'LODHA', 'LT', 'LTF', 'LTIM', 'LTTS', 'LUPIN', 'M&M', 'M&MFIN', 'MAHABANK', 'MAHLIFE', 'MAHSEAMLES', 'MANAPPURAM', 'MAPMYINDIA', 'MARICO', 'MARUTI', 'MASTEK', 'MAXHEALTH', 'MAZDOCK', 'MCX', 'METROBRAND', 'METROPOLIS', 'MFSL', 'MGL', 'MINDACORP', 'MMTC', 'MOTHERSON', 'MOTILALOFS', 'MPHASIS', 'MRF', 'MRPL', 'MUTHOOTFIN', 'NAM-INDIA', 'NATCOPHARM', 'NATIONALUM', 'NAUKRI', 'NAVINFLUOR', 'NBCC', 'NCC', 'NESTLEIND', 'NETWORK18', 'NEWGEN', 'NH', 'NHPC', 'NIACL', 'NLCINDIA', 'NMDC', 'NTPC', 'NUVOCO', 'NYKAA', 'OBEROIRLTY', 'OFSS', 'OIL', 'OLECTRA', 'ONGC', 'PAGEIND', 'PATANJALI', 'PAYTM', 'PCBL', 'PEL', 'PERSISTENT', 'PETRONET', 'PFC', 'PFIZER', 'PGHH', 'PIDILITIND', 'PIIND', 'PNB', 'PNBHOUSING', 'PNCINFRA', 'POLICYBZR', 'POLYCAB', 'POLYMED', 'POONAWALLA', 'POWERGRID', 'POWERINDIA', 'PRAJIND', 'PRESTIGE', 'QUESS', 'RADICO', 'RAILTEL', 'RAJESHEXPO', 'RAMCOCEM', 'RATNAMANI', 'RAYMOND', 'RBLBANK', 'RCF', 'RECLTD', 'REDINGTON', 'RELIANCE', 'RENUKA', 'RHIM', 'RITES', 'RKFORGE', 'ROUTE', 'RTNINDIA', 'RVNL', 'SAIL', 'SAMMAANCAP', 'SANOFI', 'SAPPHIRE', 'SAREGAMA', 'SBICARD', 'SBILIFE', 'SBIN', 'SCHAEFFLER', 'SCHNEIDER', 'SCI', 'SHREECEM', 'SHRIRAMFIN', 'SHYAMMETL', 'SIEMENS', 'SJVN', 'SKFINDIA', 'SOBHA', 'SOLARINDS', 'SONACOMS', 'SONATSOFTW', 'SPARC', 'SRF', 'STARHEALTH', 'SUMICHEM', 'SUNDARMFIN', 'SUNDRMFAST', 'SUNPHARMA', 'SUNTV', 'SUPREMEIND', 'SUVENPHAR', 'SUZLON', 'SWSOLAR', 'SYNGENE', 'TANLA', 'TATACHEM', 'TATACOMM', 'TATACONSUM', 'TATAELXSI', 'TATAINVEST', 'TATAMOTORS', 'TATAPOWER', 'TATASTEEL', 'TCS', 'TECHM', 'TECHNOE', 'TEJASNET', 'THERMAX', 'TIINDIA', 'TIMKEN', 'TITAGARH', 'TITAN', 'TORNTPHARM', 'TORNTPOWER', 'TRENT', 'TRIDENT', 'TRITURBINE', 'TRIVENI', 'TTML', 'TVSMOTOR', 'UBL', 'UCOBANK', 'UJJIVANSFB', 'ULTRACEMCO', 'UNIONBANK', 'UNOMINDA', 'UPL', 'USHAMART', 'UTIAMC', 'VARROC', 'VBL', 'VEDL', 'VGUARD', 'VIJAYA', 'VINATIORGA', 'VIPIND', 'VOLTAS', 'VTL', 'WELCORP', 'WELSPUNLIV', 'WESTLIFE', 'WHIRLPOOL', 'WIPRO', 'YESBANK', 'ZEEL', 'ZENSARTECH', 'ZFCVINDIA', 'ZOMATO', 'ZYDUSLIFE'])\n"
     ]
    }
   ],
   "source": [
    "import os\n",
    "import pandas as pd\n",
    "from sklearn.preprocessing import StandardScaler\n",
    "\n",
    "# Path to the folder containing the cleaned CSV files\n",
    "input_folder_path = r'test_filtered_data'\n",
    "\n",
    "# Path to the folder where the processed files will be saved (optional)\n",
    "output_folder_path = r'test_data_final'\n",
    "os.makedirs(output_folder_path, exist_ok=True)\n",
    "\n",
    "# Initialize a StandardScaler instance\n",
    "scaler = StandardScaler()\n",
    "\n",
    "# Initialize a dictionary to store the processed stock data\n",
    "NIFTY500_stock = {}\n",
    "\n",
    "# Example sector mapping (replace this with actual sector data)\n",
    "company_sector_mapping = df.set_index('Symbol')['Industry'].to_dict()\n",
    "\n",
    "\n",
    "# Function to compute features for each CSV file\n",
    "def compute_features_for_file(file_path, sector):\n",
    "    # Load the CSV file into a DataFrame\n",
    "    cleaned_data = pd.read_csv(file_path)\n",
    "    \n",
    "    # Initialize a DataFrame to store the computed features\n",
    "    features = cleaned_data.copy()\n",
    "\n",
    "    # 1. Normalized Close Price\n",
    "    features[\"Normalized_Close\"] = scaler.fit_transform(features[[\"Close\"]])\n",
    "\n",
    "    # 2. Return Ratio (daily percentage change in Close)\n",
    "    features[\"Return_Ratio\"] = features[\"Close\"].pct_change()\n",
    "\n",
    "    # 3. Moving Averages (5, 10, 15, 20, 25, and 30-day)\n",
    "    moving_avg_days = [5, 10, 15, 20, 25, 30]\n",
    "    for days in moving_avg_days:\n",
    "        features[f\"MA_{days}\"] = features[\"Close\"].rolling(window=days).mean()\n",
    "\n",
    "    # 4. Percentage Change (for Open, High, Low relative to Close)\n",
    "    for col in [\"Open\", \"High\", \"Low\"]:\n",
    "        features[f\"Pct_Change_{col}\"] = (features[col] / features[\"Close\"]) - 1\n",
    "\n",
    "    # 5. Sector Encoding\n",
    "    features[\"Sector\"] = sector\n",
    "\n",
    "    \n",
    "\n",
    "    return features\n",
    "\n",
    "# Iterate through all CSV files in the input folder and compute features\n",
    "for filename in os.listdir(input_folder_path):\n",
    "    if filename.endswith(\".csv\"):\n",
    "        input_file_path = os.path.join(input_folder_path, filename)\n",
    "        company_name = filename.replace(\".NS.csv\", \"\")  # Assuming filename is the company name\n",
    "        \n",
    "        # Get the sector for the company\n",
    "        sector = company_sector_mapping.get(company_name, \"Unknown\")  # Default to \"Unknown\" if not found\n",
    "        \n",
    "        features = compute_features_for_file(input_file_path, sector)\n",
    "        features = features.fillna(0)\n",
    "        # Store the processed features in the dictionary using company name as the key\n",
    "        NIFTY500_stock[company_name] = features\n",
    "        \n",
    "        # Optionally, save the processed file to the output folder\n",
    "        output_file_path = os.path.join(output_folder_path, f\"{filename}\")\n",
    "        features.to_csv(output_file_path, index=False)\n",
    "        \n",
    "\n",
    "# Print the keys (company names) of the dictionary to confirm the structure\n",
    "print(NIFTY500_stock.keys())\n"
   ]
  },
  {
   "cell_type": "code",
   "execution_count": 7,
   "metadata": {},
   "outputs": [],
   "source": [
    "import os\n",
    "import pandas as pd\n",
    "input_folder_path = 'test_data_final'\n",
    "NIFTY500_stock={}\n",
    "for filename in os.listdir(input_folder_path):\n",
    "    if filename.endswith(\".csv\"):\n",
    "        input_file_path = os.path.join(input_folder_path, filename)\n",
    "        company_name = filename.replace(\".NS.csv\", \"\")  # Assuming filename is the company name\n",
    "        \n",
    "        cleaned_data = pd.read_csv(input_file_path)\n",
    "        \n",
    "        # Initialize a DataFrame to store the computed features\n",
    "        features = cleaned_data.copy()\n",
    "        features = features.fillna(0)\n",
    "        NIFTY500_stock[company_name] = features\n",
    "        "
   ]
  },
  {
   "cell_type": "code",
   "execution_count": 4,
   "metadata": {},
   "outputs": [
    {
     "data": {
      "application/vnd.microsoft.datawrangler.viewer.v0+json": {
       "columns": [
        {
         "name": "index",
         "rawType": "int64",
         "type": "integer"
        },
        {
         "name": "Date",
         "rawType": "object",
         "type": "string"
        },
        {
         "name": "Close",
         "rawType": "float64",
         "type": "float"
        },
        {
         "name": "High",
         "rawType": "float64",
         "type": "float"
        },
        {
         "name": "Low",
         "rawType": "float64",
         "type": "float"
        },
        {
         "name": "Open",
         "rawType": "float64",
         "type": "float"
        },
        {
         "name": "Volume",
         "rawType": "int64",
         "type": "integer"
        },
        {
         "name": "Normalized_Close",
         "rawType": "float64",
         "type": "float"
        },
        {
         "name": "Return_Ratio",
         "rawType": "float64",
         "type": "float"
        },
        {
         "name": "MA_5",
         "rawType": "float64",
         "type": "float"
        },
        {
         "name": "MA_10",
         "rawType": "float64",
         "type": "float"
        },
        {
         "name": "MA_15",
         "rawType": "float64",
         "type": "float"
        },
        {
         "name": "MA_20",
         "rawType": "float64",
         "type": "float"
        },
        {
         "name": "MA_25",
         "rawType": "float64",
         "type": "float"
        },
        {
         "name": "MA_30",
         "rawType": "float64",
         "type": "float"
        },
        {
         "name": "Pct_Change_Open",
         "rawType": "float64",
         "type": "float"
        },
        {
         "name": "Pct_Change_High",
         "rawType": "float64",
         "type": "float"
        },
        {
         "name": "Pct_Change_Low",
         "rawType": "float64",
         "type": "float"
        },
        {
         "name": "Sector",
         "rawType": "object",
         "type": "string"
        }
       ],
       "conversionMethod": "pd.DataFrame",
       "ref": "6debbf73-bd01-4a3c-a7f3-1d96240a3a9d",
       "rows": [
        [
         "0",
         "2025-01-13",
         "409.4500122070313",
         "434.8500061035156",
         "407.5499877929688",
         "415.0",
         "5697469",
         "-0.4491043413027661",
         "0.0",
         "0.0",
         "0.0",
         "0.0",
         "0.0",
         "0.0",
         "0.0",
         "0.01355473837466259",
         "0.06203441968305823",
         "-0.004640430717832711",
         "Chemicals"
        ],
        [
         "1",
         "2025-01-14",
         "409.3500061035156",
         "416.75",
         "403.25",
         "410.4500122070313",
         "1807357",
         "-0.4529754892278051",
         "-0.00024424496405950347",
         "0.0",
         "0.0",
         "0.0",
         "0.0",
         "0.0",
         "0.0",
         "0.002687201873981415",
         "0.01807742466385376",
         "-0.014901688072707753",
         "Chemicals"
        ],
        [
         "2",
         "2025-01-15",
         "429.75",
         "432.0",
         "411.7000122070313",
         "411.7000122070313",
         "3320720",
         "0.3366902538315714",
         "0.04983508878054255",
         "0.0",
         "0.0",
         "0.0",
         "0.0",
         "0.0",
         "0.0",
         "-0.04200113506217262",
         "0.005235602094240788",
         "-0.04200113506217262",
         "Chemicals"
        ],
        [
         "3",
         "2025-01-16",
         "438.75",
         "440.7999877929688",
         "431.3500061035156",
         "433.0",
         "2213536",
         "0.6850723035320455",
         "0.020942408376963373",
         "0.0",
         "0.0",
         "0.0",
         "0.0",
         "0.0",
         "0.0",
         "-0.013105413105413133",
         "0.004672336850071401",
         "-0.01686608295495018",
         "Chemicals"
        ],
        [
         "4",
         "2025-01-17",
         "442.7000122070313",
         "444.3999938964844",
         "435.6499938964844",
         "436.8999938964844",
         "1304832",
         "0.8379737867573189",
         "0.00900287682514267",
         "426.0000061035156",
         "0.0",
         "0.0",
         "0.0",
         "0.0",
         "0.0",
         "-0.013101464085423453",
         "0.0038400308167556574",
         "-0.01592504656911997",
         "Chemicals"
        ],
        [
         "5",
         "2025-01-20",
         "449.1499938964844",
         "450.6000061035156",
         "443.0499877929688",
         "446.3999938964844",
         "2686026",
         "1.0876468802575618",
         "0.014569644254802228",
         "433.94000244140625",
         "0.0",
         "0.0",
         "0.0",
         "0.0",
         "0.0",
         "-0.006122676249292747",
         "0.0032283473822454223",
         "-0.013581222723831221",
         "Chemicals"
        ],
        [
         "6",
         "2025-01-21",
         "453.0499877929688",
         "466.3999938964844",
         "450.4500122070313",
         "451.8500061035156",
         "8709687",
         "1.2386121988660714",
         "0.008683054546324342",
         "442.67999877929685",
         "0.0",
         "0.0",
         "0.0",
         "0.0",
         "0.0",
         "-0.00264867392514212",
         "0.02946696051919151",
         "-0.005738827184618822",
         "Chemicals"
        ],
        [
         "7",
         "2025-01-22",
         "440.8500061035156",
         "456.25",
         "428.1499938964844",
         "455.7999877929688",
         "3307939",
         "0.7663616847238544",
         "-0.02692855538719985",
         "444.9",
         "0.0",
         "0.0",
         "0.0",
         "0.0",
         "0.0",
         "0.03391171936593507",
         "0.03493250240052914",
         "-0.028808011866170102",
         "Chemicals"
        ],
        [
         "8",
         "2025-01-23",
         "448.4500122070313",
         "452.0",
         "436.0499877929688",
         "440.5499877929688",
         "1474236",
         "1.0605512073992884",
         "0.01723943744651124",
         "446.8400024414062",
         "0.0",
         "0.0",
         "0.0",
         "0.0",
         "0.0",
         "-0.017616287655301432",
         "0.00791612821125276",
         "-0.027650850878643496",
         "Chemicals"
        ],
        [
         "9",
         "2025-01-24",
         "439.0499877929688",
         "452.9500122070313",
         "436.1000061035156",
         "450.0",
         "1822249",
         "0.6966845659986671",
         "-0.020961142063082083",
         "446.1099975585938",
         "436.0550018310547",
         "0.0",
         "0.0",
         "0.0",
         "0.0",
         "0.024940240317680162",
         "0.031659320807490676",
         "-0.006719010981601992",
         "Chemicals"
        ],
        [
         "10",
         "2025-01-27",
         "418.8500061035156",
         "435.0",
         "415.3999938964844",
         "435.0",
         "1679630",
         "-0.08523888121063795",
         "-0.04600838686044639",
         "440.05000000000007",
         "436.9950012207031",
         "0.0",
         "0.0",
         "0.0",
         "0.0",
         "0.038557941174991894",
         "0.038557941174991894",
         "-0.00823686798796086",
         "Chemicals"
        ],
        [
         "11",
         "2025-01-28",
         "410.3999938964844",
         "422.0",
         "406.9500122070313",
         "418.8500061035156",
         "2052054",
         "-0.41233138928614615",
         "-0.020174315587673353",
         "431.52000122070314",
         "437.1",
         "0.0",
         "0.0",
         "0.0",
         "0.0",
         "0.020589698666424905",
         "0.028265122504951945",
         "-0.008406388257216402",
         "Chemicals"
        ],
        [
         "12",
         "2025-01-29",
         "427.8999938964844",
         "429.6000061035156",
         "408.5499877929688",
         "412.0",
         "3564254",
         "0.26507815179810906",
         "0.04264132617022898",
         "428.92999877929685",
         "436.9149993896484",
         "0.0",
         "0.0",
         "0.0",
         "0.0",
         "-0.037158200802243635",
         "0.003972919446786793",
         "-0.045220860900962334",
         "Chemicals"
        ],
        [
         "13",
         "2025-01-30",
         "438.0",
         "441.9500122070313",
         "428.3999938964844",
         "431.7999877929688",
         "2179795",
         "0.656040466057006",
         "0.023603660312177865",
         "426.8399963378906",
         "436.8399993896484",
         "0.0",
         "0.0",
         "0.0",
         "0.0",
         "-0.014155279011486721",
         "0.009018292710117226",
         "-0.021917822154145283",
         "Chemicals"
        ],
        [
         "14",
         "2025-01-31",
         "444.7000122070313",
         "451.8500061035156",
         "438.6000061035156",
         "450.0",
         "2624458",
         "0.9153920200240909",
         "0.01529683152290251",
         "427.9700012207031",
         "437.0399993896484",
         "433.36000162760416",
         "0.0",
         "0.0",
         "0.0",
         "0.01191811928824782",
         "0.016078240837006375",
         "-0.013717126008703118",
         "Chemicals"
        ],
        [
         "15",
         "2025-02-01",
         "459.6499938964844",
         "463.8500061035156",
         "439.1000061035156",
         "447.7000122070313",
         "2427806",
         "1.4940926049081151",
         "0.03361812745463344",
         "436.1299987792969",
         "438.0899993896484",
         "436.7066670735677",
         "0.0",
         "0.0",
         "0.0",
         "-0.025998002497840234",
         "0.009137413820954121",
         "-0.04470790398312663",
         "Chemicals"
        ],
        [
         "16",
         "2025-02-03",
         "452.6000061035156",
         "468.3999938964844",
         "428.5",
         "445.0499877929688",
         "6114774",
         "1.22119380516614",
         "-0.01533773063544619",
         "444.57000122070315",
         "438.0450012207031",
         "439.590000406901",
         "0.0",
         "0.0",
         "0.0",
         "-0.016681436607890898",
         "0.034909384842904956",
         "-0.05324791378372995",
         "Chemicals"
        ],
        [
         "17",
         "2025-02-04",
         "456.0",
         "462.0",
         "451.4500122070313",
         "454.0",
         "1514067",
         "1.3528045654579544",
         "0.007512138423848791",
         "450.19000244140625",
         "439.56000061035155",
         "441.340000406901",
         "0.0",
         "0.0",
         "0.0",
         "-0.004385964912280715",
         "0.013157894736842035",
         "-0.00997804340563313",
         "Chemicals"
        ],
        [
         "18",
         "2025-02-05",
         "465.75",
         "468.5499877929688",
         "452.5499877929688",
         "455.0",
         "1555472",
         "1.7302184526334679",
         "0.021381578947368363",
         "455.74000244140626",
         "441.2899993896484",
         "443.14000040690104",
         "0.0",
         "0.0",
         "0.0",
         "-0.023081052066559304",
         "0.006011782700952928",
         "-0.028341411072530742",
         "Chemicals"
        ],
        [
         "19",
         "2025-02-06",
         "469.9500122070313",
         "477.75",
         "466.9500122070313",
         "468.8999938964844",
         "3927656",
         "1.8927972150170878",
         "0.009017739574946448",
         "460.7900024414063",
         "444.3800018310547",
         "444.9566670735677",
         "440.2175018310547",
         "0.0",
         "0.0",
         "-0.0022343191472976587",
         "0.016597483967151216",
         "-0.006383657670123388",
         "Chemicals"
        ],
        [
         "20",
         "2025-02-07",
         "465.3999938964844",
         "471.6000061035156",
         "460.8999938964844",
         "469.9500122070313",
         "928326",
         "1.7166700255500846",
         "-0.009681919762441593",
         "461.94000244140625",
         "449.0350006103516",
         "446.040000406901",
         "443.01500091552737",
         "0.0",
         "0.0",
         "0.009776575784741004",
         "0.013321900060897507",
         "-0.009669101974678851",
         "Chemicals"
        ],
        [
         "21",
         "2025-02-10",
         "455.5499877929688",
         "467.8500061035156",
         "451.6499938964844",
         "466.8999938964844",
         "821435",
         "1.3353849904495363",
         "-0.021164602992466808",
         "462.5299987792969",
         "453.55",
         "446.2066670735677",
         "445.325",
         "0.0",
         "0.0",
         "0.024914952052800254",
         "0.027000370190190193",
         "-0.008561066844451015",
         "Chemicals"
        ],
        [
         "22",
         "2025-02-11",
         "439.8500061035156",
         "457.2999877929688",
         "437.2000122070313",
         "456.0",
         "1055552",
         "0.7276525680904684",
         "-0.0344637956539432",
         "459.3",
         "454.7450012207031",
         "446.14000040690104",
         "445.83000030517576",
         "0.0",
         "0.0",
         "0.036717048249133244",
         "0.039672573484849316",
         "-0.006024767215441762",
         "Chemicals"
        ],
        [
         "23",
         "2025-02-12",
         "442.25",
         "447.75",
         "424.25",
         "439.8500061035156",
         "1708158",
         "0.8205542117488966",
         "0.005456391640743963",
         "454.6",
         "455.1700012207031",
         "445.72666625976564",
         "446.00500030517577",
         "0.0",
         "0.0",
         "-0.005426780998268765",
         "0.01243640474844554",
         "-0.04070096099491238",
         "Chemicals"
        ],
        [
         "24",
         "2025-02-13",
         "432.4500122070313",
         "445.3500061035156",
         "431.0",
         "442.0499877929688",
         "879597",
         "0.44120534126511224",
         "-0.022159384495124224",
         "447.1",
         "453.94500122070315",
         "445.28666788736984",
         "445.4925003051758",
         "441.59400146484376",
         "0.0",
         "0.02219904107978521",
         "0.029830023198863076",
         "-0.0033530169177961033",
         "Chemicals"
        ],
        [
         "25",
         "2025-02-14",
         "414.9500122070313",
         "432.8999938964844",
         "409.7999877929688",
         "431.25",
         "1422199",
         "-0.236204199819143",
         "-0.04046710488152805",
         "437.0100036621094",
         "449.4750030517578",
         "445.0266682942709",
         "443.7825012207031",
         "441.8140014648437",
         "0.0",
         "0.03928181061201208",
         "0.04325817848270663",
         "-0.012411192342592359",
         "Chemicals"
        ],
        [
         "26",
         "2025-02-17",
         "418.2999877929688",
         "422.3500061035156",
         "405.0",
         "409.3500061035156",
         "1055177",
         "-0.10652960414409267",
         "0.008073202765122689",
         "429.56000366210935",
         "446.0450012207031",
         "445.5533345540365",
         "442.0450012207031",
         "442.17200073242185",
         "0.0",
         "-0.021396084032120122",
         "0.00968209043446433",
         "-0.03179533392564049",
         "Chemicals"
        ],
        [
         "27",
         "2025-02-18",
         "409.8999938964844",
         "418.5499877929688",
         "404.1499938964844",
         "418.2999877929688",
         "868811",
         "-0.4316859476028392",
         "-0.020081267371783618",
         "423.57000122070315",
         "441.43500061035155",
         "444.3533345540365",
         "440.49750061035155",
         "441.37800048828126",
         "0.0",
         "0.020492788537600504",
         "0.02110269340152482",
         "-0.014027811870258478",
         "Chemicals"
        ],
        [
         "28",
         "2025-02-19",
         "416.6499938964844",
         "419.5",
         "406.3999938964844",
         "408.9500122070313",
         "651103",
         "-0.1703994103274836",
         "0.016467431325955628",
         "418.45",
         "436.525",
         "442.93000081380217",
         "438.9074996948242",
         "440.49400024414064",
         "0.0",
         "-0.018480695553222848",
         "0.006840288360171476",
         "-0.02460098439974201",
         "Chemicals"
        ],
        [
         "29",
         "2025-02-20",
         "422.9500122070313",
         "424.8500061035156",
         "412.3500061035156",
         "414.5",
         "594697",
         "0.0734687332479451",
         "0.015120648992766217",
         "416.55",
         "431.825",
         "441.4800008138021",
         "438.10250091552734",
         "439.7040002441406",
         "437.4200012207031",
         "-0.019978749174016097",
         "0.004492242207465136",
         "-0.025062077781255687",
         "Chemicals"
        ],
        [
         "30",
         "2025-02-21",
         "412.6499938964844",
         "427.1000061035156",
         "411.0",
         "421.0",
         "768124",
         "-0.3252358768610277",
         "-0.024352802963166997",
         "416.0899963378906",
         "426.55",
         "438.3466674804688",
         "437.7925003051758",
         "438.24400024414064",
         "437.52666727701825",
         "0.02023508112691319",
         "0.03501759946870653",
         "-0.003998531251398263",
         "Chemicals"
        ],
        [
         "31",
         "2025-02-24",
         "406.25",
         "411.9500122070313",
         "402.7999877929688",
         "411.9500122070313",
         "941556",
         "-0.572973987053",
         "-0.015509497131096173",
         "413.67999877929685",
         "421.6200012207031",
         "435.25666707356777",
         "437.5850006103516",
         "436.3720007324219",
         "437.4233337402344",
         "0.014030799278846207",
         "0.014030799278846207",
         "-0.008492337740384492",
         "Chemicals"
        ],
        [
         "32",
         "2025-02-25",
         "402.2000122070313",
         "410.3999938964844",
         "401.0499877929688",
         "406.0",
         "911831",
         "-0.7297454368948147",
         "-0.009969200721153704",
         "412.14000244140624",
         "417.85500183105466",
         "431.67000122070317",
         "436.3000015258789",
         "434.8260009765625",
         "436.5050008138021",
         "0.009448005165680229",
         "0.020387820588210648",
         "-0.00285933460755472",
         "Chemicals"
        ],
        [
         "33",
         "2025-02-27",
         "395.8500061035156",
         "404.5",
         "392.3999938964844",
         "402.2000122070313",
         "1108424",
         "-0.9755485637785163",
         "-0.015788179788137402",
         "407.9800048828125",
         "413.2150024414062",
         "427.01000162760425",
         "434.1925018310547",
         "432.72200073242186",
         "435.0750010172526",
         "0.016041445005952948",
         "0.021851695751199163",
         "-0.008715453211661894",
         "Chemicals"
        ],
        [
         "34",
         "2025-02-28",
         "376.0",
         "392.7999877929688",
         "374.4500122070313",
         "392.0",
         "2310606",
         "-1.7439247652129268",
         "-0.05014527168738958",
         "398.5900024414062",
         "407.57000122070315",
         "420.74666748046883",
         "430.75750122070315",
         "430.20000122070314",
         "432.85166727701824",
         "0.042553191489361764",
         "0.0446808185983214",
         "-0.004122307960023108",
         "Chemicals"
        ],
        [
         "35",
         "2025-03-03",
         "381.5",
         "383.0",
         "364.1499938964844",
         "377.0",
         "1581657",
         "-1.5310246237293037",
         "0.0146276595744681",
         "392.36000366210936",
         "404.225",
         "415.1533345540365",
         "426.8500015258789",
         "428.7060009765625",
         "430.59666748046874",
         "-0.011795543905635641",
         "0.003931847968545288",
         "-0.04547839083490335",
         "Chemicals"
        ],
        [
         "36",
         "2025-03-04",
         "381.9500122070313",
         "390.6000061035156",
         "374.5",
         "376.0",
         "952392",
         "-1.5136050487208814",
         "0.0011795863880244006",
         "387.5000061035156",
         "400.5900024414063",
         "410.246669514974",
         "423.3175018310547",
         "427.56800170898435",
         "428.22666829427084",
         "-0.015577986691635903",
         "0.022646926613516305",
         "-0.01950520217025975",
         "Chemicals"
        ],
        [
         "37",
         "2025-03-05",
         "401.9500122070313",
         "402.5",
         "382.3999938964844",
         "382.8999938964844",
         "1134502",
         "-0.7394227160531612",
         "0.052362873048317216",
         "387.45000610351565",
         "399.795004272461",
         "407.7200032552083",
         "420.61500244140626",
         "426.5300024414062",
         "426.9300018310547",
         "-0.04739399858690607",
         "0.0013682989831218517",
         "-0.04863793436204045",
         "Chemicals"
        ],
        [
         "38",
         "2025-03-06",
         "410.8999938964844",
         "412.3500061035156",
         "402.0",
         "402.0499877929688",
         "1165670",
         "-0.3929768309694532",
         "0.02226640482061537",
         "390.46000366210944",
         "399.220004272461",
         "405.6300028483073",
         "417.8725021362305",
         "425.4460021972656",
         "425.67833455403644",
         "-0.021538102299765716",
         "0.0035288688940611213",
         "-0.021659756701594146",
         "Chemicals"
        ],
        [
         "39",
         "2025-03-07",
         "406.2999877929688",
         "413.5499877929688",
         "405.0499877929688",
         "409.0",
         "727563",
         "-0.5710390037447248",
         "-0.01119495296141182",
         "396.5200012207032",
         "397.5550018310547",
         "403.8866678873698",
         "414.6900009155273",
         "423.9100012207031",
         "424.5866678873698",
         "0.006645366202686187",
         "0.017843958202859334",
         "-0.0030765445177344253",
         "Chemicals"
        ],
        [
         "40",
         "2025-03-10",
         "391.0",
         "414.3999938964844",
         "389.1000061035156",
         "406.2999877929688",
         "1199199",
         "-1.1632880157121366",
         "-0.03765687485268876",
         "398.42000122070317",
         "395.39000244140624",
         "402.290000406901",
         "410.9700012207031",
         "421.16400146484375",
         "423.65833435058596",
         "0.03913040356258013",
         "0.059846531704563555",
         "-0.0048593194283488295",
         "Chemicals"
        ],
        [
         "41",
         "2025-03-11",
         "392.6499938964844",
         "398.4500122070313",
         "384.0",
         "391.5",
         "1338571",
         "-1.099418209528748",
         "0.004219933239090423",
         "400.55999755859375",
         "394.0300018310547",
         "400.5800008138021",
         "407.825001525879",
         "418.7660009765625",
         "423.06666768391926",
         "-0.00292880151371544",
         "0.014771471796013902",
         "-0.022029782327628866",
         "Chemicals"
        ],
        [
         "42",
         "2025-03-12",
         "391.75",
         "397.3999938964844",
         "384.7000122070313",
         "394.0",
         "835049",
         "-1.1342561782370972",
         "-0.002292102153251596",
         "398.5199951171875",
         "392.98500061035156",
         "399.3700012207031",
         "405.4200012207031",
         "416.1960009765625",
         "421.8616678873698",
         "0.00574345883854499",
         "0.014422447725550347",
         "-0.017996139867182404",
         "Chemicals"
        ],
        [
         "43",
         "2025-03-13",
         "382.75",
         "393.7999877929688",
         "382.1000061035156",
         "392.0",
         "674427",
         "-1.4826382279375714",
         "-0.02297383535417996",
         "392.88999633789064",
         "391.675",
         "397.11000162760416",
         "402.44500122070315",
         "412.8760009765625",
         "420.02000122070314",
         "0.024167210973220055",
         "0.02886998770207394",
         "-0.0016982205002857853",
         "Chemicals"
        ],
        [
         "44",
         "2025-03-17",
         "384.7000122070313",
         "388.2000122070313",
         "382.25",
         "385.0",
         "821154",
         "-1.40715497797907",
         "0.005094741233262701",
         "388.57000122070315",
         "392.5450012207031",
         "394.56000162760415",
         "400.0575012207031",
         "409.46600097656255",
         "418.0200012207032",
         "0.0007797966816991408",
         "0.00909799815165191",
         "-0.0063686304374557245",
         "Chemicals"
        ],
        [
         "45",
         "2025-03-18",
         "384.7000122070313",
         "384.7000122070313",
         "384.7000122070313",
         "384.7000122070313",
         "0",
         "-1.40715497797907",
         "0.0",
         "387.31000366210935",
         "392.86500244140626",
         "392.69666951497396",
         "398.5450012207031",
         "406.2380017089844",
         "415.5216684977214",
         "0.0",
         "0.0",
         "0.0",
         "Chemicals"
        ],
        [
         "46",
         "2025-03-19",
         "399.3500061035156",
         "402.5",
         "389.2999877929688",
         "391.5",
         "1344897",
         "-0.8400666555616653",
         "0.038081604969121274",
         "388.65000610351564",
         "394.60500183105466",
         "392.236669921875",
         "397.59750213623045",
         "403.9900024414063",
         "413.74666849772143",
         "-0.019656957514809226",
         "0.007887802299589408",
         "-0.02516594004493833",
         "Chemicals"
        ],
        [
         "47",
         "2025-03-20",
         "399.25",
         "405.0",
         "396.2000122070313",
         "405.0",
         "1067701",
         "-0.843937803486702",
         "-0.0002504221910283322",
         "390.15000610351564",
         "394.3350006103516",
         "392.0400024414063",
         "397.06500244140625",
         "402.3660021972657",
         "411.8550018310547",
         "0.01440200375704448",
         "0.01440200375704448",
         "-0.007639293157091331",
         "Chemicals"
        ],
        [
         "48",
         "2025-03-21",
         "407.25",
         "409.4500122070313",
         "398.3500061035156",
         "400.0499877929688",
         "1851839",
         "-0.5342648704196139",
         "0.020037570444583652",
         "395.0500061035156",
         "393.9700012207031",
         "392.8000020345052",
         "396.59500274658205",
         "400.9660021972657",
         "409.90500183105473",
         "-0.017679587985343637",
         "0.005402117144337248",
         "-0.02185388310984504",
         "Chemicals"
        ]
       ],
       "shape": {
        "columns": 18,
        "rows": 49
       }
      },
      "text/html": [
       "<div>\n",
       "<style scoped>\n",
       "    .dataframe tbody tr th:only-of-type {\n",
       "        vertical-align: middle;\n",
       "    }\n",
       "\n",
       "    .dataframe tbody tr th {\n",
       "        vertical-align: top;\n",
       "    }\n",
       "\n",
       "    .dataframe thead th {\n",
       "        text-align: right;\n",
       "    }\n",
       "</style>\n",
       "<table border=\"1\" class=\"dataframe\">\n",
       "  <thead>\n",
       "    <tr style=\"text-align: right;\">\n",
       "      <th></th>\n",
       "      <th>Date</th>\n",
       "      <th>Close</th>\n",
       "      <th>High</th>\n",
       "      <th>Low</th>\n",
       "      <th>Open</th>\n",
       "      <th>Volume</th>\n",
       "      <th>Normalized_Close</th>\n",
       "      <th>Return_Ratio</th>\n",
       "      <th>MA_5</th>\n",
       "      <th>MA_10</th>\n",
       "      <th>MA_15</th>\n",
       "      <th>MA_20</th>\n",
       "      <th>MA_25</th>\n",
       "      <th>MA_30</th>\n",
       "      <th>Pct_Change_Open</th>\n",
       "      <th>Pct_Change_High</th>\n",
       "      <th>Pct_Change_Low</th>\n",
       "      <th>Sector</th>\n",
       "    </tr>\n",
       "  </thead>\n",
       "  <tbody>\n",
       "    <tr>\n",
       "      <th>0</th>\n",
       "      <td>2025-01-13</td>\n",
       "      <td>409.450012</td>\n",
       "      <td>434.850006</td>\n",
       "      <td>407.549988</td>\n",
       "      <td>415.000000</td>\n",
       "      <td>5697469</td>\n",
       "      <td>-0.449104</td>\n",
       "      <td>0.000000</td>\n",
       "      <td>0.000000</td>\n",
       "      <td>0.000000</td>\n",
       "      <td>0.000000</td>\n",
       "      <td>0.000000</td>\n",
       "      <td>0.000000</td>\n",
       "      <td>0.000000</td>\n",
       "      <td>0.013555</td>\n",
       "      <td>0.062034</td>\n",
       "      <td>-0.004640</td>\n",
       "      <td>Chemicals</td>\n",
       "    </tr>\n",
       "    <tr>\n",
       "      <th>1</th>\n",
       "      <td>2025-01-14</td>\n",
       "      <td>409.350006</td>\n",
       "      <td>416.750000</td>\n",
       "      <td>403.250000</td>\n",
       "      <td>410.450012</td>\n",
       "      <td>1807357</td>\n",
       "      <td>-0.452975</td>\n",
       "      <td>-0.000244</td>\n",
       "      <td>0.000000</td>\n",
       "      <td>0.000000</td>\n",
       "      <td>0.000000</td>\n",
       "      <td>0.000000</td>\n",
       "      <td>0.000000</td>\n",
       "      <td>0.000000</td>\n",
       "      <td>0.002687</td>\n",
       "      <td>0.018077</td>\n",
       "      <td>-0.014902</td>\n",
       "      <td>Chemicals</td>\n",
       "    </tr>\n",
       "    <tr>\n",
       "      <th>2</th>\n",
       "      <td>2025-01-15</td>\n",
       "      <td>429.750000</td>\n",
       "      <td>432.000000</td>\n",
       "      <td>411.700012</td>\n",
       "      <td>411.700012</td>\n",
       "      <td>3320720</td>\n",
       "      <td>0.336690</td>\n",
       "      <td>0.049835</td>\n",
       "      <td>0.000000</td>\n",
       "      <td>0.000000</td>\n",
       "      <td>0.000000</td>\n",
       "      <td>0.000000</td>\n",
       "      <td>0.000000</td>\n",
       "      <td>0.000000</td>\n",
       "      <td>-0.042001</td>\n",
       "      <td>0.005236</td>\n",
       "      <td>-0.042001</td>\n",
       "      <td>Chemicals</td>\n",
       "    </tr>\n",
       "    <tr>\n",
       "      <th>3</th>\n",
       "      <td>2025-01-16</td>\n",
       "      <td>438.750000</td>\n",
       "      <td>440.799988</td>\n",
       "      <td>431.350006</td>\n",
       "      <td>433.000000</td>\n",
       "      <td>2213536</td>\n",
       "      <td>0.685072</td>\n",
       "      <td>0.020942</td>\n",
       "      <td>0.000000</td>\n",
       "      <td>0.000000</td>\n",
       "      <td>0.000000</td>\n",
       "      <td>0.000000</td>\n",
       "      <td>0.000000</td>\n",
       "      <td>0.000000</td>\n",
       "      <td>-0.013105</td>\n",
       "      <td>0.004672</td>\n",
       "      <td>-0.016866</td>\n",
       "      <td>Chemicals</td>\n",
       "    </tr>\n",
       "    <tr>\n",
       "      <th>4</th>\n",
       "      <td>2025-01-17</td>\n",
       "      <td>442.700012</td>\n",
       "      <td>444.399994</td>\n",
       "      <td>435.649994</td>\n",
       "      <td>436.899994</td>\n",
       "      <td>1304832</td>\n",
       "      <td>0.837974</td>\n",
       "      <td>0.009003</td>\n",
       "      <td>426.000006</td>\n",
       "      <td>0.000000</td>\n",
       "      <td>0.000000</td>\n",
       "      <td>0.000000</td>\n",
       "      <td>0.000000</td>\n",
       "      <td>0.000000</td>\n",
       "      <td>-0.013101</td>\n",
       "      <td>0.003840</td>\n",
       "      <td>-0.015925</td>\n",
       "      <td>Chemicals</td>\n",
       "    </tr>\n",
       "    <tr>\n",
       "      <th>5</th>\n",
       "      <td>2025-01-20</td>\n",
       "      <td>449.149994</td>\n",
       "      <td>450.600006</td>\n",
       "      <td>443.049988</td>\n",
       "      <td>446.399994</td>\n",
       "      <td>2686026</td>\n",
       "      <td>1.087647</td>\n",
       "      <td>0.014570</td>\n",
       "      <td>433.940002</td>\n",
       "      <td>0.000000</td>\n",
       "      <td>0.000000</td>\n",
       "      <td>0.000000</td>\n",
       "      <td>0.000000</td>\n",
       "      <td>0.000000</td>\n",
       "      <td>-0.006123</td>\n",
       "      <td>0.003228</td>\n",
       "      <td>-0.013581</td>\n",
       "      <td>Chemicals</td>\n",
       "    </tr>\n",
       "    <tr>\n",
       "      <th>6</th>\n",
       "      <td>2025-01-21</td>\n",
       "      <td>453.049988</td>\n",
       "      <td>466.399994</td>\n",
       "      <td>450.450012</td>\n",
       "      <td>451.850006</td>\n",
       "      <td>8709687</td>\n",
       "      <td>1.238612</td>\n",
       "      <td>0.008683</td>\n",
       "      <td>442.679999</td>\n",
       "      <td>0.000000</td>\n",
       "      <td>0.000000</td>\n",
       "      <td>0.000000</td>\n",
       "      <td>0.000000</td>\n",
       "      <td>0.000000</td>\n",
       "      <td>-0.002649</td>\n",
       "      <td>0.029467</td>\n",
       "      <td>-0.005739</td>\n",
       "      <td>Chemicals</td>\n",
       "    </tr>\n",
       "    <tr>\n",
       "      <th>7</th>\n",
       "      <td>2025-01-22</td>\n",
       "      <td>440.850006</td>\n",
       "      <td>456.250000</td>\n",
       "      <td>428.149994</td>\n",
       "      <td>455.799988</td>\n",
       "      <td>3307939</td>\n",
       "      <td>0.766362</td>\n",
       "      <td>-0.026929</td>\n",
       "      <td>444.900000</td>\n",
       "      <td>0.000000</td>\n",
       "      <td>0.000000</td>\n",
       "      <td>0.000000</td>\n",
       "      <td>0.000000</td>\n",
       "      <td>0.000000</td>\n",
       "      <td>0.033912</td>\n",
       "      <td>0.034933</td>\n",
       "      <td>-0.028808</td>\n",
       "      <td>Chemicals</td>\n",
       "    </tr>\n",
       "    <tr>\n",
       "      <th>8</th>\n",
       "      <td>2025-01-23</td>\n",
       "      <td>448.450012</td>\n",
       "      <td>452.000000</td>\n",
       "      <td>436.049988</td>\n",
       "      <td>440.549988</td>\n",
       "      <td>1474236</td>\n",
       "      <td>1.060551</td>\n",
       "      <td>0.017239</td>\n",
       "      <td>446.840002</td>\n",
       "      <td>0.000000</td>\n",
       "      <td>0.000000</td>\n",
       "      <td>0.000000</td>\n",
       "      <td>0.000000</td>\n",
       "      <td>0.000000</td>\n",
       "      <td>-0.017616</td>\n",
       "      <td>0.007916</td>\n",
       "      <td>-0.027651</td>\n",
       "      <td>Chemicals</td>\n",
       "    </tr>\n",
       "    <tr>\n",
       "      <th>9</th>\n",
       "      <td>2025-01-24</td>\n",
       "      <td>439.049988</td>\n",
       "      <td>452.950012</td>\n",
       "      <td>436.100006</td>\n",
       "      <td>450.000000</td>\n",
       "      <td>1822249</td>\n",
       "      <td>0.696685</td>\n",
       "      <td>-0.020961</td>\n",
       "      <td>446.109998</td>\n",
       "      <td>436.055002</td>\n",
       "      <td>0.000000</td>\n",
       "      <td>0.000000</td>\n",
       "      <td>0.000000</td>\n",
       "      <td>0.000000</td>\n",
       "      <td>0.024940</td>\n",
       "      <td>0.031659</td>\n",
       "      <td>-0.006719</td>\n",
       "      <td>Chemicals</td>\n",
       "    </tr>\n",
       "    <tr>\n",
       "      <th>10</th>\n",
       "      <td>2025-01-27</td>\n",
       "      <td>418.850006</td>\n",
       "      <td>435.000000</td>\n",
       "      <td>415.399994</td>\n",
       "      <td>435.000000</td>\n",
       "      <td>1679630</td>\n",
       "      <td>-0.085239</td>\n",
       "      <td>-0.046008</td>\n",
       "      <td>440.050000</td>\n",
       "      <td>436.995001</td>\n",
       "      <td>0.000000</td>\n",
       "      <td>0.000000</td>\n",
       "      <td>0.000000</td>\n",
       "      <td>0.000000</td>\n",
       "      <td>0.038558</td>\n",
       "      <td>0.038558</td>\n",
       "      <td>-0.008237</td>\n",
       "      <td>Chemicals</td>\n",
       "    </tr>\n",
       "    <tr>\n",
       "      <th>11</th>\n",
       "      <td>2025-01-28</td>\n",
       "      <td>410.399994</td>\n",
       "      <td>422.000000</td>\n",
       "      <td>406.950012</td>\n",
       "      <td>418.850006</td>\n",
       "      <td>2052054</td>\n",
       "      <td>-0.412331</td>\n",
       "      <td>-0.020174</td>\n",
       "      <td>431.520001</td>\n",
       "      <td>437.100000</td>\n",
       "      <td>0.000000</td>\n",
       "      <td>0.000000</td>\n",
       "      <td>0.000000</td>\n",
       "      <td>0.000000</td>\n",
       "      <td>0.020590</td>\n",
       "      <td>0.028265</td>\n",
       "      <td>-0.008406</td>\n",
       "      <td>Chemicals</td>\n",
       "    </tr>\n",
       "    <tr>\n",
       "      <th>12</th>\n",
       "      <td>2025-01-29</td>\n",
       "      <td>427.899994</td>\n",
       "      <td>429.600006</td>\n",
       "      <td>408.549988</td>\n",
       "      <td>412.000000</td>\n",
       "      <td>3564254</td>\n",
       "      <td>0.265078</td>\n",
       "      <td>0.042641</td>\n",
       "      <td>428.929999</td>\n",
       "      <td>436.914999</td>\n",
       "      <td>0.000000</td>\n",
       "      <td>0.000000</td>\n",
       "      <td>0.000000</td>\n",
       "      <td>0.000000</td>\n",
       "      <td>-0.037158</td>\n",
       "      <td>0.003973</td>\n",
       "      <td>-0.045221</td>\n",
       "      <td>Chemicals</td>\n",
       "    </tr>\n",
       "    <tr>\n",
       "      <th>13</th>\n",
       "      <td>2025-01-30</td>\n",
       "      <td>438.000000</td>\n",
       "      <td>441.950012</td>\n",
       "      <td>428.399994</td>\n",
       "      <td>431.799988</td>\n",
       "      <td>2179795</td>\n",
       "      <td>0.656040</td>\n",
       "      <td>0.023604</td>\n",
       "      <td>426.839996</td>\n",
       "      <td>436.839999</td>\n",
       "      <td>0.000000</td>\n",
       "      <td>0.000000</td>\n",
       "      <td>0.000000</td>\n",
       "      <td>0.000000</td>\n",
       "      <td>-0.014155</td>\n",
       "      <td>0.009018</td>\n",
       "      <td>-0.021918</td>\n",
       "      <td>Chemicals</td>\n",
       "    </tr>\n",
       "    <tr>\n",
       "      <th>14</th>\n",
       "      <td>2025-01-31</td>\n",
       "      <td>444.700012</td>\n",
       "      <td>451.850006</td>\n",
       "      <td>438.600006</td>\n",
       "      <td>450.000000</td>\n",
       "      <td>2624458</td>\n",
       "      <td>0.915392</td>\n",
       "      <td>0.015297</td>\n",
       "      <td>427.970001</td>\n",
       "      <td>437.039999</td>\n",
       "      <td>433.360002</td>\n",
       "      <td>0.000000</td>\n",
       "      <td>0.000000</td>\n",
       "      <td>0.000000</td>\n",
       "      <td>0.011918</td>\n",
       "      <td>0.016078</td>\n",
       "      <td>-0.013717</td>\n",
       "      <td>Chemicals</td>\n",
       "    </tr>\n",
       "    <tr>\n",
       "      <th>15</th>\n",
       "      <td>2025-02-01</td>\n",
       "      <td>459.649994</td>\n",
       "      <td>463.850006</td>\n",
       "      <td>439.100006</td>\n",
       "      <td>447.700012</td>\n",
       "      <td>2427806</td>\n",
       "      <td>1.494093</td>\n",
       "      <td>0.033618</td>\n",
       "      <td>436.129999</td>\n",
       "      <td>438.089999</td>\n",
       "      <td>436.706667</td>\n",
       "      <td>0.000000</td>\n",
       "      <td>0.000000</td>\n",
       "      <td>0.000000</td>\n",
       "      <td>-0.025998</td>\n",
       "      <td>0.009137</td>\n",
       "      <td>-0.044708</td>\n",
       "      <td>Chemicals</td>\n",
       "    </tr>\n",
       "    <tr>\n",
       "      <th>16</th>\n",
       "      <td>2025-02-03</td>\n",
       "      <td>452.600006</td>\n",
       "      <td>468.399994</td>\n",
       "      <td>428.500000</td>\n",
       "      <td>445.049988</td>\n",
       "      <td>6114774</td>\n",
       "      <td>1.221194</td>\n",
       "      <td>-0.015338</td>\n",
       "      <td>444.570001</td>\n",
       "      <td>438.045001</td>\n",
       "      <td>439.590000</td>\n",
       "      <td>0.000000</td>\n",
       "      <td>0.000000</td>\n",
       "      <td>0.000000</td>\n",
       "      <td>-0.016681</td>\n",
       "      <td>0.034909</td>\n",
       "      <td>-0.053248</td>\n",
       "      <td>Chemicals</td>\n",
       "    </tr>\n",
       "    <tr>\n",
       "      <th>17</th>\n",
       "      <td>2025-02-04</td>\n",
       "      <td>456.000000</td>\n",
       "      <td>462.000000</td>\n",
       "      <td>451.450012</td>\n",
       "      <td>454.000000</td>\n",
       "      <td>1514067</td>\n",
       "      <td>1.352805</td>\n",
       "      <td>0.007512</td>\n",
       "      <td>450.190002</td>\n",
       "      <td>439.560001</td>\n",
       "      <td>441.340000</td>\n",
       "      <td>0.000000</td>\n",
       "      <td>0.000000</td>\n",
       "      <td>0.000000</td>\n",
       "      <td>-0.004386</td>\n",
       "      <td>0.013158</td>\n",
       "      <td>-0.009978</td>\n",
       "      <td>Chemicals</td>\n",
       "    </tr>\n",
       "    <tr>\n",
       "      <th>18</th>\n",
       "      <td>2025-02-05</td>\n",
       "      <td>465.750000</td>\n",
       "      <td>468.549988</td>\n",
       "      <td>452.549988</td>\n",
       "      <td>455.000000</td>\n",
       "      <td>1555472</td>\n",
       "      <td>1.730218</td>\n",
       "      <td>0.021382</td>\n",
       "      <td>455.740002</td>\n",
       "      <td>441.289999</td>\n",
       "      <td>443.140000</td>\n",
       "      <td>0.000000</td>\n",
       "      <td>0.000000</td>\n",
       "      <td>0.000000</td>\n",
       "      <td>-0.023081</td>\n",
       "      <td>0.006012</td>\n",
       "      <td>-0.028341</td>\n",
       "      <td>Chemicals</td>\n",
       "    </tr>\n",
       "    <tr>\n",
       "      <th>19</th>\n",
       "      <td>2025-02-06</td>\n",
       "      <td>469.950012</td>\n",
       "      <td>477.750000</td>\n",
       "      <td>466.950012</td>\n",
       "      <td>468.899994</td>\n",
       "      <td>3927656</td>\n",
       "      <td>1.892797</td>\n",
       "      <td>0.009018</td>\n",
       "      <td>460.790002</td>\n",
       "      <td>444.380002</td>\n",
       "      <td>444.956667</td>\n",
       "      <td>440.217502</td>\n",
       "      <td>0.000000</td>\n",
       "      <td>0.000000</td>\n",
       "      <td>-0.002234</td>\n",
       "      <td>0.016597</td>\n",
       "      <td>-0.006384</td>\n",
       "      <td>Chemicals</td>\n",
       "    </tr>\n",
       "    <tr>\n",
       "      <th>20</th>\n",
       "      <td>2025-02-07</td>\n",
       "      <td>465.399994</td>\n",
       "      <td>471.600006</td>\n",
       "      <td>460.899994</td>\n",
       "      <td>469.950012</td>\n",
       "      <td>928326</td>\n",
       "      <td>1.716670</td>\n",
       "      <td>-0.009682</td>\n",
       "      <td>461.940002</td>\n",
       "      <td>449.035001</td>\n",
       "      <td>446.040000</td>\n",
       "      <td>443.015001</td>\n",
       "      <td>0.000000</td>\n",
       "      <td>0.000000</td>\n",
       "      <td>0.009777</td>\n",
       "      <td>0.013322</td>\n",
       "      <td>-0.009669</td>\n",
       "      <td>Chemicals</td>\n",
       "    </tr>\n",
       "    <tr>\n",
       "      <th>21</th>\n",
       "      <td>2025-02-10</td>\n",
       "      <td>455.549988</td>\n",
       "      <td>467.850006</td>\n",
       "      <td>451.649994</td>\n",
       "      <td>466.899994</td>\n",
       "      <td>821435</td>\n",
       "      <td>1.335385</td>\n",
       "      <td>-0.021165</td>\n",
       "      <td>462.529999</td>\n",
       "      <td>453.550000</td>\n",
       "      <td>446.206667</td>\n",
       "      <td>445.325000</td>\n",
       "      <td>0.000000</td>\n",
       "      <td>0.000000</td>\n",
       "      <td>0.024915</td>\n",
       "      <td>0.027000</td>\n",
       "      <td>-0.008561</td>\n",
       "      <td>Chemicals</td>\n",
       "    </tr>\n",
       "    <tr>\n",
       "      <th>22</th>\n",
       "      <td>2025-02-11</td>\n",
       "      <td>439.850006</td>\n",
       "      <td>457.299988</td>\n",
       "      <td>437.200012</td>\n",
       "      <td>456.000000</td>\n",
       "      <td>1055552</td>\n",
       "      <td>0.727653</td>\n",
       "      <td>-0.034464</td>\n",
       "      <td>459.300000</td>\n",
       "      <td>454.745001</td>\n",
       "      <td>446.140000</td>\n",
       "      <td>445.830000</td>\n",
       "      <td>0.000000</td>\n",
       "      <td>0.000000</td>\n",
       "      <td>0.036717</td>\n",
       "      <td>0.039673</td>\n",
       "      <td>-0.006025</td>\n",
       "      <td>Chemicals</td>\n",
       "    </tr>\n",
       "    <tr>\n",
       "      <th>23</th>\n",
       "      <td>2025-02-12</td>\n",
       "      <td>442.250000</td>\n",
       "      <td>447.750000</td>\n",
       "      <td>424.250000</td>\n",
       "      <td>439.850006</td>\n",
       "      <td>1708158</td>\n",
       "      <td>0.820554</td>\n",
       "      <td>0.005456</td>\n",
       "      <td>454.600000</td>\n",
       "      <td>455.170001</td>\n",
       "      <td>445.726666</td>\n",
       "      <td>446.005000</td>\n",
       "      <td>0.000000</td>\n",
       "      <td>0.000000</td>\n",
       "      <td>-0.005427</td>\n",
       "      <td>0.012436</td>\n",
       "      <td>-0.040701</td>\n",
       "      <td>Chemicals</td>\n",
       "    </tr>\n",
       "    <tr>\n",
       "      <th>24</th>\n",
       "      <td>2025-02-13</td>\n",
       "      <td>432.450012</td>\n",
       "      <td>445.350006</td>\n",
       "      <td>431.000000</td>\n",
       "      <td>442.049988</td>\n",
       "      <td>879597</td>\n",
       "      <td>0.441205</td>\n",
       "      <td>-0.022159</td>\n",
       "      <td>447.100000</td>\n",
       "      <td>453.945001</td>\n",
       "      <td>445.286668</td>\n",
       "      <td>445.492500</td>\n",
       "      <td>441.594001</td>\n",
       "      <td>0.000000</td>\n",
       "      <td>0.022199</td>\n",
       "      <td>0.029830</td>\n",
       "      <td>-0.003353</td>\n",
       "      <td>Chemicals</td>\n",
       "    </tr>\n",
       "    <tr>\n",
       "      <th>25</th>\n",
       "      <td>2025-02-14</td>\n",
       "      <td>414.950012</td>\n",
       "      <td>432.899994</td>\n",
       "      <td>409.799988</td>\n",
       "      <td>431.250000</td>\n",
       "      <td>1422199</td>\n",
       "      <td>-0.236204</td>\n",
       "      <td>-0.040467</td>\n",
       "      <td>437.010004</td>\n",
       "      <td>449.475003</td>\n",
       "      <td>445.026668</td>\n",
       "      <td>443.782501</td>\n",
       "      <td>441.814001</td>\n",
       "      <td>0.000000</td>\n",
       "      <td>0.039282</td>\n",
       "      <td>0.043258</td>\n",
       "      <td>-0.012411</td>\n",
       "      <td>Chemicals</td>\n",
       "    </tr>\n",
       "    <tr>\n",
       "      <th>26</th>\n",
       "      <td>2025-02-17</td>\n",
       "      <td>418.299988</td>\n",
       "      <td>422.350006</td>\n",
       "      <td>405.000000</td>\n",
       "      <td>409.350006</td>\n",
       "      <td>1055177</td>\n",
       "      <td>-0.106530</td>\n",
       "      <td>0.008073</td>\n",
       "      <td>429.560004</td>\n",
       "      <td>446.045001</td>\n",
       "      <td>445.553335</td>\n",
       "      <td>442.045001</td>\n",
       "      <td>442.172001</td>\n",
       "      <td>0.000000</td>\n",
       "      <td>-0.021396</td>\n",
       "      <td>0.009682</td>\n",
       "      <td>-0.031795</td>\n",
       "      <td>Chemicals</td>\n",
       "    </tr>\n",
       "    <tr>\n",
       "      <th>27</th>\n",
       "      <td>2025-02-18</td>\n",
       "      <td>409.899994</td>\n",
       "      <td>418.549988</td>\n",
       "      <td>404.149994</td>\n",
       "      <td>418.299988</td>\n",
       "      <td>868811</td>\n",
       "      <td>-0.431686</td>\n",
       "      <td>-0.020081</td>\n",
       "      <td>423.570001</td>\n",
       "      <td>441.435001</td>\n",
       "      <td>444.353335</td>\n",
       "      <td>440.497501</td>\n",
       "      <td>441.378000</td>\n",
       "      <td>0.000000</td>\n",
       "      <td>0.020493</td>\n",
       "      <td>0.021103</td>\n",
       "      <td>-0.014028</td>\n",
       "      <td>Chemicals</td>\n",
       "    </tr>\n",
       "    <tr>\n",
       "      <th>28</th>\n",
       "      <td>2025-02-19</td>\n",
       "      <td>416.649994</td>\n",
       "      <td>419.500000</td>\n",
       "      <td>406.399994</td>\n",
       "      <td>408.950012</td>\n",
       "      <td>651103</td>\n",
       "      <td>-0.170399</td>\n",
       "      <td>0.016467</td>\n",
       "      <td>418.450000</td>\n",
       "      <td>436.525000</td>\n",
       "      <td>442.930001</td>\n",
       "      <td>438.907500</td>\n",
       "      <td>440.494000</td>\n",
       "      <td>0.000000</td>\n",
       "      <td>-0.018481</td>\n",
       "      <td>0.006840</td>\n",
       "      <td>-0.024601</td>\n",
       "      <td>Chemicals</td>\n",
       "    </tr>\n",
       "    <tr>\n",
       "      <th>29</th>\n",
       "      <td>2025-02-20</td>\n",
       "      <td>422.950012</td>\n",
       "      <td>424.850006</td>\n",
       "      <td>412.350006</td>\n",
       "      <td>414.500000</td>\n",
       "      <td>594697</td>\n",
       "      <td>0.073469</td>\n",
       "      <td>0.015121</td>\n",
       "      <td>416.550000</td>\n",
       "      <td>431.825000</td>\n",
       "      <td>441.480001</td>\n",
       "      <td>438.102501</td>\n",
       "      <td>439.704000</td>\n",
       "      <td>437.420001</td>\n",
       "      <td>-0.019979</td>\n",
       "      <td>0.004492</td>\n",
       "      <td>-0.025062</td>\n",
       "      <td>Chemicals</td>\n",
       "    </tr>\n",
       "    <tr>\n",
       "      <th>30</th>\n",
       "      <td>2025-02-21</td>\n",
       "      <td>412.649994</td>\n",
       "      <td>427.100006</td>\n",
       "      <td>411.000000</td>\n",
       "      <td>421.000000</td>\n",
       "      <td>768124</td>\n",
       "      <td>-0.325236</td>\n",
       "      <td>-0.024353</td>\n",
       "      <td>416.089996</td>\n",
       "      <td>426.550000</td>\n",
       "      <td>438.346667</td>\n",
       "      <td>437.792500</td>\n",
       "      <td>438.244000</td>\n",
       "      <td>437.526667</td>\n",
       "      <td>0.020235</td>\n",
       "      <td>0.035018</td>\n",
       "      <td>-0.003999</td>\n",
       "      <td>Chemicals</td>\n",
       "    </tr>\n",
       "    <tr>\n",
       "      <th>31</th>\n",
       "      <td>2025-02-24</td>\n",
       "      <td>406.250000</td>\n",
       "      <td>411.950012</td>\n",
       "      <td>402.799988</td>\n",
       "      <td>411.950012</td>\n",
       "      <td>941556</td>\n",
       "      <td>-0.572974</td>\n",
       "      <td>-0.015509</td>\n",
       "      <td>413.679999</td>\n",
       "      <td>421.620001</td>\n",
       "      <td>435.256667</td>\n",
       "      <td>437.585001</td>\n",
       "      <td>436.372001</td>\n",
       "      <td>437.423334</td>\n",
       "      <td>0.014031</td>\n",
       "      <td>0.014031</td>\n",
       "      <td>-0.008492</td>\n",
       "      <td>Chemicals</td>\n",
       "    </tr>\n",
       "    <tr>\n",
       "      <th>32</th>\n",
       "      <td>2025-02-25</td>\n",
       "      <td>402.200012</td>\n",
       "      <td>410.399994</td>\n",
       "      <td>401.049988</td>\n",
       "      <td>406.000000</td>\n",
       "      <td>911831</td>\n",
       "      <td>-0.729745</td>\n",
       "      <td>-0.009969</td>\n",
       "      <td>412.140002</td>\n",
       "      <td>417.855002</td>\n",
       "      <td>431.670001</td>\n",
       "      <td>436.300002</td>\n",
       "      <td>434.826001</td>\n",
       "      <td>436.505001</td>\n",
       "      <td>0.009448</td>\n",
       "      <td>0.020388</td>\n",
       "      <td>-0.002859</td>\n",
       "      <td>Chemicals</td>\n",
       "    </tr>\n",
       "    <tr>\n",
       "      <th>33</th>\n",
       "      <td>2025-02-27</td>\n",
       "      <td>395.850006</td>\n",
       "      <td>404.500000</td>\n",
       "      <td>392.399994</td>\n",
       "      <td>402.200012</td>\n",
       "      <td>1108424</td>\n",
       "      <td>-0.975549</td>\n",
       "      <td>-0.015788</td>\n",
       "      <td>407.980005</td>\n",
       "      <td>413.215002</td>\n",
       "      <td>427.010002</td>\n",
       "      <td>434.192502</td>\n",
       "      <td>432.722001</td>\n",
       "      <td>435.075001</td>\n",
       "      <td>0.016041</td>\n",
       "      <td>0.021852</td>\n",
       "      <td>-0.008715</td>\n",
       "      <td>Chemicals</td>\n",
       "    </tr>\n",
       "    <tr>\n",
       "      <th>34</th>\n",
       "      <td>2025-02-28</td>\n",
       "      <td>376.000000</td>\n",
       "      <td>392.799988</td>\n",
       "      <td>374.450012</td>\n",
       "      <td>392.000000</td>\n",
       "      <td>2310606</td>\n",
       "      <td>-1.743925</td>\n",
       "      <td>-0.050145</td>\n",
       "      <td>398.590002</td>\n",
       "      <td>407.570001</td>\n",
       "      <td>420.746667</td>\n",
       "      <td>430.757501</td>\n",
       "      <td>430.200001</td>\n",
       "      <td>432.851667</td>\n",
       "      <td>0.042553</td>\n",
       "      <td>0.044681</td>\n",
       "      <td>-0.004122</td>\n",
       "      <td>Chemicals</td>\n",
       "    </tr>\n",
       "    <tr>\n",
       "      <th>35</th>\n",
       "      <td>2025-03-03</td>\n",
       "      <td>381.500000</td>\n",
       "      <td>383.000000</td>\n",
       "      <td>364.149994</td>\n",
       "      <td>377.000000</td>\n",
       "      <td>1581657</td>\n",
       "      <td>-1.531025</td>\n",
       "      <td>0.014628</td>\n",
       "      <td>392.360004</td>\n",
       "      <td>404.225000</td>\n",
       "      <td>415.153335</td>\n",
       "      <td>426.850002</td>\n",
       "      <td>428.706001</td>\n",
       "      <td>430.596667</td>\n",
       "      <td>-0.011796</td>\n",
       "      <td>0.003932</td>\n",
       "      <td>-0.045478</td>\n",
       "      <td>Chemicals</td>\n",
       "    </tr>\n",
       "    <tr>\n",
       "      <th>36</th>\n",
       "      <td>2025-03-04</td>\n",
       "      <td>381.950012</td>\n",
       "      <td>390.600006</td>\n",
       "      <td>374.500000</td>\n",
       "      <td>376.000000</td>\n",
       "      <td>952392</td>\n",
       "      <td>-1.513605</td>\n",
       "      <td>0.001180</td>\n",
       "      <td>387.500006</td>\n",
       "      <td>400.590002</td>\n",
       "      <td>410.246670</td>\n",
       "      <td>423.317502</td>\n",
       "      <td>427.568002</td>\n",
       "      <td>428.226668</td>\n",
       "      <td>-0.015578</td>\n",
       "      <td>0.022647</td>\n",
       "      <td>-0.019505</td>\n",
       "      <td>Chemicals</td>\n",
       "    </tr>\n",
       "    <tr>\n",
       "      <th>37</th>\n",
       "      <td>2025-03-05</td>\n",
       "      <td>401.950012</td>\n",
       "      <td>402.500000</td>\n",
       "      <td>382.399994</td>\n",
       "      <td>382.899994</td>\n",
       "      <td>1134502</td>\n",
       "      <td>-0.739423</td>\n",
       "      <td>0.052363</td>\n",
       "      <td>387.450006</td>\n",
       "      <td>399.795004</td>\n",
       "      <td>407.720003</td>\n",
       "      <td>420.615002</td>\n",
       "      <td>426.530002</td>\n",
       "      <td>426.930002</td>\n",
       "      <td>-0.047394</td>\n",
       "      <td>0.001368</td>\n",
       "      <td>-0.048638</td>\n",
       "      <td>Chemicals</td>\n",
       "    </tr>\n",
       "    <tr>\n",
       "      <th>38</th>\n",
       "      <td>2025-03-06</td>\n",
       "      <td>410.899994</td>\n",
       "      <td>412.350006</td>\n",
       "      <td>402.000000</td>\n",
       "      <td>402.049988</td>\n",
       "      <td>1165670</td>\n",
       "      <td>-0.392977</td>\n",
       "      <td>0.022266</td>\n",
       "      <td>390.460004</td>\n",
       "      <td>399.220004</td>\n",
       "      <td>405.630003</td>\n",
       "      <td>417.872502</td>\n",
       "      <td>425.446002</td>\n",
       "      <td>425.678335</td>\n",
       "      <td>-0.021538</td>\n",
       "      <td>0.003529</td>\n",
       "      <td>-0.021660</td>\n",
       "      <td>Chemicals</td>\n",
       "    </tr>\n",
       "    <tr>\n",
       "      <th>39</th>\n",
       "      <td>2025-03-07</td>\n",
       "      <td>406.299988</td>\n",
       "      <td>413.549988</td>\n",
       "      <td>405.049988</td>\n",
       "      <td>409.000000</td>\n",
       "      <td>727563</td>\n",
       "      <td>-0.571039</td>\n",
       "      <td>-0.011195</td>\n",
       "      <td>396.520001</td>\n",
       "      <td>397.555002</td>\n",
       "      <td>403.886668</td>\n",
       "      <td>414.690001</td>\n",
       "      <td>423.910001</td>\n",
       "      <td>424.586668</td>\n",
       "      <td>0.006645</td>\n",
       "      <td>0.017844</td>\n",
       "      <td>-0.003077</td>\n",
       "      <td>Chemicals</td>\n",
       "    </tr>\n",
       "    <tr>\n",
       "      <th>40</th>\n",
       "      <td>2025-03-10</td>\n",
       "      <td>391.000000</td>\n",
       "      <td>414.399994</td>\n",
       "      <td>389.100006</td>\n",
       "      <td>406.299988</td>\n",
       "      <td>1199199</td>\n",
       "      <td>-1.163288</td>\n",
       "      <td>-0.037657</td>\n",
       "      <td>398.420001</td>\n",
       "      <td>395.390002</td>\n",
       "      <td>402.290000</td>\n",
       "      <td>410.970001</td>\n",
       "      <td>421.164001</td>\n",
       "      <td>423.658334</td>\n",
       "      <td>0.039130</td>\n",
       "      <td>0.059847</td>\n",
       "      <td>-0.004859</td>\n",
       "      <td>Chemicals</td>\n",
       "    </tr>\n",
       "    <tr>\n",
       "      <th>41</th>\n",
       "      <td>2025-03-11</td>\n",
       "      <td>392.649994</td>\n",
       "      <td>398.450012</td>\n",
       "      <td>384.000000</td>\n",
       "      <td>391.500000</td>\n",
       "      <td>1338571</td>\n",
       "      <td>-1.099418</td>\n",
       "      <td>0.004220</td>\n",
       "      <td>400.559998</td>\n",
       "      <td>394.030002</td>\n",
       "      <td>400.580001</td>\n",
       "      <td>407.825002</td>\n",
       "      <td>418.766001</td>\n",
       "      <td>423.066668</td>\n",
       "      <td>-0.002929</td>\n",
       "      <td>0.014771</td>\n",
       "      <td>-0.022030</td>\n",
       "      <td>Chemicals</td>\n",
       "    </tr>\n",
       "    <tr>\n",
       "      <th>42</th>\n",
       "      <td>2025-03-12</td>\n",
       "      <td>391.750000</td>\n",
       "      <td>397.399994</td>\n",
       "      <td>384.700012</td>\n",
       "      <td>394.000000</td>\n",
       "      <td>835049</td>\n",
       "      <td>-1.134256</td>\n",
       "      <td>-0.002292</td>\n",
       "      <td>398.519995</td>\n",
       "      <td>392.985001</td>\n",
       "      <td>399.370001</td>\n",
       "      <td>405.420001</td>\n",
       "      <td>416.196001</td>\n",
       "      <td>421.861668</td>\n",
       "      <td>0.005743</td>\n",
       "      <td>0.014422</td>\n",
       "      <td>-0.017996</td>\n",
       "      <td>Chemicals</td>\n",
       "    </tr>\n",
       "    <tr>\n",
       "      <th>43</th>\n",
       "      <td>2025-03-13</td>\n",
       "      <td>382.750000</td>\n",
       "      <td>393.799988</td>\n",
       "      <td>382.100006</td>\n",
       "      <td>392.000000</td>\n",
       "      <td>674427</td>\n",
       "      <td>-1.482638</td>\n",
       "      <td>-0.022974</td>\n",
       "      <td>392.889996</td>\n",
       "      <td>391.675000</td>\n",
       "      <td>397.110002</td>\n",
       "      <td>402.445001</td>\n",
       "      <td>412.876001</td>\n",
       "      <td>420.020001</td>\n",
       "      <td>0.024167</td>\n",
       "      <td>0.028870</td>\n",
       "      <td>-0.001698</td>\n",
       "      <td>Chemicals</td>\n",
       "    </tr>\n",
       "    <tr>\n",
       "      <th>44</th>\n",
       "      <td>2025-03-17</td>\n",
       "      <td>384.700012</td>\n",
       "      <td>388.200012</td>\n",
       "      <td>382.250000</td>\n",
       "      <td>385.000000</td>\n",
       "      <td>821154</td>\n",
       "      <td>-1.407155</td>\n",
       "      <td>0.005095</td>\n",
       "      <td>388.570001</td>\n",
       "      <td>392.545001</td>\n",
       "      <td>394.560002</td>\n",
       "      <td>400.057501</td>\n",
       "      <td>409.466001</td>\n",
       "      <td>418.020001</td>\n",
       "      <td>0.000780</td>\n",
       "      <td>0.009098</td>\n",
       "      <td>-0.006369</td>\n",
       "      <td>Chemicals</td>\n",
       "    </tr>\n",
       "    <tr>\n",
       "      <th>45</th>\n",
       "      <td>2025-03-18</td>\n",
       "      <td>384.700012</td>\n",
       "      <td>384.700012</td>\n",
       "      <td>384.700012</td>\n",
       "      <td>384.700012</td>\n",
       "      <td>0</td>\n",
       "      <td>-1.407155</td>\n",
       "      <td>0.000000</td>\n",
       "      <td>387.310004</td>\n",
       "      <td>392.865002</td>\n",
       "      <td>392.696670</td>\n",
       "      <td>398.545001</td>\n",
       "      <td>406.238002</td>\n",
       "      <td>415.521668</td>\n",
       "      <td>0.000000</td>\n",
       "      <td>0.000000</td>\n",
       "      <td>0.000000</td>\n",
       "      <td>Chemicals</td>\n",
       "    </tr>\n",
       "    <tr>\n",
       "      <th>46</th>\n",
       "      <td>2025-03-19</td>\n",
       "      <td>399.350006</td>\n",
       "      <td>402.500000</td>\n",
       "      <td>389.299988</td>\n",
       "      <td>391.500000</td>\n",
       "      <td>1344897</td>\n",
       "      <td>-0.840067</td>\n",
       "      <td>0.038082</td>\n",
       "      <td>388.650006</td>\n",
       "      <td>394.605002</td>\n",
       "      <td>392.236670</td>\n",
       "      <td>397.597502</td>\n",
       "      <td>403.990002</td>\n",
       "      <td>413.746668</td>\n",
       "      <td>-0.019657</td>\n",
       "      <td>0.007888</td>\n",
       "      <td>-0.025166</td>\n",
       "      <td>Chemicals</td>\n",
       "    </tr>\n",
       "    <tr>\n",
       "      <th>47</th>\n",
       "      <td>2025-03-20</td>\n",
       "      <td>399.250000</td>\n",
       "      <td>405.000000</td>\n",
       "      <td>396.200012</td>\n",
       "      <td>405.000000</td>\n",
       "      <td>1067701</td>\n",
       "      <td>-0.843938</td>\n",
       "      <td>-0.000250</td>\n",
       "      <td>390.150006</td>\n",
       "      <td>394.335001</td>\n",
       "      <td>392.040002</td>\n",
       "      <td>397.065002</td>\n",
       "      <td>402.366002</td>\n",
       "      <td>411.855002</td>\n",
       "      <td>0.014402</td>\n",
       "      <td>0.014402</td>\n",
       "      <td>-0.007639</td>\n",
       "      <td>Chemicals</td>\n",
       "    </tr>\n",
       "    <tr>\n",
       "      <th>48</th>\n",
       "      <td>2025-03-21</td>\n",
       "      <td>407.250000</td>\n",
       "      <td>409.450012</td>\n",
       "      <td>398.350006</td>\n",
       "      <td>400.049988</td>\n",
       "      <td>1851839</td>\n",
       "      <td>-0.534265</td>\n",
       "      <td>0.020038</td>\n",
       "      <td>395.050006</td>\n",
       "      <td>393.970001</td>\n",
       "      <td>392.800002</td>\n",
       "      <td>396.595003</td>\n",
       "      <td>400.966002</td>\n",
       "      <td>409.905002</td>\n",
       "      <td>-0.017680</td>\n",
       "      <td>0.005402</td>\n",
       "      <td>-0.021854</td>\n",
       "      <td>Chemicals</td>\n",
       "    </tr>\n",
       "  </tbody>\n",
       "</table>\n",
       "</div>"
      ],
      "text/plain": [
       "          Date       Close        High         Low        Open   Volume  \\\n",
       "0   2025-01-13  409.450012  434.850006  407.549988  415.000000  5697469   \n",
       "1   2025-01-14  409.350006  416.750000  403.250000  410.450012  1807357   \n",
       "2   2025-01-15  429.750000  432.000000  411.700012  411.700012  3320720   \n",
       "3   2025-01-16  438.750000  440.799988  431.350006  433.000000  2213536   \n",
       "4   2025-01-17  442.700012  444.399994  435.649994  436.899994  1304832   \n",
       "5   2025-01-20  449.149994  450.600006  443.049988  446.399994  2686026   \n",
       "6   2025-01-21  453.049988  466.399994  450.450012  451.850006  8709687   \n",
       "7   2025-01-22  440.850006  456.250000  428.149994  455.799988  3307939   \n",
       "8   2025-01-23  448.450012  452.000000  436.049988  440.549988  1474236   \n",
       "9   2025-01-24  439.049988  452.950012  436.100006  450.000000  1822249   \n",
       "10  2025-01-27  418.850006  435.000000  415.399994  435.000000  1679630   \n",
       "11  2025-01-28  410.399994  422.000000  406.950012  418.850006  2052054   \n",
       "12  2025-01-29  427.899994  429.600006  408.549988  412.000000  3564254   \n",
       "13  2025-01-30  438.000000  441.950012  428.399994  431.799988  2179795   \n",
       "14  2025-01-31  444.700012  451.850006  438.600006  450.000000  2624458   \n",
       "15  2025-02-01  459.649994  463.850006  439.100006  447.700012  2427806   \n",
       "16  2025-02-03  452.600006  468.399994  428.500000  445.049988  6114774   \n",
       "17  2025-02-04  456.000000  462.000000  451.450012  454.000000  1514067   \n",
       "18  2025-02-05  465.750000  468.549988  452.549988  455.000000  1555472   \n",
       "19  2025-02-06  469.950012  477.750000  466.950012  468.899994  3927656   \n",
       "20  2025-02-07  465.399994  471.600006  460.899994  469.950012   928326   \n",
       "21  2025-02-10  455.549988  467.850006  451.649994  466.899994   821435   \n",
       "22  2025-02-11  439.850006  457.299988  437.200012  456.000000  1055552   \n",
       "23  2025-02-12  442.250000  447.750000  424.250000  439.850006  1708158   \n",
       "24  2025-02-13  432.450012  445.350006  431.000000  442.049988   879597   \n",
       "25  2025-02-14  414.950012  432.899994  409.799988  431.250000  1422199   \n",
       "26  2025-02-17  418.299988  422.350006  405.000000  409.350006  1055177   \n",
       "27  2025-02-18  409.899994  418.549988  404.149994  418.299988   868811   \n",
       "28  2025-02-19  416.649994  419.500000  406.399994  408.950012   651103   \n",
       "29  2025-02-20  422.950012  424.850006  412.350006  414.500000   594697   \n",
       "30  2025-02-21  412.649994  427.100006  411.000000  421.000000   768124   \n",
       "31  2025-02-24  406.250000  411.950012  402.799988  411.950012   941556   \n",
       "32  2025-02-25  402.200012  410.399994  401.049988  406.000000   911831   \n",
       "33  2025-02-27  395.850006  404.500000  392.399994  402.200012  1108424   \n",
       "34  2025-02-28  376.000000  392.799988  374.450012  392.000000  2310606   \n",
       "35  2025-03-03  381.500000  383.000000  364.149994  377.000000  1581657   \n",
       "36  2025-03-04  381.950012  390.600006  374.500000  376.000000   952392   \n",
       "37  2025-03-05  401.950012  402.500000  382.399994  382.899994  1134502   \n",
       "38  2025-03-06  410.899994  412.350006  402.000000  402.049988  1165670   \n",
       "39  2025-03-07  406.299988  413.549988  405.049988  409.000000   727563   \n",
       "40  2025-03-10  391.000000  414.399994  389.100006  406.299988  1199199   \n",
       "41  2025-03-11  392.649994  398.450012  384.000000  391.500000  1338571   \n",
       "42  2025-03-12  391.750000  397.399994  384.700012  394.000000   835049   \n",
       "43  2025-03-13  382.750000  393.799988  382.100006  392.000000   674427   \n",
       "44  2025-03-17  384.700012  388.200012  382.250000  385.000000   821154   \n",
       "45  2025-03-18  384.700012  384.700012  384.700012  384.700012        0   \n",
       "46  2025-03-19  399.350006  402.500000  389.299988  391.500000  1344897   \n",
       "47  2025-03-20  399.250000  405.000000  396.200012  405.000000  1067701   \n",
       "48  2025-03-21  407.250000  409.450012  398.350006  400.049988  1851839   \n",
       "\n",
       "    Normalized_Close  Return_Ratio        MA_5       MA_10       MA_15  \\\n",
       "0          -0.449104      0.000000    0.000000    0.000000    0.000000   \n",
       "1          -0.452975     -0.000244    0.000000    0.000000    0.000000   \n",
       "2           0.336690      0.049835    0.000000    0.000000    0.000000   \n",
       "3           0.685072      0.020942    0.000000    0.000000    0.000000   \n",
       "4           0.837974      0.009003  426.000006    0.000000    0.000000   \n",
       "5           1.087647      0.014570  433.940002    0.000000    0.000000   \n",
       "6           1.238612      0.008683  442.679999    0.000000    0.000000   \n",
       "7           0.766362     -0.026929  444.900000    0.000000    0.000000   \n",
       "8           1.060551      0.017239  446.840002    0.000000    0.000000   \n",
       "9           0.696685     -0.020961  446.109998  436.055002    0.000000   \n",
       "10         -0.085239     -0.046008  440.050000  436.995001    0.000000   \n",
       "11         -0.412331     -0.020174  431.520001  437.100000    0.000000   \n",
       "12          0.265078      0.042641  428.929999  436.914999    0.000000   \n",
       "13          0.656040      0.023604  426.839996  436.839999    0.000000   \n",
       "14          0.915392      0.015297  427.970001  437.039999  433.360002   \n",
       "15          1.494093      0.033618  436.129999  438.089999  436.706667   \n",
       "16          1.221194     -0.015338  444.570001  438.045001  439.590000   \n",
       "17          1.352805      0.007512  450.190002  439.560001  441.340000   \n",
       "18          1.730218      0.021382  455.740002  441.289999  443.140000   \n",
       "19          1.892797      0.009018  460.790002  444.380002  444.956667   \n",
       "20          1.716670     -0.009682  461.940002  449.035001  446.040000   \n",
       "21          1.335385     -0.021165  462.529999  453.550000  446.206667   \n",
       "22          0.727653     -0.034464  459.300000  454.745001  446.140000   \n",
       "23          0.820554      0.005456  454.600000  455.170001  445.726666   \n",
       "24          0.441205     -0.022159  447.100000  453.945001  445.286668   \n",
       "25         -0.236204     -0.040467  437.010004  449.475003  445.026668   \n",
       "26         -0.106530      0.008073  429.560004  446.045001  445.553335   \n",
       "27         -0.431686     -0.020081  423.570001  441.435001  444.353335   \n",
       "28         -0.170399      0.016467  418.450000  436.525000  442.930001   \n",
       "29          0.073469      0.015121  416.550000  431.825000  441.480001   \n",
       "30         -0.325236     -0.024353  416.089996  426.550000  438.346667   \n",
       "31         -0.572974     -0.015509  413.679999  421.620001  435.256667   \n",
       "32         -0.729745     -0.009969  412.140002  417.855002  431.670001   \n",
       "33         -0.975549     -0.015788  407.980005  413.215002  427.010002   \n",
       "34         -1.743925     -0.050145  398.590002  407.570001  420.746667   \n",
       "35         -1.531025      0.014628  392.360004  404.225000  415.153335   \n",
       "36         -1.513605      0.001180  387.500006  400.590002  410.246670   \n",
       "37         -0.739423      0.052363  387.450006  399.795004  407.720003   \n",
       "38         -0.392977      0.022266  390.460004  399.220004  405.630003   \n",
       "39         -0.571039     -0.011195  396.520001  397.555002  403.886668   \n",
       "40         -1.163288     -0.037657  398.420001  395.390002  402.290000   \n",
       "41         -1.099418      0.004220  400.559998  394.030002  400.580001   \n",
       "42         -1.134256     -0.002292  398.519995  392.985001  399.370001   \n",
       "43         -1.482638     -0.022974  392.889996  391.675000  397.110002   \n",
       "44         -1.407155      0.005095  388.570001  392.545001  394.560002   \n",
       "45         -1.407155      0.000000  387.310004  392.865002  392.696670   \n",
       "46         -0.840067      0.038082  388.650006  394.605002  392.236670   \n",
       "47         -0.843938     -0.000250  390.150006  394.335001  392.040002   \n",
       "48         -0.534265      0.020038  395.050006  393.970001  392.800002   \n",
       "\n",
       "         MA_20       MA_25       MA_30  Pct_Change_Open  Pct_Change_High  \\\n",
       "0     0.000000    0.000000    0.000000         0.013555         0.062034   \n",
       "1     0.000000    0.000000    0.000000         0.002687         0.018077   \n",
       "2     0.000000    0.000000    0.000000        -0.042001         0.005236   \n",
       "3     0.000000    0.000000    0.000000        -0.013105         0.004672   \n",
       "4     0.000000    0.000000    0.000000        -0.013101         0.003840   \n",
       "5     0.000000    0.000000    0.000000        -0.006123         0.003228   \n",
       "6     0.000000    0.000000    0.000000        -0.002649         0.029467   \n",
       "7     0.000000    0.000000    0.000000         0.033912         0.034933   \n",
       "8     0.000000    0.000000    0.000000        -0.017616         0.007916   \n",
       "9     0.000000    0.000000    0.000000         0.024940         0.031659   \n",
       "10    0.000000    0.000000    0.000000         0.038558         0.038558   \n",
       "11    0.000000    0.000000    0.000000         0.020590         0.028265   \n",
       "12    0.000000    0.000000    0.000000        -0.037158         0.003973   \n",
       "13    0.000000    0.000000    0.000000        -0.014155         0.009018   \n",
       "14    0.000000    0.000000    0.000000         0.011918         0.016078   \n",
       "15    0.000000    0.000000    0.000000        -0.025998         0.009137   \n",
       "16    0.000000    0.000000    0.000000        -0.016681         0.034909   \n",
       "17    0.000000    0.000000    0.000000        -0.004386         0.013158   \n",
       "18    0.000000    0.000000    0.000000        -0.023081         0.006012   \n",
       "19  440.217502    0.000000    0.000000        -0.002234         0.016597   \n",
       "20  443.015001    0.000000    0.000000         0.009777         0.013322   \n",
       "21  445.325000    0.000000    0.000000         0.024915         0.027000   \n",
       "22  445.830000    0.000000    0.000000         0.036717         0.039673   \n",
       "23  446.005000    0.000000    0.000000        -0.005427         0.012436   \n",
       "24  445.492500  441.594001    0.000000         0.022199         0.029830   \n",
       "25  443.782501  441.814001    0.000000         0.039282         0.043258   \n",
       "26  442.045001  442.172001    0.000000        -0.021396         0.009682   \n",
       "27  440.497501  441.378000    0.000000         0.020493         0.021103   \n",
       "28  438.907500  440.494000    0.000000        -0.018481         0.006840   \n",
       "29  438.102501  439.704000  437.420001        -0.019979         0.004492   \n",
       "30  437.792500  438.244000  437.526667         0.020235         0.035018   \n",
       "31  437.585001  436.372001  437.423334         0.014031         0.014031   \n",
       "32  436.300002  434.826001  436.505001         0.009448         0.020388   \n",
       "33  434.192502  432.722001  435.075001         0.016041         0.021852   \n",
       "34  430.757501  430.200001  432.851667         0.042553         0.044681   \n",
       "35  426.850002  428.706001  430.596667        -0.011796         0.003932   \n",
       "36  423.317502  427.568002  428.226668        -0.015578         0.022647   \n",
       "37  420.615002  426.530002  426.930002        -0.047394         0.001368   \n",
       "38  417.872502  425.446002  425.678335        -0.021538         0.003529   \n",
       "39  414.690001  423.910001  424.586668         0.006645         0.017844   \n",
       "40  410.970001  421.164001  423.658334         0.039130         0.059847   \n",
       "41  407.825002  418.766001  423.066668        -0.002929         0.014771   \n",
       "42  405.420001  416.196001  421.861668         0.005743         0.014422   \n",
       "43  402.445001  412.876001  420.020001         0.024167         0.028870   \n",
       "44  400.057501  409.466001  418.020001         0.000780         0.009098   \n",
       "45  398.545001  406.238002  415.521668         0.000000         0.000000   \n",
       "46  397.597502  403.990002  413.746668        -0.019657         0.007888   \n",
       "47  397.065002  402.366002  411.855002         0.014402         0.014402   \n",
       "48  396.595003  400.966002  409.905002        -0.017680         0.005402   \n",
       "\n",
       "    Pct_Change_Low     Sector  \n",
       "0        -0.004640  Chemicals  \n",
       "1        -0.014902  Chemicals  \n",
       "2        -0.042001  Chemicals  \n",
       "3        -0.016866  Chemicals  \n",
       "4        -0.015925  Chemicals  \n",
       "5        -0.013581  Chemicals  \n",
       "6        -0.005739  Chemicals  \n",
       "7        -0.028808  Chemicals  \n",
       "8        -0.027651  Chemicals  \n",
       "9        -0.006719  Chemicals  \n",
       "10       -0.008237  Chemicals  \n",
       "11       -0.008406  Chemicals  \n",
       "12       -0.045221  Chemicals  \n",
       "13       -0.021918  Chemicals  \n",
       "14       -0.013717  Chemicals  \n",
       "15       -0.044708  Chemicals  \n",
       "16       -0.053248  Chemicals  \n",
       "17       -0.009978  Chemicals  \n",
       "18       -0.028341  Chemicals  \n",
       "19       -0.006384  Chemicals  \n",
       "20       -0.009669  Chemicals  \n",
       "21       -0.008561  Chemicals  \n",
       "22       -0.006025  Chemicals  \n",
       "23       -0.040701  Chemicals  \n",
       "24       -0.003353  Chemicals  \n",
       "25       -0.012411  Chemicals  \n",
       "26       -0.031795  Chemicals  \n",
       "27       -0.014028  Chemicals  \n",
       "28       -0.024601  Chemicals  \n",
       "29       -0.025062  Chemicals  \n",
       "30       -0.003999  Chemicals  \n",
       "31       -0.008492  Chemicals  \n",
       "32       -0.002859  Chemicals  \n",
       "33       -0.008715  Chemicals  \n",
       "34       -0.004122  Chemicals  \n",
       "35       -0.045478  Chemicals  \n",
       "36       -0.019505  Chemicals  \n",
       "37       -0.048638  Chemicals  \n",
       "38       -0.021660  Chemicals  \n",
       "39       -0.003077  Chemicals  \n",
       "40       -0.004859  Chemicals  \n",
       "41       -0.022030  Chemicals  \n",
       "42       -0.017996  Chemicals  \n",
       "43       -0.001698  Chemicals  \n",
       "44       -0.006369  Chemicals  \n",
       "45        0.000000  Chemicals  \n",
       "46       -0.025166  Chemicals  \n",
       "47       -0.007639  Chemicals  \n",
       "48       -0.021854  Chemicals  "
      ]
     },
     "execution_count": 4,
     "metadata": {},
     "output_type": "execute_result"
    }
   ],
   "source": [
    "NIFTY500_stock['AARTIIND']"
   ]
  },
  {
   "cell_type": "code",
   "execution_count": 1,
   "metadata": {},
   "outputs": [
    {
     "name": "stdout",
     "output_type": "stream",
     "text": [
      "✅ Processed: 360ONE\n",
      "✅ Processed: AARTIIND\n",
      "✅ Processed: AAVAS\n",
      "✅ Processed: ABB\n",
      "✅ Processed: ABBOTINDIA\n",
      "✅ Processed: ABCAPITAL\n",
      "✅ Processed: ABFRL\n",
      "✅ Processed: ABSLAMC\n",
      "✅ Processed: ACC\n",
      "✅ Processed: ACE\n",
      "✅ Processed: ADANIENT\n",
      "✅ Processed: ADANIGREEN\n",
      "✅ Processed: ADANIPORTS\n",
      "✅ Processed: ADANIPOWER\n",
      "✅ Processed: AFFLE\n",
      "✅ Processed: AIAENG\n",
      "✅ Processed: AJANTPHARM\n",
      "✅ Processed: ALKEM\n",
      "✅ Processed: ALKYLAMINE\n",
      "✅ Processed: ALOKINDS\n",
      "✅ Processed: AMBER\n",
      "✅ Processed: AMBUJACEM\n",
      "✅ Processed: ANANDRATHI\n",
      "✅ Processed: ANANTRAJ\n",
      "✅ Processed: ANGELONE\n",
      "✅ Processed: APARINDS\n",
      "✅ Processed: APLAPOLLO\n",
      "✅ Processed: APLLTD\n",
      "✅ Processed: APOLLOHOSP\n",
      "✅ Processed: APOLLOTYRE\n",
      "✅ Processed: APTUS\n",
      "✅ Processed: ASAHIINDIA\n",
      "✅ Processed: ASHOKLEY\n",
      "✅ Processed: ASIANPAINT\n",
      "✅ Processed: ASTERDM\n",
      "✅ Processed: ASTRAL\n",
      "✅ Processed: ASTRAZEN\n",
      "✅ Processed: ATGL\n",
      "✅ Processed: ATUL\n",
      "✅ Processed: AUBANK\n",
      "✅ Processed: AUROPHARMA\n",
      "✅ Processed: AVANTIFEED\n",
      "✅ Processed: AXISBANK\n",
      "✅ Processed: BAJAJ-AUTO\n",
      "✅ Processed: BAJAJFINSV\n",
      "✅ Processed: BAJAJHLDNG\n",
      "✅ Processed: BAJFINANCE\n",
      "✅ Processed: BALAMINES\n",
      "✅ Processed: BALKRISIND\n",
      "✅ Processed: BALRAMCHIN\n",
      "✅ Processed: BANDHANBNK\n",
      "✅ Processed: BANKBARODA\n",
      "✅ Processed: BANKINDIA\n",
      "✅ Processed: BASF\n",
      "✅ Processed: BATAINDIA\n",
      "✅ Processed: BAYERCROP\n",
      "✅ Processed: BBTC\n",
      "✅ Processed: BDL\n",
      "✅ Processed: BEL\n",
      "✅ Processed: BEML\n",
      "✅ Processed: BERGEPAINT\n",
      "✅ Processed: BHARATFORG\n",
      "✅ Processed: BHARTIARTL\n",
      "✅ Processed: BHEL\n",
      "✅ Processed: BIOCON\n",
      "✅ Processed: BIRLACORPN\n",
      "✅ Processed: BLS\n",
      "✅ Processed: BLUEDART\n",
      "✅ Processed: BLUESTARCO\n",
      "✅ Processed: BOSCHLTD\n",
      "✅ Processed: BPCL\n",
      "✅ Processed: BRITANNIA\n",
      "✅ Processed: BSE\n",
      "✅ Processed: BSOFT\n",
      "✅ Processed: CAMS\n",
      "✅ Processed: CANBK\n",
      "✅ Processed: CANFINHOME\n",
      "✅ Processed: CAPLIPOINT\n",
      "✅ Processed: CARBORUNIV\n",
      "✅ Processed: CASTROLIND\n",
      "✅ Processed: CCL\n",
      "✅ Processed: CDSL\n",
      "✅ Processed: CEATLTD\n",
      "✅ Processed: CENTRALBK\n",
      "✅ Processed: CENTURYPLY\n",
      "✅ Processed: CERA\n",
      "✅ Processed: CESC\n",
      "✅ Processed: CGCL\n",
      "✅ Processed: CGPOWER\n",
      "✅ Processed: CHALET\n",
      "✅ Processed: CHAMBLFERT\n",
      "✅ Processed: CHEMPLASTS\n",
      "✅ Processed: CHENNPETRO\n",
      "✅ Processed: CHOLAFIN\n",
      "✅ Processed: CHOLAHLDNG\n",
      "✅ Processed: CIEINDIA\n",
      "✅ Processed: CIPLA\n",
      "✅ Processed: CLEAN\n",
      "✅ Processed: COALINDIA\n",
      "✅ Processed: COCHINSHIP\n",
      "✅ Processed: COFORGE\n",
      "✅ Processed: COLPAL\n",
      "✅ Processed: CONCOR\n",
      "✅ Processed: COROMANDEL\n",
      "✅ Processed: CRAFTSMAN\n",
      "✅ Processed: CREDITACC\n",
      "✅ Processed: CRISIL\n",
      "✅ Processed: CROMPTON\n",
      "✅ Processed: CUB\n",
      "✅ Processed: CUMMINSIND\n",
      "✅ Processed: CYIENT\n",
      "✅ Processed: DABUR\n",
      "✅ Processed: DALBHARAT\n",
      "✅ Processed: DATAPATTNS\n",
      "✅ Processed: DBREALTY\n",
      "✅ Processed: DEEPAKFERT\n",
      "✅ Processed: DEEPAKNTR\n",
      "✅ Processed: DEVYANI\n",
      "✅ Processed: DIVISLAB\n",
      "✅ Processed: DIXON\n",
      "✅ Processed: DLF\n",
      "✅ Processed: DMART\n",
      "✅ Processed: DRREDDY\n",
      "✅ Processed: EASEMYTRIP\n",
      "✅ Processed: ECLERX\n",
      "✅ Processed: EICHERMOT\n",
      "✅ Processed: EIDPARRY\n",
      "✅ Processed: EIHOTEL\n",
      "✅ Processed: ELECON\n",
      "✅ Processed: ELGIEQUIP\n",
      "✅ Processed: EMAMILTD\n",
      "✅ Processed: ENDURANCE\n",
      "✅ Processed: ENGINERSIN\n",
      "✅ Processed: EQUITASBNK\n",
      "✅ Processed: ERIS\n",
      "✅ Processed: ESCORTS\n",
      "✅ Processed: EXIDEIND\n",
      "✅ Processed: FACT\n",
      "✅ Processed: FEDERALBNK\n",
      "✅ Processed: FINCABLES\n",
      "✅ Processed: FINEORG\n",
      "✅ Processed: FINPIPE\n",
      "✅ Processed: FLUOROCHEM\n",
      "✅ Processed: FORTIS\n",
      "✅ Processed: FSL\n",
      "✅ Processed: GAEL\n",
      "✅ Processed: GAIL\n",
      "✅ Processed: GESHIP\n",
      "✅ Processed: GICRE\n",
      "✅ Processed: GILLETTE\n",
      "✅ Processed: GLAND\n",
      "✅ Processed: GLAXO\n",
      "✅ Processed: GLENMARK\n",
      "✅ Processed: GMDCLTD\n",
      "✅ Processed: GMRAIRPORT\n",
      "✅ Processed: GNFC\n",
      "✅ Processed: GODFRYPHLP\n",
      "✅ Processed: GODREJAGRO\n",
      "✅ Processed: GODREJCP\n",
      "✅ Processed: GODREJPROP\n",
      "✅ Processed: GPIL\n",
      "✅ Processed: GPPL\n",
      "✅ Processed: GRANULES\n",
      "✅ Processed: GRAPHITE\n",
      "✅ Processed: GRASIM\n",
      "✅ Processed: GRINDWELL\n",
      "✅ Processed: GRINFRA\n",
      "✅ Processed: GRSE\n",
      "✅ Processed: GSFC\n",
      "✅ Processed: GSPL\n",
      "✅ Processed: GUJGASLTD\n",
      "✅ Processed: GVT&D\n",
      "✅ Processed: HAL\n",
      "✅ Processed: HAPPSTMNDS\n",
      "✅ Processed: HAVELLS\n",
      "✅ Processed: HCLTECH\n",
      "✅ Processed: HDFCAMC\n",
      "✅ Processed: HDFCBANK\n",
      "✅ Processed: HDFCLIFE\n",
      "✅ Processed: HEG\n",
      "✅ Processed: HEROMOTOCO\n",
      "✅ Processed: HFCL\n",
      "✅ Processed: HINDALCO\n",
      "✅ Processed: HINDCOPPER\n",
      "✅ Processed: HINDPETRO\n",
      "✅ Processed: HINDUNILVR\n",
      "✅ Processed: HINDZINC\n",
      "✅ Processed: HOMEFIRST\n",
      "✅ Processed: HONAUT\n",
      "✅ Processed: HSCL\n",
      "✅ Processed: HUDCO\n",
      "✅ Processed: ICICIBANK\n",
      "✅ Processed: ICICIGI\n",
      "✅ Processed: ICICIPRULI\n",
      "✅ Processed: IDBI\n",
      "✅ Processed: IDEA\n",
      "✅ Processed: IDFCFIRSTB\n",
      "✅ Processed: IEX\n",
      "✅ Processed: IFCI\n",
      "✅ Processed: IGL\n",
      "✅ Processed: IIFL\n",
      "✅ Processed: INDHOTEL\n",
      "✅ Processed: INDIACEM\n",
      "✅ Processed: INDIAMART\n",
      "✅ Processed: INDIANB\n",
      "✅ Processed: INDIGO\n",
      "✅ Processed: INDUSINDBK\n",
      "✅ Processed: INDUSTOWER\n",
      "✅ Processed: INFY\n",
      "✅ Processed: INOXWIND\n",
      "✅ Processed: INTELLECT\n",
      "✅ Processed: IOB\n",
      "✅ Processed: IOC\n",
      "✅ Processed: IPCALAB\n",
      "✅ Processed: IRB\n",
      "✅ Processed: IRCON\n",
      "✅ Processed: IRCTC\n",
      "✅ Processed: IRFC\n",
      "✅ Processed: ISEC\n",
      "✅ Processed: ITC\n",
      "✅ Processed: ITI\n",
      "✅ Processed: J&KBANK\n",
      "✅ Processed: JBCHEPHARM\n",
      "✅ Processed: JBMA\n",
      "✅ Processed: JINDALSAW\n",
      "✅ Processed: JINDALSTEL\n",
      "✅ Processed: JKCEMENT\n",
      "✅ Processed: JKLAKSHMI\n",
      "✅ Processed: JKTYRE\n",
      "✅ Processed: JMFINANCIL\n",
      "✅ Processed: JPPOWER\n",
      "✅ Processed: JSL\n",
      "✅ Processed: JSWENERGY\n",
      "✅ Processed: JSWSTEEL\n",
      "✅ Processed: JUBLFOOD\n",
      "✅ Processed: JUBLINGREA\n",
      "✅ Processed: JUBLPHARMA\n",
      "✅ Processed: JUSTDIAL\n",
      "✅ Processed: JWL\n",
      "✅ Processed: JYOTHYLAB\n",
      "✅ Processed: KAJARIACER\n",
      "✅ Processed: KALYANKJIL\n",
      "✅ Processed: KANSAINER\n",
      "✅ Processed: KARURVYSYA\n",
      "✅ Processed: KEC\n",
      "✅ Processed: KEI\n",
      "✅ Processed: KIMS\n",
      "✅ Processed: KIRLOSBROS\n",
      "✅ Processed: KIRLOSENG\n",
      "✅ Processed: KNRCON\n",
      "✅ Processed: KOTAKBANK\n",
      "✅ Processed: KPITTECH\n",
      "✅ Processed: KPRMILL\n",
      "✅ Processed: KSB\n",
      "✅ Processed: LALPATHLAB\n",
      "✅ Processed: LATENTVIEW\n",
      "✅ Processed: LAURUSLABS\n",
      "✅ Processed: LEMONTREE\n",
      "✅ Processed: LICHSGFIN\n",
      "✅ Processed: LINDEINDIA\n",
      "✅ Processed: LODHA\n",
      "✅ Processed: LT\n",
      "✅ Processed: LTF\n",
      "✅ Processed: LTIM\n",
      "✅ Processed: LTTS\n",
      "✅ Processed: LUPIN\n",
      "✅ Processed: M&M\n",
      "✅ Processed: M&MFIN\n",
      "✅ Processed: MAHABANK\n",
      "✅ Processed: MAHLIFE\n",
      "✅ Processed: MAHSEAMLES\n",
      "✅ Processed: MANAPPURAM\n",
      "✅ Processed: MAPMYINDIA\n",
      "✅ Processed: MARICO\n",
      "✅ Processed: MARUTI\n",
      "✅ Processed: MASTEK\n",
      "✅ Processed: MAXHEALTH\n",
      "✅ Processed: MAZDOCK\n",
      "✅ Processed: MCX\n",
      "✅ Processed: METROBRAND\n",
      "✅ Processed: METROPOLIS\n",
      "✅ Processed: MFSL\n",
      "✅ Processed: MGL\n",
      "✅ Processed: MINDACORP\n",
      "✅ Processed: MMTC\n",
      "✅ Processed: MOTHERSON\n",
      "✅ Processed: MOTILALOFS\n",
      "✅ Processed: MPHASIS\n",
      "✅ Processed: MRF\n",
      "✅ Processed: MRPL\n",
      "✅ Processed: MUTHOOTFIN\n",
      "✅ Processed: NAM-INDIA\n",
      "✅ Processed: NATCOPHARM\n",
      "✅ Processed: NATIONALUM\n",
      "✅ Processed: NAUKRI\n",
      "✅ Processed: NAVINFLUOR\n",
      "✅ Processed: NBCC\n",
      "✅ Processed: NCC\n",
      "✅ Processed: NESTLEIND\n",
      "✅ Processed: NETWORK18\n",
      "✅ Processed: NEWGEN\n",
      "✅ Processed: NH\n",
      "✅ Processed: NHPC\n",
      "✅ Processed: NIACL\n",
      "✅ Processed: NLCINDIA\n",
      "✅ Processed: NMDC\n",
      "✅ Processed: NTPC\n",
      "✅ Processed: NUVOCO\n",
      "✅ Processed: NYKAA\n",
      "✅ Processed: OBEROIRLTY\n",
      "✅ Processed: OFSS\n",
      "✅ Processed: OIL\n",
      "✅ Processed: OLECTRA\n",
      "✅ Processed: ONGC\n",
      "✅ Processed: PAGEIND\n",
      "✅ Processed: PATANJALI\n",
      "✅ Processed: PAYTM\n",
      "✅ Processed: PCBL\n",
      "✅ Processed: PEL\n",
      "✅ Processed: PERSISTENT\n",
      "✅ Processed: PETRONET\n",
      "✅ Processed: PFC\n",
      "✅ Processed: PFIZER\n",
      "✅ Processed: PGHH\n",
      "✅ Processed: PIDILITIND\n",
      "✅ Processed: PIIND\n",
      "✅ Processed: PNB\n",
      "✅ Processed: PNBHOUSING\n",
      "✅ Processed: PNCINFRA\n",
      "✅ Processed: POLICYBZR\n",
      "✅ Processed: POLYCAB\n",
      "✅ Processed: POLYMED\n",
      "✅ Processed: POONAWALLA\n",
      "✅ Processed: POWERGRID\n",
      "✅ Processed: POWERINDIA\n",
      "✅ Processed: PRAJIND\n",
      "✅ Processed: PRESTIGE\n",
      "✅ Processed: QUESS\n",
      "✅ Processed: RADICO\n",
      "✅ Processed: RAILTEL\n",
      "✅ Processed: RAJESHEXPO\n",
      "✅ Processed: RAMCOCEM\n",
      "✅ Processed: RATNAMANI\n",
      "✅ Processed: RAYMOND\n",
      "✅ Processed: RBLBANK\n",
      "✅ Processed: RCF\n",
      "✅ Processed: RECLTD\n",
      "✅ Processed: REDINGTON\n",
      "✅ Processed: RELIANCE\n",
      "✅ Processed: RENUKA\n",
      "✅ Processed: RHIM\n",
      "✅ Processed: RITES\n",
      "✅ Processed: RKFORGE\n",
      "✅ Processed: ROUTE\n",
      "✅ Processed: RTNINDIA\n",
      "✅ Processed: RVNL\n",
      "✅ Processed: SAIL\n",
      "✅ Processed: SAMMAANCAP\n",
      "✅ Processed: SANOFI\n",
      "✅ Processed: SAPPHIRE\n",
      "✅ Processed: SAREGAMA\n",
      "✅ Processed: SBICARD\n",
      "✅ Processed: SBILIFE\n",
      "✅ Processed: SBIN\n",
      "✅ Processed: SCHAEFFLER\n",
      "✅ Processed: SCHNEIDER\n",
      "✅ Processed: SCI\n",
      "✅ Processed: SHREECEM\n",
      "✅ Processed: SHRIRAMFIN\n",
      "✅ Processed: SHYAMMETL\n",
      "✅ Processed: SIEMENS\n",
      "✅ Processed: SJVN\n",
      "✅ Processed: SKFINDIA\n",
      "✅ Processed: SOBHA\n",
      "✅ Processed: SOLARINDS\n",
      "✅ Processed: SONACOMS\n",
      "✅ Processed: SONATSOFTW\n",
      "✅ Processed: SPARC\n",
      "✅ Processed: SRF\n",
      "✅ Processed: STARHEALTH\n",
      "✅ Processed: SUMICHEM\n",
      "✅ Processed: SUNDARMFIN\n",
      "✅ Processed: SUNDRMFAST\n",
      "✅ Processed: SUNPHARMA\n",
      "✅ Processed: SUNTV\n",
      "✅ Processed: SUPREMEIND\n",
      "✅ Processed: SUVENPHAR\n",
      "✅ Processed: SUZLON\n",
      "✅ Processed: SWSOLAR\n",
      "✅ Processed: SYNGENE\n",
      "✅ Processed: TANLA\n",
      "✅ Processed: TATACHEM\n",
      "✅ Processed: TATACOMM\n",
      "✅ Processed: TATACONSUM\n",
      "✅ Processed: TATAELXSI\n",
      "✅ Processed: TATAINVEST\n",
      "✅ Processed: TATAMOTORS\n",
      "✅ Processed: TATAPOWER\n",
      "✅ Processed: TATASTEEL\n",
      "✅ Processed: TCS\n",
      "✅ Processed: TECHM\n",
      "✅ Processed: TECHNOE\n",
      "✅ Processed: TEJASNET\n",
      "✅ Processed: THERMAX\n",
      "✅ Processed: TIINDIA\n",
      "✅ Processed: TIMKEN\n",
      "✅ Processed: TITAGARH\n",
      "✅ Processed: TITAN\n",
      "✅ Processed: TORNTPHARM\n",
      "✅ Processed: TORNTPOWER\n",
      "✅ Processed: TRENT\n",
      "✅ Processed: TRIDENT\n",
      "✅ Processed: TRITURBINE\n",
      "✅ Processed: TRIVENI\n",
      "✅ Processed: TTML\n",
      "✅ Processed: TVSMOTOR\n",
      "✅ Processed: UBL\n",
      "✅ Processed: UCOBANK\n",
      "✅ Processed: UJJIVANSFB\n",
      "✅ Processed: ULTRACEMCO\n",
      "✅ Processed: UNIONBANK\n",
      "✅ Processed: UNOMINDA\n",
      "✅ Processed: UPL\n",
      "✅ Processed: USHAMART\n",
      "✅ Processed: UTIAMC\n",
      "✅ Processed: VARROC\n",
      "✅ Processed: VBL\n",
      "✅ Processed: VEDL\n",
      "✅ Processed: VGUARD\n",
      "✅ Processed: VIJAYA\n",
      "✅ Processed: VINATIORGA\n",
      "✅ Processed: VIPIND\n",
      "✅ Processed: VOLTAS\n",
      "✅ Processed: VTL\n",
      "✅ Processed: WELCORP\n",
      "✅ Processed: WELSPUNLIV\n",
      "✅ Processed: WESTLIFE\n",
      "✅ Processed: WHIRLPOOL\n",
      "✅ Processed: WIPRO\n",
      "✅ Processed: YESBANK\n",
      "✅ Processed: ZEEL\n",
      "✅ Processed: ZENSARTECH\n",
      "✅ Processed: ZFCVINDIA\n",
      "✅ Processed: ZOMATO\n",
      "✅ Processed: ZYDUSLIFE\n",
      "🎉 All companies processed into day-wise sliding window folders.\n"
     ]
    }
   ],
   "source": [
    "import pandas as pd\n",
    "import numpy as np\n",
    "import os\n",
    "from datetime import datetime\n",
    "\n",
    "def sliding_window_transform(data, window_size=5):\n",
    "    \"\"\"\n",
    "    Applies sliding window and returns list of (date, transformed_row) pairs.\n",
    "    The date is assigned as the date after the window (i + window_size).\n",
    "    \"\"\"\n",
    "    transformed_rows = []\n",
    "    for i in range(len(data) - window_size):\n",
    "        window = data['Close'].iloc[i:i + window_size].values\n",
    "        future_price = data['Close'].iloc[i + window_size]\n",
    "        return_ratio = (future_price - window[-1]) / window[-1]\n",
    "        movement = 1 if future_price > window[-1] else 0\n",
    "        date = data['Date'].iloc[i + window_size]  # This is the date the prediction is for\n",
    "        row = list(window) + [return_ratio, movement]\n",
    "        transformed_rows.append((date.strftime('%Y-%m-%d'), row))\n",
    "    return transformed_rows\n",
    "\n",
    "# 📂 Input and Output Paths\n",
    "input_folder = \"test_data_final\"\n",
    "output_root_folder = \"test_window_daywise\"\n",
    "os.makedirs(output_root_folder, exist_ok=True)\n",
    "\n",
    "# Process each company file\n",
    "for file in os.listdir(input_folder):\n",
    "    if file.endswith(\".csv\"):\n",
    "        company_name = file.replace(\".NS.csv\", \"\")\n",
    "        file_path = os.path.join(input_folder, file)\n",
    "\n",
    "        # Load and sort data\n",
    "        df = pd.read_csv(file_path, parse_dates=['Date'])\n",
    "        df = df.sort_values(by='Date').reset_index(drop=True)\n",
    "\n",
    "        # Apply sliding window transformation\n",
    "        daywise_rows = sliding_window_transform(df, window_size=5)\n",
    "\n",
    "        for date_str, row in daywise_rows:\n",
    "            folder_path = os.path.join(output_root_folder, date_str)\n",
    "            os.makedirs(folder_path, exist_ok=True)\n",
    "\n",
    "            output_file_path = os.path.join(folder_path, f\"{company_name}.csv\")\n",
    "            column_names = [f\"Day_{i+1}\" for i in range(5)] + [\"Return_Ratio\", \"Movement\"]\n",
    "            row_df = pd.DataFrame([row], columns=column_names)\n",
    "            row_df.to_csv(output_file_path, index=False)\n",
    "\n",
    "        print(f\"✅ Processed: {company_name}\")\n",
    "\n",
    "print(\"🎉 All companies processed into day-wise sliding window folders.\")\n"
   ]
  },
  {
   "cell_type": "code",
   "execution_count": 10,
   "metadata": {},
   "outputs": [
    {
     "name": "stdout",
     "output_type": "stream",
     "text": [
      "✅ Sector mapping saved as sector_mapping.csv!\n"
     ]
    }
   ],
   "source": [
    "import pandas as pd\n",
    "\n",
    "# ✅ **Load Companies.csv**\n",
    "companies_df = pd.read_csv(\"filtered_companies.csv\")\n",
    "\n",
    "# ✅ **Extract Stock-Sector Mapping**\n",
    "sector_mapping = companies_df[[\"Symbol\", \"Industry\"]]\n",
    "sector_mapping.columns = [\"Stock\", \"Sector\"]  # Rename columns\n",
    "\n",
    "# ✅ **Save the Mapping as sector_mapping.csv**\n",
    "sector_mapping.to_csv(\"sector_mapping.csv\", index=False)\n",
    "\n",
    "print(\"✅ Sector mapping saved as sector_mapping.csv!\")\n"
   ]
  },
  {
   "cell_type": "code",
   "execution_count": 2,
   "metadata": {},
   "outputs": [
    {
     "name": "stdout",
     "output_type": "stream",
     "text": [
      "\n",
      "🔁 Generating day-wise LSTT embeddings...\n",
      "\n",
      "✅ Done: 2025-01-20\n",
      "✅ Done: 2025-01-21\n",
      "✅ Done: 2025-01-22\n",
      "✅ Done: 2025-01-23\n",
      "✅ Done: 2025-01-24\n",
      "✅ Done: 2025-01-27\n",
      "✅ Done: 2025-01-28\n",
      "✅ Done: 2025-01-29\n",
      "✅ Done: 2025-01-30\n",
      "✅ Done: 2025-01-31\n",
      "✅ Done: 2025-02-01\n",
      "✅ Done: 2025-02-03\n",
      "✅ Done: 2025-02-04\n",
      "✅ Done: 2025-02-05\n",
      "✅ Done: 2025-02-06\n",
      "✅ Done: 2025-02-07\n",
      "✅ Done: 2025-02-10\n",
      "✅ Done: 2025-02-11\n",
      "✅ Done: 2025-02-12\n",
      "✅ Done: 2025-02-13\n",
      "✅ Done: 2025-02-14\n",
      "✅ Done: 2025-02-17\n",
      "✅ Done: 2025-02-18\n",
      "✅ Done: 2025-02-19\n",
      "✅ Done: 2025-02-20\n",
      "✅ Done: 2025-02-21\n",
      "✅ Done: 2025-02-24\n",
      "✅ Done: 2025-02-25\n",
      "✅ Done: 2025-02-27\n",
      "✅ Done: 2025-02-28\n",
      "✅ Done: 2025-03-03\n",
      "✅ Done: 2025-03-04\n",
      "✅ Done: 2025-03-05\n",
      "✅ Done: 2025-03-06\n",
      "✅ Done: 2025-03-07\n",
      "✅ Done: 2025-03-10\n",
      "✅ Done: 2025-03-11\n",
      "✅ Done: 2025-03-12\n",
      "✅ Done: 2025-03-13\n",
      "✅ Done: 2025-03-17\n",
      "✅ Done: 2025-03-18\n",
      "✅ Done: 2025-03-19\n",
      "✅ Done: 2025-03-20\n",
      "✅ Done: 2025-03-21\n",
      "\n",
      "🎯 All day-wise LSTT embeddings saved in 'test_lstt_embeddings_daywise'\n"
     ]
    }
   ],
   "source": [
    "import os\n",
    "import numpy as np\n",
    "import pandas as pd\n",
    "import torch\n",
    "import torch.nn as nn\n",
    "import math\n",
    "\n",
    "class PositionalEncoding(nn.Module):\n",
    "    def __init__(self, d_model, max_len=5000):\n",
    "        super(PositionalEncoding, self).__init__()\n",
    "        pe = torch.zeros(max_len, d_model)\n",
    "        position = torch.arange(0, max_len, dtype=torch.float).unsqueeze(1)\n",
    "        div_term = torch.exp(torch.arange(0, d_model, 2).float() * (-math.log(10000.0) / d_model))\n",
    "        pe[:, 0::2] = torch.sin(position * div_term)\n",
    "        pe[:, 1::2] = torch.cos(position * div_term)\n",
    "        pe = pe.unsqueeze(0)\n",
    "        self.register_buffer('pe', pe)\n",
    "\n",
    "    def forward(self, x):\n",
    "        return x + self.pe[:, :x.size(1)]\n",
    "\n",
    "class LSTT(nn.Module):\n",
    "    def __init__(self, input_dim=5, model_dim=64, num_layers=2, output_dim=64, nhead=4):\n",
    "        super(LSTT, self).__init__()\n",
    "        self.input_proj = nn.Linear(input_dim, model_dim)\n",
    "        self.pos_encoder = PositionalEncoding(model_dim)\n",
    "        encoder_layers = nn.TransformerEncoderLayer(d_model=model_dim, nhead=nhead, batch_first=True)\n",
    "        self.transformer_encoder = nn.TransformerEncoder(encoder_layers, num_layers=num_layers)\n",
    "        self.output_proj = nn.Linear(model_dim, output_dim)\n",
    "\n",
    "    def forward(self, x):\n",
    "        x = self.input_proj(x)\n",
    "        x = self.pos_encoder(x)\n",
    "        x = self.transformer_encoder(x)\n",
    "        return self.output_proj(x[:, -1, :])\n",
    "\n",
    "# Initialize model\n",
    "model = LSTT(input_dim=5, model_dim=64, num_layers=2, output_dim=64)\n",
    "model.eval()\n",
    "\n",
    "# Define input/output directories\n",
    "input_root = \"test_window_daywise\"\n",
    "output_root = \"test_lstt_embeddings_daywise\"\n",
    "os.makedirs(output_root, exist_ok=True)\n",
    "\n",
    "print(\"\\n🔁 Generating day-wise LSTT embeddings...\\n\")\n",
    "\n",
    "for date_folder in sorted(os.listdir(input_root)):\n",
    "    date_input_path = os.path.join(input_root, date_folder)\n",
    "    if not os.path.isdir(date_input_path):\n",
    "        continue\n",
    "\n",
    "    date_output_path = os.path.join(output_root, date_folder)\n",
    "    os.makedirs(date_output_path, exist_ok=True)\n",
    "\n",
    "    for file in os.listdir(date_input_path):\n",
    "        if not file.endswith(\".csv\"):\n",
    "            continue\n",
    "\n",
    "        stock_name = file.replace(\".csv\", \"\")\n",
    "        file_path = os.path.join(date_input_path, file)\n",
    "        df = pd.read_csv(file_path)\n",
    "\n",
    "        try:\n",
    "            X = df[['Day_1', 'Day_2', 'Day_3', 'Day_4', 'Day_5']].values.astype(np.float32)\n",
    "        except KeyError:\n",
    "            print(f\"⚠️ Missing day columns in: {file}\")\n",
    "            continue\n",
    "\n",
    "        if len(X.shape) != 2 or X.shape[0] == 0:\n",
    "            print(f\"⚠️ Skipping due to invalid shape in {file}: {X.shape}\")\n",
    "            continue\n",
    "\n",
    "        input_tensor = torch.tensor(X).unsqueeze(0)  # shape: (1, seq_len, input_dim)\n",
    "\n",
    "        with torch.no_grad():\n",
    "            embedding = model(input_tensor).squeeze(0).numpy()\n",
    "\n",
    "        np.save(os.path.join(date_output_path, f\"{stock_name}.npy\"), embedding)\n",
    "\n",
    "    print(f\"✅ Done: {date_folder}\")\n",
    "\n",
    "print(\"\\n🎯 All day-wise LSTT embeddings saved in 'test_lstt_embeddings_daywise'\")\n"
   ]
  },
  {
   "cell_type": "code",
   "execution_count": 3,
   "metadata": {},
   "outputs": [
    {
     "name": "stdout",
     "output_type": "stream",
     "text": [
      "\n",
      "🚀 Generating day-wise HGAT embeddings...\n",
      "\n",
      "📅 Processing: 2025-01-20\n",
      "   🔁 Epoch 000 | Loss: 0.3698\n",
      "   🔁 Epoch 010 | Loss: 0.0235\n",
      "   🔁 Epoch 020 | Loss: 0.0135\n",
      "   🔁 Epoch 030 | Loss: 0.0086\n",
      "   🔁 Epoch 040 | Loss: 0.0061\n",
      "   🔁 Epoch 050 | Loss: 0.0040\n",
      "   🔁 Epoch 060 | Loss: 0.0030\n",
      "   🔁 Epoch 070 | Loss: 0.0046\n",
      "   🔁 Epoch 080 | Loss: 0.0017\n",
      "   🔁 Epoch 090 | Loss: 0.0011\n",
      "✅ Done: 2025-01-20\n",
      "\n",
      "📅 Processing: 2025-01-21\n",
      "   🔁 Epoch 000 | Loss: 0.3562\n",
      "   🔁 Epoch 010 | Loss: 0.0220\n",
      "   🔁 Epoch 020 | Loss: 0.0114\n",
      "   🔁 Epoch 030 | Loss: 0.0073\n",
      "   🔁 Epoch 040 | Loss: 0.0051\n",
      "   🔁 Epoch 050 | Loss: 0.0024\n",
      "   🔁 Epoch 060 | Loss: 0.0017\n",
      "   🔁 Epoch 070 | Loss: 0.0044\n",
      "   🔁 Epoch 080 | Loss: 0.0011\n",
      "   🔁 Epoch 090 | Loss: 0.0009\n",
      "✅ Done: 2025-01-21\n",
      "\n",
      "📅 Processing: 2025-01-22\n",
      "   🔁 Epoch 000 | Loss: 0.3556\n",
      "   🔁 Epoch 010 | Loss: 0.0238\n",
      "   🔁 Epoch 020 | Loss: 0.0134\n",
      "   🔁 Epoch 030 | Loss: 0.0079\n",
      "   🔁 Epoch 040 | Loss: 0.0059\n",
      "   🔁 Epoch 050 | Loss: 0.0040\n",
      "   🔁 Epoch 060 | Loss: 0.0029\n",
      "   🔁 Epoch 070 | Loss: 0.0047\n",
      "   🔁 Epoch 080 | Loss: 0.0020\n",
      "   🔁 Epoch 090 | Loss: 0.0017\n",
      "✅ Done: 2025-01-22\n",
      "\n",
      "📅 Processing: 2025-01-23\n",
      "   🔁 Epoch 000 | Loss: 0.3459\n",
      "   🔁 Epoch 010 | Loss: 0.0195\n",
      "   🔁 Epoch 020 | Loss: 0.0113\n",
      "   🔁 Epoch 030 | Loss: 0.0084\n",
      "   🔁 Epoch 040 | Loss: 0.0058\n",
      "   🔁 Epoch 050 | Loss: 0.0036\n",
      "   🔁 Epoch 060 | Loss: 0.0024\n",
      "   🔁 Epoch 070 | Loss: 0.0018\n",
      "   🔁 Epoch 080 | Loss: 0.0016\n",
      "   🔁 Epoch 090 | Loss: 0.0012\n",
      "✅ Done: 2025-01-23\n",
      "\n",
      "📅 Processing: 2025-01-24\n",
      "   🔁 Epoch 000 | Loss: 0.4389\n",
      "   🔁 Epoch 010 | Loss: 0.0280\n",
      "   🔁 Epoch 020 | Loss: 0.0117\n",
      "   🔁 Epoch 030 | Loss: 0.0082\n",
      "   🔁 Epoch 040 | Loss: 0.0040\n",
      "   🔁 Epoch 050 | Loss: 0.0040\n",
      "   🔁 Epoch 060 | Loss: 0.0034\n",
      "   🔁 Epoch 070 | Loss: 0.0009\n",
      "   🔁 Epoch 080 | Loss: 0.0009\n",
      "   🔁 Epoch 090 | Loss: 0.0005\n",
      "✅ Done: 2025-01-24\n",
      "\n",
      "📅 Processing: 2025-01-27\n",
      "   🔁 Epoch 000 | Loss: 0.3721\n",
      "   🔁 Epoch 010 | Loss: 0.0281\n",
      "   🔁 Epoch 020 | Loss: 0.0108\n",
      "   🔁 Epoch 030 | Loss: 0.0084\n",
      "   🔁 Epoch 040 | Loss: 0.0050\n",
      "   🔁 Epoch 050 | Loss: 0.0024\n",
      "   🔁 Epoch 060 | Loss: 0.0017\n",
      "   🔁 Epoch 070 | Loss: 0.0021\n",
      "   🔁 Epoch 080 | Loss: 0.0007\n",
      "   🔁 Epoch 090 | Loss: 0.0005\n",
      "✅ Done: 2025-01-27\n",
      "\n",
      "📅 Processing: 2025-01-28\n",
      "   🔁 Epoch 000 | Loss: 0.3637\n",
      "   🔁 Epoch 010 | Loss: 0.0207\n",
      "   🔁 Epoch 020 | Loss: 0.0107\n",
      "   🔁 Epoch 030 | Loss: 0.0088\n",
      "   🔁 Epoch 040 | Loss: 0.0063\n",
      "   🔁 Epoch 050 | Loss: 0.0041\n",
      "   🔁 Epoch 060 | Loss: 0.0030\n",
      "   🔁 Epoch 070 | Loss: 0.0020\n",
      "   🔁 Epoch 080 | Loss: 0.0024\n",
      "   🔁 Epoch 090 | Loss: 0.0042\n",
      "✅ Done: 2025-01-28\n",
      "\n",
      "📅 Processing: 2025-01-29\n",
      "   🔁 Epoch 000 | Loss: 0.3098\n",
      "   🔁 Epoch 010 | Loss: 0.0233\n",
      "   🔁 Epoch 020 | Loss: 0.0105\n",
      "   🔁 Epoch 030 | Loss: 0.0070\n",
      "   🔁 Epoch 040 | Loss: 0.0052\n",
      "   🔁 Epoch 050 | Loss: 0.0034\n",
      "   🔁 Epoch 060 | Loss: 0.0031\n",
      "   🔁 Epoch 070 | Loss: 0.0026\n",
      "   🔁 Epoch 080 | Loss: 0.0013\n",
      "   🔁 Epoch 090 | Loss: 0.0007\n",
      "✅ Done: 2025-01-29\n",
      "\n",
      "📅 Processing: 2025-01-30\n",
      "   🔁 Epoch 000 | Loss: 0.3043\n",
      "   🔁 Epoch 010 | Loss: 0.0252\n",
      "   🔁 Epoch 020 | Loss: 0.0099\n",
      "   🔁 Epoch 030 | Loss: 0.0076\n",
      "   🔁 Epoch 040 | Loss: 0.0068\n",
      "   🔁 Epoch 050 | Loss: 0.0060\n",
      "   🔁 Epoch 060 | Loss: 0.0045\n",
      "   🔁 Epoch 070 | Loss: 0.0037\n",
      "   🔁 Epoch 080 | Loss: 0.0034\n",
      "   🔁 Epoch 090 | Loss: 0.0021\n",
      "✅ Done: 2025-01-30\n",
      "\n",
      "📅 Processing: 2025-01-31\n",
      "   🔁 Epoch 000 | Loss: 0.3276\n",
      "   🔁 Epoch 010 | Loss: 0.0240\n",
      "   🔁 Epoch 020 | Loss: 0.0109\n",
      "   🔁 Epoch 030 | Loss: 0.0070\n",
      "   🔁 Epoch 040 | Loss: 0.0051\n",
      "   🔁 Epoch 050 | Loss: 0.0056\n",
      "   🔁 Epoch 060 | Loss: 0.0034\n",
      "   🔁 Epoch 070 | Loss: 0.0017\n",
      "   🔁 Epoch 080 | Loss: 0.0014\n",
      "   🔁 Epoch 090 | Loss: 0.0009\n",
      "✅ Done: 2025-01-31\n",
      "\n",
      "📅 Processing: 2025-02-01\n",
      "   🔁 Epoch 000 | Loss: 0.2880\n",
      "   🔁 Epoch 010 | Loss: 0.0213\n",
      "   🔁 Epoch 020 | Loss: 0.0110\n",
      "   🔁 Epoch 030 | Loss: 0.0069\n",
      "   🔁 Epoch 040 | Loss: 0.0051\n",
      "   🔁 Epoch 050 | Loss: 0.0036\n",
      "   🔁 Epoch 060 | Loss: 0.0024\n",
      "   🔁 Epoch 070 | Loss: 0.0030\n",
      "   🔁 Epoch 080 | Loss: 0.0033\n",
      "   🔁 Epoch 090 | Loss: 0.0010\n",
      "✅ Done: 2025-02-01\n",
      "\n",
      "📅 Processing: 2025-02-03\n",
      "   🔁 Epoch 000 | Loss: 0.3057\n",
      "   🔁 Epoch 010 | Loss: 0.0247\n",
      "   🔁 Epoch 020 | Loss: 0.0096\n",
      "   🔁 Epoch 030 | Loss: 0.0074\n",
      "   🔁 Epoch 040 | Loss: 0.0052\n",
      "   🔁 Epoch 050 | Loss: 0.0037\n",
      "   🔁 Epoch 060 | Loss: 0.0020\n",
      "   🔁 Epoch 070 | Loss: 0.0015\n",
      "   🔁 Epoch 080 | Loss: 0.0010\n",
      "   🔁 Epoch 090 | Loss: 0.0007\n",
      "✅ Done: 2025-02-03\n",
      "\n",
      "📅 Processing: 2025-02-04\n",
      "   🔁 Epoch 000 | Loss: 0.3565\n",
      "   🔁 Epoch 010 | Loss: 0.0217\n",
      "   🔁 Epoch 020 | Loss: 0.0117\n",
      "   🔁 Epoch 030 | Loss: 0.0080\n",
      "   🔁 Epoch 040 | Loss: 0.0045\n",
      "   🔁 Epoch 050 | Loss: 0.0024\n",
      "   🔁 Epoch 060 | Loss: 0.0040\n",
      "   🔁 Epoch 070 | Loss: 0.0011\n",
      "   🔁 Epoch 080 | Loss: 0.0010\n",
      "   🔁 Epoch 090 | Loss: 0.0007\n",
      "✅ Done: 2025-02-04\n",
      "\n",
      "📅 Processing: 2025-02-05\n",
      "   🔁 Epoch 000 | Loss: 0.4395\n",
      "   🔁 Epoch 010 | Loss: 0.0251\n",
      "   🔁 Epoch 020 | Loss: 0.0134\n",
      "   🔁 Epoch 030 | Loss: 0.0074\n",
      "   🔁 Epoch 040 | Loss: 0.0047\n",
      "   🔁 Epoch 050 | Loss: 0.0021\n",
      "   🔁 Epoch 060 | Loss: 0.0038\n",
      "   🔁 Epoch 070 | Loss: 0.0022\n",
      "   🔁 Epoch 080 | Loss: 0.0006\n",
      "   🔁 Epoch 090 | Loss: 0.0006\n",
      "✅ Done: 2025-02-05\n",
      "\n",
      "📅 Processing: 2025-02-06\n",
      "   🔁 Epoch 000 | Loss: 0.4103\n",
      "   🔁 Epoch 010 | Loss: 0.0256\n",
      "   🔁 Epoch 020 | Loss: 0.0125\n",
      "   🔁 Epoch 030 | Loss: 0.0075\n",
      "   🔁 Epoch 040 | Loss: 0.0053\n",
      "   🔁 Epoch 050 | Loss: 0.0030\n",
      "   🔁 Epoch 060 | Loss: 0.0016\n",
      "   🔁 Epoch 070 | Loss: 0.0012\n",
      "   🔁 Epoch 080 | Loss: 0.0009\n",
      "   🔁 Epoch 090 | Loss: 0.0007\n",
      "✅ Done: 2025-02-06\n",
      "\n",
      "📅 Processing: 2025-02-07\n",
      "   🔁 Epoch 000 | Loss: 0.4052\n",
      "   🔁 Epoch 010 | Loss: 0.0217\n",
      "   🔁 Epoch 020 | Loss: 0.0140\n",
      "   🔁 Epoch 030 | Loss: 0.0070\n",
      "   🔁 Epoch 040 | Loss: 0.0048\n",
      "   🔁 Epoch 050 | Loss: 0.0030\n",
      "   🔁 Epoch 060 | Loss: 0.0014\n",
      "   🔁 Epoch 070 | Loss: 0.0020\n",
      "   🔁 Epoch 080 | Loss: 0.0009\n",
      "   🔁 Epoch 090 | Loss: 0.0005\n",
      "✅ Done: 2025-02-07\n",
      "\n",
      "📅 Processing: 2025-02-10\n",
      "   🔁 Epoch 000 | Loss: 0.3994\n",
      "   🔁 Epoch 010 | Loss: 0.0216\n",
      "   🔁 Epoch 020 | Loss: 0.0133\n",
      "   🔁 Epoch 030 | Loss: 0.0075\n",
      "   🔁 Epoch 040 | Loss: 0.0054\n",
      "   🔁 Epoch 050 | Loss: 0.0037\n",
      "   🔁 Epoch 060 | Loss: 0.0025\n",
      "   🔁 Epoch 070 | Loss: 0.0075\n",
      "   🔁 Epoch 080 | Loss: 0.0029\n",
      "   🔁 Epoch 090 | Loss: 0.0017\n",
      "✅ Done: 2025-02-10\n",
      "\n",
      "📅 Processing: 2025-02-11\n",
      "   🔁 Epoch 000 | Loss: 0.3430\n",
      "   🔁 Epoch 010 | Loss: 0.0233\n",
      "   🔁 Epoch 020 | Loss: 0.0119\n",
      "   🔁 Epoch 030 | Loss: 0.0085\n",
      "   🔁 Epoch 040 | Loss: 0.0065\n",
      "   🔁 Epoch 050 | Loss: 0.0045\n",
      "   🔁 Epoch 060 | Loss: 0.0033\n",
      "   🔁 Epoch 070 | Loss: 0.0022\n",
      "   🔁 Epoch 080 | Loss: 0.0019\n",
      "   🔁 Epoch 090 | Loss: 0.0016\n",
      "✅ Done: 2025-02-11\n",
      "\n",
      "📅 Processing: 2025-02-12\n",
      "   🔁 Epoch 000 | Loss: 0.3623\n",
      "   🔁 Epoch 010 | Loss: 0.0272\n",
      "   🔁 Epoch 020 | Loss: 0.0112\n",
      "   🔁 Epoch 030 | Loss: 0.0084\n",
      "   🔁 Epoch 040 | Loss: 0.0081\n",
      "   🔁 Epoch 050 | Loss: 0.0035\n",
      "   🔁 Epoch 060 | Loss: 0.0022\n",
      "   🔁 Epoch 070 | Loss: 0.0015\n",
      "   🔁 Epoch 080 | Loss: 0.0007\n",
      "   🔁 Epoch 090 | Loss: 0.0004\n",
      "✅ Done: 2025-02-12\n",
      "\n",
      "📅 Processing: 2025-02-13\n",
      "   🔁 Epoch 000 | Loss: 0.4143\n",
      "   🔁 Epoch 010 | Loss: 0.0255\n",
      "   🔁 Epoch 020 | Loss: 0.0121\n",
      "   🔁 Epoch 030 | Loss: 0.0085\n",
      "   🔁 Epoch 040 | Loss: 0.0066\n",
      "   🔁 Epoch 050 | Loss: 0.0048\n",
      "   🔁 Epoch 060 | Loss: 0.0022\n",
      "   🔁 Epoch 070 | Loss: 0.0021\n",
      "   🔁 Epoch 080 | Loss: 0.0015\n",
      "   🔁 Epoch 090 | Loss: 0.0015\n",
      "✅ Done: 2025-02-13\n",
      "\n",
      "📅 Processing: 2025-02-14\n",
      "   🔁 Epoch 000 | Loss: 0.3882\n",
      "   🔁 Epoch 010 | Loss: 0.0242\n",
      "   🔁 Epoch 020 | Loss: 0.0103\n",
      "   🔁 Epoch 030 | Loss: 0.0084\n",
      "   🔁 Epoch 040 | Loss: 0.0045\n",
      "   🔁 Epoch 050 | Loss: 0.0032\n",
      "   🔁 Epoch 060 | Loss: 0.0022\n",
      "   🔁 Epoch 070 | Loss: 0.0016\n",
      "   🔁 Epoch 080 | Loss: 0.0009\n",
      "   🔁 Epoch 090 | Loss: 0.0006\n",
      "✅ Done: 2025-02-14\n",
      "\n",
      "📅 Processing: 2025-02-17\n",
      "   🔁 Epoch 000 | Loss: 0.3460\n",
      "   🔁 Epoch 010 | Loss: 0.0251\n",
      "   🔁 Epoch 020 | Loss: 0.0110\n",
      "   🔁 Epoch 030 | Loss: 0.0075\n",
      "   🔁 Epoch 040 | Loss: 0.0053\n",
      "   🔁 Epoch 050 | Loss: 0.0063\n",
      "   🔁 Epoch 060 | Loss: 0.0034\n",
      "   🔁 Epoch 070 | Loss: 0.0018\n",
      "   🔁 Epoch 080 | Loss: 0.0010\n",
      "   🔁 Epoch 090 | Loss: 0.0008\n",
      "✅ Done: 2025-02-17\n",
      "\n",
      "📅 Processing: 2025-02-18\n",
      "   🔁 Epoch 000 | Loss: 0.3326\n",
      "   🔁 Epoch 010 | Loss: 0.0217\n",
      "   🔁 Epoch 020 | Loss: 0.0134\n",
      "   🔁 Epoch 030 | Loss: 0.0060\n",
      "   🔁 Epoch 040 | Loss: 0.0042\n",
      "   🔁 Epoch 050 | Loss: 0.0020\n",
      "   🔁 Epoch 060 | Loss: 0.0013\n",
      "   🔁 Epoch 070 | Loss: 0.0009\n",
      "   🔁 Epoch 080 | Loss: 0.0054\n",
      "   🔁 Epoch 090 | Loss: 0.0005\n",
      "✅ Done: 2025-02-18\n",
      "\n",
      "📅 Processing: 2025-02-19\n",
      "   🔁 Epoch 000 | Loss: 0.3180\n",
      "   🔁 Epoch 010 | Loss: 0.0242\n",
      "   🔁 Epoch 020 | Loss: 0.0108\n",
      "   🔁 Epoch 030 | Loss: 0.0082\n",
      "   🔁 Epoch 040 | Loss: 0.0068\n",
      "   🔁 Epoch 050 | Loss: 0.0049\n",
      "   🔁 Epoch 060 | Loss: 0.0067\n",
      "   🔁 Epoch 070 | Loss: 0.0029\n",
      "   🔁 Epoch 080 | Loss: 0.0021\n",
      "   🔁 Epoch 090 | Loss: 0.0015\n",
      "✅ Done: 2025-02-19\n",
      "\n",
      "📅 Processing: 2025-02-20\n",
      "   🔁 Epoch 000 | Loss: 0.4999\n",
      "   🔁 Epoch 010 | Loss: 0.0283\n",
      "   🔁 Epoch 020 | Loss: 0.0126\n",
      "   🔁 Epoch 030 | Loss: 0.0093\n",
      "   🔁 Epoch 040 | Loss: 0.0065\n",
      "   🔁 Epoch 050 | Loss: 0.0043\n",
      "   🔁 Epoch 060 | Loss: 0.0026\n",
      "   🔁 Epoch 070 | Loss: 0.0018\n",
      "   🔁 Epoch 080 | Loss: 0.0014\n",
      "   🔁 Epoch 090 | Loss: 0.0015\n",
      "✅ Done: 2025-02-20\n",
      "\n",
      "📅 Processing: 2025-02-21\n",
      "   🔁 Epoch 000 | Loss: 0.3586\n",
      "   🔁 Epoch 010 | Loss: 0.0197\n",
      "   🔁 Epoch 020 | Loss: 0.0142\n",
      "   🔁 Epoch 030 | Loss: 0.0064\n",
      "   🔁 Epoch 040 | Loss: 0.0049\n",
      "   🔁 Epoch 050 | Loss: 0.0031\n",
      "   🔁 Epoch 060 | Loss: 0.0019\n",
      "   🔁 Epoch 070 | Loss: 0.0015\n",
      "   🔁 Epoch 080 | Loss: 0.0049\n",
      "   🔁 Epoch 090 | Loss: 0.0009\n",
      "✅ Done: 2025-02-21\n",
      "\n",
      "📅 Processing: 2025-02-24\n",
      "   🔁 Epoch 000 | Loss: 0.3250\n",
      "   🔁 Epoch 010 | Loss: 0.0212\n",
      "   🔁 Epoch 020 | Loss: 0.0111\n",
      "   🔁 Epoch 030 | Loss: 0.0079\n",
      "   🔁 Epoch 040 | Loss: 0.0057\n",
      "   🔁 Epoch 050 | Loss: 0.0034\n",
      "   🔁 Epoch 060 | Loss: 0.0019\n",
      "   🔁 Epoch 070 | Loss: 0.0015\n",
      "   🔁 Epoch 080 | Loss: 0.0008\n",
      "   🔁 Epoch 090 | Loss: 0.0014\n",
      "✅ Done: 2025-02-24\n",
      "\n",
      "📅 Processing: 2025-02-25\n",
      "   🔁 Epoch 000 | Loss: 0.3824\n",
      "   🔁 Epoch 010 | Loss: 0.0269\n",
      "   🔁 Epoch 020 | Loss: 0.0124\n",
      "   🔁 Epoch 030 | Loss: 0.0093\n",
      "   🔁 Epoch 040 | Loss: 0.0061\n",
      "   🔁 Epoch 050 | Loss: 0.0045\n",
      "   🔁 Epoch 060 | Loss: 0.0024\n",
      "   🔁 Epoch 070 | Loss: 0.0018\n",
      "   🔁 Epoch 080 | Loss: 0.0014\n",
      "   🔁 Epoch 090 | Loss: 0.0008\n",
      "✅ Done: 2025-02-25\n",
      "\n",
      "📅 Processing: 2025-02-27\n",
      "   🔁 Epoch 000 | Loss: 0.4495\n",
      "   🔁 Epoch 010 | Loss: 0.0258\n",
      "   🔁 Epoch 020 | Loss: 0.0121\n",
      "   🔁 Epoch 030 | Loss: 0.0072\n",
      "   🔁 Epoch 040 | Loss: 0.0045\n",
      "   🔁 Epoch 050 | Loss: 0.0032\n",
      "   🔁 Epoch 060 | Loss: 0.0020\n",
      "   🔁 Epoch 070 | Loss: 0.0015\n",
      "   🔁 Epoch 080 | Loss: 0.0010\n",
      "   🔁 Epoch 090 | Loss: 0.0004\n",
      "✅ Done: 2025-02-27\n",
      "\n",
      "📅 Processing: 2025-02-28\n",
      "   🔁 Epoch 000 | Loss: 0.2889\n",
      "   🔁 Epoch 010 | Loss: 0.0202\n",
      "   🔁 Epoch 020 | Loss: 0.0109\n",
      "   🔁 Epoch 030 | Loss: 0.0074\n",
      "   🔁 Epoch 040 | Loss: 0.0054\n",
      "   🔁 Epoch 050 | Loss: 0.0023\n",
      "   🔁 Epoch 060 | Loss: 0.0018\n",
      "   🔁 Epoch 070 | Loss: 0.0012\n",
      "   🔁 Epoch 080 | Loss: 0.0005\n",
      "   🔁 Epoch 090 | Loss: 0.0004\n",
      "✅ Done: 2025-02-28\n",
      "\n",
      "📅 Processing: 2025-03-03\n",
      "   🔁 Epoch 000 | Loss: 0.3812\n",
      "   🔁 Epoch 010 | Loss: 0.0284\n",
      "   🔁 Epoch 020 | Loss: 0.0113\n",
      "   🔁 Epoch 030 | Loss: 0.0074\n",
      "   🔁 Epoch 040 | Loss: 0.0063\n",
      "   🔁 Epoch 050 | Loss: 0.0046\n",
      "   🔁 Epoch 060 | Loss: 0.0031\n",
      "   🔁 Epoch 070 | Loss: 0.0020\n",
      "   🔁 Epoch 080 | Loss: 0.0016\n",
      "   🔁 Epoch 090 | Loss: 0.0010\n",
      "✅ Done: 2025-03-03\n",
      "\n",
      "📅 Processing: 2025-03-04\n",
      "   🔁 Epoch 000 | Loss: 0.4124\n",
      "   🔁 Epoch 010 | Loss: 0.0233\n",
      "   🔁 Epoch 020 | Loss: 0.0127\n",
      "   🔁 Epoch 030 | Loss: 0.0069\n",
      "   🔁 Epoch 040 | Loss: 0.0049\n",
      "   🔁 Epoch 050 | Loss: 0.0046\n",
      "   🔁 Epoch 060 | Loss: 0.0027\n",
      "   🔁 Epoch 070 | Loss: 0.0013\n",
      "   🔁 Epoch 080 | Loss: 0.0007\n",
      "   🔁 Epoch 090 | Loss: 0.0005\n",
      "✅ Done: 2025-03-04\n",
      "\n",
      "📅 Processing: 2025-03-05\n",
      "   🔁 Epoch 000 | Loss: 0.3327\n",
      "   🔁 Epoch 010 | Loss: 0.0217\n",
      "   🔁 Epoch 020 | Loss: 0.0129\n",
      "   🔁 Epoch 030 | Loss: 0.0088\n",
      "   🔁 Epoch 040 | Loss: 0.0066\n",
      "   🔁 Epoch 050 | Loss: 0.0056\n",
      "   🔁 Epoch 060 | Loss: 0.0041\n",
      "   🔁 Epoch 070 | Loss: 0.0021\n",
      "   🔁 Epoch 080 | Loss: 0.0020\n",
      "   🔁 Epoch 090 | Loss: 0.0016\n",
      "✅ Done: 2025-03-05\n",
      "\n",
      "📅 Processing: 2025-03-06\n",
      "   🔁 Epoch 000 | Loss: 0.3950\n",
      "   🔁 Epoch 010 | Loss: 0.0277\n",
      "   🔁 Epoch 020 | Loss: 0.0109\n",
      "   🔁 Epoch 030 | Loss: 0.0074\n",
      "   🔁 Epoch 040 | Loss: 0.0049\n",
      "   🔁 Epoch 050 | Loss: 0.0022\n",
      "   🔁 Epoch 060 | Loss: 0.0020\n",
      "   🔁 Epoch 070 | Loss: 0.0026\n",
      "   🔁 Epoch 080 | Loss: 0.0012\n",
      "   🔁 Epoch 090 | Loss: 0.0011\n",
      "✅ Done: 2025-03-06\n",
      "\n",
      "📅 Processing: 2025-03-07\n",
      "   🔁 Epoch 000 | Loss: 0.3454\n",
      "   🔁 Epoch 010 | Loss: 0.0240\n",
      "   🔁 Epoch 020 | Loss: 0.0116\n",
      "   🔁 Epoch 030 | Loss: 0.0080\n",
      "   🔁 Epoch 040 | Loss: 0.0050\n",
      "   🔁 Epoch 050 | Loss: 0.0030\n",
      "   🔁 Epoch 060 | Loss: 0.0020\n",
      "   🔁 Epoch 070 | Loss: 0.0057\n",
      "   🔁 Epoch 080 | Loss: 0.0011\n",
      "   🔁 Epoch 090 | Loss: 0.0010\n",
      "✅ Done: 2025-03-07\n",
      "\n",
      "📅 Processing: 2025-03-10\n",
      "   🔁 Epoch 000 | Loss: 0.3346\n",
      "   🔁 Epoch 010 | Loss: 0.0303\n",
      "   🔁 Epoch 020 | Loss: 0.0099\n",
      "   🔁 Epoch 030 | Loss: 0.0080\n",
      "   🔁 Epoch 040 | Loss: 0.0047\n",
      "   🔁 Epoch 050 | Loss: 0.0021\n",
      "   🔁 Epoch 060 | Loss: 0.0015\n",
      "   🔁 Epoch 070 | Loss: 0.0028\n",
      "   🔁 Epoch 080 | Loss: 0.0007\n",
      "   🔁 Epoch 090 | Loss: 0.0008\n",
      "✅ Done: 2025-03-10\n",
      "\n",
      "📅 Processing: 2025-03-11\n",
      "   🔁 Epoch 000 | Loss: 0.4313\n",
      "   🔁 Epoch 010 | Loss: 0.0261\n",
      "   🔁 Epoch 020 | Loss: 0.0123\n",
      "   🔁 Epoch 030 | Loss: 0.0080\n",
      "   🔁 Epoch 040 | Loss: 0.0064\n",
      "   🔁 Epoch 050 | Loss: 0.0043\n",
      "   🔁 Epoch 060 | Loss: 0.0019\n",
      "   🔁 Epoch 070 | Loss: 0.0136\n",
      "   🔁 Epoch 080 | Loss: 0.0012\n",
      "   🔁 Epoch 090 | Loss: 0.0011\n",
      "✅ Done: 2025-03-11\n",
      "\n",
      "📅 Processing: 2025-03-12\n",
      "   🔁 Epoch 000 | Loss: 0.2603\n",
      "   🔁 Epoch 010 | Loss: 0.0257\n",
      "   🔁 Epoch 020 | Loss: 0.0087\n",
      "   🔁 Epoch 030 | Loss: 0.0071\n",
      "   🔁 Epoch 040 | Loss: 0.0051\n",
      "   🔁 Epoch 050 | Loss: 0.0028\n",
      "   🔁 Epoch 060 | Loss: 0.0020\n",
      "   🔁 Epoch 070 | Loss: 0.0066\n",
      "   🔁 Epoch 080 | Loss: 0.0009\n",
      "   🔁 Epoch 090 | Loss: 0.0008\n",
      "✅ Done: 2025-03-12\n",
      "\n",
      "📅 Processing: 2025-03-13\n",
      "   🔁 Epoch 000 | Loss: 0.3055\n",
      "   🔁 Epoch 010 | Loss: 0.0223\n",
      "   🔁 Epoch 020 | Loss: 0.0120\n",
      "   🔁 Epoch 030 | Loss: 0.0080\n",
      "   🔁 Epoch 040 | Loss: 0.0059\n",
      "   🔁 Epoch 050 | Loss: 0.0039\n",
      "   🔁 Epoch 060 | Loss: 0.0024\n",
      "   🔁 Epoch 070 | Loss: 0.0026\n",
      "   🔁 Epoch 080 | Loss: 0.0018\n",
      "   🔁 Epoch 090 | Loss: 0.0012\n",
      "✅ Done: 2025-03-13\n",
      "\n",
      "📅 Processing: 2025-03-17\n",
      "   🔁 Epoch 000 | Loss: 0.2989\n",
      "   🔁 Epoch 010 | Loss: 0.0197\n",
      "   🔁 Epoch 020 | Loss: 0.0121\n",
      "   🔁 Epoch 030 | Loss: 0.0063\n",
      "   🔁 Epoch 040 | Loss: 0.0038\n",
      "   🔁 Epoch 050 | Loss: 0.0021\n",
      "   🔁 Epoch 060 | Loss: 0.0014\n",
      "   🔁 Epoch 070 | Loss: 0.0016\n",
      "   🔁 Epoch 080 | Loss: 0.0009\n",
      "   🔁 Epoch 090 | Loss: 0.0005\n",
      "✅ Done: 2025-03-17\n",
      "\n",
      "📅 Processing: 2025-03-18\n",
      "   🔁 Epoch 000 | Loss: 0.3761\n",
      "   🔁 Epoch 010 | Loss: 0.0262\n",
      "   🔁 Epoch 020 | Loss: 0.0120\n",
      "   🔁 Epoch 030 | Loss: 0.0073\n",
      "   🔁 Epoch 040 | Loss: 0.0053\n",
      "   🔁 Epoch 050 | Loss: 0.0034\n",
      "   🔁 Epoch 060 | Loss: 0.0032\n",
      "   🔁 Epoch 070 | Loss: 0.0024\n",
      "   🔁 Epoch 080 | Loss: 0.0016\n",
      "   🔁 Epoch 090 | Loss: 0.0012\n",
      "✅ Done: 2025-03-18\n",
      "\n",
      "📅 Processing: 2025-03-19\n",
      "   🔁 Epoch 000 | Loss: 0.3961\n",
      "   🔁 Epoch 010 | Loss: 0.0293\n",
      "   🔁 Epoch 020 | Loss: 0.0111\n",
      "   🔁 Epoch 030 | Loss: 0.0074\n",
      "   🔁 Epoch 040 | Loss: 0.0062\n",
      "   🔁 Epoch 050 | Loss: 0.0046\n",
      "   🔁 Epoch 060 | Loss: 0.0026\n",
      "   🔁 Epoch 070 | Loss: 0.0041\n",
      "   🔁 Epoch 080 | Loss: 0.0025\n",
      "   🔁 Epoch 090 | Loss: 0.0014\n",
      "✅ Done: 2025-03-19\n",
      "\n",
      "📅 Processing: 2025-03-20\n",
      "   🔁 Epoch 000 | Loss: 0.3543\n",
      "   🔁 Epoch 010 | Loss: 0.0267\n",
      "   🔁 Epoch 020 | Loss: 0.0122\n",
      "   🔁 Epoch 030 | Loss: 0.0075\n",
      "   🔁 Epoch 040 | Loss: 0.0049\n",
      "   🔁 Epoch 050 | Loss: 0.0043\n",
      "   🔁 Epoch 060 | Loss: 0.0021\n",
      "   🔁 Epoch 070 | Loss: 0.0022\n",
      "   🔁 Epoch 080 | Loss: 0.0013\n",
      "   🔁 Epoch 090 | Loss: 0.0009\n",
      "✅ Done: 2025-03-20\n",
      "\n",
      "📅 Processing: 2025-03-21\n",
      "   🔁 Epoch 000 | Loss: 0.3258\n",
      "   🔁 Epoch 010 | Loss: 0.0260\n",
      "   🔁 Epoch 020 | Loss: 0.0102\n",
      "   🔁 Epoch 030 | Loss: 0.0084\n",
      "   🔁 Epoch 040 | Loss: 0.0051\n",
      "   🔁 Epoch 050 | Loss: 0.0027\n",
      "   🔁 Epoch 060 | Loss: 0.0018\n",
      "   🔁 Epoch 070 | Loss: 0.0012\n",
      "   🔁 Epoch 080 | Loss: 0.0009\n",
      "   🔁 Epoch 090 | Loss: 0.0028\n",
      "✅ Done: 2025-03-21\n",
      "\n",
      "🎯 All day-wise HGAT embeddings saved in 'test_hgat_embeddings_daywise'\n"
     ]
    }
   ],
   "source": [
    "import os\n",
    "import numpy as np\n",
    "import pandas as pd\n",
    "import torch\n",
    "import torch.nn as nn\n",
    "import torch.nn.functional as F\n",
    "import networkx as nx\n",
    "from sklearn.preprocessing import LabelEncoder\n",
    "from torch_geometric.data import Data\n",
    "from torch_geometric.nn import GATConv\n",
    "\n",
    "# ✅ HGAT Model\n",
    "class HGAT(nn.Module):\n",
    "    def __init__(self, in_dim=64, hidden_dim=64, out_dim=64, heads=2):\n",
    "        super(HGAT, self).__init__()\n",
    "        self.gat1 = GATConv(in_dim, hidden_dim, heads=heads)\n",
    "        self.gat2 = GATConv(hidden_dim * heads, out_dim, heads=1)\n",
    "\n",
    "    def forward(self, data):\n",
    "        x, edge_index = data.x, data.edge_index\n",
    "        x = F.elu(self.gat1(x, edge_index))\n",
    "        x = self.gat2(x, edge_index)\n",
    "        return x\n",
    "\n",
    "# ✅ Load sector mapping\n",
    "sector_df = pd.read_csv(\"sector_mapping.csv\")\n",
    "stock_to_sector = dict(zip(sector_df['Stock'], sector_df['Sector']))\n",
    "sector_encoder = LabelEncoder()\n",
    "sector_encoded = sector_encoder.fit_transform(sector_df['Sector'])\n",
    "sector_mapping = dict(zip(sector_df['Stock'], sector_encoded))\n",
    "\n",
    "# ✅ Graph construction\n",
    "def create_hierarchical_graph(input_folder):\n",
    "    G = nx.Graph()\n",
    "    node_names = []\n",
    "    features_dict = {}\n",
    "\n",
    "    for file in os.listdir(input_folder):\n",
    "        if file.endswith('.npy'):\n",
    "            stock = file.replace('.npy', '')\n",
    "            embedding = np.load(os.path.join(input_folder, file))\n",
    "\n",
    "            if embedding is None or embedding.size == 0:\n",
    "                print(f\"⚠️ Skipping {stock} due to empty embedding.\")\n",
    "                continue\n",
    "\n",
    "            G.add_node(stock)\n",
    "            G.nodes[stock]['feat'] = embedding\n",
    "            features_dict[stock] = embedding\n",
    "            node_names.append(stock)\n",
    "\n",
    "    unique_sectors = set(sector_mapping.values())\n",
    "    for sector_id in unique_sectors:\n",
    "        sector_node = f\"SECTOR_{sector_id}\"\n",
    "        G.add_node(sector_node)\n",
    "        for stock, s_id in sector_mapping.items():\n",
    "            if s_id == sector_id and stock in G:\n",
    "                G.add_edge(stock, sector_node)\n",
    "                G.add_edge(sector_node, stock)\n",
    "\n",
    "    # 🔗 Inter-sector connections\n",
    "    sector_nodes = [f\"SECTOR_{s_id}\" for s_id in unique_sectors]\n",
    "    for i in range(len(sector_nodes)):\n",
    "        for j in range(i + 1, len(sector_nodes)):\n",
    "            G.add_edge(sector_nodes[i], sector_nodes[j])\n",
    "            G.add_edge(sector_nodes[j], sector_nodes[i])\n",
    "\n",
    "    name_to_idx = {name: idx for idx, name in enumerate(G.nodes())}\n",
    "    edge_index = torch.tensor([[name_to_idx[u], name_to_idx[v]] for u, v in G.edges()], dtype=torch.long).t()\n",
    "\n",
    "    example_feat = next((f for f in features_dict.values() if f is not None), None)\n",
    "    if example_feat is None:\n",
    "        raise ValueError(\"❌ No valid stock embeddings found!\")\n",
    "\n",
    "    x = []\n",
    "    for node in G.nodes:\n",
    "        if 'feat' in G.nodes[node]:\n",
    "            x.append(G.nodes[node]['feat'])\n",
    "        else:\n",
    "            x.append(np.zeros_like(example_feat))\n",
    "\n",
    "    x = torch.tensor(np.stack(x), dtype=torch.float)\n",
    "    return G, node_names, x, edge_index, name_to_idx\n",
    "\n",
    "# ✅ HGAT Training\n",
    "def train_hgat(G, x, edge_index, node_names, num_epochs=100):\n",
    "    data = Data(x=x, edge_index=edge_index)\n",
    "    model = HGAT(in_dim=x.size(1), hidden_dim=64, out_dim=64)\n",
    "    optimizer = torch.optim.Adam(model.parameters(), lr=0.01)\n",
    "\n",
    "    for epoch in range(num_epochs):\n",
    "        model.train()\n",
    "        optimizer.zero_grad()\n",
    "        out = model(data)\n",
    "        loss = ((out - x) ** 2).mean()\n",
    "        loss.backward()\n",
    "        optimizer.step()\n",
    "        if epoch % 10 == 0:\n",
    "            print(f\"   🔁 Epoch {epoch:03d} | Loss: {loss.item():.4f}\")\n",
    "\n",
    "    return out.detach(), {name: idx for idx, name in enumerate(G.nodes())}\n",
    "\n",
    "# ✅ Save embeddings\n",
    "def save_embeddings(output_dir, node_names, name_to_idx, embeddings):\n",
    "    os.makedirs(output_dir, exist_ok=True)\n",
    "    for name in node_names:\n",
    "        if name.startswith(\"SECTOR_\"):\n",
    "            continue\n",
    "        idx = name_to_idx[name]\n",
    "        np.save(os.path.join(output_dir, f\"{name}.npy\"), embeddings[idx].numpy())\n",
    "\n",
    "# ✅ Run for day-wise LSTT folders\n",
    "LSTT_DAYWISE = \"test_lstt_embeddings_daywise\"\n",
    "HGAT_DAYWISE = \"test_hgat_embeddings_daywise\"\n",
    "os.makedirs(HGAT_DAYWISE, exist_ok=True)\n",
    "\n",
    "print(f\"\\n🚀 Generating day-wise HGAT embeddings...\\n\")\n",
    "\n",
    "for date_folder in sorted(os.listdir(LSTT_DAYWISE)):\n",
    "    date_input = os.path.join(LSTT_DAYWISE, date_folder)\n",
    "    date_output = os.path.join(HGAT_DAYWISE, date_folder)\n",
    "    if not os.path.isdir(date_input):\n",
    "        continue\n",
    "\n",
    "    print(f\"📅 Processing: {date_folder}\")\n",
    "    try:\n",
    "        G, node_names, x, edge_index, name_to_idx = create_hierarchical_graph(date_input)\n",
    "        embeddings, name_to_idx = train_hgat(G, x, edge_index, node_names)\n",
    "        save_embeddings(date_output, node_names, name_to_idx, embeddings)\n",
    "        print(f\"✅ Done: {date_folder}\\n\")\n",
    "    except Exception as e:\n",
    "        print(f\"❌ Skipping {date_folder} due to error: {e}\\n\")\n",
    "\n",
    "print(\"🎯 All day-wise HGAT embeddings saved in 'test_hgat_embeddings_daywise'\")\n"
   ]
  },
  {
   "cell_type": "code",
   "execution_count": 4,
   "metadata": {},
   "outputs": [
    {
     "name": "stdout",
     "output_type": "stream",
     "text": [
      "🔀 Fusing day-wise LSTT + HGAT embeddings...\n",
      "\n",
      "📅 Processing: 2025-01-20 — 445 stocks\n",
      "✅ Done: 2025-01-20\n",
      "\n",
      "📅 Processing: 2025-01-21 — 445 stocks\n",
      "✅ Done: 2025-01-21\n",
      "\n",
      "📅 Processing: 2025-01-22 — 445 stocks\n",
      "✅ Done: 2025-01-22\n",
      "\n",
      "📅 Processing: 2025-01-23 — 445 stocks\n",
      "✅ Done: 2025-01-23\n",
      "\n",
      "📅 Processing: 2025-01-24 — 445 stocks\n",
      "✅ Done: 2025-01-24\n",
      "\n",
      "📅 Processing: 2025-01-27 — 445 stocks\n",
      "✅ Done: 2025-01-27\n",
      "\n",
      "📅 Processing: 2025-01-28 — 445 stocks\n",
      "✅ Done: 2025-01-28\n",
      "\n",
      "📅 Processing: 2025-01-29 — 445 stocks\n",
      "✅ Done: 2025-01-29\n",
      "\n",
      "📅 Processing: 2025-01-30 — 445 stocks\n",
      "✅ Done: 2025-01-30\n",
      "\n",
      "📅 Processing: 2025-01-31 — 445 stocks\n",
      "✅ Done: 2025-01-31\n",
      "\n",
      "📅 Processing: 2025-02-01 — 445 stocks\n",
      "✅ Done: 2025-02-01\n",
      "\n",
      "📅 Processing: 2025-02-03 — 445 stocks\n",
      "✅ Done: 2025-02-03\n",
      "\n",
      "📅 Processing: 2025-02-04 — 445 stocks\n",
      "✅ Done: 2025-02-04\n",
      "\n",
      "📅 Processing: 2025-02-05 — 445 stocks\n",
      "✅ Done: 2025-02-05\n",
      "\n",
      "📅 Processing: 2025-02-06 — 445 stocks\n"
     ]
    },
    {
     "ename": "",
     "evalue": "",
     "output_type": "error",
     "traceback": [
      "\u001b[1;31mThe Kernel crashed while executing code in the current cell or a previous cell. \n",
      "\u001b[1;31mPlease review the code in the cell(s) to identify a possible cause of the failure. \n",
      "\u001b[1;31mClick <a href='https://aka.ms/vscodeJupyterKernelCrash'>here</a> for more info. \n",
      "\u001b[1;31mView Jupyter <a href='command:jupyter.viewOutput'>log</a> for further details."
     ]
    }
   ],
   "source": [
    "import os\n",
    "import numpy as np\n",
    "\n",
    "# Input folders\n",
    "LSTT_DAYWISE_FOLDER = \"test_lstt_embeddings_daywise\"\n",
    "HGAT_DAYWISE_FOLDER = \"test_hgat_embeddings_daywise\"\n",
    "FUSED_DAYWISE_FOLDER = \"test_fusion_embeddings_daywise\"\n",
    "\n",
    "os.makedirs(FUSED_DAYWISE_FOLDER, exist_ok=True)\n",
    "\n",
    "print(\"🔀 Fusing day-wise LSTT + HGAT embeddings...\\n\")\n",
    "\n",
    "# Loop through each date\n",
    "for date in sorted(os.listdir(LSTT_DAYWISE_FOLDER)):\n",
    "    lstt_date_path = os.path.join(LSTT_DAYWISE_FOLDER, date)\n",
    "    hgat_date_path = os.path.join(HGAT_DAYWISE_FOLDER, date)\n",
    "    fused_date_path = os.path.join(FUSED_DAYWISE_FOLDER, date)\n",
    "\n",
    "    if not os.path.isdir(lstt_date_path):\n",
    "        continue\n",
    "\n",
    "    if not os.path.exists(hgat_date_path):\n",
    "        print(f\"⚠️ Skipping {date}: HGAT folder missing.\")\n",
    "        continue\n",
    "\n",
    "    os.makedirs(fused_date_path, exist_ok=True)\n",
    "    lstt_files = [f for f in os.listdir(lstt_date_path) if f.endswith('.npy')]\n",
    "\n",
    "    print(f\"📅 Processing: {date} — {len(lstt_files)} stocks\")\n",
    "\n",
    "    for file in lstt_files:\n",
    "        stock = file.replace('.npy', '')\n",
    "        lstt_file = os.path.join(lstt_date_path, file)\n",
    "        hgat_file = os.path.join(hgat_date_path, file)\n",
    "\n",
    "        if not os.path.exists(hgat_file):\n",
    "            print(f\"   ⚠️ Skipping {stock}: HGAT embedding missing\")\n",
    "            continue\n",
    "\n",
    "        lstt_embedding = np.load(lstt_file)\n",
    "        hgat_embedding = np.load(hgat_file)\n",
    "\n",
    "        if lstt_embedding.shape[0] != 64 or hgat_embedding.shape[0] != 64:\n",
    "            print(f\"   ⚠️ Invalid shape for {stock}: LSTT {lstt_embedding.shape}, HGAT {hgat_embedding.shape}\")\n",
    "            continue\n",
    "\n",
    "        fused_embedding = np.concatenate([lstt_embedding, hgat_embedding])\n",
    "        np.save(os.path.join(fused_date_path, f\"{stock}.npy\"), fused_embedding)\n",
    "\n",
    "    print(f\"✅ Done: {date}\\n\")\n",
    "\n",
    "print(\"🎯 All day-wise fused embeddings saved in 'test_fusion_embeddings_daywise'\")\n"
   ]
  },
  {
   "cell_type": "code",
   "execution_count": 5,
   "metadata": {},
   "outputs": [
    {
     "ename": "RuntimeError",
     "evalue": "Error(s) in loading state_dict for ReturnPredictor:\n\tMissing key(s) in state_dict: \"net.0.weight\", \"net.0.bias\", \"net.2.weight\", \"net.2.bias\". \n\tUnexpected key(s) in state_dict: \"fc1.weight\", \"fc1.bias\", \"fc2.weight\", \"fc2.bias\". ",
     "output_type": "error",
     "traceback": [
      "\u001b[1;31m---------------------------------------------------------------------------\u001b[0m",
      "\u001b[1;31mRuntimeError\u001b[0m                              Traceback (most recent call last)",
      "Cell \u001b[1;32mIn[5], line 24\u001b[0m\n\u001b[0;32m     22\u001b[0m model \u001b[38;5;241m=\u001b[39m ReturnPredictor(input_dim\u001b[38;5;241m=\u001b[39m\u001b[38;5;241m128\u001b[39m, hidden_dim\u001b[38;5;241m=\u001b[39m\u001b[38;5;241m64\u001b[39m, output_dim\u001b[38;5;241m=\u001b[39m\u001b[38;5;241m1\u001b[39m)\n\u001b[0;32m     23\u001b[0m \u001b[38;5;66;03m# Optional: Load trained weights\u001b[39;00m\n\u001b[1;32m---> 24\u001b[0m \u001b[43mmodel\u001b[49m\u001b[38;5;241;43m.\u001b[39;49m\u001b[43mload_state_dict\u001b[49m\u001b[43m(\u001b[49m\u001b[43mtorch\u001b[49m\u001b[38;5;241;43m.\u001b[39;49m\u001b[43mload\u001b[49m\u001b[43m(\u001b[49m\u001b[38;5;124;43m\"\u001b[39;49m\u001b[38;5;124;43mtrained_model.pth\u001b[39;49m\u001b[38;5;124;43m\"\u001b[39;49m\u001b[43m)\u001b[49m\u001b[43m)\u001b[49m\n\u001b[0;32m     25\u001b[0m model\u001b[38;5;241m.\u001b[39meval()\n\u001b[0;32m     27\u001b[0m \u001b[38;5;66;03m# Folder containing fused embeddings\u001b[39;00m\n",
      "File \u001b[1;32mc:\\Users\\RAJESH\\AppData\\Local\\Programs\\Python\\Python310\\lib\\site-packages\\torch\\nn\\modules\\module.py:2581\u001b[0m, in \u001b[0;36mModule.load_state_dict\u001b[1;34m(self, state_dict, strict, assign)\u001b[0m\n\u001b[0;32m   2573\u001b[0m         error_msgs\u001b[38;5;241m.\u001b[39minsert(\n\u001b[0;32m   2574\u001b[0m             \u001b[38;5;241m0\u001b[39m,\n\u001b[0;32m   2575\u001b[0m             \u001b[38;5;124m\"\u001b[39m\u001b[38;5;124mMissing key(s) in state_dict: \u001b[39m\u001b[38;5;132;01m{}\u001b[39;00m\u001b[38;5;124m. \u001b[39m\u001b[38;5;124m\"\u001b[39m\u001b[38;5;241m.\u001b[39mformat(\n\u001b[0;32m   2576\u001b[0m                 \u001b[38;5;124m\"\u001b[39m\u001b[38;5;124m, \u001b[39m\u001b[38;5;124m\"\u001b[39m\u001b[38;5;241m.\u001b[39mjoin(\u001b[38;5;124mf\u001b[39m\u001b[38;5;124m'\u001b[39m\u001b[38;5;124m\"\u001b[39m\u001b[38;5;132;01m{\u001b[39;00mk\u001b[38;5;132;01m}\u001b[39;00m\u001b[38;5;124m\"\u001b[39m\u001b[38;5;124m'\u001b[39m \u001b[38;5;28;01mfor\u001b[39;00m k \u001b[38;5;129;01min\u001b[39;00m missing_keys)\n\u001b[0;32m   2577\u001b[0m             ),\n\u001b[0;32m   2578\u001b[0m         )\n\u001b[0;32m   2580\u001b[0m \u001b[38;5;28;01mif\u001b[39;00m \u001b[38;5;28mlen\u001b[39m(error_msgs) \u001b[38;5;241m>\u001b[39m \u001b[38;5;241m0\u001b[39m:\n\u001b[1;32m-> 2581\u001b[0m     \u001b[38;5;28;01mraise\u001b[39;00m \u001b[38;5;167;01mRuntimeError\u001b[39;00m(\n\u001b[0;32m   2582\u001b[0m         \u001b[38;5;124m\"\u001b[39m\u001b[38;5;124mError(s) in loading state_dict for \u001b[39m\u001b[38;5;132;01m{}\u001b[39;00m\u001b[38;5;124m:\u001b[39m\u001b[38;5;130;01m\\n\u001b[39;00m\u001b[38;5;130;01m\\t\u001b[39;00m\u001b[38;5;132;01m{}\u001b[39;00m\u001b[38;5;124m\"\u001b[39m\u001b[38;5;241m.\u001b[39mformat(\n\u001b[0;32m   2583\u001b[0m             \u001b[38;5;28mself\u001b[39m\u001b[38;5;241m.\u001b[39m\u001b[38;5;18m__class__\u001b[39m\u001b[38;5;241m.\u001b[39m\u001b[38;5;18m__name__\u001b[39m, \u001b[38;5;124m\"\u001b[39m\u001b[38;5;130;01m\\n\u001b[39;00m\u001b[38;5;130;01m\\t\u001b[39;00m\u001b[38;5;124m\"\u001b[39m\u001b[38;5;241m.\u001b[39mjoin(error_msgs)\n\u001b[0;32m   2584\u001b[0m         )\n\u001b[0;32m   2585\u001b[0m     )\n\u001b[0;32m   2586\u001b[0m \u001b[38;5;28;01mreturn\u001b[39;00m _IncompatibleKeys(missing_keys, unexpected_keys)\n",
      "\u001b[1;31mRuntimeError\u001b[0m: Error(s) in loading state_dict for ReturnPredictor:\n\tMissing key(s) in state_dict: \"net.0.weight\", \"net.0.bias\", \"net.2.weight\", \"net.2.bias\". \n\tUnexpected key(s) in state_dict: \"fc1.weight\", \"fc1.bias\", \"fc2.weight\", \"fc2.bias\". "
     ]
    }
   ],
   "source": [
    "import os\n",
    "import numpy as np\n",
    "import pandas as pd\n",
    "import torch\n",
    "import torch.nn as nn\n",
    "from datetime import datetime, timedelta\n",
    "\n",
    "# Define prediction model (you can customize this if needed)\n",
    "class ReturnPredictor(nn.Module):\n",
    "    def __init__(self, input_dim=128, hidden_dim=64, output_dim=1):\n",
    "        super(ReturnPredictor, self).__init__()\n",
    "        self.net = nn.Sequential(\n",
    "            nn.Linear(input_dim, hidden_dim),\n",
    "            nn.ReLU(),\n",
    "            nn.Linear(hidden_dim, output_dim)\n",
    "        )\n",
    "\n",
    "    def forward(self, x):\n",
    "        return self.net(x)\n",
    "\n",
    "# Load model and set to eval mode\n",
    "model = ReturnPredictor(input_dim=128, hidden_dim=64, output_dim=1)\n",
    "# Optional: Load trained weights\n",
    "model.load_state_dict(torch.load(\"trained_model.pth\"))\n",
    "model.eval()\n",
    "\n",
    "# Folder containing fused embeddings\n",
    "EMBEDDING_FOLDER = \"test_fusion_embeddings\"\n",
    "stock_files = [f for f in os.listdir(EMBEDDING_FOLDER) if f.endswith(\".npy\")]\n",
    "\n",
    "# Target date range\n",
    "start_date = datetime(2025, 1, 11)\n",
    "end_date = datetime(2025, 3, 22)\n",
    "date_list = [start_date + timedelta(days=i) for i in range((end_date - start_date).days + 1)]\n",
    "\n",
    "# Filter only weekdays (assuming market open days)\n",
    "date_list = [d.strftime('%Y-%m-%d') for d in date_list if d.weekday() < 5]\n",
    "\n",
    "# Store predictions\n",
    "results = []\n",
    "\n",
    "print(\"📊 Predicting day-wise return ratios and ranks...\")\n",
    "for date in date_list:\n",
    "    daily_preds = []\n",
    "\n",
    "    for file in stock_files:\n",
    "        stock = file.replace(\".npy\", \"\")\n",
    "        path = os.path.join(EMBEDDING_FOLDER, file)\n",
    "        embedding = np.load(path)\n",
    "\n",
    "        if embedding.shape[0] != 128:\n",
    "            print(f\"⚠️ Skipping {stock}: Invalid shape {embedding.shape}\")\n",
    "            continue\n",
    "\n",
    "        input_tensor = torch.tensor(embedding, dtype=torch.float32).unsqueeze(0)  # shape: [1, 128]\n",
    "        with torch.no_grad():\n",
    "            predicted_return = model(input_tensor).item()\n",
    "\n",
    "        daily_preds.append((stock, predicted_return))\n",
    "\n",
    "    # Sort by predicted return to assign ranks\n",
    "    daily_preds.sort(key=lambda x: x[1], reverse=True)\n",
    "    for rank, (stock, ret) in enumerate(daily_preds, 1):\n",
    "        results.append({\n",
    "            \"Date\": date,\n",
    "            \"Stock\": stock,\n",
    "            \"Return_Ratio\": ret,\n",
    "            \"Rank\": rank\n",
    "        })\n",
    "\n",
    "# Save to CSV\n",
    "df_results = pd.DataFrame(results)\n",
    "df_results.to_csv(\"testset_predictions\", index=False)\n",
    "print(\"✅ Saved predictions to testset_predictions.csv\")\n"
   ]
  },
  {
   "cell_type": "code",
   "execution_count": null,
   "metadata": {},
   "outputs": [],
   "source": []
  }
 ],
 "metadata": {
  "kernelspec": {
   "display_name": "Python 3",
   "language": "python",
   "name": "python3"
  },
  "language_info": {
   "codemirror_mode": {
    "name": "ipython",
    "version": 3
   },
   "file_extension": ".py",
   "mimetype": "text/x-python",
   "name": "python",
   "nbconvert_exporter": "python",
   "pygments_lexer": "ipython3",
   "version": "3.10.11"
  }
 },
 "nbformat": 4,
 "nbformat_minor": 2
}
